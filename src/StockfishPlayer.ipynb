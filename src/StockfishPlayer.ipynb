{
 "cells": [
  {
   "cell_type": "code",
   "execution_count": null,
   "id": "e311156e",
   "metadata": {},
   "outputs": [],
   "source": [
    "%%html\n",
    "<style>\n",
    ".container {\n",
    "  width: 100%;\n",
    "}\n",
    "</style>"
   ]
  },
  {
   "cell_type": "code",
   "execution_count": null,
   "id": "55d0d874",
   "metadata": {},
   "outputs": [],
   "source": [
    "%load_ext nb_black\n",
    "%load_ext nb_mypy"
   ]
  },
  {
   "cell_type": "code",
   "execution_count": null,
   "id": "8907d79c",
   "metadata": {},
   "outputs": [],
   "source": [
    "import nbimporter"
   ]
  },
  {
   "cell_type": "markdown",
   "id": "8c28d185",
   "metadata": {},
   "source": [
    "# Stockfish Spieler\n",
    "\n",
    "Dieses Notebook implementiert die Verbindung zur Stockfish-Engine als Spieler, welcher dann innerhalb eines definierten Zeitlimits nach einem möglichst guten Zug sucht."
   ]
  },
  {
   "cell_type": "code",
   "execution_count": null,
   "id": "b32e53c9",
   "metadata": {},
   "outputs": [],
   "source": [
    "import chess\n",
    "import chess.engine  # type: ignore\n",
    "from AIBaseClass import ChessAI\n",
    "\n",
    "\n",
    "class StockfishPlayer(ChessAI):\n",
    "    def __init__(self, elo=1500, time_limit=0.1, **kwargs) -> None:\n",
    "        super().__init__(**kwargs)\n",
    "        self.time_limit = time_limit\n",
    "        self.elo = elo\n",
    "        self.initialize_engine()\n",
    "\n",
    "    def initialize_engine(self) -> None:\n",
    "        \"\"\"Intializes the engine communication.\"\"\"\n",
    "        self.engine = chess.engine.SimpleEngine.popen_uci(\n",
    "            \"../lib/stockfish/stockfish.exe\"\n",
    "        )\n",
    "        self.engine.configure({\"UCI_LimitStrength\": True, \"UCI_Elo\": self.elo})\n",
    "\n",
    "    def reset(self: ChessAI) -> None:\n",
    "        \"\"\"Close engine communication\"\"\"\n",
    "        self.engine.quit()\n",
    "        self.engine = None\n",
    "        super().reset()\n",
    "\n",
    "    def get_next_middle_game_move(self: ChessAI, board: chess.Board) -> chess.Move:\n",
    "        \"\"\"Communicate with the stockfish engine over uci.\"\"\"\n",
    "        if self.engine is None:\n",
    "            self.initialize_engine()\n",
    "        # Limit stockfish thinking time\n",
    "        result = self.engine.play(\n",
    "            board, chess.engine.Limit(self.time_limit)\n",
    "        )  # type:ignore\n",
    "        return result.move"
   ]
  },
  {
   "cell_type": "markdown",
   "id": "f474a671",
   "metadata": {},
   "source": [
    "## Debugging Bereich\n",
    "\n",
    "Die folgenden Zellen enthalten Unit-Tests der oben implementierten Funktionen."
   ]
  },
  {
   "cell_type": "code",
   "execution_count": null,
   "id": "4c985642",
   "metadata": {},
   "outputs": [],
   "source": [
    "# Create player and board\n",
    "unit_test_player = StockfishPlayer(player_name=\"Stockfish\", elo=2000, time_limit=0.2)\n",
    "board = chess.Board()"
   ]
  },
  {
   "cell_type": "code",
   "execution_count": null,
   "id": "366184e5",
   "metadata": {},
   "outputs": [],
   "source": [
    "# Test next move function\n",
    "move = unit_test_player.get_next_middle_game_move(board)\n",
    "assert move in board.legal_moves, \"Illegal move received!\"\n",
    "move"
   ]
  },
  {
   "cell_type": "code",
   "execution_count": null,
   "id": "7e238282",
   "metadata": {},
   "outputs": [],
   "source": [
    "# Test reset function\n",
    "unit_test_player.reset()\n",
    "assert unit_test_player.engine is None, \"Reset was not successful!\""
   ]
  },
  {
   "cell_type": "code",
   "execution_count": null,
   "id": "e2477f8e",
   "metadata": {},
   "outputs": [],
   "source": []
  }
 ],
 "metadata": {
  "kernelspec": {
   "display_name": "Python 3 (ipykernel)",
   "language": "python",
   "name": "python3"
  },
  "language_info": {
   "codemirror_mode": {
    "name": "ipython",
    "version": 3
   },
   "file_extension": ".py",
   "mimetype": "text/x-python",
   "name": "python",
   "nbconvert_exporter": "python",
   "pygments_lexer": "ipython3",
   "version": "3.10.2"
  }
 },
 "nbformat": 4,
 "nbformat_minor": 5
}
