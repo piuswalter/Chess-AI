{
 "cells": [
  {
   "cell_type": "code",
   "execution_count": null,
   "id": "e311156e",
   "metadata": {},
   "outputs": [],
   "source": [
    "%%html\n",
    "<style>\n",
    ".container {\n",
    "  width: 100%;\n",
    "}\n",
    "</style>"
   ]
  },
  {
   "cell_type": "code",
   "execution_count": null,
   "id": "55d0d874",
   "metadata": {},
   "outputs": [],
   "source": [
    "%load_ext nb_mypy"
   ]
  },
  {
   "cell_type": "code",
   "execution_count": null,
   "id": "8907d79c",
   "metadata": {},
   "outputs": [],
   "source": [
    "import nbimporter"
   ]
  },
  {
   "cell_type": "markdown",
   "id": "8c28d185",
   "metadata": {},
   "source": [
    "# Stockfish Spieler\n",
    "\n",
    "Dieses Notebook implementiert die Verbindung zur Stockfish-Engine, welche innerhalb eines definierten Zeitlimits nach einem möglichst guten Zug sucht."
   ]
  },
  {
   "cell_type": "code",
   "execution_count": null,
   "id": "b32e53c9",
   "metadata": {},
   "outputs": [],
   "source": [
    "import chess\n",
    "import chess.engine\n",
    "from AIBaseClass import ChessAI\n",
    "\n",
    "class StockfishPlayer(ChessAI):\n",
    "\n",
    "    def __init__(self, player_name: str, elo=1500) -> None:\n",
    "        super().__init__(player_name)\n",
    "        self.engine = chess.engine.SimpleEngine.popen_uci(\"../lib/stockfish/stockfish.exe\")\n",
    "        self.engine.configure({\"UCI_LimitStrength\": True, \"UCI_Elo\": elo})\n",
    "\n",
    "    def get_next_middle_game_move(self: ChessAI, board: chess.Board) -> chess.Move:\n",
    "        \"\"\"Communicate with the stockfish engine over uci.\"\"\"\n",
    "        # Give stockfish 100ms to think\n",
    "        result = self.engine.play(board, chess.engine.Limit(time=.1))\n",
    "        return result.move"
   ]
  }
 ],
 "metadata": {
  "kernelspec": {
   "display_name": "Python 3 (ipykernel)",
   "language": "python",
   "name": "python3"
  },
  "language_info": {
   "codemirror_mode": {
    "name": "ipython",
    "version": 3
   },
   "file_extension": ".py",
   "mimetype": "text/x-python",
   "name": "python",
   "nbconvert_exporter": "python",
   "pygments_lexer": "ipython3",
   "version": "3.10.1"
  }
 },
 "nbformat": 4,
 "nbformat_minor": 5
}
