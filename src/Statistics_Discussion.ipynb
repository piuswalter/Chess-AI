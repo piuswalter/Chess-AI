{
 "cells": [
  {
   "cell_type": "code",
   "execution_count": null,
   "id": "05dd4462",
   "metadata": {},
   "outputs": [],
   "source": [
    "%%html\n",
    "<style>\n",
    "  .container { width: 80%; }\n",
    "  .float-img-left { float: left; }\n",
    "  .float-img-right { float: right; }\n",
    "</style>"
   ]
  },
  {
   "cell_type": "code",
   "execution_count": null,
   "id": "d4e2af60",
   "metadata": {},
   "outputs": [],
   "source": [
    "from IPython.display import Image"
   ]
  },
  {
   "cell_type": "markdown",
   "id": "9bfe0ee5",
   "metadata": {},
   "source": [
    "# Statistik\n",
    "\n",
    "- Pius: Sieg / Niederlage gegen andere KIs & Stockfish auf verschiedenen Leveln\n",
    "- Pius: Cache Hits / Misses / Tries d.h. Effektivität vom Cache (auch Vergleich mit / ohne Memoisierung)\n",
    "- Philipp: Zugzeit von verschiedenen KIs und Einstellungen vergleichen\n",
    "- Philipp: Entwicklung der KIs darstellen\n",
    "- Anton: Belastung von Arbeitsspeicher in Zusammenhang mit der Tiefe und der Memoisierung (Cache Größe)\n",
    "- Anton: SVE: Durchschnittliche Tiefe (bezogen auf die maximal Tiefe der Config)\n",
    "- TBD: Vergleich zwischen Schwarz und Weiß als Farbe"
   ]
  },
  {
   "cell_type": "markdown",
   "id": "f4d9e81d",
   "metadata": {},
   "source": [
    "Da sie im Folgenden oft referenziert werden wird hier noch einmal eine Übersicht über die verschiedenen KI-Versionen gegeben.\n",
    "\n",
    "- `AI-Base-Class`: Die abstrakte Basisklasse für alle AI-Versionen, welche das Eröffnungs- und Endspiel implementiert.\n",
    "- `Exercise01AI`: Die erste Version der AI, welche im Mittelspiel zufällige Züge auswählt.\n",
    "- `Exercise02AI`: Die zweite Version der AI, welche im Mittelspiel Züge mithilfe des Minimax-Algorithmus und dem einfachen Materialwert auswählt.\n",
    "- `Exercise03AI`: Die dritte Version der AI, welche im Mittelspiel Züge mithilfe des Minimax-Algorithmus und der `Simplified Evaluation Function` auswählt.\n",
    "- `Exercise04AI`: Die vierte Version der AI, welche im Vergleich zur dritten Version mithilfe von Memoisierung beschleunigt wurde.\n",
    "- `Exercise05AI`: Die fünfte Version der AI, welche die dritte Version um das Alpha-Beta-Pruning erweitert.\n",
    "- `Exercise06AI`: Die sechste Version der AI, welche die fünfte Version erneut um Memoisierung erweitert.\n",
    "- `Exercise07AI`: Die siebte Version der AI, welche die sechste Version um Progressive Deepening erweitert.\n",
    "- `Exercise08AI`: Die achte Version der AI, welche die siebte Version um die Singular Value Extension erweitert.\n",
    "- `StockfishPlayer`: Ein Spieler, welcher durch die Stockfish Engine gesteuert wird."
   ]
  },
  {
   "cell_type": "markdown",
   "id": "d37b89c3",
   "metadata": {},
   "source": [
    "## Ressourcenverbrauch der verschiedenen KI-Versionen\n",
    "\n",
    "Die CPU-Auslastung ist bei jeder KI-Version maximal, d.h. es wird durchgängig die maximale verfügbare Rechenleistung genutzt. Die KI ist aktuell nicht parallelisiert, d.h. es wird jeweils nur ein CPU-Kern genutzt. Der Festplattenspeicher bewegt sich innerhalb von wenigen MB Verbrauch und ist somit vernachlässigbar. Die kritische Ressource ist der Arbeitsspeicher. Der genutzte Speicher unterscheidet sich je nach KI-Version und Konfiguration stark und ist (neben der Berechnungszeit) ein limitierender Faktor."
   ]
  },
  {
   "cell_type": "markdown",
   "id": "31a36dd8",
   "metadata": {},
   "source": [
    "### Vergleich des RAM-Verbrauchs\n",
    "\n",
    "Im Folgenden wird der Verbrauch des Arbeitsspeichers für die KI-Version 5 bis 8 verglichen. Die Versionen 1 bis 4 verfügen noch nicht über das Alpha-Beta-Pruning welches die Berechnungen stark beschleuningt, daher sind sie für einen Vergleich weniger interessant.\n",
    "\n",
    "#### Messaufbau\n",
    "\n",
    "Für jede gewählte Konfiguration und KI-Version wurden drei Testspiele gegen die Stockfish-KI gespielt. Die Spiele wurden ohne GUI auf auf einem Debian Linux gestartet. Der virtuelle Server wurde exklusiv für diesen Test erstellt und verfügt über 32 GB Arbeitsspeicher.  \n",
    "Während den Spielen wurde der freie Arbeitsspeicher des Gesamtsystems im Abstand von 30 Sekunden gemessen. Der Verbrauch des Systems im Leerlauf wurde anschließend herausgerechnet. Die Messungenauigkeit wird auf etwa 15 MB geschätzt (maximale Abweichungen im Leerlauf).\n",
    "\n",
    "\n",
    "#### Erläuterungen zur Tabelle\n",
    "Für den RAM wurde jeweils das Maximum über alle drei Spiele ermittelt. Hierbei ist anzumerken, dass die Maximalwerte für ein einzelnes Spiel teilweise um mehr als 50 % vom Mittelwert der Maximalwerte aller Spiele abweicht, die Varianz ist hier also sehr hoch. Die Exercise05AI besitzt keine Memoisierung, somit gibt es keine Messung für den Cache. Bei der Exercise08AI wurd die maximale Tiefe für die Singular Value Extension jeweils um 1 höher gewählt als die normale Tiefe (minimaler Wert) um so weiterhin vergleichbar zu sein."
   ]
  },
  {
   "cell_type": "markdown",
   "id": "ee24493f",
   "metadata": {},
   "source": [
    "| Tiefe | Exercise05AI RAM | Exercise06AI RAM | Exercise07AI RAM | Exercise08AI RAM |\n",
    "|-------|------------------|------------------|------------------|------------------|\n",
    "| 3     | 128 MB           | 128 MB           | 305 MB           | 635 MB           |\n",
    "| 4     | 138 MB           | 305 MB           | 658 MB           | 1010 MB          |\n",
    "| 5     | 186 MB           | 1189 MB          | 3240 MB          | 2973 MB          |"
   ]
  },
  {
   "cell_type": "markdown",
   "id": "141f4574",
   "metadata": {},
   "source": [
    "Es zeigt sich, dass die Memoisierung den größten Einfluss auf den Arbeitsspeicher hat. Während der Verbrauch ohne Memoisierung nur leicht ansteigt (Exercise05AI), passiert dies deutlich stärker wenn Memoisierung eingesetzt wird (Exercise06AI). Bei der iterativen Suche (Exercise07AI) erhöht sich der Verbrauch abermals und bleibt bei der Exercise08AI in etwa gleich."
   ]
  },
  {
   "cell_type": "markdown",
   "id": "276d3038",
   "metadata": {},
   "source": [
    "#### Exemplarischer Verlauf der Arbeitsspeicherbelastung\n",
    "Das folgende Bild zeigt exemplarisch den Verlauf der RAM-Nutzung für ein Spiel der Exercise08AI gegen Stockfish. Gemessen wurde jeweils im Abstand von 30 Sekunden bei einer Suchtife von 4 und maximaler SVE-Tiefe von 8. Die vertikalen Striche markieren dabei das Ende eines Suchvorganges, d.h. einen abgeschlossenen Halbzug. Da Stockfish jeweils nur 0,1 Sekunden für den Zug benötigt kann dieser zeitliche Anteil hier vernachlässigt werden. Bei den steilen Anstiegen im Diagramm handelt es sich jeweils um eine Folge von Zügen mit vergleichsweise hoher durchschnittlicher Tiefe, d.h. es wurden viele Stellungen untersucht. Dort wo im Diagramm die Auslastung auf das Basisniveau von etwa 200 MB fällt wurde entsprechend Cache geleert nach einem irreversiblen Zug."
   ]
  },
  {
   "cell_type": "code",
   "execution_count": null,
   "id": "f4d1fb32",
   "metadata": {},
   "outputs": [],
   "source": [
    "Image(url=\"images/RAM_Ex08AI_vs_Stockfish.png\", width=1200)"
   ]
  },
  {
   "cell_type": "markdown",
   "id": "ff97f2ef",
   "metadata": {},
   "source": [
    "#### Arbeitsspeicherbelastung bei höherer Maximaltiefe\n",
    "\n",
    "Die folgende Tabelle zeigt die Arbeitsspeicherbelastung für die Exercise08AI in verschiedenen Konfigurationen. Als Vergleichswert wurde noch die durchschnittliche Zeit für einen Halbzug und die durchschnittliche Suchtiefe hinzugefügt. Die maximale SVE-Tiefe ist die Tiefe bis zu der die Singular Value Extension durchgeführt wird. Ist diese Tiefe erreicht wird die Suche in diesem Teilbaum abgebrochen. Die durchschnittliche Tiefe wird als Summe der Suchtiefe bei jedem Blatt des Suchbaumes, geteilt durch die Anzahl der Summanden definiert. Ein Blatt ensteht sobald eine der Abbruchbedingungen für die Rekursion zutrifft.  \n",
    "Es zeigt sich, dass die RAM-Auslastung bei höherer Maximaltiefe stark ansteigt und bei einer SVE-Tiefe von 12 die Suche auf den meisten aktuellen Rechnern bereits zu viel Arbeitsspeicher benötigt. Auch die Zeit pro Zug steigt stark. Hierbei ist zu beachten, dass die Zugzeit vorallem bei den ersten Zügen sehr hoch ist und bei einer SVE-Tiefe von 12 beispielsweise bis zu 52 Minuten für einzelne Züge möglich sind."
   ]
  },
  {
   "cell_type": "markdown",
   "id": "7e705693",
   "metadata": {},
   "source": [
    "| Max. SVE Tiefe | Tiefe | RAM        | Durchschnittliche Berechnungszeit pro Zug | Durchschnittlich erreichte Suchtiefe |\n",
    "|---------------|-------|------------|-------------------------------------------|--------------------------------------|\n",
    "| 4             | 3     | 635 MB     | 0,75 s                                    | 3,49                                 |\n",
    "| 5             | 4     | 1010 MB    | 10,29 s                                   | 4,27                                 |\n",
    "| 6             | 5     | 2431 MB    | 51,44 s                                   | 5,10                                |\n",
    "| 8             | 4     | 1756 MB    | 20,96 s                                   | 5,63                                 |\n",
    "| 10            | 4     | 6695 MB    | 52,38 s                                   | 6,14                                 |\n",
    "| 12            | 4     | > 31606 MB | 82,18 s                                   | 4,92                                 |"
   ]
  },
  {
   "cell_type": "markdown",
   "id": "0a7dc5c9",
   "metadata": {},
   "source": [
    "Die Daten zeigen insgesamt einerseits das die Memoisierung viel Arbeitsspeicher erfordert, aber dieser auch effektiv wieder freigegeben wird sobald der Cache durch einen irreversiblen Zug nutzlos wird. Die zweite Tabelle zeigt aber ebenso, dass der Arbeitsspeicher durchaus ein Limit für die Suche darstellen kann (wenn auch nur bei einer sehr langen Rechenzeit)."
   ]
  },
  {
   "cell_type": "markdown",
   "id": "30d886fe",
   "metadata": {},
   "source": [
    "# Zugzeit der AIs\n",
    "\n",
    "Bei den einzelnen Entwicklungsstufen der AI lassen sich klare zeitliche Unterschiede erkennen. Während die Memoisierung einen gewissen, aber leider nur geringen Geschwindigkeitsvorteil ermöglicht, bietet das Alpha-Beta-Pruning die größte Zeitersparnis.\n",
    "\n",
    "\n",
    "Als `max_depth` Parameter wurde bei den folgenden Statistiken für die finale KI-Version jeweils der doppelte Wert der gegebenen Depth verwendet.\n",
    "Wie in den nachfolgenden Abbildungen zu sehen ist, erhöhen sowohl die Einführung des Progressive Deepenings als auch der Singular Value Extension (SVE) den benötigten Zeitaufwand immens. Im Falle des Progressive Deepening wird der Zeitaufwand bei einer Tiefe von 4 um über 100 % erhöht, die SVE erhöht den Rechenaufwand sogar um mehr als den Faktor 13. Während die erhöhte Rechendauer der finalen KI-Version durch die Spielergebnisse gerechtfertigt werden kann, wie im nächsten Kapitel gezeigt wird, berechnet die `Exercise07AI` dieselben Züge wie ihre Vorgängerversion. Das Progressive Deepening sorgt für eine andere Sortierung der Züge, weshalb andere Ergebnisse möglich sind, aber das eigentliche Ziel einer Reduzierung der Berechnungsdauer wurde nicht erreicht.\n",
    "\n",
    "Bei einer Depth von drei beträgt die durchschnittliche Zugzeit aller KIs unter eine Minute. Während die `Exercise03AI` mit 51,2 Sekunden die längste Rechendauer vorweist, ist die `Exercise06AI` mit 9,4 Sekunden die schnellste KI.\n",
    "\n",
    "<img src=\"images/Depth3AvgDuration.png\" width=\"700px\" />\n",
    "\n",
    "Die Berechnungsdauer wächst exponentiell mit steigender Suchtiefe. Auch bei einer Depth von 4 bleibt die sechste KI Version mit 72,9 Sekunden die schnellste KI. Mit 2117,9 Sekunden pro Zug ist `Exercise03AI` erneut mit Abstand die KI mit der längsten Berechnungsdauer. Selbst die finale Version der KI, die durch die Singular-Value-Extension bis zu acht Züge im Voraus berechnet, ist mit 1035,1 Sekunden mehr als doppelt so schnell.\n",
    "\n",
    "<img src=\"images/Depth4AvgDuration.png\" width=\"700px\" />\n",
    "\n",
    "### Exercise08AI\n",
    "\n",
    "Durch die Verwendung der Singular Value Extension und dem dazugehörigen Parameter `max_depth` wird die finale Version der KI separat betrachtet und mit unterschiedlichen Werten für `max_depth` parametrisiert.\n",
    "\n",
    "<img src=\"images/Depth3MaxDepthAvgDuration.png\" width=\"700px\" />\n",
    "<img src=\"images/Depth4MaxDepthAvgDuration.png\" width=\"700px\" />\n",
    "\n",
    "Wie zu sehen ist, fluktuieren die Ergebnisse bei einer Depth von drei noch relativ stark, während die durchschnittliche Zugzeit bei einer Depth von 4 konstant zunimmt und damit für ein erwartetes Ergebnis sorgt.\n",
    "\n"
   ]
  },
  {
   "cell_type": "markdown",
   "id": "bdf3a149",
   "metadata": {},
   "source": [
    "# Entwicklung der einzelnen KIs\n",
    "\n",
    "Dieses Kapitel stellt die Entwicklung der einzelnen KI-Versionen dar, wobei immer eine KI mit ihrem direkten Nachfolger verglichen wird. Die ersten beiden KI-Iteration werden hierbei übergangen, da die erste KI nur zufällige Züge auswählt und somit für keine andere KI ein ernsthafter Gegner ist und auch die zweite Iteration der KI, welche den Minimax mit einfachem Materialwert zur Evaluierung verwendet, in den allermeisten Fällen höchstens auf ein Unentschieden hoffen kann.\n",
    "\n",
    "Die dritte und vierte KI-Iteration, welche zur Evaluierung einer Stellung nun auf die Piece-Square Tables zurückgreifen, werden hier gemeinsam betrachtet, da die `Exercise04AI` die dritte Iteration lediglich um eine Memoisierung ergänzt, was zwar die Performanz steigert, aber nichts an der Stärke der KI ändert. Während diese beiden KI-Iterationen nie gegen die ersten beiden Versionen verlieren, so gewinnen sie auch niemals gegen spätere Versionen der KI. Auffallend ist, dass die dritte und vierte KI-Version im Spiel gegen sich selbst auf der schwarzen Seite in der Hälfte aller Fälle gewinnen und umgekehrt auf der weißen Seite zu 50 % verlieren. Die andere Hälfte der Spiele besteht hierbei jeweils zum Großteil aus Remis. Diese Eigenschaft ist kontraintuitiv, da im Schach eigentlich die weiße Seite als besser angesehen wird, was auch die Spielergebnisse der späteren KI-Versionen größtenteils wiedergespiegeln.\n",
    "\n",
    "Auch die fünfte und sechste Version der KI werden gemeinsam betrachtet. Diese Versionen erweitern den Minimax um das Alpha-Beta-Pruning, wobei die sechste Iteration zusätzlich eine Memoisierung implementiert. Während das Alpha-Beta-Pruning grundsätzlich nichts an der Spielstärke verändert, hat es wie zuvor gezeigt einen starken Einfluss auf die Geschwindigkeit, mit der ein neuer Zug berechnet werden kann. Durch den gewonnenen Geschwindigkeitsbonus sind diese KI-Versionen in der Lage, mit einer höheren Depth als ihre Vorgängerversionen zu spielen und werden dadurch zu einem merklich stärkeren Gegner. Die folgenden Statistiken stellen einen Vergleich der vierten und sechsten Version im Spiel gegen die anderen KIs dar:\n",
    "\n",
    "<div>\n",
    "<img src=\"images/AI04Results.png\" width=\"600px\" />\n",
    "<img src=\"images/AI06Results.png\" width=\"600px\" />\n",
    "</div>\n",
    "\n",
    "Wie bereits im vorherigen Kapitel beleuchtet, bringt das in der `Exercise07AI` implementierte Progressive Deepening keinen Vorteil in der Spielstärke der KI, sondern sollte lediglich die Performanz verbessern. Durch das Progressive Deepening findet eine andere Sortierung der Züge statt, wodurch sich bei gleicher Evaluierung mehrerer Züge der von den KI-Versionen ausgewählte Zug unterscheidet. Dass in dem Diagramm die Ergebnisse der fünften und sechsten KI-Version von denen der siebten abweichen, ist also als Zufall zu betrachten.\n",
    "\n",
    "Die achte und damit finale Version KI hingegen bringt durch die Implementierung der Singular-Value-Extension einen signifikanten Vorteil. Wie in der folgenden Statistik zu sehen ist, gewinnt die KI nun ziemlich sicher gegen alle anderen KI Versionen. Im Spiel gegen sich selbst ist die KI jedoch analog zur dritten und vierten Version auf der schwarzen Seite stärker als auf der weißen.\n",
    "\n",
    "<img src=\"images/AI08Results.png\" width=\"600px\" />\n"
   ]
  },
  {
   "cell_type": "markdown",
   "id": "d744727b",
   "metadata": {},
   "source": [
    "### Vergleich von Sieg und Niederlage\n",
    "\n",
    "Für den Vergleich von Sieg und Niederlage wurden jeweils mindestens 10 Spiele gespielt. Die Diagramme zeigen die Gewinne in Prozenz der einzelnen KI-Versionen gegen Stockfish. Bei der Generierung der Statistiken wurde Stockfish auf eine ELO-Zahl von `1500` und eine Zug-Zeit von `0.1` Sekunden limitiert. Die ELO-Zahl von Stockfish wurde mit einer Bedenkzeit von `60s+0.6s` und in der `CCRL 40/4` festgesetzt. Aufgrund der Menge an benötigten Spielen wurde nur mit den Tiefen `3` und `4` gespielt. Die ersten zwei Diagramme zeigen die Ergebnisse mit Tiefe 3, die letzten zwei mit einer Tiefe von 4.\n",
    "\n",
    "Alle KI-Versionen spielen mit einer Tiefe von 4 ungefähr doppelt so gut als mit einer Tiefe von 3. Schnell erkennbar ist in allen vier der folgenden Diagrammen, dass `Exercise01AI` durchweg verliert. Dies liegt an der Auswahl zuffälliger Züge im Mittelspiel. Die `Exercise02AI`, welche im Mittelspiel Züge mithilfe des Minimax-Algorithmus und dem einfachen Materialwert auswählt gewinnt mit einer Tiefe von 3 durchschnittlich 4 % der Spiele, mit einer Tiefe von 4 schon durchschnittlich 16 %. Hierbei hängt das Ergebnis stark von der Farbe ab, mit der die KI spielt. `Exercise03AI`, welche im Mittelspiel Züge mithilfe des Minimax-Algorithmus und der `Simplified Evaluation Function` auswählt, wird vor allem weiß spielend ungefähr doppelt so gut. Die Beschleunigung durch die Memoisierung kommt bei `Exercise04AI` zu tragen, diese gewinnt auf einer Tiefe von 4 im Schnitt bereits die Hälfte der Spiele.\n",
    "\n",
    "Die KI-Versionen `Exercise05AI`, `Exercise06AI` und `Exercise07AI` spielen verhältnismäßig sehr ähnlich. Dies ist darauf zurückzuführen, dass hierbei nicht das \"Können\" sondern durch das implementierte Alpha-Beta-Pruning, die erneute Memoisierung und das Progressive Deepening lediglich die Geschwindkeit optimiert wurde. \n",
    "\n",
    "Mit mehr als 54 % gewonnener Spiele auf einer Tiefe von 4 besiegt `Exercise08AI` Stockfish. Diese Verbesserung kann auf die implementierte Singular Value Extension zurückgeführt werden.\n",
    "\n",
    "<img src=\"images/ResultsWhiteDepth3.png\" width=\"600px\" class=\"float-img-left\" />\n",
    "<img src=\"images/ResultsBlackDepth3.png\" width=\"600px\" class=\"float-img-right\" />\n",
    "<img src=\"images/ResultsWhiteDepth4.png\" width=\"600px\" class=\"float-img-left\" />\n",
    "<img src=\"images/ResultsBlackDepth4.png\" width=\"600px\" class=\"float-img-right\" />"
   ]
  },
  {
   "cell_type": "markdown",
   "id": "9bb5c93f",
   "metadata": {},
   "source": [
    "### Die Effektivität des Caches\n",
    "\n",
    "Während jedes Spiels wurde pro Halbzug der Zugriff auf den implementierten Cache gemessen. Hiefür wurden die Variablen `cache_hits` und `cache_tries` für jede Farbe implementiert. Nach einem abgeschlossenen Spiel konnten so über alle `cache_hits` und `cache_tries` der jeweiligen Farbe die Summe gebildet werden und folglich mithilfe der Formel\n",
    "\n",
    "$$ effectiveness = \\frac{cache\\_hits}{cache\\_tries} $$\n",
    "\n",
    "für ein gesamtes Spiel die Effektivität des Caches in Prozent je Farbe berechnet werden. Die zwei Diagramme unten zeigen den Mittelwert der Effektivität der jeweiligen KI-Versionen bei mehr als 50 Spielen.\n",
    "\n",
    "<img src=\"images/CacheHitsWhite.png\" width=\"600px\" class=\"float-img-left\" />\n",
    "<img src=\"images/CacheHitsBlack.png\" width=\"600px\" class=\"float-img-right\" />"
   ]
  },
  {
   "cell_type": "code",
   "execution_count": null,
   "id": "c45afee8",
   "metadata": {},
   "outputs": [],
   "source": []
  }
 ],
 "metadata": {
  "kernelspec": {
   "display_name": "Python 3 (ipykernel)",
   "language": "python",
   "name": "python3"
  },
  "language_info": {
   "codemirror_mode": {
    "name": "ipython",
    "version": 3
   },
   "file_extension": ".py",
   "mimetype": "text/x-python",
   "name": "python",
   "nbconvert_exporter": "python",
   "pygments_lexer": "ipython3",
   "version": "3.10.4"
  }
 },
 "nbformat": 4,
 "nbformat_minor": 5
}
