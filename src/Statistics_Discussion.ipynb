{
 "cells": [
  {
   "cell_type": "markdown",
   "id": "9bfe0ee5",
   "metadata": {},
   "source": [
    "# Statistik\n",
    "\n",
    "- Pius: Sieg / Niederlage gegen andere KIs & Stockfish auf verschiedenen Leveln\n",
    "- Pius: Cache Hits / Misses / Tries d.h. Effektivität vom Cache (auch Vergleich mit / ohne Memoisierung)\n",
    "- Philipp: Zugzeit von verschiedenen KIs und Einstellungen vergleichen\n",
    "- Philipp: Entwicklung der KIs darstellen\n",
    "- Anton: Belastung von Arbeitsspeicher in Zusammenhang mit der Tiefe und der Memoisierung (Cache Größe)\n",
    "- Anton: SVE: Durchschnittliche Tiefe (bezogen auf die maximal Tiefe der Config)\n",
    "- TBD: Vergleich zwischen Schwarz und Weiß als Farbe"
   ]
  }
 ],
 "metadata": {
  "kernelspec": {
   "display_name": "Python 3 (ipykernel)",
   "language": "python",
   "name": "python3"
  },
  "language_info": {
   "codemirror_mode": {
    "name": "ipython",
    "version": 3
   },
   "file_extension": ".py",
   "mimetype": "text/x-python",
   "name": "python",
   "nbconvert_exporter": "python",
   "pygments_lexer": "ipython3",
   "version": "3.10.4"
  }
 },
 "nbformat": 4,
 "nbformat_minor": 5
}
