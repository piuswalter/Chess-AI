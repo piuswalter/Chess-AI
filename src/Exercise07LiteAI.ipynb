{
 "cells": [
  {
   "cell_type": "code",
   "execution_count": null,
   "metadata": {},
   "outputs": [],
   "source": [
    "%%html\n",
    "<style>\n",
    ".container {\n",
    "  width: 100%;\n",
    "}\n",
    "</style>"
   ]
  },
  {
   "cell_type": "code",
   "execution_count": null,
   "metadata": {},
   "outputs": [],
   "source": [
    "%load_ext nb_mypy"
   ]
  },
  {
   "cell_type": "code",
   "execution_count": null,
   "metadata": {},
   "outputs": [],
   "source": [
    "import nbimporter\n",
    "from AIBaseClass import ChessAI\n",
    "from Exercise04AI import Exercise04AI\n",
    "from Exercise06AI import Exercise06AI"
   ]
  },
  {
   "cell_type": "markdown",
   "metadata": {},
   "source": [
    "# Aufgabe 07Lite: Minimax mit Alpha-Beta-Pruning und Progressive Deepening OHNE Memoisierung\n",
    "\n",
    "Dieses Notebook ist eine Kopie der `Exercise07AI` ohne Memoisierung. Durch diese Modifizierung sinkt der verwendete Arbeitsspeicher erheblich und die Berechnungsdauer erhöht sich leicht."
   ]
  },
  {
   "cell_type": "code",
   "execution_count": null,
   "metadata": {},
   "outputs": [],
   "source": [
    "import chess_custom as chess\n",
    "from typing import Any\n",
    "\n",
    "class Exercise07LiteAI(Exercise06AI):\n",
    "    \"\"\"Chooses middle game moves using minimax algorithm, alpha-beta-pruning and memoization\"\"\"\n",
    "    def __init__(self, **kwargs) -> None:\n",
    "        super().__init__(**kwargs)\n",
    "        self.local_cache: dict[tuple, int] = {}"
   ]
  },
  {
   "cell_type": "markdown",
   "metadata": {},
   "source": [
    "## Entfernung der Memoisierung\n",
    "\n",
    "Diese Klasse ist bis auf das Entfernen der Memoisierung identisch zur Klasse `Exercise07AI`."
   ]
  },
  {
   "cell_type": "code",
   "execution_count": null,
   "metadata": {},
   "outputs": [],
   "source": [
    "from typing import Any\n",
    "import heapq\n",
    "\n",
    "class Exercise07LiteAI(Exercise07LiteAI): # type: ignore\n",
    "    \n",
    "    def minimax(self, board: chess.Board, depth: int, current_evaluation: int,\n",
    "                alpha: int = -Exercise07LiteAI.LIMIT, beta: int = Exercise07LiteAI.LIMIT) -> tuple[int, chess.Move]:\n",
    "        \"\"\"Searches the best value with given depth using minimax algorithm\"\"\"\n",
    "        best_move = None\n",
    "        \n",
    "        if (is_checkmate := board.is_checkmate()) and not board.turn:\n",
    "            # White has won the game\n",
    "            evaluation = self.LIMIT - (self.DEPTH - depth)\n",
    "            return evaluation, None\n",
    "        elif is_checkmate and board.turn:\n",
    "            # Black has won the game\n",
    "            evaluation = -self.LIMIT + (self.DEPTH - depth)\n",
    "            return evaluation, None\n",
    "        elif board.is_insufficient_material() or not board.legal_moves or board.is_fifty_moves() or board.is_repetition(5):\n",
    "            # Game is a draw\n",
    "            return 0, None\n",
    "\n",
    "        # Recursion abort case\n",
    "        if depth == 0:\n",
    "            return current_evaluation, None\n",
    "\n",
    "        # White to play (positive numbers are good)\n",
    "        moves: list[tuple[int, int, chess.Move]] = []\n",
    "        if board.turn:\n",
    "            for i, move in enumerate(board.legal_moves):\n",
    "                old_eval = self.local_cache.get((depth - 2, move), i)\n",
    "                heapq.heappush(moves, (-old_eval, i, move))\n",
    "            maxEvaluation = alpha\n",
    "            while moves:\n",
    "                move = heapq.heappop(moves)[2]\n",
    "                board.push(move)\n",
    "                evaluation, _ = self.minimax(board, depth - 1, self.evaluate(board, current_evaluation), maxEvaluation, beta)\n",
    "                self.local_cache[(depth - 1, move)] = evaluation\n",
    "                board.pop()\n",
    "                if evaluation >= beta:\n",
    "                    return evaluation, move\n",
    "                if depth == self.DEPTH and evaluation > maxEvaluation:\n",
    "                    best_move = move\n",
    "                maxEvaluation = max(maxEvaluation, evaluation)\n",
    "            return maxEvaluation, best_move\n",
    "\n",
    "        # Black to play (negative numbers are good)\n",
    "        else:\n",
    "            for i, move in enumerate(board.legal_moves):\n",
    "                old_eval = self.local_cache.get((depth - 2, move), i)\n",
    "                heapq.heappush(moves, (old_eval, i, move))\n",
    "            minEvaluation = beta\n",
    "            while moves:\n",
    "                move = heapq.heappop(moves)[2]\n",
    "                board.push(move)\n",
    "                evaluation, _ = self.minimax(board, depth - 1, self.evaluate(board, current_evaluation), alpha, minEvaluation)\n",
    "                self.local_cache[(depth - 1, move)] = evaluation\n",
    "                board.pop()\n",
    "                if evaluation <= alpha:\n",
    "                    return evaluation, move\n",
    "                if depth == self.DEPTH and evaluation < minEvaluation:\n",
    "                    best_move = move\n",
    "                minEvaluation = min(minEvaluation, evaluation)\n",
    "            return minEvaluation, best_move"
   ]
  },
  {
   "cell_type": "code",
   "execution_count": null,
   "metadata": {},
   "outputs": [],
   "source": [
    "class Exercise07LiteAI(Exercise07LiteAI): # type: ignore\n",
    "    \n",
    "    def get_next_middle_game_move(self, board: chess.Board) -> chess.Move | None:\n",
    "        \"\"\"Gets the best next move\"\"\"\n",
    "        self.last_evaluation: int | None # type annotation for mypy\n",
    "        if self.is_king_endgame != self.check_king_endgame(board):\n",
    "            self.last_evaluation += self.get_endgame_evaluation_change(board)\n",
    "        # Calculate current evaluation\n",
    "        if self.last_evaluation is None:  # type: ignore\n",
    "            current_evaluation = self.full_evaluate(board)\n",
    "        else:\n",
    "            # Get current evaluation (after opponent move)\n",
    "            current_evaluation = self.evaluate(board, self.last_evaluation)\n",
    "\n",
    "        for depth in range(1, self.DEPTH + 1):\n",
    "            # Call minimax and get best move\n",
    "            _, best_move = self.minimax(board, depth, current_evaluation)\n",
    "        \n",
    "        # Reset local cache\n",
    "        self.local_cache: dict[tuple, int] = {}\n",
    "        \n",
    "        # Debugging fail save\n",
    "        assert best_move, f\"\"\"\n",
    "        Best move is None with fen '{board.fen()}' at player {type(self).__name__}! \n",
    "        depth: {self.DEPTH}, last_eval: {self.last_evaluation}, current_evaluation: {current_evaluation},\n",
    "        is_king_engame: {getattr(self, 'is_king_endgame', \"N/A\")}, move_stack: {board.move_stack}\n",
    "        \"\"\"\n",
    "        # Update last evaluation (after player move)\n",
    "        self.last_evaluation = current_evaluation + self.incremental_evaluate(board, best_move)\n",
    "        return best_move"
   ]
  },
  {
   "cell_type": "markdown",
   "metadata": {},
   "source": [
    "## Debugging Bereich\n",
    "\n",
    "Die folgenden Zellen enthalten Code zum Testen der oben implementierten Funktionen."
   ]
  },
  {
   "cell_type": "code",
   "execution_count": null,
   "metadata": {},
   "outputs": [],
   "source": [
    "#debug\n",
    "from Exercise03AI import Exercise03AI"
   ]
  },
  {
   "cell_type": "code",
   "execution_count": null,
   "metadata": {},
   "outputs": [],
   "source": [
    "#debug\n",
    "board = chess.Board(\"5rk1/1b3p2/8/3p4/3p2P1/2Q4B/5P1K/R3R3 b - - 0 36\")\n",
    "board"
   ]
  },
  {
   "cell_type": "code",
   "execution_count": null,
   "metadata": {
    "scrolled": false
   },
   "outputs": [],
   "source": [
    "%%time\n",
    "DEPTH = 4\n",
    "player3 = Exercise07LiteAI(\"Testplayer\", DEPTH)\n",
    "#print(player.minimax(board, DEPTH))\n",
    "move = player3.get_next_middle_game_move(board)\n",
    "print(move)"
   ]
  },
  {
   "cell_type": "code",
   "execution_count": null,
   "metadata": {},
   "outputs": [],
   "source": [
    "%%time\n",
    "DEPTH = 4\n",
    "player5 = Exercise05AI(\"Testplayer\", DEPTH)\n",
    "#print(player.minimax(board, DEPTH))\n",
    "move = player5.get_next_middle_game_move(board)\n",
    "print(move)"
   ]
  },
  {
   "cell_type": "code",
   "execution_count": null,
   "metadata": {},
   "outputs": [],
   "source": [
    "%%time\n",
    "DEPTH = 4\n",
    "player6 = Exercise06AI(\"Testplayer\", DEPTH)\n",
    "#print(player.minimax(board, DEPTH))\n",
    "move = player6.get_next_middle_game_move(board)\n",
    "print(move)\n",
    "print(player6.cache_hits)"
   ]
  },
  {
   "cell_type": "code",
   "execution_count": null,
   "metadata": {},
   "outputs": [],
   "source": [
    "#debug\n",
    "from IPython.display import clear_output, display\n",
    "player5 = Exercise05AI(\"Testplayer\", 3)\n",
    "player3 = Exercise03AI(\"Testplayer\", 3)\n",
    "move = player3.random.choice(list(board.legal_moves))\n",
    "board.push(move)\n",
    "for _ in range(10):\n",
    "    move_1, eval_1 = player3.get_next_middle_game_move(board)\n",
    "    player3.last_evaluation = None\n",
    "    print(move_1, eval_1, player3.last_evaluation)\n",
    "    move_2, eval_2 = player5.get_next_middle_game_move(board)\n",
    "    player5.last_evaluation = None\n",
    "    print(move_2, eval_2, player5.last_evaluation)\n",
    "    move = player3.random.choice(list(board.legal_moves))\n",
    "    board.push(move)"
   ]
  },
  {
   "cell_type": "code",
   "execution_count": null,
   "metadata": {},
   "outputs": [],
   "source": [
    "%%time\n",
    "DEPTH = 3\n",
    "board = chess.Board()\n",
    "#board.set_fen(\"4k3/8/2n5/7K/5q2/2N5/8/2B5 b - - 0 1\")\n",
    "player = Exercise04AI(\"Testplayer\", DEPTH)\n",
    "for _ in range(10):\n",
    "    board.push(sorted(board.legal_moves, key=lambda move: move.uci())[0])\n",
    "    move = player.get_next_middle_game_move(board)\n",
    "    print(move)"
   ]
  },
  {
   "cell_type": "code",
   "execution_count": null,
   "metadata": {},
   "outputs": [],
   "source": [
    "#debug\n",
    "from os.path import join\n",
    "\n",
    "with open(join(\"..\", \"games\", \"2022-01-15_20-18-57-907777.pgn\")) as pgn:\n",
    "    first_game = chess.pgn.read_game(pgn)\n",
    "\n",
    "# Iterate through all moves and play them on a board.\n",
    "board = first_game.board()\n",
    "for move in first_game.mainline_moves():\n",
    "    board.push(move)\n",
    "for i in range(220):\n",
    "    board.pop()"
   ]
  },
  {
   "cell_type": "code",
   "execution_count": null,
   "metadata": {},
   "outputs": [],
   "source": [
    "%%time\n",
    "DEPTH = 2\n",
    "#board = chess.Board()\n",
    "#board.set_fen(\"4k3/8/2n5/7K/5q2/2N5/8/2B5 b - - 0 1\")\n",
    "player = Exercise04AI(\"Testplayer\", DEPTH)\n",
    "#print(player.minimax(board, DEPTH))\n",
    "move = player.get_next_middle_game_move(board)\n",
    "print(move)\n",
    "player.cache_hits"
   ]
  },
  {
   "cell_type": "code",
   "execution_count": null,
   "metadata": {},
   "outputs": [],
   "source": [
    "#debug\n",
    "board = chess.Board(\"7B/pbpk4/1p6/2n1pp2/6p1/4P3/P1P2PNP/RNq1K1R1 w - - 0 1\")\n",
    "player = Exercise04AI(\"Testplayer\", 3)\n",
    "print(player.evaluate(board))\n",
    "board"
   ]
  }
 ],
 "metadata": {
  "kernelspec": {
   "display_name": "Python 3 (ipykernel)",
   "language": "python",
   "name": "python3"
  },
  "language_info": {
   "codemirror_mode": {
    "name": "ipython",
    "version": 3
   },
   "file_extension": ".py",
   "mimetype": "text/x-python",
   "name": "python",
   "nbconvert_exporter": "python",
   "pygments_lexer": "ipython3",
   "version": "3.10.2"
  }
 },
 "nbformat": 4,
 "nbformat_minor": 2
}
