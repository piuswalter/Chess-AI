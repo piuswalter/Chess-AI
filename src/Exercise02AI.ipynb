{
 "cells": [
  {
   "cell_type": "code",
   "execution_count": null,
   "metadata": {},
   "outputs": [],
   "source": [
    "%%html\n",
    "<style>\n",
    ".container {\n",
    "  width: 100%;\n",
    "}\n",
    "</style>"
   ]
  },
  {
   "cell_type": "code",
   "execution_count": null,
   "metadata": {},
   "outputs": [],
   "source": [
    "%load_ext nb_mypy"
   ]
  },
  {
   "cell_type": "code",
   "execution_count": null,
   "metadata": {},
   "outputs": [],
   "source": [
    "import nbimporter\n",
    "from AIBaseClass import ChessAI"
   ]
  },
  {
   "cell_type": "markdown",
   "metadata": {},
   "source": [
    "# Aufgabe 02: Minimax (einfacher Materialwert)\n",
    "\n",
    "Diese Klasse implementiert den Minimax-Algorithmus zur Berechnung des nächsten Zuges im Mittelspiel. Die Evaluierung eines Boards wird dabei durch Betrachtung des Materialwertes der Figuren realisiert.\n",
    "\n",
    "Die Klasse wird um eine neue Konstante `DEPTH` erweitert. Diese gibt an, wie viele zukünftige Halbzüge bei der Berechnung des nächsten Zuges betrachtet werden sollen, d. h. welche Höhe der entsprechende Baum aller möglichen nächsten Halbzüge aufweist. Die Konstante wird als Parameter übergeben und im Konstruktor gesetzt."
   ]
  },
  {
   "cell_type": "code",
   "execution_count": null,
   "metadata": {},
   "outputs": [],
   "source": [
    "import chess\n",
    "\n",
    "class Exercise02AI(ChessAI):\n",
    "    \"\"\"Chooses middle game moves using minimax algorithm and material values\"\"\"\n",
    "\n",
    "    def __init__(self, player_name: str, search_depth: int = 2) -> None:\n",
    "        super().__init__(player_name)\n",
    "        self.DEPTH = search_depth"
   ]
  },
  {
   "cell_type": "markdown",
   "metadata": {},
   "source": [
    "## Evaluierungsfunktion\n",
    "\n",
    "Die Evaluierungsfunktion `evaluate` nimmt ein Board als Argument und berechnet eine Ganzzahl als Maß dafür, ob die gegebene Stellung für den weißen Spieler eher zu einem Sieg (positiver Wert) oder zu einer Niederlage (negativer Wert) führt.\n",
    "\n",
    "Diese Implementierung verwendet dafür den Materialwert (Tauschwert in Bauerneinheiten) nach folgender Tabelle:\n",
    "\n",
    "| Figurname  | Materialwert |\n",
    "|---|---|\n",
    "| Bauer (pawn) | 1  |\n",
    "| Springer (knight) | 3  |\n",
    "| Läufer (bishop) | 3  |\n",
    "| Turm (rook) | 5  |\n",
    "| Dame (queen) | 9  |\n",
    "\n",
    "Die Berechnung wird in drei Schritten durchgeführt:\n",
    "\n",
    "1. Es wird für jede Figur und für jede Farbe die Anzahl der Spielfiguren ermittelt.\n",
    "2. Für jede Figur wird die Differenz der Anzahl pro Farbe gebildet ($\\texttt{Weiß} - \\texttt{Schwarz}$)\n",
    "3. Jede Differenz wird mit dem figurenspezifischen Faktor multipliziert und zur Gesamtsumme addiert."
   ]
  },
  {
   "cell_type": "code",
   "execution_count": null,
   "metadata": {},
   "outputs": [],
   "source": [
    "class Exercise02AI(Exercise02AI): # type: ignore\n",
    "    MATERIAL_VALUE_PAWN = 1\n",
    "    MATERIAL_VALUE_KNIGHT = 3\n",
    "    MATERIAL_VALUE_BISHOP = 3\n",
    "    MATERIAL_VALUE_ROOK = 5\n",
    "    MATERIAL_VALUE_QUEEN = 9\n",
    "\n",
    "    def evaluate(self, board: chess.Board) -> int:\n",
    "        \"\"\"Evaluates a given board. \n",
    "        Returns a positive value if white has a better material value than black.\"\"\"\n",
    "        # Get the amount of pieces on the board per color \n",
    "        amount_pawn_white   = len(board.pieces(chess.PAWN,   chess.WHITE))\n",
    "        amount_pawn_black   = len(board.pieces(chess.PAWN,   chess.BLACK))\n",
    "        amount_knight_white = len(board.pieces(chess.KNIGHT, chess.WHITE))\n",
    "        amount_knight_black = len(board.pieces(chess.KNIGHT, chess.BLACK))\n",
    "        amount_bishop_white = len(board.pieces(chess.BISHOP, chess.WHITE))\n",
    "        amount_bishop_black = len(board.pieces(chess.BISHOP, chess.BLACK))\n",
    "        amount_rook_white   = len(board.pieces(chess.ROOK,   chess.WHITE))\n",
    "        amount_rook_black   = len(board.pieces(chess.ROOK,   chess.BLACK))\n",
    "        amount_queen_white  = len(board.pieces(chess.QUEEN,  chess.WHITE))\n",
    "        amount_queen_black  = len(board.pieces(chess.QUEEN,  chess.BLACK))\n",
    "        \n",
    "        # Get difference\n",
    "        diff_pawn   = amount_pawn_white   - amount_pawn_black\n",
    "        diff_knight = amount_knight_white - amount_knight_black\n",
    "        diff_bishop = amount_bishop_white - amount_bishop_black\n",
    "        diff_rook   = amount_rook_white   - amount_rook_black\n",
    "        diff_queen  = amount_queen_white  - amount_queen_black\n",
    "\n",
    "        # Calculate material value\n",
    "        return sum([\n",
    "            self.MATERIAL_VALUE_PAWN * diff_pawn,\n",
    "            self.MATERIAL_VALUE_KNIGHT * diff_knight,\n",
    "            self.MATERIAL_VALUE_BISHOP * diff_bishop,\n",
    "            self.MATERIAL_VALUE_ROOK * diff_rook,\n",
    "            self.MATERIAL_VALUE_QUEEN * diff_queen\n",
    "        ])"
   ]
  },
  {
   "cell_type": "markdown",
   "metadata": {},
   "source": [
    "## Minimax\n",
    "\n",
    "Die rekursive `minimax`-Funktion betrachtet bei einem gegebenen Board alle möglichen Stellungen (Boards) nach einer gegebenen Anzahl von Halbzügen (Tiefe) und gibt die beste Evaluierung (`evaluate`-Funktion) für den aktuellen Spieler zurück.\n",
    "\n",
    "Die Konstante `LIMIT` wird als obere (+) bzw. untere (-) Schranke für den Vergleich innerhalb der ersten Iteration verwendet.\n",
    "\n",
    "Folgende Fälle werden unterschieden:\n",
    "\n",
    "1. Falls die Tiefe Null ist oder keine weitere Züge möglich sind, wird die Auswertung des aktuellen Boards zurückgegeben (Rekursionsende).\n",
    "2. Falls Weiß am Zug ist wird jeder mögliche Zug rekursiv evaluiert und das Maximum der Ergebnisse zurückgegeben.\n",
    "3. Falls Schwarz am Zug ist wird jeder mögliche Zug rekursiv evaluiert und das Minimum der Ergebnisse zurückgegeben."
   ]
  },
  {
   "cell_type": "code",
   "execution_count": null,
   "metadata": {},
   "outputs": [],
   "source": [
    "# Debugging start\n",
    "from copy import deepcopy\n",
    "# Debugging end\n",
    "class Exercise02AI(Exercise02AI): # type: ignore\n",
    "    LIMIT = 99999\n",
    "\n",
    "    # Debugging start\n",
    "    path_history: dict = {}\n",
    "    # Debugging end\n",
    "\n",
    "    def minimax(self, board: chess.Board, depth: int) -> int:\n",
    "        \"\"\"Searches the best value with given depth using minimax algorithm\"\"\"\n",
    "        # Recursion abort case\n",
    "        if depth == 0 or board.is_game_over():\n",
    "            return self.evaluate(board)\n",
    "\n",
    "        # White to play (positive numbers are good)\n",
    "        if board.turn:\n",
    "            maxEvaluation = -self.LIMIT\n",
    "            for move in board.legal_moves:\n",
    "                board.push(move)\n",
    "                evaluation = self.minimax(board, depth - 1)\n",
    "                # Debugging start\n",
    "                if maxEvaluation < evaluation:\n",
    "                    board_copy = deepcopy(board)\n",
    "                    board_copy.pop()\n",
    "                    Exercise02AI.path_history[str(board_copy) + str(depth)] = move\n",
    "                # Debugging end\n",
    "                board.pop()\n",
    "                maxEvaluation = max(maxEvaluation, evaluation)\n",
    "            assert maxEvaluation != -self.LIMIT, f\"No evaluation was possible at {board.fen()} with depth {depth}!\"  # Failsave\n",
    "            return maxEvaluation\n",
    "\n",
    "        # Black to play (negative numbers are good)\n",
    "        else:\n",
    "            minEvaluation = self.LIMIT\n",
    "            for move in board.legal_moves:\n",
    "                board.push(move)\n",
    "                evaluation = self.minimax(board, depth - 1)\n",
    "                # Debugging start\n",
    "                if minEvaluation > evaluation:\n",
    "                    board_copy = deepcopy(board)\n",
    "                    board_copy.pop()\n",
    "                    Exercise02AI.path_history[str(board_copy) + str(depth)] = move\n",
    "                # Debugging end\n",
    "                board.pop()\n",
    "                minEvaluation = min(minEvaluation, evaluation)\n",
    "            assert minEvaluation != self.LIMIT, f\"No evaluation was possible at {board.fen()} with depth {depth}!\"  # Failsave\n",
    "            return minEvaluation"
   ]
  },
  {
   "cell_type": "markdown",
   "metadata": {},
   "source": [
    "## Berechnung des besten Zuges\n",
    "\n",
    "Die Funktion `get_next_middle_game_move` berechnet auf einem gegebenen Board den besten nächsten Zug. Dabei wird jeder mögliche Zug mithilfe der `minimax`-Funktion in der gewünschten Tiefe evaluiert und der Zug mit der besten Bewertung zurückgegeben."
   ]
  },
  {
   "cell_type": "code",
   "execution_count": null,
   "metadata": {},
   "outputs": [],
   "source": [
    "class Exercise02AI(Exercise02AI): # type: ignore\n",
    "    def get_next_middle_game_move(self, board: chess.Board) -> chess.Move | None:\n",
    "        \"\"\"Gets the best next move\"\"\"\n",
    "        if board.is_game_over():\n",
    "            return None\n",
    "        # Debugging start\n",
    "        Exercise02AI.path_history = {}\n",
    "        # Debugging end\n",
    "        best_move_val = -self.LIMIT if board.turn else self.LIMIT\n",
    "        final_move = None\n",
    "\n",
    "        for move in board.legal_moves:\n",
    "            board.push(move)\n",
    "            move_val = self.minimax(board, self.DEPTH)\n",
    "            # IF best value < current value AND white to play OR best value >= current value AND black to play\n",
    "            if (best_move_val < move_val) != board.turn:\n",
    "                best_move_val = move_val\n",
    "                final_move = move\n",
    "            board.pop()\n",
    "        return final_move"
   ]
  },
  {
   "cell_type": "markdown",
   "metadata": {},
   "source": [
    "## Debugging Bereich\n",
    "\n",
    "Die folgenden Zellen enthalten Code zum Testen der oben implementierten Funktionen."
   ]
  },
  {
   "cell_type": "code",
   "execution_count": null,
   "metadata": {},
   "outputs": [],
   "source": [
    "# Debugging function\n",
    "from IPython.display import display\n",
    "def display_path(board_orig, move, depth):\n",
    "    \"\"\"Displays the move path to the best evaluation.\"\"\"\n",
    "    board = deepcopy(board_orig)\n",
    "    display(board)\n",
    "    board.push(move)\n",
    "    display(board)\n",
    "    for i in range(depth, 0, -1):\n",
    "        move = Exercise02AI.path_history[str(board) + str(i)]\n",
    "        board.push(move)\n",
    "        display(board)"
   ]
  },
  {
   "cell_type": "code",
   "execution_count": null,
   "metadata": {},
   "outputs": [],
   "source": [
    "# Test evaluate\n",
    "board = chess.Board()\n",
    "board.set_fen(\"7B/pbpk4/1p6/2n1pp2/6p1/4P3/P1P2PNP/RNq1K1R1 w - - 0 1\")\n",
    "player = Exercise02AI(\"Testplayer\", 3)\n",
    "player.evaluate(board)"
   ]
  },
  {
   "cell_type": "code",
   "execution_count": null,
   "metadata": {
    "scrolled": true
   },
   "outputs": [],
   "source": [
    "# Test get_next_middle_game_move\n",
    "DEPTH = 3\n",
    "board = chess.Board()\n",
    "board.set_fen(\"4k3/8/2n5/7K/5q2/2N5/8/2B5 b - - 0 1\")\n",
    "player = Exercise02AI(\"Testplayer\", DEPTH)\n",
    "#print(player.minimax(board, DEPTH))\n",
    "move = player.get_next_middle_game_move(board)\n",
    "print(move)\n",
    "display_path(board, move, DEPTH)"
   ]
  }
 ],
 "metadata": {
  "kernelspec": {
   "display_name": "Python 3 (ipykernel)",
   "language": "python",
   "name": "python3"
  },
  "language_info": {
   "codemirror_mode": {
    "name": "ipython",
    "version": 3
   },
   "file_extension": ".py",
   "mimetype": "text/x-python",
   "name": "python",
   "nbconvert_exporter": "python",
   "pygments_lexer": "ipython3",
   "version": "3.10.1"
  }
 },
 "nbformat": 4,
 "nbformat_minor": 2
}
