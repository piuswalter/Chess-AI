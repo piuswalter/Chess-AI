{
 "cells": [
  {
   "cell_type": "code",
   "execution_count": null,
   "metadata": {},
   "outputs": [],
   "source": [
    "%%html\n",
    "<style>\n",
    ".container {\n",
    "  width: 100%;\n",
    "}\n",
    "</style>"
   ]
  },
  {
   "cell_type": "code",
   "execution_count": null,
   "metadata": {},
   "outputs": [],
   "source": [
    "%load_ext nb_mypy"
   ]
  },
  {
   "cell_type": "code",
   "execution_count": null,
   "metadata": {},
   "outputs": [],
   "source": [
    "import nbimporter\n",
    "from AIBaseClass import ChessAI"
   ]
  },
  {
   "cell_type": "markdown",
   "metadata": {},
   "source": [
    "# Aufgabe 02: Minimax (einfacher Materialwert)\n",
    "\n",
    "Die Funktion `get_next_middle_game_move` nimmt das aktuelle Board als Argument und gibt einen super ausgewählten Zug aus der Menge aller gültigen Züge zurück.   \n",
    "Alle restlichen Funktionen werden von der Basisklasse `ChessAI` vererbt. "
   ]
  },
  {
   "cell_type": "code",
   "execution_count": null,
   "metadata": {},
   "outputs": [],
   "source": [
    "import chess\n",
    "\n",
    "class Exercise02AI(ChessAI):\n",
    "    \"\"\"Chooses middle game moves using minimax algorithm and material values\"\"\"\n",
    "    \n",
    "    LIMIT = 99999\n",
    "\n",
    "    def __init__(self, player_name: str, search_depth: int = 2) -> None:\n",
    "        super().__init__(player_name)\n",
    "        self.DEPTH = search_depth\n",
    "\n",
    "    def get_next_middle_game_move(self, board: chess.Board) -> chess.Move | None:\n",
    "        '''Picks a cool move out of all legal board moves'''\n",
    "        moves = list(board.legal_moves)\n",
    "        if not moves:\n",
    "            return None\n",
    "        return self.best_move(board)"
   ]
  },
  {
   "cell_type": "markdown",
   "metadata": {},
   "source": [
    "## Evaluierungsfunktion"
   ]
  },
  {
   "cell_type": "code",
   "execution_count": null,
   "metadata": {},
   "outputs": [],
   "source": [
    "class Exercise02AI(Exercise02AI): # type: ignore\n",
    "    MATERIAL_VALUE_PAWN = 1\n",
    "    MATERIAL_VALUE_KNIGHT = 3\n",
    "    MATERIAL_VALUE_BISHOP = 3\n",
    "    MATERIAL_VALUE_ROOK = 5\n",
    "    MATERIAL_VALUE_QUEEN = 9\n",
    "\n",
    "    def evaluate(self, board: chess.Board) -> int:\n",
    "        \"\"\"Evaluates a given board. \n",
    "        Returns a positive value if white has a better material value than black.\"\"\"\n",
    "        # Get the amount of pieces on the board per color \n",
    "        amount_pawn_white   = len(board.pieces(chess.PAWN,   chess.WHITE))\n",
    "        amount_pawn_black   = len(board.pieces(chess.PAWN,   chess.BLACK))\n",
    "        amount_knight_white = len(board.pieces(chess.KNIGHT, chess.WHITE))\n",
    "        amount_knight_black = len(board.pieces(chess.KNIGHT, chess.BLACK))\n",
    "        amount_bishop_white = len(board.pieces(chess.BISHOP, chess.WHITE))\n",
    "        amount_bishop_black = len(board.pieces(chess.BISHOP, chess.BLACK))\n",
    "        amount_rook_white   = len(board.pieces(chess.ROOK,   chess.WHITE))\n",
    "        amount_rook_black   = len(board.pieces(chess.ROOK,   chess.BLACK))\n",
    "        amount_queen_white  = len(board.pieces(chess.QUEEN,  chess.WHITE))\n",
    "        amount_queen_black  = len(board.pieces(chess.QUEEN,  chess.BLACK))\n",
    "        \n",
    "        # Get difference\n",
    "        diff_pawn   = amount_pawn_white   - amount_pawn_black\n",
    "        diff_knight = amount_knight_white - amount_knight_black\n",
    "        diff_bishop = amount_bishop_white - amount_bishop_black\n",
    "        diff_rook   = amount_rook_white   - amount_rook_black\n",
    "        diff_queen  = amount_queen_white  - amount_queen_black\n",
    "        # Calculate material value\n",
    "        return sum([\n",
    "            self.MATERIAL_VALUE_PAWN * diff_pawn,\n",
    "            self.MATERIAL_VALUE_KNIGHT * diff_knight,\n",
    "            self.MATERIAL_VALUE_BISHOP * diff_bishop,\n",
    "            self.MATERIAL_VALUE_ROOK * diff_rook,\n",
    "            self.MATERIAL_VALUE_QUEEN * diff_queen\n",
    "        ])"
   ]
  },
  {
   "cell_type": "code",
   "execution_count": null,
   "metadata": {},
   "outputs": [],
   "source": [
    "board = chess.Board()\n",
    "board.set_fen(\"7B/pbpk4/1p6/2n1pp2/6p1/4P3/P1P2PNP/RNq1K1R1 w - - 0 1\")\n",
    "player = Exercise02AI(\"Testplayer\", 3)\n",
    "player.evaluate(board)"
   ]
  },
  {
   "cell_type": "markdown",
   "metadata": {},
   "source": [
    "## Minimax"
   ]
  },
  {
   "cell_type": "code",
   "execution_count": null,
   "metadata": {},
   "outputs": [],
   "source": [
    "# Debugging start\n",
    "from copy import deepcopy\n",
    "# Debugging end\n",
    "class Exercise02AI(Exercise02AI): # type: ignore\n",
    "    # Debugging start\n",
    "    path_history: dict = {}\n",
    "    # Debugging end\n",
    "    def minimax(self, board: chess.Board, depth: int) -> int:\n",
    "        \"\"\"Searches the best value with given depth using minimax algorithm\"\"\"\n",
    "        if depth == 0 or board.is_checkmate() or board.is_stalemate() or board.is_insufficient_material():\n",
    "            return self.evaluate(board)\n",
    "        \n",
    "\n",
    "        if board.turn:\n",
    "            maxEvaluation = -self.LIMIT\n",
    "            for move in board.legal_moves:\n",
    "                board.push(move)\n",
    "                evaluation = self.minimax(board, depth - 1)\n",
    "                # Debugging start\n",
    "                if maxEvaluation < evaluation:\n",
    "                    board_copy = deepcopy(board)\n",
    "                    board_copy.pop()\n",
    "                    Exercise02AI.path_history[str(board_copy) + str(depth)] = move\n",
    "                # Debugging end\n",
    "                board.pop()\n",
    "                maxEvaluation = max(maxEvaluation, evaluation)\n",
    "            return maxEvaluation\n",
    "        else:\n",
    "            minEvaluation = self.LIMIT\n",
    "            for move in board.legal_moves:\n",
    "                board.push(move)\n",
    "                evaluation = self.minimax(board, depth - 1)\n",
    "                # Debugging start\n",
    "                if minEvaluation > evaluation:\n",
    "                    board_copy = deepcopy(board)\n",
    "                    board_copy.pop()\n",
    "                    Exercise02AI.path_history[str(board_copy) + str(depth)] = move\n",
    "                # Debugging end\n",
    "                board.pop()\n",
    "                minEvaluation = min(minEvaluation, evaluation)\n",
    "            return minEvaluation"
   ]
  },
  {
   "cell_type": "markdown",
   "metadata": {},
   "source": [
    "## Berechnung des besten Zuges"
   ]
  },
  {
   "cell_type": "code",
   "execution_count": null,
   "metadata": {},
   "outputs": [],
   "source": [
    "class Exercise02AI(Exercise02AI): # type: ignore\n",
    "    def best_move(self, board: chess.Board):\n",
    "        \"\"\"Gets the best next move\"\"\"\n",
    "        # Debugging start\n",
    "        Exercise02AI.path_history = {}\n",
    "        # Debugging end\n",
    "        best_move_val = -self.LIMIT if board.turn else self.LIMIT\n",
    "        final_move = None\n",
    "\n",
    "        for move in board.legal_moves:\n",
    "            board.push(move)\n",
    "            move_val = self.minimax(board, self.DEPTH)\n",
    "            if (best_move_val < move_val) != board.turn:\n",
    "                best_move_val = move_val\n",
    "                final_move = move\n",
    "            board.pop()\n",
    "        return final_move"
   ]
  },
  {
   "cell_type": "code",
   "execution_count": null,
   "metadata": {},
   "outputs": [],
   "source": [
    "# Debugging function\n",
    "from IPython.display import display\n",
    "def display_path(board_orig, move, depth):\n",
    "    board = deepcopy(board_orig)\n",
    "    display(board)\n",
    "    board.push(move)\n",
    "    display(board)\n",
    "    for i in range(depth, 0, -1):\n",
    "        move = Exercise02AI.path_history[str(board) + str(i)]\n",
    "        board.push(move)\n",
    "        display(board)"
   ]
  },
  {
   "cell_type": "code",
   "execution_count": null,
   "metadata": {
    "scrolled": true
   },
   "outputs": [],
   "source": [
    "DEPTH = 3\n",
    "board = chess.Board()\n",
    "board.set_fen(\"4k3/8/2n5/7K/5q2/2N5/8/2B5 b - - 0 1\")\n",
    "player = Exercise02AI(\"Testplayer\", DEPTH)\n",
    "#print(player.minimax(board, DEPTH))\n",
    "move = player.best_move(board)\n",
    "print(move)\n",
    "display_path(board, move, DEPTH)"
   ]
  }
 ],
 "metadata": {
  "kernelspec": {
   "display_name": "Python 3 (ipykernel)",
   "language": "python",
   "name": "python3"
  },
  "language_info": {
   "codemirror_mode": {
    "name": "ipython",
    "version": 3
   },
   "file_extension": ".py",
   "mimetype": "text/x-python",
   "name": "python",
   "nbconvert_exporter": "python",
   "pygments_lexer": "ipython3",
   "version": "3.10.1"
  }
 },
 "nbformat": 4,
 "nbformat_minor": 2
}
