{
 "cells": [
  {
   "cell_type": "code",
   "execution_count": null,
   "metadata": {},
   "outputs": [],
   "source": [
    "%%html\n",
    "<style>\n",
    ".container {\n",
    "  width: 100%;\n",
    "}\n",
    "</style>"
   ]
  },
  {
   "cell_type": "code",
   "execution_count": null,
   "metadata": {},
   "outputs": [],
   "source": [
    "%load_ext nb_mypy"
   ]
  },
  {
   "cell_type": "code",
   "execution_count": null,
   "metadata": {},
   "outputs": [],
   "source": [
    "import nbimporter\n",
    "from AIBaseClass import ChessAI\n",
    "from Exercise03AI import Exercise03AI\n",
    "from Exercise02AI import display_path"
   ]
  },
  {
   "cell_type": "markdown",
   "metadata": {},
   "source": [
    "# Aufgabe 04: Minimax (Simplified Evaluation Function) mit Memoisierung\n",
    "\n",
    "Dieses Notebook implementiert die Memoisierungsfunktion für den Minimax-Algorithmus zur Berechnung des nächsten Zuges im Mittelspiel. Hierbei wird die `minimax`-Funktion der Super-Klasse (`Exercise03AI`) aufgerufen und durch die nun implementierte Memoisierung beschleunigt."
   ]
  },
  {
   "cell_type": "code",
   "execution_count": null,
   "metadata": {},
   "outputs": [],
   "source": [
    "import chess_custom as chess\n",
    "\n",
    "class Exercise04AI(Exercise03AI):\n",
    "    \"\"\"Chooses middle game moves using minimax algorithm and piece square tables\"\"\"\n",
    "    def __init__(self, player_name: str, search_depth: int = 3) -> None:\n",
    "        super().__init__(player_name, search_depth)\n",
    "        self.cache: dict[tuple, Any] = {}\n",
    "        self.cache_hits = 0\n",
    "    \n",
    "    def reset(self) -> None:\n",
    "        \"\"\"Resets all internal variables\"\"\"\n",
    "        super().reset()\n",
    "        self.cache = {}\n",
    "        self.cache_hits = 0"
   ]
  },
  {
   "cell_type": "markdown",
   "metadata": {},
   "source": [
    "## Memoisierungsfunktion\n",
    "\n",
    "Die Klasse wird um eine Variable `cache` erweitert. Initial ist `cache` ein leeres Dictionary, welches als Schlüssel ein Tupel annimmt und als Wert ein beliebiges Objekt zurückgibt.\n",
    "\n",
    "Die Memoisierungsfunktion `memoize_minimax` nimmt die Minimax-Funktion `minimax` als Argument und gibt eine memoisierte Version `minimax_memoized` dieser Funktion zurück.\n",
    "\n",
    "Die memoisierte Funktion `minimax_memoized` versucht zunächst, den Rückgabewert der Ursprungsfunktion aus dem `cache` auszulesen. Dabei werden als Schlüssel die  Funktionsargumente zusammen mit weiteren Attributen verwendet. Beinhaltet der `cache` ein Ergebnis für die gegebenen Argumente `args`, so wird dieses zurückgegeben. Andernfalls wird die Ursprungsfunktion `f` aufgerufen, der Rückgabewert wird für die verwendeten Argumente im `cache` hinterlegt und schlussendlich wird der berechnete Wert zurückgegeben.\n",
    "\n",
    "### Cache-Schlüssel\n",
    "\n",
    "Eine wichtige Rolle spielt der Key, welcher für die Speicherung bereits berechneter Ergebnisse im `cache`-Dictionary verwendet wird. Um den Cache möglichst effektiv nutzen zu können, sollten nur die Attribute in die Berechnung des Schlüssels miteinbezogen werden, welche auch durch den Minimax-Algorithmus verwendet werden und sich im Laufe des Spieles verändern. Die Funktion `get_key` berechnet den Cache-Schlüssel und gibt ein Tupel mit den folgenden Elementen zurück:\n",
    "- Ein sog. Transpositions-Schlüssel, d. h. eine Repräsentation des aktuellen Boards. Dieser Schlüssel enthält jeweils eine Bitmap pro Farbe (definiert Farbe und Position der Figuren), eine Bitmap pro Figurentyp, einen boolean für den aktuellen Spieler, eine Bitmap für die Rochaderechte und eine Bitmap für die möglichen En-passant-Züge.\n",
    "- Die Anzahl der bisher bekannten Transpositionen zu dieser Stellung, d. h. wie oft sich die aktuelle Stellung bereits im Spielverlauf wiederholt hat. Zwei Stellungen gelten dann als gleich, wenn ihre Transpositions-Schlüssel dieselben sind. Dieses Attribut wird benötigt um ein unbeabsichtigtes Remis durch fünfmalige Zugwiederholung (`fivefold-repetition`) zu verhindern.\n",
    "- Der Zähler der Halbzüge seit dem letzten Bauernzug oder Schlagen einer Figur. Dieses Attribut wird benötigt um ein unabsichtliches Remis durch die 50-Züge-Regel (`fifty-move`) zu verhindern. Aus Effizienzgründen wird der Zähler nur dann inkludiert wenn er für die Berechnung relevant ist, d. h. ein solches Remis mit der aktuellen Tiefe auftreten kann. Ansonsten wird der statische Wert `-42` verwendet.\n",
    "- Die aktuelle Suchtiefe der Evaluierung.\n",
    "\n",
    "*Hinweis:* Das Argument `last_eval` der Minimax-Funktion wird nicht als Cache-Schlüssel verwendet, da es direkt vom Transpositions-Schlüssel abhängt.\n",
    "\n",
    "Die Funktion `memoize_minimax` wird als _Decorator_ auf die `minimax` Funktion angewendet.\n",
    "\n",
    "### Seiteneffekte\n",
    "\n",
    "In Ausnahmefällen kann die hier genutze Memoisierung von Minimax zu einer anderen Evaluierung und damit zu einer anderen Zugentscheidung führen. Dies ist dem Umstand geschuldet, dass ein Ergebnis aus dem Cache mit einer älteren Transpositionstabelle berechnet wurde und eine der ausgewerteten Stellungen nun mittlerweile möglicherweise als Remis gewertet werden müsste. Im schlimmsten Fall kann dieser Umstand zu einem unbeabsichtigten Remis führen, im besten Fall führt er nur zu einer leicht anderen Zugfolge mit demselben Spielausgang. Dieses Problem tritt allerdings sehr selten auf: Innerhalb von 540 Test-Spielen gegen andere AI-Versionen konnte nur bei einem Spiel eine andere Zugreihenfolge (mit demselben Spielergebnis) beobachtet werden. Die meisten Transpositionen treten in kurzer Folge (oft mit einer Länge von 4 Halbzügen) auf. Diese werden dann durch den veränderten Cache-Schlüssel zuverlässig erkannt, wordurch ein unabsichtliches Remis durch eine fünfmalige Zugwiederholung verhindert wird.\n",
    "Eine allgemeine Lösung für diese Problem besteht darin, die gesamte Transpositionstabelle als Bestandteil des Cache-Schlüssels zu verwenden. Dies führt aber dazu, dass der Cache dann nur sehr selten verwendet werden kann und die Geschwindigkeitsvorteile der Memoisierung nahezu vollständig verloren gehen. Diese Probleme bei der Memoisierung werden u. a. in dem letzten Absatz [dieses Wikipedia-Abschnitts](https://en.wikipedia.org/wiki/Transposition_table#Functionality) treffend zusammengefasst:\n",
    "> \"[The] Use of a transposition table can lead to incorrect results if the graph-history interaction problem is not studiously avoided. This problem arises in certain games because the history of a position may be important. [...] Another examplen [in chess] is draw by repetition: given a position, it may not be possible to determine whether it has already occurred. A solution to the general problem is to store history information in each node of the transposition table, but this is inefficient and rarely done in practice.\"\n",
    "\n",
    "Eine weitere Diskussion des Problems findet sich in [diesem Stack Overflow-Beitrag](https://stackoverflow.com/questions/69372792/chess-programming-minimax-detecting-repeats-transposition-tables)."
   ]
  },
  {
   "cell_type": "code",
   "execution_count": null,
   "metadata": {},
   "outputs": [],
   "source": [
    "from typing import Any\n",
    "\n",
    "class Exercise04AI(Exercise04AI): # type: ignore\n",
    "    \n",
    "    @staticmethod\n",
    "    def get_key(board: chess.Board, depth: int) -> tuple:\n",
    "        \"\"\"Calculates a key that uniquely identifies a given board\"\"\"\n",
    "        return (\n",
    "            (key := board._transposition_key()),\n",
    "            board._transposition_table[key],\n",
    "            board.halfmove_clock if board.halfmove_clock >= (50 - depth) else -42,\n",
    "            depth\n",
    "        )\n",
    "    \n",
    "    @staticmethod\n",
    "    def memoize_minimax(minimax):\n",
    "        def minimax_memoized(self, board: chess.Board, depth: int, last_eval: int):\n",
    "            key = Exercise04AI.get_key(board, depth)\n",
    "            if key in self.cache:\n",
    "                self.cache_hits += 1\n",
    "                return self.cache[key]\n",
    "            result = minimax(self, board, depth, last_eval)\n",
    "            self.cache[key] = result\n",
    "            return result\n",
    "\n",
    "        return minimax_memoized\n",
    "    \n",
    "    @memoize_minimax\n",
    "    def minimax(self, *args) -> int:\n",
    "        \"\"\"Memoized version of the Exercise03AI minimax implementation\"\"\"\n",
    "        return super().minimax(*args)"
   ]
  },
  {
   "cell_type": "markdown",
   "metadata": {},
   "source": [
    "## Debugging Bereich\n",
    "\n",
    "Die folgenden Zellen enthalten Code zum Testen der oben implementierten Funktionen."
   ]
  },
  {
   "cell_type": "code",
   "execution_count": null,
   "metadata": {},
   "outputs": [],
   "source": [
    "%%time\n",
    "DEPTH = 3\n",
    "board = chess.Board()\n",
    "#board.set_fen(\"4k3/8/2n5/7K/5q2/2N5/8/2B5 b - - 0 1\")\n",
    "player = Exercise04AI(\"Testplayer\", DEPTH)\n",
    "for _ in range(10):\n",
    "    board.push(sorted(board.legal_moves, key=lambda move: move.uci())[0])\n",
    "    move = player.get_next_middle_game_move(board)\n",
    "    print(move)"
   ]
  },
  {
   "cell_type": "code",
   "execution_count": null,
   "metadata": {},
   "outputs": [],
   "source": [
    "from os.path import join\n",
    "\n",
    "with open(join(\"..\", \"games\", \"2022-01-15_20-18-57-907777.pgn\")) as pgn:\n",
    "    first_game = chess.pgn.read_game(pgn)\n",
    "\n",
    "# Iterate through all moves and play them on a board.\n",
    "board = first_game.board()\n",
    "for move in first_game.mainline_moves():\n",
    "    board.push(move)\n",
    "for i in range(220):\n",
    "    board.pop()"
   ]
  },
  {
   "cell_type": "code",
   "execution_count": null,
   "metadata": {},
   "outputs": [],
   "source": [
    "%%time\n",
    "DEPTH = 2\n",
    "#board = chess.Board()\n",
    "#board.set_fen(\"4k3/8/2n5/7K/5q2/2N5/8/2B5 b - - 0 1\")\n",
    "player = Exercise04AI(\"Testplayer\", DEPTH)\n",
    "#print(player.minimax(board, DEPTH))\n",
    "move = player.get_next_middle_game_move(board)\n",
    "print(move)\n",
    "player.cache_hits"
   ]
  },
  {
   "cell_type": "code",
   "execution_count": null,
   "metadata": {
    "scrolled": true
   },
   "outputs": [],
   "source": [
    "%%time\n",
    "DEPTH = 3\n",
    "board = chess.Board(\"4k3/8/2n5/7K/5q2/2N5/8/2B5 b - - 0 1\")\n",
    "player = Exercise04AI(\"Testplayer\", DEPTH)\n",
    "#print(player.minimax(board, DEPTH))\n",
    "move = player.get_next_middle_game_move(board)\n",
    "print(move)\n",
    "display_path(board, move, DEPTH)"
   ]
  },
  {
   "cell_type": "code",
   "execution_count": null,
   "metadata": {},
   "outputs": [],
   "source": [
    "board = chess.Board(\"7B/pbpk4/1p6/2n1pp2/6p1/4P3/P1P2PNP/RNq1K1R1 w - - 0 1\")\n",
    "player = Exercise04AI(\"Testplayer\", 3)\n",
    "print(player.evaluate(board))\n",
    "board"
   ]
  }
 ],
 "metadata": {
  "kernelspec": {
   "display_name": "Python 3 (ipykernel)",
   "language": "python",
   "name": "python3"
  },
  "language_info": {
   "codemirror_mode": {
    "name": "ipython",
    "version": 3
   },
   "file_extension": ".py",
   "mimetype": "text/x-python",
   "name": "python",
   "nbconvert_exporter": "python",
   "pygments_lexer": "ipython3",
   "version": "3.10.2"
  }
 },
 "nbformat": 4,
 "nbformat_minor": 2
}
