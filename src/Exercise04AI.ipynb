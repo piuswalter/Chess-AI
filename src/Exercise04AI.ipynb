{
 "cells": [
  {
   "cell_type": "code",
   "execution_count": null,
   "metadata": {},
   "outputs": [],
   "source": [
    "%%html\n",
    "<style>\n",
    ".container {\n",
    "  width: 100%;\n",
    "}\n",
    "</style>"
   ]
  },
  {
   "cell_type": "code",
   "execution_count": null,
   "metadata": {},
   "outputs": [],
   "source": [
    "%load_ext nb_black\n",
    "%load_ext nb_mypy"
   ]
  },
  {
   "cell_type": "code",
   "execution_count": null,
   "metadata": {},
   "outputs": [],
   "source": [
    "import nbimporter\n",
    "from Exercise03AI import Exercise03AI"
   ]
  },
  {
   "cell_type": "markdown",
   "metadata": {},
   "source": [
    "# Aufgabe 04: Minimax (Simplified Evaluation Function) mit Memoisierung\n",
    "\n",
    "Dieses Notebook implementiert die Memoisierungsfunktion für den Minimax-Algorithmus zur Berechnung des nächsten Zuges im Mittelspiel. Hierbei wird die `minimax`-Funktion der Super-Klasse (`Exercise03AI`) aufgerufen und durch die nun implementierte Memoisierung beschleunigt."
   ]
  },
  {
   "cell_type": "code",
   "execution_count": null,
   "metadata": {},
   "outputs": [],
   "source": [
    "import chess_custom as chess\n",
    "\n",
    "\n",
    "class Exercise04AI(Exercise03AI):\n",
    "    \"\"\"Chooses middle game moves using minimax algorithm and piece square tables\"\"\"\n",
    "\n",
    "    def __init__(self, **kwargs) -> None:\n",
    "        super().__init__(**kwargs)\n",
    "        self.cache: dict[tuple, Any] = {}\n",
    "        self.cache_hits = 0\n",
    "\n",
    "    def reset(self) -> None:\n",
    "        \"\"\"Resets all internal variables\"\"\"\n",
    "        super().reset()\n",
    "        self.cache = {}\n",
    "        self.cache_hits = 0"
   ]
  },
  {
   "cell_type": "markdown",
   "metadata": {},
   "source": [
    "## Memoisierungsfunktion\n",
    "\n",
    "Die Klasse wird um eine Variable `cache` erweitert. Initial ist `cache` ein leeres Dictionary, welches als Schlüssel ein Tupel annimmt und als Wert ein beliebiges Objekt zurückgibt.\n",
    "\n",
    "Die Memoisierungsfunktion `memoize_minimax` nimmt die Minimax-Funktion `minimax` als Argument und gibt eine memoisierte Version `minimax_memoized` dieser Funktion zurück.\n",
    "\n",
    "Die memoisierte Funktion `minimax_memoized` versucht zunächst, den Rückgabewert der Ursprungsfunktion aus dem `cache` auszulesen. Dabei werden als Schlüssel die  Funktionsargumente zusammen mit weiteren Attributen verwendet. Beinhaltet der `cache` ein Ergebnis für die gegebenen Argumente `args`, so wird dieses zurückgegeben. Andernfalls wird die Ursprungsfunktion `f` aufgerufen, der Rückgabewert wird für die verwendeten Argumente im `cache` hinterlegt und schlussendlich wird der berechnete Wert zurückgegeben.\n",
    "\n",
    "### Cache-Schlüssel\n",
    "\n",
    "Eine wichtige Rolle spielt der Key, welcher für die Speicherung bereits berechneter Ergebnisse im `cache`-Dictionary verwendet wird. Um den Cache möglichst effektiv nutzen zu können, sollten nur die Attribute in die Berechnung des Schlüssels miteinbezogen werden, welche auch durch den Minimax-Algorithmus verwendet werden und sich im Laufe des Spieles verändern. Die Funktion `get_key` berechnet den Cache-Schlüssel und gibt ein Tupel mit den folgenden Elementen zurück:\n",
    "- Ein sog. Transpositions-Schlüssel, d. h. eine Repräsentation des aktuellen Boards. Dieser Schlüssel enthält jeweils eine Bitmap pro Farbe (definiert Farbe und Position der Figuren), eine Bitmap pro Figurentyp, einen boolean für den aktuellen Spieler, eine Bitmap für die Rochaderechte und eine Bitmap für die möglichen En-passant-Züge.\n",
    "- Die Anzahl der bisher bekannten Transpositionen zu dieser Stellung, d. h. wie oft sich die aktuelle Stellung bereits im Spielverlauf wiederholt hat. Zwei Stellungen gelten dann als gleich, wenn ihre Transpositions-Schlüssel dieselben sind. Dieses Attribut wird benötigt um ein unbeabsichtigtes Remis durch fünfmalige Zugwiederholung (`fivefold-repetition`) zu verhindern.\n",
    "- Der Zähler der Halbzüge seit dem letzten Bauernzug oder Schlagen einer Figur. Dieses Attribut wird benötigt um ein unabsichtliches Remis durch die 50-Züge-Regel (`fifty-move`) zu verhindern. Aus Effizienzgründen wird der Zähler nur dann inkludiert wenn er für die Berechnung relevant ist, d. h. ein solches Remis mit der aktuellen Tiefe auftreten kann. Ansonsten wird der statische Wert `-42` verwendet.\n",
    "- Die aktuelle Suchtiefe der Evaluierung.\n",
    "\n",
    "*Hinweis:* Das Argument `last_eval` der Minimax-Funktion wird nicht als Cache-Schlüssel verwendet, da es direkt vom Transpositions-Schlüssel abhängt.\n",
    "\n",
    "Die Funktion `memoize_minimax` wird als _Decorator_ auf die `minimax` Funktion angewendet.\n",
    "\n",
    "### Seiteneffekte\n",
    "\n",
    "In Ausnahmefällen kann die hier genutze Memoisierung von Minimax zu einer anderen Evaluierung und damit zu einer anderen Zugentscheidung führen. Dies ist dem Umstand geschuldet, dass ein Ergebnis aus dem Cache mit einer älteren Transpositionstabelle berechnet wurde und eine der ausgewerteten Stellungen nun mittlerweile möglicherweise als Remis gewertet werden müsste. Im schlimmsten Fall kann dieser Umstand zu einem unbeabsichtigten Remis führen, im besten Fall führt er nur zu einer leicht anderen Zugfolge mit demselben Spielausgang. Dieses Problem tritt allerdings sehr selten auf: Innerhalb von 540 Test-Spielen gegen andere AI-Versionen konnte nur bei einem Spiel eine andere Zugreihenfolge (mit demselben Spielergebnis) beobachtet werden. Die meisten Transpositionen treten in kurzer Folge (oft mit einer Länge von 4 Halbzügen) auf. Diese werden dann durch den veränderten Cache-Schlüssel zuverlässig erkannt, wordurch ein unabsichtliches Remis durch eine fünfmalige Zugwiederholung verhindert wird.\n",
    "Eine allgemeine Lösung für diese Problem besteht darin, die gesamte Transpositionstabelle als Bestandteil des Cache-Schlüssels zu verwenden. Dies führt aber dazu, dass der Cache dann nur sehr selten verwendet werden kann und die Geschwindigkeitsvorteile der Memoisierung nahezu vollständig verloren gehen. Diese Probleme bei der Memoisierung werden u. a. in dem letzten Absatz [dieses Wikipedia-Abschnitts](https://en.wikipedia.org/wiki/Transposition_table#Functionality) treffend zusammengefasst:\n",
    "> \"[The] Use of a transposition table can lead to incorrect results if the graph-history interaction problem is not studiously avoided. This problem arises in certain games because the history of a position may be important. [...] Another examplen [in chess] is draw by repetition: given a position, it may not be possible to determine whether it has already occurred. A solution to the general problem is to store history information in each node of the transposition table, but this is inefficient and rarely done in practice.\"\n",
    "\n",
    "Eine weitere Diskussion des Problems findet sich in [diesem Stack Overflow-Beitrag](https://stackoverflow.com/questions/69372792/chess-programming-minimax-detecting-repeats-transposition-tables)."
   ]
  },
  {
   "cell_type": "code",
   "execution_count": null,
   "metadata": {},
   "outputs": [],
   "source": [
    "from typing import Any\n",
    "\n",
    "\n",
    "class Exercise04AI(Exercise04AI):  # type: ignore\n",
    "    @staticmethod\n",
    "    def get_key(board: chess.Board, depth: int) -> tuple:\n",
    "        \"\"\"Calculates a key that uniquely identifies a given board\"\"\"\n",
    "        return (\n",
    "            (key := board._transposition_key()),\n",
    "            board._transposition_table[key],\n",
    "            board.halfmove_clock if board.halfmove_clock >= (50 - depth) else -42,\n",
    "            depth,\n",
    "        )\n",
    "\n",
    "    @staticmethod\n",
    "    def memoize_minimax(minimax):\n",
    "        def minimax_memoized(\n",
    "            self, board: chess.Board, depth: int, current_evaluation: int\n",
    "        ):\n",
    "            key = Exercise04AI.get_key(board, depth)\n",
    "            if key in self.cache:\n",
    "                self.cache_hits += 1\n",
    "                return self.cache[key]\n",
    "            result = minimax(self, board, depth, current_evaluation)\n",
    "            self.cache[key] = result\n",
    "            return result\n",
    "\n",
    "        return minimax_memoized\n",
    "\n",
    "    @memoize_minimax\n",
    "    def minimax(self, *args) -> int:\n",
    "        \"\"\"Memoized version of the Exercise03AI minimax implementation\"\"\"\n",
    "        return super().minimax(*args)"
   ]
  },
  {
   "cell_type": "markdown",
   "metadata": {},
   "source": [
    "## Debugging Bereich\n",
    "\n",
    "Die folgenden Zellen enthalten Unit-Tests der oben implementierten Funktionen."
   ]
  },
  {
   "cell_type": "code",
   "execution_count": null,
   "metadata": {},
   "outputs": [],
   "source": [
    "from AIBaseClass import ChessAI\n",
    "import Exercise03AI"
   ]
  },
  {
   "cell_type": "code",
   "execution_count": null,
   "metadata": {},
   "outputs": [],
   "source": [
    "# Create player and board\n",
    "unit_test_player = Exercise04AI(player_name=\"Ex04AI\", search_depth=2)\n",
    "board = chess.Board(\"5rk1/1b3p2/8/3p4/3p2P1/2Q4B/5P1K/R3R3 b - - 0 36\")\n",
    "FULL_EVAL = 1240\n",
    "board"
   ]
  },
  {
   "cell_type": "code",
   "execution_count": null,
   "metadata": {},
   "outputs": [],
   "source": [
    "# Test key generation\n",
    "def test_key_generation(unit_test_player: ChessAI, board: chess.Board):\n",
    "    key = Exercise04AI.get_key(board, depth=42)\n",
    "    (transposition_key, transpositions, half_moves_key, depth) = key\n",
    "    assert transpositions == 0, \"Transpositions does not match expected value!\"\n",
    "    assert half_moves_key == -42, \"Half moves key does not match expected value!\"\n",
    "    assert depth == 42, \"Depth does not match expected value!\"\n",
    "    print(f\"Transposition Key: {transposition_key}\")\n",
    "    print(f\"Transpositions: {transpositions}\")\n",
    "    print(f\"Half moves key: {half_moves_key}\")\n",
    "    print(f\"Depth: {depth}\")"
   ]
  },
  {
   "cell_type": "code",
   "execution_count": null,
   "metadata": {},
   "outputs": [],
   "source": [
    "# Test minimax\n",
    "def test_minimax(unit_test_player: ChessAI, board: chess.Board):\n",
    "    unit_test_player.cache = {}  # Clear cache\n",
    "    Exercise03AI.test_minimax(unit_test_player, board)\n",
    "    assert unit_test_player.cache != {}, \"Cache is empty!\"\n",
    "    print(f\"Elements in cache: {len(unit_test_player.cache)}\")"
   ]
  },
  {
   "cell_type": "code",
   "execution_count": null,
   "metadata": {},
   "outputs": [],
   "source": [
    "test_minimax(unit_test_player, board)"
   ]
  },
  {
   "cell_type": "code",
   "execution_count": null,
   "metadata": {},
   "outputs": [],
   "source": [
    "# Test minimax again (now memoized)\n",
    "def test_memoized_minimax(unit_test_player: ChessAI, board: chess.Board):\n",
    "    unit_test_player.cache_hits = 0  # Reset cache hits counter\n",
    "    mm_evaluation, mm_move = unit_test_player.minimax(board, 2, FULL_EVAL)\n",
    "    assert mm_evaluation == 355, \"Minimax evaluation does not match expected value!\"\n",
    "    assert mm_move.uci() == \"d4c3\", \"Minimax move does not match expected value!\"\n",
    "    assert unit_test_player.cache_hits == 1, \"Cache was not used correctly!\"\n",
    "    print(f\"Minimax Evaluation: {mm_evaluation}\")\n",
    "    print(f\"Minimax Move: {mm_move}\")\n",
    "    print(f\"Cache hits: {unit_test_player.cache_hits}\")"
   ]
  },
  {
   "cell_type": "code",
   "execution_count": null,
   "metadata": {},
   "outputs": [],
   "source": [
    "# Test next move function (with memoized minimax result)\n",
    "Exercise03AI.test_next_move(unit_test_player, board)"
   ]
  },
  {
   "cell_type": "code",
   "execution_count": null,
   "metadata": {},
   "outputs": [],
   "source": [
    "# Test reset function\n",
    "def test_reset(unit_test_player: ChessAI, _: chess.Board):\n",
    "    Exercise03AI.test_reset(unit_test_player, board)\n",
    "    assert unit_test_player.cache == {}, \"Reset was not successful! (cache)\"\n",
    "    assert unit_test_player.cache_hits == 0, \"Reset was not successful! (cache_hits)\""
   ]
  },
  {
   "cell_type": "code",
   "execution_count": null,
   "metadata": {},
   "outputs": [],
   "source": [
    "test_reset(unit_test_player, board)"
   ]
  },
  {
   "cell_type": "markdown",
   "metadata": {},
   "source": [
    "## Temporärer Bereich\n",
    "\n",
    "Der folgende Bereich dient zum temporären Debuggen und kann nicht-funktionierenden Code enthalten. Dieser Bereich wird vor der Abgabe entfernt."
   ]
  },
  {
   "cell_type": "code",
   "execution_count": null,
   "metadata": {},
   "outputs": [],
   "source": []
  }
 ],
 "metadata": {
  "kernelspec": {
   "display_name": "Python 3 (ipykernel)",
   "language": "python",
   "name": "python3"
  },
  "language_info": {
   "codemirror_mode": {
    "name": "ipython",
    "version": 3
   },
   "file_extension": ".py",
   "mimetype": "text/x-python",
   "name": "python",
   "nbconvert_exporter": "python",
   "pygments_lexer": "ipython3",
   "version": "3.10.2"
  }
 },
 "nbformat": 4,
 "nbformat_minor": 2
}
