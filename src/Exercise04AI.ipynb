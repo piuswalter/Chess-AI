{
 "cells": [
  {
   "cell_type": "code",
   "execution_count": null,
   "metadata": {},
   "outputs": [],
   "source": [
    "%%html\n",
    "<style>\n",
    ".container {\n",
    "  width: 100%;\n",
    "}\n",
    "</style>"
   ]
  },
  {
   "cell_type": "code",
   "execution_count": null,
   "metadata": {},
   "outputs": [],
   "source": [
    "%load_ext nb_black\n",
    "%load_ext nb_mypy"
   ]
  },
  {
   "cell_type": "code",
   "execution_count": null,
   "metadata": {},
   "outputs": [],
   "source": [
    "import nbimporter\n",
    "from Exercise03AI import Exercise03AI"
   ]
  },
  {
   "cell_type": "markdown",
   "metadata": {},
   "source": [
    "# Aufgabe 04: Minimax (Simplified Evaluation Function) mit Memoisierung\n",
    "\n",
    "Dieses Notebook implementiert die Memoisierungsfunktion für den Minimax-Algorithmus zur Berechnung des nächsten Zuges im Mittelspiel. Hierbei wird die `minimax`-Funktion der Super-Klasse (`Exercise03AI`) aufgerufen und durch die nun implementierte Memoisierung beschleunigt.\n",
    "\n",
    "Wie auch schon in `Exercise03AI` existiert eine Funktion `reset`, die dazu dient, die Instanz nach einem beendeten Spiel in ihren Ursprungszustand zurückzusetzen. Diese hat dieselbe Funktion wie die der Elternklasse, leert zusätzlich aber noch den implementierten Cache."
   ]
  },
  {
   "cell_type": "code",
   "execution_count": null,
   "metadata": {},
   "outputs": [],
   "source": [
    "import chess\n",
    "from typing import Any\n",
    "\n",
    "\n",
    "class Exercise04AI(Exercise03AI):\n",
    "    \"\"\"Chooses middle game moves using minimax algorithm and piece square tables.\"\"\"\n",
    "\n",
    "    def __init__(self, **kwargs) -> None:\n",
    "        super().__init__(**kwargs)\n",
    "        self.cache: dict[tuple, tuple[int, chess.Move]] = {}\n",
    "\n",
    "    def reset(self) -> None:\n",
    "        \"\"\"Resets all internal variables.\"\"\"\n",
    "        super().reset()\n",
    "        self.cache.clear()"
   ]
  },
  {
   "cell_type": "markdown",
   "metadata": {},
   "source": [
    "## Memoisierung\n",
    "\n",
    "Wie auch in anderen Spielen kann im Schach eine Position mehrfach auftreten. Die Sequenz von Zügen welche zu einer solchen Position führt, wird Transposition genannt [3]. In diesem Fall gibt es eine andere Sequenz welche zu derselben Position führt. Hieraus folgt, dass es weniger eindeutige Positionen als verschiedene Spielsequenzen gibt.  Dieser Umstand kann nun genutzt werden, um die Anzahl der zu untersuchenden Knoten im Suchbaum durch die sog. Memoisierung zu verringern [2]. Hierbei wird das Ergebnis von jedem berechneten Knoten mit der ausgehenden Position und der Suchtiefe als Identifikator in einem Cache gespeichert. Wenn bei der Berechnung nun dieselbe Position erneut auftritt und die Suchtiefe ebenfalls übereinstimmt, kann das Ergebnis aus dem Cache verwendet werden und wird nicht neu berechnet. Dieses Vorgehen beschleunigt die Suche insgesamt, da nun weniger Knoten untersucht werden müssen, führt aber auch zu einem höheren Speicherverbrauch.\n",
    "\n",
    "## Memoisierungsfunktion\n",
    "\n",
    "Die Klasse wird um eine Variable `cache` erweitert. Initial ist `cache` ein leeres Dictionary, welches als Schlüssel ein Tupel annimmt und als Wert ein beliebiges Objekt zurückgibt.\n",
    "\n",
    "Die Funktion `minimax` wird überschrieben und stellt eine memoisierte Version der Minimax-Implementierung in `Exercise03AI` dar. \n",
    "\n",
    "Die memoisierte `minimax` Funktion versucht zunächst, den Rückgabewert der Ursprungsfunktion aus dem `cache` auszulesen. Dabei werden als Schlüssel die  Funktionsargumente zusammen mit weiteren Attributen verwendet. Beinhaltet der `cache` ein Ergebnis für die gegebenen Argumente `args`, so wird dieses zurückgegeben. Andernfalls wird die `minimax` Funktion der Elternklasse aufgerufen, der Rückgabewert wird für die verwendeten Argumente im `cache` hinterlegt und schlussendlich wird der berechnete Wert zurückgegeben.  \n",
    "Der Cache wird bei jedem Bauernzug, Schlagen einer Figur und veränderten Rochade- oder En Passant-Rechten zurückgesetzt, da in diesem Fall die zuvor berechneten Stellungen nicht wieder auftreten können.\n",
    "\n",
    "### Cache-Schlüssel\n",
    "\n",
    "Eine wichtige Rolle spielt der Key, welcher für die Speicherung bereits berechneter Ergebnisse im `cache`-Dictionary verwendet wird. Um den Cache möglichst effektiv nutzen zu können, sollten nur die Attribute in die Berechnung des Schlüssels miteinbezogen werden, welche auch durch den Minimax-Algorithmus verwendet werden und sich im Laufe des Spieles verändern. Die Funktion `get_key` berechnet den Cache-Schlüssel und gibt ein Tupel mit den folgenden Elementen zurück:\n",
    "\n",
    "- Eine Repräsentation des aktuellen Boards mit folgenden Informationen. Eine Bitmap für jede auf dem Spielfeld platzierten Figuren pro Figurentyp sowie eine allgemeine Bitmap aller durch die Farbe unterschiedenen besetzten Felder, einen Boolean für den aktuellen Spieler und eine Bitmap für die Rochaderechte.\n",
    "- Der Zähler der Halbzüge seit dem letzten Bauernzug oder Schlagen einer Figur. Dieses Attribut wird benötigt um ein unbeabsichtigtes Remis durch die 50-Züge-Regel (Fifty-move rule) zu verhindern. Aus Effizienz-Gründen wird der Zähler nur dann inkludiert, wenn er für die Berechnung relevant ist, das heißt ein solches Remis mit der aktuellen Tiefe auftreten kann. Ansonsten wird der statische Wert `-42` verwendet.\n",
    "- Die aktuelle Suchtiefe der Evaluierung.\n",
    "\n",
    "### Seiteneffekte\n",
    "\n",
    "In einigen Fällen kann die hier genutze Memoisierung des Minimax zu einer anderen Evaluierung und damit zu einer anderen Zugentscheidung führen. Dies ist dem Umstand geschuldet, dass ein Ergebnis aus dem Cache mit einer älteren Transpositionstabelle berechnet wurde und eine der ausgewerteten Stellungen nun mittlerweile möglicherweise als Remis gewertet werden müsste. Im schlimmsten Fall kann dieser Umstand zu einem unbeabsichtigten Remis führen, im besten Fall führt er nur zu einer leicht anderen Zugfolge mit demselben Spielausgang.\n",
    "Eine allgemeine Lösung für diese Problem besteht darin, die gesamte Transpositionstabelle als Bestandteil des Cache-Schlüssels zu verwenden. Dies führt aber dazu, dass der Cache dann nur sehr selten verwendet werden kann und die Geschwindigkeitsvorteile der Memoisierung nahezu vollständig verloren gehen. Diese Probleme bei der Memoisierung werden in [4] treffend zusammengefasst:\n",
    "> \"[The] Use of a transposition table can lead to incorrect results if the graph-history interaction problem is not studiously avoided. This problem arises in certain games because the history of a position may be important. [...] Another example [in chess] is draw by repetition: given a position, it may not be possible to determine whether it has already occurred. A solution to the general problem is to store history information in each node of the transposition table, but this is inefficient and rarely done in practice.\"[4]\n",
    "\n",
    "Eine weitere Diskussion des Problems findet sich in [5]. In dieser Implementierung wird das Problem bewusst in Kauf genommen, um die Suchgeschwindigkeit zu erhöhen. In der Praxis tritt dieses Problem hauptsächlich gegen andere KI-Versionen auf, da ein Mensch eine Zugwiederholung von Natur aus eher vermeidet."
   ]
  },
  {
   "cell_type": "code",
   "execution_count": null,
   "metadata": {},
   "outputs": [],
   "source": [
    "from typing import Any\n",
    "import sys\n",
    "\n",
    "\n",
    "class Exercise04AI(Exercise04AI):  # type: ignore\n",
    "    @staticmethod\n",
    "    def get_key(board: chess.Board, depth: int) -> tuple:\n",
    "        \"\"\"Calculates a key that uniquely identifies a given board.\"\"\"\n",
    "        return (\n",
    "            board.pawns,\n",
    "            board.knights,\n",
    "            board.bishops,\n",
    "            board.rooks,\n",
    "            board.queens,\n",
    "            board.kings,\n",
    "            board.occupied_co[chess.WHITE],\n",
    "            board.occupied_co[chess.BLACK],\n",
    "            board.turn,\n",
    "            board.castling_rights,\n",
    "            board.halfmove_clock if board.halfmove_clock >= (50 - depth) else -42,\n",
    "            depth,\n",
    "        )\n",
    "\n",
    "    def minimax(self, board: chess.Board, depth: int, current_evaluation: int) -> int:\n",
    "        \"\"\"Memoized version of the Exercise03AI minimax implementation.\"\"\"\n",
    "        key = Exercise04AI.get_key(board, depth)\n",
    "        self.stats[-1][\"cache_tries\"] += 1\n",
    "        if key in self.cache:\n",
    "            self.stats[-1][\"cache_hits\"] += 1\n",
    "            return self.cache[key]\n",
    "        result = super().minimax(board, depth, current_evaluation)\n",
    "        self.cache[key] = result\n",
    "        return result\n",
    "\n",
    "    def get_next_middle_game_move(self, board: chess.Board) -> chess.Move:\n",
    "        \"\"\"Gets the best next move.\"\"\"\n",
    "        self.stats[-1][\"cache_tries\"] = 0\n",
    "        self.stats[-1][\"cache_hits\"] = 0\n",
    "        next_move = super().get_next_middle_game_move(board)\n",
    "        if board.is_irreversible(next_move):\n",
    "            self.cache.clear()\n",
    "            self.stats[-1][\"cache_cleared\"] = True\n",
    "        else:\n",
    "            self.stats[-1][\"cache_cleared\"] = False\n",
    "        self.stats[-1][\"cache_size_mb\"] = round(\n",
    "            sys.getsizeof(self.cache) / (1024 * 1024), 2\n",
    "        )\n",
    "        return next_move"
   ]
  },
  {
   "cell_type": "markdown",
   "metadata": {},
   "source": [
    "## Debugging Bereich\n",
    "\n",
    "Die folgenden Zellen enthalten Unit-Tests der oben implementierten Funktionen."
   ]
  },
  {
   "cell_type": "code",
   "execution_count": null,
   "metadata": {},
   "outputs": [],
   "source": [
    "from AIBaseClass import ChessAI\n",
    "import Exercise02AI as Exercise02AI_\n",
    "import Exercise03AI as Exercise03AI_"
   ]
  },
  {
   "cell_type": "code",
   "execution_count": null,
   "metadata": {},
   "outputs": [],
   "source": [
    "# Create player and board\n",
    "unit_test_player = Exercise04AI(player_name=\"Ex04AI\", search_depth=3)\n",
    "board = chess.Board(\"5rk1/1b3p2/8/3p4/3p2P1/2Q4B/5P1K/R3R3 b - - 0 36\")\n",
    "board"
   ]
  },
  {
   "cell_type": "markdown",
   "metadata": {},
   "source": [
    "Im Folgenden wird die Funktion `get_key` getestet, welche einen definierten Schlüssel für den Cache anhand des aktuellen Boards zurückgibt. Hierbei werden der `depth` Parameter als auch der Rückgabewert für die Anzahl der Halbzüge überprüft, welche, sofern die Anzahl der Halbzüge weniger als 50 entspricht, $-42$ entspricht."
   ]
  },
  {
   "cell_type": "code",
   "execution_count": null,
   "metadata": {},
   "outputs": [],
   "source": [
    "# Test key generation\n",
    "def test_key_generation(unit_test_player: ChessAI, board: chess.Board):\n",
    "    key = Exercise04AI.get_key(board, depth=42)\n",
    "    (half_moves_key, depth) = key[-2:]\n",
    "    print(f\"Half moves key: {half_moves_key}\")\n",
    "    print(f\"Depth: {depth}\")\n",
    "    assert half_moves_key == -42, \"Half moves key does not match expected value!\"\n",
    "    assert depth == 42, \"Depth does not match expected value!\""
   ]
  },
  {
   "cell_type": "code",
   "execution_count": null,
   "metadata": {},
   "outputs": [],
   "source": [
    "test_key_generation(unit_test_player, board)"
   ]
  },
  {
   "cell_type": "markdown",
   "metadata": {},
   "source": [
    "Da der Minimax im Vergleich zur `Exercise02AI` durch die Memoisierung erweitert wurde, wird nun auch der Unittest erweitert. Es werden die zusätzlichen Metriken `cache_tries` und `cache_hits` überprüft. Auf das gegebe Board wird nun der Zug angewendet, welcher die weiße Dame schlägt. Dadurch beträgt die erwartete Evaluierung $4$. Die Anzahl der Nodes sowie die Cache Metriken dienen dazu, Änderungen in der Komplexität der Berechnung aufzuzeigen."
   ]
  },
  {
   "cell_type": "code",
   "execution_count": null,
   "metadata": {},
   "outputs": [],
   "source": [
    "# Test minimax\n",
    "def test_minimax(\n",
    "    unit_test_player: ChessAI,\n",
    "    board: chess.Board,\n",
    "    current_evaluation: int,\n",
    "    expected_evaluation: int,\n",
    "    expected_move: str,\n",
    "    expected_nodes: int,\n",
    "    expected_cache_tries: int,\n",
    "    expected_cache_hits: int,\n",
    "    expected_cache_elements: int,\n",
    "):\n",
    "    unit_test_player.cache = {}  # Clear cache\n",
    "    unit_test_player.stats[-1][\"cache_tries\"] = 0\n",
    "    unit_test_player.stats[-1][\"cache_hits\"] = 0\n",
    "    Exercise02AI_.test_minimax(\n",
    "        unit_test_player,\n",
    "        board,\n",
    "        current_evaluation,\n",
    "        expected_evaluation,\n",
    "        expected_move,\n",
    "        expected_nodes,\n",
    "    )\n",
    "    cache_tries = unit_test_player.stats[-1]['cache_tries']\n",
    "    cache_hits = unit_test_player.stats[-1]['cache_hits']\n",
    "    print(f\"Cache tries: {cache_tries}\")\n",
    "    print(f\"Cache hits: {cache_hits}\")\n",
    "    print(f\"Elements in cache: {len(unit_test_player.cache)}\")\n",
    "    assert cache_tries == expected_cache_tries, \"Cache tries do not match expected value!\"\n",
    "    assert cache_hits == expected_cache_hits, \"Cache hits do not match expected value!\"\n",
    "    assert len(unit_test_player.cache) == expected_cache_elements, \"Cache elements do not match expected value!\"\n"
   ]
  },
  {
   "cell_type": "code",
   "execution_count": null,
   "metadata": {},
   "outputs": [],
   "source": [
    "test_minimax(\n",
    "    unit_test_player,\n",
    "    board,\n",
    "    current_evaluation=1240,\n",
    "    expected_evaluation=325,\n",
    "    expected_move=\"d4c3\",\n",
    "    expected_nodes=8651,\n",
    "    expected_cache_tries=14377,\n",
    "    expected_cache_hits=5726,\n",
    "    expected_cache_elements=8651,\n",
    ")"
   ]
  },
  {
   "cell_type": "markdown",
   "metadata": {},
   "source": [
    "Um zu validieren, dass die Memoisierung das gewünschte Ergebnis zurückliefert, wird die Minimax Testfuntion der `Exercise02AI` erneut mit den selben Evaluierungsparametern aufgerufen, erwartet werden allerdings andere Metriken. Das Ergebnis der Funktion soll dasselbe sein, es soll jedoch nur einmal auf den Cache zugegriffen werden, wodurch direkt das richtige Ergebnis zurückgeliefert werden soll."
   ]
  },
  {
   "cell_type": "code",
   "execution_count": null,
   "metadata": {},
   "outputs": [],
   "source": [
    "# Test minimax again (now memoized)\n",
    "def test_memoized_minimax(\n",
    "    unit_test_player: ChessAI,\n",
    "    board: chess.Board,\n",
    "    current_evaluation: int,\n",
    "    expected_evaluation: int,\n",
    "    expected_move: str,\n",
    "    expected_nodes: int,\n",
    "    expected_cache_tries: int,\n",
    "    expected_cache_hits: int,\n",
    "    expected_cache_elements: int,\n",
    "):\n",
    "    unit_test_player.stats[-1][\"cache_tries\"] = 0\n",
    "    unit_test_player.stats[-1][\"cache_hits\"] = 0\n",
    "    Exercise02AI_.test_minimax(\n",
    "        unit_test_player,\n",
    "        board,\n",
    "        current_evaluation,\n",
    "        expected_evaluation,\n",
    "        expected_move,\n",
    "        expected_nodes,\n",
    "    )\n",
    "    cache_tries = unit_test_player.stats[-1][\"cache_tries\"]\n",
    "    cache_hits = unit_test_player.stats[-1][\"cache_hits\"]\n",
    "    print(f\"Cache tries: {cache_tries}\")\n",
    "    print(f\"Cache hits: {cache_hits}\")\n",
    "    print(f\"Elements in cache: {len(unit_test_player.cache)}\")\n",
    "    assert (\n",
    "        cache_tries == expected_cache_tries\n",
    "    ), \"Cache tries do not match expected value!\"\n",
    "    assert cache_hits == expected_cache_hits, \"Cache hits do not match expected value!\"\n",
    "    assert (\n",
    "        len(unit_test_player.cache) == expected_cache_elements\n",
    "    ), \"Cache elements do not match expected value!\""
   ]
  },
  {
   "cell_type": "code",
   "execution_count": null,
   "metadata": {},
   "outputs": [],
   "source": [
    "test_memoized_minimax(\n",
    "    unit_test_player,\n",
    "    board,\n",
    "    current_evaluation=1240,\n",
    "    expected_evaluation=325,\n",
    "    expected_move=\"d4c3\",\n",
    "    expected_nodes=0,\n",
    "    expected_cache_tries=1,\n",
    "    expected_cache_hits=1,\n",
    "    expected_cache_elements=8651,\n",
    ")"
   ]
  },
  {
   "cell_type": "markdown",
   "metadata": {},
   "source": [
    "Um die Funktion `get_next_middle_game_move` zu testen, wird überprüft, ob diese korrekterweise den Zug zurückgibt, in welchem die Dame durch den schwarzen Bauern geschlagen wird. Durch die implementierte Memoisierung sollen hierbei keine neuen Knoten berechnet werden müssen."
   ]
  },
  {
   "cell_type": "code",
   "execution_count": null,
   "metadata": {},
   "outputs": [],
   "source": [
    "# Test next move function (with memoized minimax result)\n",
    "Exercise02AI_.test_next_move(\n",
    "    unit_test_player,\n",
    "    board,\n",
    "    expected_move=\"d4c3\",\n",
    "    expected_nodes=0,\n",
    ")"
   ]
  },
  {
   "cell_type": "markdown",
   "metadata": {},
   "source": [
    "Die `reset` Funktion wurde um die Funktionalität erweitert, den implementierten Cache zu bereinigen. Um zu validieren, dass das Zurücksetzen wie erwartet funktioniert, wird die Testfunktion der Elternklasse aufgerufen, welche die bisherigen Tests überprüft. Zusätzlich wird überprüft, ob der Cache nach dem Zurücksetzen einem leeren Dictionary entspricht."
   ]
  },
  {
   "cell_type": "code",
   "execution_count": null,
   "metadata": {},
   "outputs": [],
   "source": [
    "# Test reset function\n",
    "def test_reset(unit_test_player: ChessAI, board: chess.Board):\n",
    "    Exercise03AI_.test_reset(unit_test_player, board)\n",
    "    assert unit_test_player.cache == {}, \"Reset was not successful! (cache)\""
   ]
  },
  {
   "cell_type": "code",
   "execution_count": null,
   "metadata": {},
   "outputs": [],
   "source": [
    "test_reset(unit_test_player, board)"
   ]
  },
  {
   "cell_type": "markdown",
   "metadata": {},
   "source": [
    "## Temporärer Bereich\n",
    "\n",
    "Der folgende Bereich dient zum temporären Debuggen und kann nicht-funktionierenden Code enthalten. Dieser Bereich wird vor der Abgabe entfernt."
   ]
  },
  {
   "cell_type": "code",
   "execution_count": null,
   "metadata": {},
   "outputs": [],
   "source": []
  }
 ],
 "metadata": {
  "kernelspec": {
   "display_name": "Python 3 (ipykernel)",
   "language": "python",
   "name": "python3"
  },
  "language_info": {
   "codemirror_mode": {
    "name": "ipython",
    "version": 3
   },
   "file_extension": ".py",
   "mimetype": "text/x-python",
   "name": "python",
   "nbconvert_exporter": "python",
   "pygments_lexer": "ipython3",
   "version": "3.10.4"
  }
 },
 "nbformat": 4,
 "nbformat_minor": 2
}
