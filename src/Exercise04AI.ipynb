{
 "cells": [
  {
   "cell_type": "code",
   "execution_count": null,
   "metadata": {},
   "outputs": [],
   "source": [
    "%%html\n",
    "<style>\n",
    ".container {\n",
    "  width: 100%;\n",
    "}\n",
    "</style>"
   ]
  },
  {
   "cell_type": "code",
   "execution_count": null,
   "metadata": {},
   "outputs": [],
   "source": [
    "%load_ext nb_mypy"
   ]
  },
  {
   "cell_type": "code",
   "execution_count": null,
   "metadata": {},
   "outputs": [],
   "source": [
    "import nbimporter\n",
    "from AIBaseClass import ChessAI\n",
    "from Exercise03AI import Exercise03AI\n",
    "from Exercise02AI import display_path"
   ]
  },
  {
   "cell_type": "markdown",
   "metadata": {},
   "source": [
    "# Aufgabe 04: Minimax (Simplified Evaluation Function) mit Memoisierung\n",
    "\n",
    "Diese Klasse implementiert die Memoisierungsfunktion für den Minimax-Algorithmus zur Berechnung des nächsten Zuges im Mittelspiel. Hierbei wird die `minimax`-Funktion der Super-Klasse (`Exercise03AI`) aufgerufen und durch die nun implementierte Memoisierung beschleunigt."
   ]
  },
  {
   "cell_type": "code",
   "execution_count": null,
   "metadata": {},
   "outputs": [],
   "source": [
    "import chess\n",
    "\n",
    "class Exercise04AI(Exercise03AI):\n",
    "    \"\"\"Chooses middle game moves using minimax algorithm and piece square tables\"\"\"\n",
    "    def __init__(self, player_name: str, search_depth: int = 3) -> None:\n",
    "        super().__init__(player_name, search_depth)"
   ]
  },
  {
   "cell_type": "markdown",
   "metadata": {},
   "source": [
    "## Memoisierungsfunktion\n",
    "\n",
    "Die Klasse wird um eine Variable `cache` erweitert. Initial ist `cache` ein leeres Dictionary, welches als Schlüssel einen String annimmt und als Wert ein beliebiges Objekt zurückgibt.\n",
    "\n",
    "Die Memoisierungsfunktion `memoize` nimmt eine Funktion `f` als Argument und gibt eine memoisierte Version `memoized_f` dieser Funktion zurück.\n",
    "\n",
    "Die memoisierte Funktion `memoized_f` versucht zunächst, den Rückgabewert der Ursprungsfunktion aus dem `cache` auszulesen. Dabei werden als Schlüssel die gegebenen Funktionsargumente `args` als String verwendet. Beinhaltet der `cache` ein Ergebnis für die gegebenen Argumente `args`, so wird dieses zurückgegeben. Andernfalls wird die Ursprungsfunktion `f` aufgerufen, der Rückgabewert wird für die verwendeten Argumente im `cache` hinterlegt und schlussendlich wird der berechnete Wert zurückgegeben.\n",
    "\n",
    "### Cache-Schlüssel\n",
    "\n",
    "Eine wichtige Rolle spielt der Key, welcher für die Speicherung bereits berechneter Ergebnisse im `cache`-Dictionary verwendet wird. Um den Cache möglichst effektiv nutzen zu können, sollten nur die Attribute in die Berechnung des Schlüssels miteinbezogen werden, welche auch durch den Minimax-Algorithmus verwendet werden und sich im Laufe des Spieles verändern. Aus diesem Grund ist beispielsweise die eigene Klasseninstanz (`self`-Argument) kein Bestandteil des Schlüssels. Das Board wird mithilfe der FEN-Notation im Schlüssel inkludiert und mit den restlichen Argumenten als String konkateniert. Dabei wird der Zähler für die Nummer des nächsten Zuges (letzte Stelle) von der FEN-Notation des Boards entfernt, da er nicht für die Minimax Berechnung erforderlich ist und die Wiederverwertbarkeit von Berechnungen stark einschränkt. Der Zähler für die Halbzüge seit dem letzten Bauernzug oder Schlagen einer Figur (vorletzte Stelle der FEN) wird genau dann beibehalten, wenn er für das Erkennen der `fifty-move`-Regel (Remis) relevant ist, das heißt wenn $$\\texttt{Zähler} \\; \\ge \\; 50 - \\texttt{Tiefe}$$ gilt, wobei $\\texttt{Tiefe}$ die Suchtiefe des aktuellen Aufrufs der Minimax-Funktion ist. Da auch die `fivefold-repetition`-Regel (fünfmalige Stellungswiederholung) für die Berechnung relevant ist, wird die Anzahl der aktuellen Wiederholungen ebenfalls in den Cache-Schlüssel mit einbezogen.\n",
    "\n",
    "Die Funktion `memoize` wird als _Decorator_ auf die `minimax` Funktion angewendet."
   ]
  },
  {
   "cell_type": "code",
   "execution_count": null,
   "metadata": {},
   "outputs": [],
   "source": [
    "from typing import Any\n",
    "\n",
    "class Exercise04AI(Exercise04AI): # type: ignore\n",
    "    cache: dict[tuple, Any] = {}\n",
    "    cache_hits = 0\n",
    "\n",
    "    @staticmethod\n",
    "    def memoize(f):\n",
    "        def f_memoized(*args):\n",
    "            fen_list = args[1].fen().split(\" \")\n",
    "            if int(fen_list[-2]) >= (50 - args[2]):\n",
    "                # Include fifty moves counter if it has a relevant value\n",
    "                reduced_fen = \" \".join(fen_list[:-1])\n",
    "            else:\n",
    "                # Skip fifty moves counter otherwise\n",
    "                reduced_fen = \" \".join(fen_list[:-2])\n",
    "            key = reduced_fen + str(args[2]) + str(args[0].maybe_repetitions(args[1]))\n",
    "            if key in Exercise04AI.cache:\n",
    "                Exercise04AI.cache_hits += 1\n",
    "                return Exercise04AI.cache[key]\n",
    "            result = f(*args)\n",
    "            Exercise04AI.cache[key] = result\n",
    "            return result\n",
    "\n",
    "        return f_memoized\n",
    "    \n",
    "    @memoize\n",
    "    def minimax(self, *args) -> int:\n",
    "        \"\"\"Memoized version of the Exercise03AI minimax implementation\"\"\"\n",
    "        return super().minimax(*args)"
   ]
  },
  {
   "cell_type": "markdown",
   "metadata": {},
   "source": [
    "## Debugging Bereich\n",
    "\n",
    "Die folgenden Zellen enthalten Code zum Testen der oben implementierten Funktionen."
   ]
  },
  {
   "cell_type": "code",
   "execution_count": null,
   "metadata": {},
   "outputs": [],
   "source": [
    "import chess.pgn\n",
    "from os.path import join\n",
    "\n",
    "with open(join(\"..\", \"games\", \"2022-01-15_20-18-57-907777.pgn\")) as pgn:\n",
    "    first_game = chess.pgn.read_game(pgn)\n",
    "\n",
    "# Iterate through all moves and play them on a board.\n",
    "board = first_game.board()\n",
    "for move in first_game.mainline_moves():\n",
    "    board.push(move)\n",
    "for i in range(220):\n",
    "    board.pop()"
   ]
  },
  {
   "cell_type": "code",
   "execution_count": null,
   "metadata": {},
   "outputs": [],
   "source": [
    "%%time\n",
    "DEPTH = 2\n",
    "#board = chess.Board()\n",
    "#board.set_fen(\"4k3/8/2n5/7K/5q2/2N5/8/2B5 b - - 0 1\")\n",
    "player = Exercise04AI(\"Testplayer\", DEPTH)\n",
    "#print(player.minimax(board, DEPTH))\n",
    "move = player.get_next_middle_game_move(board)\n",
    "print(move)\n",
    "player.cache_hits"
   ]
  },
  {
   "cell_type": "code",
   "execution_count": null,
   "metadata": {
    "scrolled": true
   },
   "outputs": [],
   "source": [
    "%%time\n",
    "DEPTH = 3\n",
    "board = chess.Board(\"4k3/8/2n5/7K/5q2/2N5/8/2B5 b - - 0 1\")\n",
    "player = Exercise04AI(\"Testplayer\", DEPTH)\n",
    "#print(player.minimax(board, DEPTH))\n",
    "move = player.get_next_middle_game_move(board)\n",
    "print(move)\n",
    "display_path(board, move, DEPTH)"
   ]
  },
  {
   "cell_type": "code",
   "execution_count": null,
   "metadata": {},
   "outputs": [],
   "source": [
    "board = chess.Board(\"7B/pbpk4/1p6/2n1pp2/6p1/4P3/P1P2PNP/RNq1K1R1 w - - 0 1\")\n",
    "player = Exercise04AI(\"Testplayer\", 3)\n",
    "print(player.evaluate(board))\n",
    "board"
   ]
  }
 ],
 "metadata": {
  "kernelspec": {
   "display_name": "Python 3 (ipykernel)",
   "language": "python",
   "name": "python3"
  },
  "language_info": {
   "codemirror_mode": {
    "name": "ipython",
    "version": 3
   },
   "file_extension": ".py",
   "mimetype": "text/x-python",
   "name": "python",
   "nbconvert_exporter": "python",
   "pygments_lexer": "ipython3",
   "version": "3.10.2"
  }
 },
 "nbformat": 4,
 "nbformat_minor": 2
}
