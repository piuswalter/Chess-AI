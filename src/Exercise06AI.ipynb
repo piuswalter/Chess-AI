{
 "cells": [
  {
   "cell_type": "code",
   "execution_count": null,
   "metadata": {},
   "outputs": [],
   "source": [
    "%%html\n",
    "<style>\n",
    ".container {\n",
    "  width: 100%;\n",
    "}\n",
    "</style>"
   ]
  },
  {
   "cell_type": "code",
   "execution_count": null,
   "metadata": {},
   "outputs": [],
   "source": [
    "%load_ext nb_black\n",
    "%load_ext nb_mypy"
   ]
  },
  {
   "cell_type": "code",
   "execution_count": null,
   "metadata": {},
   "outputs": [],
   "source": [
    "import nbimporter\n",
    "from Exercise04AI import Exercise04AI\n",
    "from Exercise05AI import Exercise05AI"
   ]
  },
  {
   "cell_type": "markdown",
   "metadata": {},
   "source": [
    "# Aufgabe 06: Minimax mit Alpha-Beta-Pruning und Memoisierung\n",
    "\n",
    "Dieses Notebook implementiert den Minimax-Algorithmus mit Alpha-Beta-Pruning und Memoisierung."
   ]
  },
  {
   "cell_type": "code",
   "execution_count": null,
   "metadata": {},
   "outputs": [],
   "source": [
    "import chess\n",
    "from typing import Any\n",
    "\n",
    "\n",
    "class Exercise06AI(Exercise05AI):\n",
    "    \"\"\"Chooses middle game moves using minimax algorithm, alpha-beta-pruning and memoization\"\"\"\n",
    "\n",
    "    def __init__(self, **kwargs) -> None:\n",
    "        super().__init__(**kwargs)\n",
    "        self.cache: dict[tuple, Any] = {}\n",
    "\n",
    "    def reset(self) -> None:\n",
    "        \"\"\"Resets all internal variables\"\"\"\n",
    "        super().reset()\n",
    "        self.cache.clear()"
   ]
  },
  {
   "cell_type": "markdown",
   "metadata": {},
   "source": [
    "## Memoisierungsfunktion\n",
    "\n",
    "Die Klasse wird um eine Variable `cache` erweitert. Initial ist `cache` ein leeres Dictionary, welches als Schlüssel ein Tupel annimmt und als Wert ein beliebiges Objekt zurückgibt.\n",
    "\n",
    "Die Memoisierungsfunktion `memoize_minimax` nimmt die Minimax-Funktion `minimax` als Argument und gibt eine memoisierte Version `minimax_memoized` dieser Funktion zurück.\n",
    "\n",
    "Die memoisierte Funktion `minimax_memoized` versucht zunächst, den Rückgabewert der Ursprungsfunktion aus dem `cache` auszulesen. Dazu wird die Hilsfunktion `get_from_cache` verwendet. Beinhaltet der `cache` ein Ergebnis für die gegebenen Argumente `args`, so wird dieses zurückgegeben. Andernfalls wird die Ursprungsfunktion `minimax` aufgerufen, der Rückgabewert wird für die verwendeten Argumente im `cache` hinterlegt und schlussendlich wird der berechnete Wert zurückgegeben. Zum Speichern des neuen Rückgabewertes wird die Hilfsfunktion `store_in_cache` verwendet.  \n",
    "Der Cache wird bei jedem Bauernzug, Schlagen einer Figur und veränderten Rochade- oder En-Passant-Rechten zurückgesetzt, da in diesem Fall die zuvor berechneten Stellungen nicht wieder auftreten können.\n",
    "\n",
    "Da die Memoisierungsfunktion in den weiteren ChessAI-Versionen ebenfalls verwendet werden soll, wird diese als Dekorator-Funktion implementiert.\n",
    "\n",
    "### Cache-Verwaltung\n",
    "\n",
    "Im Vergleich zu `Exercise04AI` sind die Argumente $alpha$ und $beta$, welche für das Alpha-Beta-Pruning benötigt werden, zum Funktionsaufruf der Methode `minimax` hinzugekommen. Demzufolge wird die Interaktion mit dem Cache überarbeitet.\n",
    "\n",
    "#### Speicherung im Cache\n",
    "\n",
    "Bisher war `result` ein Tupel der Form $$result = (evaluation, move)$$\n",
    "Um Alpha-Beta-Pruning memoisieren zu können, wird nun nicht mehr `result` im Cache gespeichert, sondern ein Tripel der Form $$ value = (flag, evaluation, move) $$ mit $$ flag \\in \\{ \\; \\text{'≤'}, \\text{'='}, \\text{'≥'} \\; \\} $$\n",
    "\n",
    "wobei gilt $$flag = \\begin{cases}\n",
    "\\text{'≤'} \\; \\text{wenn} \\; evaluation \\le alpha\\\\\n",
    "\\text{'='} \\; \\text{wenn} \\; evaluation < beta\\\\\n",
    "\\text{'≥'} \\; \\text{sonst}\n",
    "\\end{cases}$$\n",
    "\n",
    "Das Speichern dieses Tupels wird von der Funktion `store_in_cache` übernommen. Diese bekommt als Argumente den Cache-Schlüssel des aktuellen Boards (`key`), das berechnete Minimax-Ergebnis als Tupel (`result`), die Grenzwerte $alpha$ und $beta$ und speichert das Ergebnis nach dem oben gegebenen Verfahren im Cache ab.\n",
    "\n",
    "#### Abrufen aus dem Cache\n",
    "\n",
    "Die Funktion `get_from_cache` nimmt als Parameter die Funktion `minimax`, das den Cache-Schlüssel für das aktuelle Board (`key`), sowie alle Parameter der Funktion `minimax` entgegen und gibt ein Tupel der Form $$(evaluation, move)$$ zurück. Zunächst wird das Tripel $$ value = (flag, evaluation, move) $$ mit dem gegebenen `key` aus dem Cache extrahiert. Es folgt eine Fallunterscheidung nach dem Wert von $flag$:\n",
    "\n",
    "1. Fall: $flag = \\text{'='}$\n",
    "\n",
    "    In diesem Fall wird das Tupel $(evaluation, move)$ zurückgegeben.\n",
    "\n",
    "2. Fall: $flag = \\text{'≤'}$\n",
    "\n",
    "    Ist $evaluation \\le alpha$, so kann das Tupel $(evaluation, move)$ direkt zurückgegeben werden. Ist $evaluation < beta$, so wird die Funktion `minimax` mit $alpha$ und $evaluation$ aufgerufen, andernfalls gilt $evaluation \\ge beta$ und die Funktion `minimax` wird mit den ursprünglichen Grenzen $alpha$ und $beta$ aufgerufen. Das Ergebnis wird im Cache gespeichert und zurückgegeben.\n",
    "\n",
    "3. Fall: Trifft keiner der vorherigen Fälle zu, muss $flag = \\text{'≥'}$ gelten und es folgt eine erneute Fallunterscheidung:\n",
    "\n",
    "    Ist $evaluation \\le alpha$, so wird die Funktion `minimax` mit $alpha$ und $beta$ aufgerufen. Ist $evaluation < beta$, so wird `minimax` stattdessen mit $evaluation$ und $beta$ aufgerufen. Das Ergebnis wird jeweils im Cache gespeichert und zurückgegeben.\n",
    "\n",
    "    Trifft keiner der beiden Fälle zu, muss $evaluation > beta$ gelten und das Tupel $(evaluation, move)$ kann direkt zurückgegeben werden.\n"
   ]
  },
  {
   "cell_type": "code",
   "execution_count": null,
   "metadata": {},
   "outputs": [],
   "source": [
    "from typing import Any, Callable\n",
    "import sys\n",
    "\n",
    "\n",
    "class Exercise06AI(Exercise06AI):  # type: ignore\n",
    "    @staticmethod\n",
    "    def memoize_minimax(minimax: Callable):\n",
    "        def minimax_memoized(\n",
    "            self,\n",
    "            board: chess.Board,\n",
    "            depth: int,\n",
    "            current_evaluation: int,\n",
    "            alpha: int = -Exercise06AI.LIMIT,\n",
    "            beta: int = Exercise06AI.LIMIT,\n",
    "        ):\n",
    "            key = Exercise04AI.get_key(board, depth)\n",
    "            self.stats[-1][\"cache_tries\"] += 1\n",
    "            if key in self.cache:\n",
    "                self.stats[-1][\"cache_hits\"] += 1\n",
    "                return self.get_from_cache(\n",
    "                    minimax, key, board, depth, current_evaluation, alpha, beta\n",
    "                )\n",
    "            result = minimax(self, board, depth, current_evaluation, alpha, beta)\n",
    "            self.store_in_cache(key, result, alpha, beta)\n",
    "            return result\n",
    "\n",
    "        return minimax_memoized\n",
    "\n",
    "    @memoize_minimax\n",
    "    def minimax(self, *args) -> int:\n",
    "        \"\"\"Memoized version of the Exercise05AI minimax implementation\"\"\"\n",
    "        return super().minimax(*args)\n",
    "\n",
    "    def store_in_cache(self, key: tuple, result: tuple, alpha: int, beta: int) -> None:\n",
    "        \"\"\"Stores the result of a minimax computation in the cache.\"\"\"\n",
    "        evaluation, move = result\n",
    "        if evaluation <= alpha:\n",
    "            self.cache[key] = (\"≤\", evaluation, move)\n",
    "        elif evaluation < beta:\n",
    "            self.cache[key] = (\"=\", evaluation, move)\n",
    "        else:\n",
    "            self.cache[key] = (\"≥\", evaluation, move)\n",
    "\n",
    "    def get_from_cache(\n",
    "        self,\n",
    "        minimax: Callable,\n",
    "        key: tuple,\n",
    "        board: chess.Board,\n",
    "        depth: int,\n",
    "        current_eval: int,\n",
    "        alpha: int,\n",
    "        beta: int,\n",
    "    ) -> tuple:\n",
    "        \"\"\"Gets a result from the cache if possible.\"\"\"\n",
    "        flag, evaluation, move = self.cache[key]\n",
    "        if flag == \"=\":\n",
    "            return evaluation, move\n",
    "        elif flag == \"≤\":\n",
    "            if evaluation <= alpha:\n",
    "                return evaluation, move\n",
    "            elif evaluation < beta:\n",
    "                result = minimax(self, board, depth, current_eval, alpha, evaluation)\n",
    "                self.store_in_cache(key, result, alpha, evaluation)\n",
    "                return result\n",
    "            else:\n",
    "                result = minimax(self, board, depth, current_eval, alpha, beta)\n",
    "                self.store_in_cache(key, result, alpha, beta)\n",
    "                return result\n",
    "        else:\n",
    "            if evaluation <= alpha:\n",
    "                result = minimax(self, board, depth, current_eval, alpha, beta)\n",
    "                self.store_in_cache(key, result, alpha, beta)\n",
    "                return result\n",
    "            elif evaluation < beta:\n",
    "                result = minimax(self, board, depth, current_eval, evaluation, beta)\n",
    "                self.store_in_cache(key, result, evaluation, beta)\n",
    "                return result\n",
    "            else:\n",
    "                return evaluation, move\n",
    "\n",
    "    def get_next_middle_game_move(self, board: chess.Board) -> chess.Move:\n",
    "        \"\"\"Gets the best next move\"\"\"\n",
    "        self.stats[-1][\"cache_tries\"] = 0\n",
    "        self.stats[-1][\"cache_hits\"] = 0\n",
    "        next_move = super().get_next_middle_game_move(board)\n",
    "        if board.is_irreversible(next_move):\n",
    "            self.cache.clear()\n",
    "            self.stats[-1][\"cache_cleared\"] = True\n",
    "        else:\n",
    "            self.stats[-1][\"cache_cleared\"] = False\n",
    "        self.stats[-1][\"cache_size_mb\"] = round(\n",
    "            sys.getsizeof(self.cache) / (1024 * 1024), 2\n",
    "        )\n",
    "        return next_move"
   ]
  },
  {
   "cell_type": "markdown",
   "metadata": {},
   "source": [
    "## Debugging Bereich\n",
    "\n",
    "Die folgenden Zellen enthalten Unit-Tests der oben implementierten Funktionen."
   ]
  },
  {
   "cell_type": "code",
   "execution_count": null,
   "metadata": {},
   "outputs": [],
   "source": [
    "from AIBaseClass import ChessAI\n",
    "import Exercise03AI as Exercise03Tests\n",
    "import Exercise04AI as Exercise04Tests"
   ]
  },
  {
   "cell_type": "code",
   "execution_count": null,
   "metadata": {},
   "outputs": [],
   "source": [
    "# Create player and board\n",
    "unit_test_player = Exercise06AI(player_name=\"Ex06AI\", search_depth=2)\n",
    "board = chess.Board(\"5rk1/1b3p2/8/3p4/3p2P1/2Q4B/5P1K/R3R3 b - - 0 36\")\n",
    "next_move = chess.Move.from_uci(\"d4c3\")  # white queen capture\n",
    "board"
   ]
  },
  {
   "cell_type": "code",
   "execution_count": null,
   "metadata": {},
   "outputs": [],
   "source": [
    "# Test cache store function\n",
    "def test_store_in_cache(unit_test_player: ChessAI, board: chess.Board):\n",
    "    unit_test_player.cache = {}  # Clear cache\n",
    "    test_result = (10, next_move)\n",
    "\n",
    "    test_key_1 = (\"test\", 1)\n",
    "    unit_test_player.store_in_cache(test_key_1, test_result, alpha=5, beta=15)\n",
    "    assert unit_test_player.cache[test_key_1] == (\n",
    "        \"=\",\n",
    "        *test_result,\n",
    "    ), \"Cache result does not match expected value!\"\n",
    "\n",
    "    test_key_2 = (\"test\", 2)\n",
    "    unit_test_player.store_in_cache(test_key_2, test_result, alpha=12, beta=15)\n",
    "    assert unit_test_player.cache[test_key_2] == (\n",
    "        \"≤\",\n",
    "        *test_result,\n",
    "    ), \"Cache result does not match expected value!\"\n",
    "\n",
    "    test_key_3 = (\"test\", 3)\n",
    "    unit_test_player.store_in_cache(test_key_3, test_result, alpha=5, beta=8)\n",
    "    assert unit_test_player.cache[test_key_3] == (\n",
    "        \"≥\",\n",
    "        *test_result,\n",
    "    ), \"Cache result does not match expected value!\"\n",
    "\n",
    "    print(f\"Cache: {unit_test_player.cache}\")"
   ]
  },
  {
   "cell_type": "code",
   "execution_count": null,
   "metadata": {},
   "outputs": [],
   "source": [
    "test_store_in_cache(unit_test_player, board)"
   ]
  },
  {
   "cell_type": "code",
   "execution_count": null,
   "metadata": {},
   "outputs": [],
   "source": [
    "# Test minimax\n",
    "Exercise04Tests.test_minimax(unit_test_player, board)"
   ]
  },
  {
   "cell_type": "code",
   "execution_count": null,
   "metadata": {},
   "outputs": [],
   "source": [
    "# Test minimax again (now memoized)\n",
    "Exercise04Tests.test_memoized_minimax(unit_test_player, board)"
   ]
  },
  {
   "cell_type": "code",
   "execution_count": null,
   "metadata": {},
   "outputs": [],
   "source": [
    "# Test next move function (with memoized minimax result)\n",
    "Exercise03Tests.test_next_move(unit_test_player, board)"
   ]
  },
  {
   "cell_type": "code",
   "execution_count": null,
   "metadata": {},
   "outputs": [],
   "source": [
    "# Test reset function\n",
    "Exercise04Tests.test_reset(unit_test_player, board)"
   ]
  },
  {
   "cell_type": "markdown",
   "metadata": {},
   "source": [
    "## Temporärer Bereich\n",
    "\n",
    "Der folgende Bereich dient zum temporären Debuggen und kann nicht-funktionierenden Code enthalten. Dieser Bereich wird vor der Abgabe entfernt."
   ]
  },
  {
   "cell_type": "code",
   "execution_count": null,
   "metadata": {},
   "outputs": [],
   "source": []
  }
 ],
 "metadata": {
  "kernelspec": {
   "display_name": "Python 3 (ipykernel)",
   "language": "python",
   "name": "python3"
  },
  "language_info": {
   "codemirror_mode": {
    "name": "ipython",
    "version": 3
   },
   "file_extension": ".py",
   "mimetype": "text/x-python",
   "name": "python",
   "nbconvert_exporter": "python",
   "pygments_lexer": "ipython3",
   "version": "3.10.4"
  }
 },
 "nbformat": 4,
 "nbformat_minor": 2
}
