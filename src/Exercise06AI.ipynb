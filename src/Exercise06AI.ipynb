{
 "cells": [
  {
   "cell_type": "code",
   "execution_count": null,
   "metadata": {},
   "outputs": [],
   "source": [
    "%%html\n",
    "<style>\n",
    ".container {\n",
    "  width: 100%;\n",
    "}\n",
    "</style>"
   ]
  },
  {
   "cell_type": "code",
   "execution_count": null,
   "metadata": {},
   "outputs": [],
   "source": [
    "%load_ext nb_mypy"
   ]
  },
  {
   "cell_type": "code",
   "execution_count": null,
   "metadata": {},
   "outputs": [],
   "source": [
    "import chess\n",
    "import nbimporter\n",
    "import sys\n",
    "from typing import Any, Callable\n",
    "from Exercise04AI import Exercise04AI\n",
    "from Exercise05AI import Exercise05AI"
   ]
  },
  {
   "cell_type": "markdown",
   "metadata": {},
   "source": [
    "# Aufgabe 06: Minimax mit Alpha-Beta-Pruning und Memoisierung\n",
    "\n",
    "Dieses Notebook implementiert den Minimax-Algorithmus mit Alpha-Beta-Pruning und Memoisierung."
   ]
  },
  {
   "cell_type": "code",
   "execution_count": null,
   "metadata": {},
   "outputs": [],
   "source": [
    "class Exercise06AI(Exercise05AI):\n",
    "    \"\"\"Chooses middle game moves using minimax algorithm, alpha-beta-pruning and memoization.\"\"\"\n",
    "    def __init__(self, **kwargs) -> None:\n",
    "        super().__init__(**kwargs)\n",
    "        self.cache: dict[tuple, tuple[str, int, chess.Move]] = {}"
   ]
  },
  {
   "cell_type": "markdown",
   "metadata": {},
   "source": [
    "Wie auch schon in der Elternklasse `Exercise05AI` existiert eine Funktion `reset`, die dazu dient, die Instanz nach einem beendeten Spiel in ihren Ursprungszustand zurückzusetzen. Diese hat dieselbe Funktion wie die der Elternklasse, leert zusätzlich aber noch den implementierten Cache."
   ]
  },
  {
   "cell_type": "code",
   "execution_count": null,
   "metadata": {},
   "outputs": [],
   "source": [
    "class Exercise06AI(Exercise06AI):  # type: ignore\n",
    "    def reset(self) -> None:\n",
    "        \"\"\"Resets all internal variables.\"\"\"\n",
    "        super().reset()\n",
    "        self.cache.clear()"
   ]
  },
  {
   "cell_type": "markdown",
   "metadata": {},
   "source": [
    "## Memoisierung\n",
    "\n",
    "Wie auch in anderen Spielen kann im Schach eine Position mehrfach auftreten. Die Sequenz von Zügen welche zu einer solchen Position führt, wird Transposition genannt [3]. In diesem Fall gibt es eine andere Sequenz welche zu derselben Position führt. Hieraus folgt, dass es weniger eindeutige Positionen als verschiedene Spielsequenzen gibt.  Dieser Umstand kann nun genutzt werden, um die Anzahl der zu untersuchenden Knoten im Suchbaum durch die sog. Memoisierung zu verringern [2]. Hierbei wird das Ergebnis von jedem berechneten Knoten mit der ausgehenden Position und der Suchtiefe als Identifikator in einem Cache gespeichert. Wenn bei der Berechnung nun dieselbe Position erneut auftritt und die Suchtiefe ebenfalls übereinstimmt, kann das Ergebnis aus dem Cache verwendet werden und wird nicht neu berechnet. Dieses Vorgehen beschleunigt die Suche insgesamt, da nun weniger Knoten untersucht werden müssen, führt aber auch zu einem höheren Speicherverbrauch.\n",
    "\n",
    "### Memoisierung bei Alpha-Beta-Pruning\n",
    "\n",
    "Prinzipiell wäre es möglich, die Memoisierung auch mit vorhandenem Alpha-Beta-Pruning genau so durchzuführen wie oben beschrieben. In diesem Fall müssten die Werte für Alpha und Beta als Identifikator mit aufgenommen werden. Da sich diese Werte aber sehr oft ändern, gäbe es nur sehr selten Übereinstimmungen innerhalb der Suche und der Geschwindigkeitsvorteil wäre nur sehr klein [2]. Stattdessen wird ein anderer Ansatz gewählt [2]:\n",
    "\n",
    "Anstatt nur das Ergebnis einer Berechnung zu speichern wird nun zusätzlich ein Erkennungszeichen $\\textrm{flag} \\in \\{ `\\textrm{≤}`, `\\textrm{=}`, `\\textrm{≥}` \\} $ hinzugefügt. Für ein berechnetes Ergebnis $v, m = \\textrm{minimax}(s, d, \\alpha, \\beta)$ wird also das Tripel $(\\textrm{flag}, v, m)$ im Cache abgelegt. Hierbei ist $v \\in \\mathbb{Z}$ die ermittelte Bewertung der Suche, $m$ der berechnete beste Zug, $\\textrm{minimax}$ die nicht-memoisierte Suchfunktion mit Alpha-Beta-Pruning, $s$ der aktuelle Spielzustand (Board), $d \\in \\mathbb{N}$ die gewählte Suchtiefe und $\\alpha, \\beta \\in \\mathbb{Z}$ sind die Grenzen des Alpha-Beta-Prunings. Der Identifikator für den Cache bleibt weiterhin wie oben beschrieben, also ohne die Werte Alpha und Beta.\n",
    "\n",
    "Insgesamt erfüllen die Werte aus dem Cache für einen gegebenen Identifikator $(s, d)$ nun die folgende Spezifikation:\n",
    "$$\n",
    "\\begin{align*}\n",
    "&\\textrm{Cache}[s,d] = (`\\textrm{=}`, v, m) &&\\implies \\textrm{minimax}(s, d, \\alpha, \\beta) = v, m \\\\\n",
    "&\\textrm{Cache}[s,d] = (`\\textrm{≤}`, v_1, m) &&\\implies \\textrm{minimax}(s, d, \\alpha, \\beta) = v_2, m \\; \\land \\; v_2 \\le v_1 \\\\\n",
    "&\\textrm{Cache}[s,d] = (`\\textrm{≥}`, v_1, m) &&\\implies \\textrm{minimax}(s, d, \\alpha, \\beta) = v_2, m \\; \\land \\; v_2 \\ge v_1\n",
    "\\end{align*}\n",
    "$$"
   ]
  },
  {
   "cell_type": "markdown",
   "metadata": {},
   "source": [
    "Die konkrete Berechnung der Zustände erfolgt nun mit der Funktion $\\textrm{memoized_minimax}$, welche dieselbe Signatur wie die Funktion $\\textrm{minimax}$ besitzt. Wenn für einen gegebenen Identifikator $(s, d)$ ein Eintrag im Cache vorhanden ist, erfolgt die Berechnung $\\textrm{memoized_minimax}(s, d, \\alpha, \\beta)$ nach der folgenden Fallunterscheidung:\n",
    "$$\n",
    "\\begin{align*}\n",
    "&\\textrm{Cache}[s,d] = (`\\textrm{=}`, v, m)                          &&\\implies \\textrm{memoized_minimax}(s, d, \\alpha, \\beta) = v, m \\\\\n",
    "&\\textrm{Cache}[s,d] = (`\\textrm{≤}`, v, m) \\land v \\le \\alpha       &&\\implies \\textrm{memoized_minimax}(s, d, \\alpha, \\beta) = v, m \\\\\n",
    "&\\textrm{Cache}[s,d] = (`\\textrm{≤}`, v, m) \\land \\alpha < v < \\beta &&\\implies \\textrm{memoized_minimax}(s, d, \\alpha, \\beta) = \\textrm{minimax}(s, d, \\alpha, v) \\\\\n",
    "&\\textrm{Cache}[s,d] = (`\\textrm{≤}`, v, m) \\land \\beta \\le v        &&\\implies \\textrm{memoized_minimax}(s, d, \\alpha, \\beta) = \\textrm{minimax}(s, d, \\alpha, \\beta) \\\\\n",
    "&\\textrm{Cache}[s,d] = (`\\textrm{≥}`, v, m) \\land v \\ge \\beta        &&\\implies \\textrm{memoized_minimax}(s, d, \\alpha, \\beta) = v, m \\\\\n",
    "&\\textrm{Cache}[s,d] = (`\\textrm{≥}`, v, m) \\land \\alpha < v < \\beta &&\\implies \\textrm{memoized_minimax}(s, d, \\alpha, \\beta) = \\textrm{minimax}(s, d, v, \\beta) \\\\\n",
    "&\\textrm{Cache}[s,d] = (`\\textrm{≥}`, v, m) \\land v \\le \\alpha       &&\\implies \\textrm{memoized_minimax}(s, d, \\alpha, \\beta) = \\textrm{minimax}(s, d, \\alpha, \\beta) \\\\\n",
    "\\end{align*}\n",
    "$$"
   ]
  },
  {
   "cell_type": "markdown",
   "metadata": {},
   "source": [
    "## Memoisierungsfunktion\n",
    "\n",
    "Die Klasse wird um eine Variable `cache` erweitert. Initial ist `cache` ein leeres Dictionary, welches als Schlüssel eine Repräsentation eines Boards als Tupel annimmt und als Wert ein Tripel bestehend aus einem einzelnen Erkennungszeichen, einer Board-Beurteilung und einem Zug zurückgibt."
   ]
  },
  {
   "cell_type": "markdown",
   "metadata": {},
   "source": [
    "Die Memoisierungsfunktion `memoize_minimax` nimmt die Minimax-Funktion `minimax` als Argument und gibt eine memoisierte Version `minimax_memoized` dieser Funktion zurück.\n",
    "\n",
    "Die memoisierte Funktion `minimax_memoized` versucht zunächst, den Rückgabewert der Ursprungsfunktion aus dem `cache` auszulesen. Wenn der `cache` ein Ergebnis für den berechneten Identifikator enthält, wird die Hilfsfunktion `get_from_cache` aufgerufen und das Ergebnis zurückgegeben. Andernfalls wird die Ursprungsfunktion `minimax` aufgerufen, der Rückgabewert wird für die verwendeten Argumente im `cache` hinterlegt und schlussendlich wird der berechnete Wert zurückgegeben. Zum Speichern des neuen Rückgabewertes wird die Hilfsfunktion `store_in_cache` verwendet.  \n",
    "Der Cache wird bei jedem Bauernzug, Schlagen einer Figur und veränderten Rochade- oder En-Passant-Rechten zurückgesetzt, da in diesem Fall die meisten der zuvor berechneten Stellungen nicht wieder auftreten können und dies den Speicherbedarf des Programms verringert.\n",
    "\n",
    "Da die Memoisierungsfunktion in den weiteren ChessAI-Versionen ebenfalls verwendet werden soll, wird diese als Dekorator-Funktion implementiert."
   ]
  },
  {
   "cell_type": "code",
   "execution_count": null,
   "metadata": {},
   "outputs": [],
   "source": [
    "class Exercise06AI(Exercise06AI):  # type: ignore\n",
    "    @staticmethod\n",
    "    def memoize_minimax(minimax: Callable):\n",
    "        def minimax_memoized(\n",
    "            self,\n",
    "            board: chess.Board,\n",
    "            depth: int,\n",
    "            current_evaluation: int,\n",
    "            alpha: int = -Exercise06AI.LIMIT,\n",
    "            beta: int = Exercise06AI.LIMIT,\n",
    "        ):\n",
    "            key = Exercise04AI.get_key(board, depth)\n",
    "            self.stats[-1][\"cache_tries\"] += 1\n",
    "            if key in self.cache:\n",
    "                self.stats[-1][\"cache_hits\"] += 1\n",
    "                return self.get_from_cache(minimax, key, board, depth, current_evaluation, alpha, beta)\n",
    "            result = minimax(self, board, depth, current_evaluation, alpha, beta)\n",
    "            self.store_in_cache(key, result, alpha, beta)\n",
    "            return result\n",
    "\n",
    "        return minimax_memoized"
   ]
  },
  {
   "cell_type": "markdown",
   "metadata": {},
   "source": [
    "Die Funktion `minimax` ruft die Minimax Funktion der Elternklasse `Exercise05AI` auf, wendet allerdings die implementierte Dekoratorfunktion darauf an, wodurch die Minimax Funktion um die Memoisierung erweitert wird."
   ]
  },
  {
   "cell_type": "code",
   "execution_count": null,
   "metadata": {},
   "outputs": [],
   "source": [
    "class Exercise06AI(Exercise06AI):  # type: ignore\n",
    "    @Exercise06AI.memoize_minimax\n",
    "    def minimax(self, *args) -> int:\n",
    "        \"\"\"Memoized version of the Exercise05AI minimax implementation.\"\"\"\n",
    "        return super().minimax(*args)"
   ]
  },
  {
   "cell_type": "markdown",
   "metadata": {},
   "source": [
    "### Speicherung im Cache\n",
    "\n",
    "Das Speichern der Ergebnisse wird von der Funktion `store_in_cache` übernommen. Diese bekommt als Argumente den Cache-Identifikator des aktuellen Boards (`key`), das berechnete Minimax-Ergebnis als Tupel (`result`), die Grenzwerte $\\textrm{alpha}$ und $\\textrm{beta}$ und speichert das Ergebnis im Cache ab. Hierbei werden die oben vorgestellten Invarianten beachtet."
   ]
  },
  {
   "cell_type": "code",
   "execution_count": null,
   "metadata": {},
   "outputs": [],
   "source": [
    "class Exercise06AI(Exercise06AI):  # type: ignore\n",
    "    def store_in_cache(self, key: tuple, result: tuple, alpha: int, beta: int) -> None:\n",
    "        \"\"\"Stores the result of a minimax computation in the cache.\"\"\"\n",
    "        evaluation, move = result\n",
    "        if evaluation <= alpha:\n",
    "            self.cache[key] = (\"≤\", evaluation, move)\n",
    "        elif evaluation < beta:\n",
    "            self.cache[key] = (\"=\", evaluation, move)\n",
    "        else:\n",
    "            self.cache[key] = (\"≥\", evaluation, move)"
   ]
  },
  {
   "cell_type": "markdown",
   "metadata": {},
   "source": [
    "### Abrufen aus dem Cache\n",
    "\n",
    "Die Funktion `get_from_cache` nimmt als Parameter die Funktion `minimax`, den Cache-Identifikator für das aktuelle Board (`key`), sowie alle Parameter der Funktion `minimax` entgegen und gibt ein Tupel der Form $(\\textrm{evaluation}, \\textrm{move})$ zurück. Zunächst wird das Tripel $ (\\textrm{flag}, \\textrm{evaluation}, \\textrm{move}) $ mit dem gegebenen `key` aus dem Cache extrahiert. Anschließend erfolgt die oben vorgestellte Fallunterscheidung."
   ]
  },
  {
   "cell_type": "code",
   "execution_count": null,
   "metadata": {},
   "outputs": [],
   "source": [
    "class Exercise06AI(Exercise06AI):  # type: ignore\n",
    "    def get_from_cache(\n",
    "        self,\n",
    "        minimax: Callable,\n",
    "        key: tuple,\n",
    "        board: chess.Board,\n",
    "        depth: int,\n",
    "        current_eval: int,\n",
    "        alpha: int,\n",
    "        beta: int,\n",
    "    ) -> tuple[int, chess.Move | None]:\n",
    "        \"\"\"Gets a result from the cache if possible.\"\"\"\n",
    "        flag, evaluation, move = self.cache[key]\n",
    "        if flag == \"=\":\n",
    "            return evaluation, move\n",
    "        elif flag == \"≤\":\n",
    "            if evaluation <= alpha:\n",
    "                return evaluation, move\n",
    "            elif evaluation < beta:\n",
    "                result = minimax(self, board, depth, current_eval, alpha, evaluation)\n",
    "                self.store_in_cache(key, result, alpha, evaluation)\n",
    "                return result\n",
    "            else:\n",
    "                result = minimax(self, board, depth, current_eval, alpha, beta)\n",
    "                self.store_in_cache(key, result, alpha, beta)\n",
    "                return result\n",
    "        else:\n",
    "            if evaluation <= alpha:\n",
    "                result = minimax(self, board, depth, current_eval, alpha, beta)\n",
    "                self.store_in_cache(key, result, alpha, beta)\n",
    "                return result\n",
    "            elif evaluation < beta:\n",
    "                result = minimax(self, board, depth, current_eval, evaluation, beta)\n",
    "                self.store_in_cache(key, result, evaluation, beta)\n",
    "                return result\n",
    "            else:\n",
    "                return evaluation, move"
   ]
  },
  {
   "cell_type": "markdown",
   "metadata": {},
   "source": [
    "Die Funktion `get_next_middle_game_move` ruft die gleichnamige Funktion der Elternklasse auf, speichert aber zusätzliche, auf den Cache bezogene, Metriken in dem `stats` Dictionary, welche zur Beurteilung der Memoisierung verwendet werden."
   ]
  },
  {
   "cell_type": "code",
   "execution_count": null,
   "metadata": {},
   "outputs": [],
   "source": [
    "class Exercise06AI(Exercise06AI):  # type: ignore\n",
    "    def get_next_middle_game_move(self, board: chess.Board) -> chess.Move:\n",
    "        \"\"\"Gets the best next move.\"\"\"\n",
    "        self.stats[-1][\"cache_tries\"] = 0\n",
    "        self.stats[-1][\"cache_hits\"] = 0\n",
    "        next_move = super().get_next_middle_game_move(board)\n",
    "        if board.is_irreversible(next_move):\n",
    "            self.cache.clear()\n",
    "            self.stats[-1][\"cache_cleared\"] = True\n",
    "        else:\n",
    "            self.stats[-1][\"cache_cleared\"] = False\n",
    "        self.stats[-1][\"cache_size_mb\"] = round(sys.getsizeof(self.cache) / (1024 * 1024), 2)\n",
    "        return next_move"
   ]
  },
  {
   "cell_type": "markdown",
   "metadata": {},
   "source": [
    "## Debugging Bereich\n",
    "\n",
    "Die folgenden Zellen enthalten Unit-Tests der oben implementierten Funktionen."
   ]
  },
  {
   "cell_type": "code",
   "execution_count": null,
   "metadata": {},
   "outputs": [],
   "source": [
    "from AIBaseClass import ChessAI\n",
    "import Exercise02AI as Exercise02AI_\n",
    "import Exercise04AI as Exercise04AI_"
   ]
  },
  {
   "cell_type": "code",
   "execution_count": null,
   "metadata": {},
   "outputs": [],
   "source": [
    "# Create player and board\n",
    "unit_test_player = Exercise06AI(player_name=\"Ex06AI\", search_depth=3)\n",
    "board = chess.Board(\"5rk1/1b3p2/8/3p4/3p2P1/2Q4B/5P1K/R3R3 b - - 0 36\")\n",
    "board"
   ]
  },
  {
   "cell_type": "markdown",
   "metadata": {},
   "source": [
    "Um die Funktionsweise der Methode `store_in_cache` zu validieren, wird ein statisches Ergebnis mit dem Evaluierungswert $10$ im Cache abgespeichert. Die `store_in_cache`-Funktion wird hierbei dreimal mit unterschiedlichen $alpha$ und $beta$ Werten aufgerufen. Getestet wird hierbei, ob für jeden Aufruf die richtige $\textrm{flag}$ gespeichert wird. Es gilt:\n",
    "\n",
    "$$\n",
    "\\textrm{flag} = \\begin{cases}\n",
    "`\\textrm{≤}` \\texttt{ g.d.w. } \\textrm{evaluation} <= \\textrm{alpha} \\\\\n",
    "`\\textrm{=}` \\texttt{ g.d.w. } \\textrm{alpha} < \\textrm{evaluation} < \\textrm{beta} \\\\\n",
    "`\\textrm{≥}` \\texttt{ sonst.}\n",
    "\\end{cases}\n",
    "$$"
   ]
  },
  {
   "cell_type": "code",
   "execution_count": null,
   "metadata": {},
   "outputs": [],
   "source": [
    "# Test cache store function\n",
    "def test_store_in_cache(unit_test_player: ChessAI, board: chess.Board):\n",
    "    unit_test_player.cache = {}  # Clear cache\n",
    "    test_result = (10, chess.Move.from_uci(\"d4c3\"))\n",
    "    test_key_1 = (\"test\", 1)\n",
    "    unit_test_player.store_in_cache(test_key_1, test_result, alpha=5, beta=15)\n",
    "    test_key_2 = (\"test\", 2)\n",
    "    unit_test_player.store_in_cache(test_key_2, test_result, alpha=12, beta=15)\n",
    "    test_key_3 = (\"test\", 3)\n",
    "    unit_test_player.store_in_cache(test_key_3, test_result, alpha=5, beta=8)\n",
    "    print(f\"Cache: {unit_test_player.cache}\")\n",
    "    assert (\n",
    "        unit_test_player.cache[test_key_1] == (\"=\", *test_result)\n",
    "    ), \"Cache result for '=' does not match expected value!\"\n",
    "    assert (\n",
    "        unit_test_player.cache[test_key_2] == (\"≤\", *test_result)\n",
    "    ),\"Cache result for '≤' does not match expected value!\"\n",
    "    assert (\n",
    "        unit_test_player.cache[test_key_3] == (\"≥\", *test_result)\n",
    "    ), \"Cache result for '≥' does not match expected value!\""
   ]
  },
  {
   "cell_type": "code",
   "execution_count": null,
   "metadata": {},
   "outputs": [],
   "source": [
    "test_store_in_cache(unit_test_player, board)"
   ]
  },
  {
   "cell_type": "markdown",
   "metadata": {},
   "source": [
    "Um den Minimax mit Alpha-Beta-Pruning und Memoisierung zu testen, wird die Testmethode der `Exercise04AI` erneut verwendet, da diese den Cache berücksichtigt. Der Funktionsaufruf erfolgt mit denselben Evaluierungswerten, allerdings mit reduzierten Metriken, da die Memoisierung die Anzahl der berechneten Knoten vermindert."
   ]
  },
  {
   "cell_type": "code",
   "execution_count": null,
   "metadata": {},
   "outputs": [],
   "source": [
    "# Test minimax\n",
    "Exercise04AI_.test_minimax(\n",
    "    unit_test_player,\n",
    "    board,\n",
    "    current_evaluation=1240,\n",
    "    expected_evaluation=325,\n",
    "    expected_move=\"d4c3\",\n",
    "    expected_nodes=2336,\n",
    "    expected_cache_tries=2788,\n",
    "    expected_cache_hits=557,\n",
    "    expected_cache_elements=2231,\n",
    ")"
   ]
  },
  {
   "cell_type": "markdown",
   "metadata": {},
   "source": [
    "Um zu validieren, dass die Memoisierung das gewünschte Ergebnis zurückliefert, wird die memoisierte Minimax-Testfunktion der `Exercise04AI` mit denselben Evaluierungsparametern wie zuvor aufgerufen. Das Ergebnis der Funktion soll dasselbe sein, es soll jedoch nur einmal auf den Cache zugegriffen werden, wodurch direkt das richtige Ergebnis zurückgeliefert werden soll."
   ]
  },
  {
   "cell_type": "code",
   "execution_count": null,
   "metadata": {},
   "outputs": [],
   "source": [
    "# Test minimax again (now memoized)\n",
    "Exercise04AI_.test_memoized_minimax(\n",
    "    unit_test_player,\n",
    "    board,\n",
    "    current_evaluation=1240,\n",
    "    expected_evaluation=325,\n",
    "    expected_move=\"d4c3\",\n",
    "    expected_nodes=0,\n",
    "    expected_cache_tries=1,\n",
    "    expected_cache_hits=1,\n",
    "    expected_cache_elements=2231,\n",
    ")"
   ]
  },
  {
   "cell_type": "markdown",
   "metadata": {},
   "source": [
    "Um die Funktion `get_next_middle_game_move` zu testen, wird überprüft, ob diese korrekterweise den Zug zurückgibt, in welchem die Dame durch den schwarzen Bauern geschlagen wird. Durch die implementierte Memoisierung sollen hierbei keine neuen Knoten untersucht werden."
   ]
  },
  {
   "cell_type": "code",
   "execution_count": null,
   "metadata": {},
   "outputs": [],
   "source": [
    "# Test next move function (with memoized minimax result)\n",
    "Exercise02AI_.test_next_move(\n",
    "    unit_test_player,\n",
    "    board,\n",
    "    expected_move=\"d4c3\",\n",
    "    expected_nodes=0,\n",
    ")"
   ]
  },
  {
   "cell_type": "markdown",
   "metadata": {},
   "source": [
    "Abschließend wird die `reset`-Funktion analog zur `Exercise04AI` getestet."
   ]
  },
  {
   "cell_type": "code",
   "execution_count": null,
   "metadata": {},
   "outputs": [],
   "source": [
    "# Test reset function\n",
    "Exercise04AI_.test_reset(unit_test_player, board)"
   ]
  },
  {
   "cell_type": "code",
   "execution_count": null,
   "metadata": {},
   "outputs": [],
   "source": []
  }
 ],
 "metadata": {
  "kernelspec": {
   "display_name": "Python 3 (ipykernel)",
   "language": "python",
   "name": "python3"
  },
  "language_info": {
   "codemirror_mode": {
    "name": "ipython",
    "version": 3
   },
   "file_extension": ".py",
   "mimetype": "text/x-python",
   "name": "python",
   "nbconvert_exporter": "python",
   "pygments_lexer": "ipython3",
   "version": "3.10.4"
  }
 },
 "nbformat": 4,
 "nbformat_minor": 2
}
