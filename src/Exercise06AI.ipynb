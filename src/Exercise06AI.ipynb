{
 "cells": [
  {
   "cell_type": "code",
   "execution_count": null,
   "metadata": {},
   "outputs": [],
   "source": [
    "%%html\n",
    "<style>\n",
    ".container {\n",
    "  width: 100%;\n",
    "}\n",
    "</style>"
   ]
  },
  {
   "cell_type": "code",
   "execution_count": null,
   "metadata": {},
   "outputs": [],
   "source": [
    "%load_ext nb_mypy"
   ]
  },
  {
   "cell_type": "code",
   "execution_count": null,
   "metadata": {},
   "outputs": [],
   "source": [
    "import nbimporter\n",
    "from AIBaseClass import ChessAI\n",
    "from Exercise05AI import Exercise05AI\n",
    "from Exercise04AI import Exercise04AI"
   ]
  },
  {
   "cell_type": "markdown",
   "metadata": {},
   "source": [
    "# Aufgabe 06: Minimax mit Alpha-Beta-Pruning und Memoisierung\n",
    "\n",
    "Dieses Notebook implementiert den Minimax-Algorithmus mit Alpha-Beta-Pruning und Memoisierung."
   ]
  },
  {
   "cell_type": "code",
   "execution_count": null,
   "metadata": {},
   "outputs": [],
   "source": [
    "import chess_custom as chess\n",
    "from typing import Any\n",
    "\n",
    "class Exercise06AI(Exercise05AI):\n",
    "    \"\"\"Chooses middle game moves using minimax algorithm, alpha-beta-pruning and memoization\"\"\"\n",
    "    def __init__(self, player_name: str, search_depth: int = 3) -> None:\n",
    "        super().__init__(player_name, search_depth)\n",
    "        self.cache: dict[tuple, Any] = {}\n",
    "        self.cache_hits = 0\n",
    "    \n",
    "    def reset(self) -> None:\n",
    "        \"\"\"Resets all internal variables\"\"\"\n",
    "        super().reset()\n",
    "        self.cache = {}\n",
    "        self.cache_hits = 0"
   ]
  },
  {
   "cell_type": "code",
   "execution_count": null,
   "metadata": {},
   "outputs": [],
   "source": [
    "from typing import Any, Callable\n",
    "\n",
    "class Exercise06AI(Exercise06AI): # type: ignore\n",
    "    \n",
    "    @staticmethod\n",
    "    def memoize_minimax(minimax: Callable):\n",
    "        def minimax_memoized(self, board: chess.Board, depth: int, last_eval: int,\n",
    "                             alpha: int = -Exercise06AI.LIMIT, beta: int = Exercise06AI.LIMIT):\n",
    "            key = Exercise04AI.get_key(board, depth)\n",
    "            if key in self.cache:\n",
    "                self.cache_hits += 1\n",
    "                return self.get_from_cache(minimax, key, board, depth, last_eval, alpha, beta)\n",
    "            result = minimax(self, board, depth, last_eval, alpha, beta)\n",
    "            self.store_in_cache(key, result, alpha, beta)\n",
    "            return result\n",
    "\n",
    "        return minimax_memoized\n",
    "    \n",
    "    @memoize_minimax\n",
    "    def minimax(self, *args) -> int:\n",
    "        \"\"\"Memoized version of the Exercise05AI minimax implementation\"\"\"\n",
    "        return super().minimax(*args)\n",
    "    \n",
    "    def store_in_cache(self, key: tuple, result: tuple, alpha: int, beta: int) -> None:\n",
    "        \"\"\"Stores the result of a minimax computation in the cache.\"\"\"\n",
    "        evaluation, move = result\n",
    "        if evaluation <= alpha:\n",
    "            self.cache[key] = (\"≤\", evaluation, move)\n",
    "        elif evaluation < beta:\n",
    "            self.cache[key] = (\"=\", evaluation, move)\n",
    "        else:\n",
    "            self.cache[key] = (\"≥\", evaluation, move)\n",
    "            \n",
    "    def get_from_cache(self, minimax: Callable, key: tuple, board: chess.Board,\n",
    "                       depth: int, last_eval: int, alpha: int, beta: int) -> tuple:\n",
    "        \"\"\"Gets a result from the cache if possible.\"\"\"\n",
    "        flag, evaluation, move = self.cache[key]\n",
    "        if flag == \"=\":\n",
    "            return evaluation, move\n",
    "        elif flag == \"≤\":\n",
    "            if evaluation <= alpha:\n",
    "                return evaluation, move\n",
    "            elif evaluation < beta:\n",
    "                result = minimax(self, board, depth, last_eval, alpha, evaluation)\n",
    "                self.store_in_cache(key, result, alpha, evaluation)\n",
    "                return result\n",
    "            else:\n",
    "                result = minimax(self, board, depth, last_eval, alpha, beta)\n",
    "                self.store_in_cache(key, result, alpha, beta)\n",
    "                return result\n",
    "        else:\n",
    "            if evaluation <= alpha:\n",
    "                result = minimax(self, board, depth, last_eval, alpha, beta)\n",
    "                self.store_in_cache(key, result, alpha, beta)\n",
    "                return result\n",
    "            elif evaluation < beta:\n",
    "                result = minimax(self, board, depth, last_eval, evaluation, beta)\n",
    "                self.store_in_cache(key, result, evaluation, beta)\n",
    "                return result\n",
    "            else:\n",
    "                return evaluation, move"
   ]
  },
  {
   "cell_type": "markdown",
   "metadata": {},
   "source": [
    "## Debugging Bereich\n",
    "\n",
    "Die folgenden Zellen enthalten Code zum Testen der oben implementierten Funktionen."
   ]
  },
  {
   "cell_type": "code",
   "execution_count": null,
   "metadata": {},
   "outputs": [],
   "source": [
    "from Exercise03AI import Exercise03AI"
   ]
  },
  {
   "cell_type": "code",
   "execution_count": null,
   "metadata": {},
   "outputs": [],
   "source": [
    "board = chess.Board(\"5rk1/1b3p2/8/3p4/3p2P1/2Q4B/5P1K/R3R3 w - - 0 36\")\n",
    "board.push(chess.Move.from_uci(\"h2h1\"))\n",
    "board"
   ]
  },
  {
   "cell_type": "code",
   "execution_count": null,
   "metadata": {
    "scrolled": false
   },
   "outputs": [],
   "source": [
    "%%time\n",
    "DEPTH = 4\n",
    "player3 = Exercise03AI(\"Testplayer\", DEPTH)\n",
    "#print(player.minimax(board, DEPTH))\n",
    "move = player3.get_next_middle_game_move(board)\n",
    "print(move)"
   ]
  },
  {
   "cell_type": "code",
   "execution_count": null,
   "metadata": {},
   "outputs": [],
   "source": [
    "%%time\n",
    "DEPTH = 4\n",
    "player5 = Exercise05AI(\"Testplayer\", DEPTH)\n",
    "#print(player.minimax(board, DEPTH))\n",
    "move = player5.get_next_middle_game_move(board)\n",
    "print(move)"
   ]
  },
  {
   "cell_type": "code",
   "execution_count": null,
   "metadata": {},
   "outputs": [],
   "source": [
    "%%time\n",
    "DEPTH = 4\n",
    "player6 = Exercise06AI(\"Testplayer\", DEPTH)\n",
    "#print(player.minimax(board, DEPTH))\n",
    "move = player6.get_next_middle_game_move(board)\n",
    "print(move)\n",
    "print(player6.cache_hits)"
   ]
  },
  {
   "cell_type": "code",
   "execution_count": null,
   "metadata": {},
   "outputs": [],
   "source": [
    "from IPython.display import clear_output, display\n",
    "player5 = Exercise05AI(\"Testplayer\", 3)\n",
    "player3 = Exercise03AI(\"Testplayer\", 3)\n",
    "move = player3.random.choice(list(board.legal_moves))\n",
    "board.push(move)\n",
    "for _ in range(10):\n",
    "    move_1, eval_1 = player3.get_next_middle_game_move(board)\n",
    "    player3.last_evaluation = None\n",
    "    print(move_1, eval_1, player3.last_evaluation)\n",
    "    move_2, eval_2 = player5.get_next_middle_game_move(board)\n",
    "    player5.last_evaluation = None\n",
    "    print(move_2, eval_2, player5.last_evaluation)\n",
    "    move = player3.random.choice(list(board.legal_moves))\n",
    "    board.push(move)"
   ]
  },
  {
   "cell_type": "code",
   "execution_count": null,
   "metadata": {},
   "outputs": [],
   "source": [
    "%%time\n",
    "DEPTH = 3\n",
    "board = chess.Board()\n",
    "#board.set_fen(\"4k3/8/2n5/7K/5q2/2N5/8/2B5 b - - 0 1\")\n",
    "player = Exercise04AI(\"Testplayer\", DEPTH)\n",
    "for _ in range(10):\n",
    "    board.push(sorted(board.legal_moves, key=lambda move: move.uci())[0])\n",
    "    move = player.get_next_middle_game_move(board)\n",
    "    print(move)"
   ]
  },
  {
   "cell_type": "code",
   "execution_count": null,
   "metadata": {},
   "outputs": [],
   "source": [
    "from os.path import join\n",
    "\n",
    "with open(join(\"..\", \"games\", \"2022-01-15_20-18-57-907777.pgn\")) as pgn:\n",
    "    first_game = chess.pgn.read_game(pgn)\n",
    "\n",
    "# Iterate through all moves and play them on a board.\n",
    "board = first_game.board()\n",
    "for move in first_game.mainline_moves():\n",
    "    board.push(move)\n",
    "for i in range(220):\n",
    "    board.pop()"
   ]
  },
  {
   "cell_type": "code",
   "execution_count": null,
   "metadata": {},
   "outputs": [],
   "source": [
    "%%time\n",
    "DEPTH = 2\n",
    "#board = chess.Board()\n",
    "#board.set_fen(\"4k3/8/2n5/7K/5q2/2N5/8/2B5 b - - 0 1\")\n",
    "player = Exercise04AI(\"Testplayer\", DEPTH)\n",
    "#print(player.minimax(board, DEPTH))\n",
    "move = player.get_next_middle_game_move(board)\n",
    "print(move)\n",
    "player.cache_hits"
   ]
  },
  {
   "cell_type": "code",
   "execution_count": null,
   "metadata": {},
   "outputs": [],
   "source": [
    "board = chess.Board(\"7B/pbpk4/1p6/2n1pp2/6p1/4P3/P1P2PNP/RNq1K1R1 w - - 0 1\")\n",
    "player = Exercise04AI(\"Testplayer\", 3)\n",
    "print(player.evaluate(board))\n",
    "board"
   ]
  }
 ],
 "metadata": {
  "kernelspec": {
   "display_name": "Python 3 (ipykernel)",
   "language": "python",
   "name": "python3"
  },
  "language_info": {
   "codemirror_mode": {
    "name": "ipython",
    "version": 3
   },
   "file_extension": ".py",
   "mimetype": "text/x-python",
   "name": "python",
   "nbconvert_exporter": "python",
   "pygments_lexer": "ipython3",
   "version": "3.10.2"
  }
 },
 "nbformat": 4,
 "nbformat_minor": 2
}
