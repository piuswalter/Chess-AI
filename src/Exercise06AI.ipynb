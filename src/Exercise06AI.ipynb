{
 "cells": [
  {
   "cell_type": "code",
   "execution_count": null,
   "metadata": {},
   "outputs": [],
   "source": [
    "%%html\n",
    "<style>\n",
    ".container {\n",
    "  width: 100%;\n",
    "}\n",
    "</style>"
   ]
  },
  {
   "cell_type": "code",
   "execution_count": null,
   "metadata": {},
   "outputs": [],
   "source": [
    "%load_ext nb_mypy"
   ]
  },
  {
   "cell_type": "code",
   "execution_count": null,
   "metadata": {},
   "outputs": [],
   "source": [
    "import nbimporter\n",
    "from AIBaseClass import ChessAI\n",
    "from Exercise05AI import Exercise05AI\n",
    "from Exercise04AI import Exercise04AI"
   ]
  },
  {
   "cell_type": "markdown",
   "metadata": {},
   "source": [
    "# Aufgabe 06: Minimax mit Alpha-Beta-Pruning und Memoisierung\n",
    "\n",
    "Dieses Notebook implementiert den Minimax-Algorithmus mit Alpha-Beta-Pruning und Memoisierung."
   ]
  },
  {
   "cell_type": "code",
   "execution_count": null,
   "metadata": {},
   "outputs": [],
   "source": [
    "import chess_custom as chess\n",
    "from typing import Any\n",
    "\n",
    "class Exercise06AI(Exercise05AI):\n",
    "    \"\"\"Chooses middle game moves using minimax algorithm, alpha-beta-pruning and memoization\"\"\"\n",
    "    def __init__(self, **kwargs) -> None:\n",
    "        super().__init__(**kwargs)\n",
    "        self.cache: dict[tuple, Any] = {}\n",
    "        self.cache_hits = 0\n",
    "    \n",
    "    def reset(self) -> None:\n",
    "        \"\"\"Resets all internal variables\"\"\"\n",
    "        super().reset()\n",
    "        self.cache = {}\n",
    "        self.cache_hits = 0"
   ]
  },
  {
   "cell_type": "markdown",
   "metadata": {},
   "source": [
    "## Memoisierungsfunktion\n",
    "\n",
    "Die Klasse wird um eine Variable `cache` erweitert. Initial ist `cache` ein leeres Dictionary, welches als Schlüssel ein Tupel annimmt und als Wert ein beliebiges Objekt zurückgibt.\n",
    "\n",
    "Die Memoisierungsfunktion `memoize_minimax` nimmt die Minimax-Funktion `minimax` als Argument und gibt eine memoisierte Version `minimax_memoized` dieser Funktion zurück.\n",
    "\n",
    "Die memoisierte Funktion `minimax_memoized` versucht zunächst, den Rückgabewert der Ursprungsfunktion aus dem `cache` auszulesen. Dazu wird die Hilsfunktion `get_from_cache` verwendet. Beinhaltet der `cache` ein Ergebnis für die gegebenen Argumente `args`, so wird dieses zurückgegeben. Andernfalls wird die Ursprungsfunktion `minimax` aufgerufen, der Rückgabewert wird für die verwendeten Argumente im `cache` hinterlegt und schlussendlich wird der berechnete Wert zurückgegeben. Zum Speichern des neuen Rückgabewertes wird die Hilfsfunktion `store_in_cache` verwendet.\n",
    "\n",
    "### Cache-Verwaltung\n",
    "\n",
    "Im Vergleich zu `Exercise04AI` sind die Argumente $alpha$ und $beta$, welche für das Alpha-Beta-Pruning benötigt werden, zum Funktionsaufruf der Methode `minimax` hinzugekommen. Demzufolge wird die Interaktion mit dem Cache überarbeitet.\n",
    "\n",
    "#### Speicherung im Cache\n",
    "\n",
    "Bisher war `result` ein Tupel der Form $$result = (evaluation, move)$$\n",
    "Um Alpha-Beta-Pruning memoisieren zu können, wird nun nicht mehr `result` im Cache gespeichert, sondern ein Tripel der Form $$ value = (flag, evaluation, move) $$ mit $$ flag \\in \\{ \\; \\text{'≤'}, \\text{'='}, \\text{'≥'} \\; \\} $$\n",
    "\n",
    "wobei gilt $$flag = \\begin{cases}\n",
    "\\text{'≤'} \\; \\text{wenn} \\; evaluation \\le alpha\\\\\n",
    "\\text{'='} \\; \\text{wenn} \\; evaluation < beta\\\\\n",
    "\\text{'≥'} \\; \\text{sonst}\n",
    "\\end{cases}$$\n",
    "\n",
    "Das Speichern dieses Tupels wird von der Funktion `store_in_cache` übernommen.\n",
    "\n",
    "#### Abrufen aus dem Cache\n",
    "\n",
    "Die Funktion `get_from_cache` nimmt als Parameter die Funktion `minimax`, das Tupel `key`, sowie alle Parameter der Funktion `minimax` entgegen und gibt ein Tupel der Form `result` zurück. Zunächst wird das Tripel der Form $$ value = (flag, evaluation, move) $$ mit dem gegebenen `key` aus dem Cache extrahiert. Es folgt eine Fallunterscheidung nach dem Wert von $flag$:\n",
    "\n",
    "1. Fall: $flag = \\text{'='}$\n",
    "\n",
    "    In diesem Fall wird das Tupel $(evaluation, move)$ zurückgegeben.\n",
    "\n",
    "2. Fall: $flag = \\text{'≤'}$\n",
    "\n",
    "    Ist $evaluation \\le alpha$, so kann das Tupel $(evaluation, move)$ direkt zurückgegeben werden. Ist $evaluation < beta$, so wird die Funktion `minimax` mit $alpha$ und $evaluation$ aufgerufen, andernfalls gilt $evaluation \\ge beta$ und die Funktion `minimax` wird mit den ursprünglichen Grenzen $alpha$ und $beta$ aufgerufen. Das Ergebnis wird im Cache gespeichert und zurückgegeben.\n",
    "\n",
    "3. Fall: Trifft keiner der vorherigen Fälle zu, muss $flag = \\text{'≥'}$ gelten und es folgt eine erneute Fallunterscheidung:\n",
    "\n",
    "    Ist $evaluation \\le alpha$, so wird die Funktion `minimax` mit $alpha$ und $beta$ aufgerufen. Ist $evaluation < beta$, so wird `minimax` stattdessen mit $evaluation$ und $beta$ aufgerufen. Das Ergebnis wird jeweils im Cache gespeichert und zurückgegeben.\n",
    "\n",
    "    Trifft keiner der beiden Fälle zu, muss $evaluation > beta$ gelten und das Tupel $(evaluation, move)$ kann direkt zurückgegeben werden.\n"
   ]
  },
  {
   "cell_type": "code",
   "execution_count": null,
   "metadata": {},
   "outputs": [],
   "source": [
    "from typing import Any, Callable\n",
    "\n",
    "class Exercise06AI(Exercise06AI): # type: ignore\n",
    "    \n",
    "    @staticmethod\n",
    "    def memoize_minimax(minimax: Callable):\n",
    "        def minimax_memoized(self, board: chess.Board, depth: int, current_eval: int,\n",
    "                             alpha: int = -Exercise06AI.LIMIT, beta: int = Exercise06AI.LIMIT):\n",
    "            key = Exercise04AI.get_key(board, depth)\n",
    "            if key in self.cache:\n",
    "                self.cache_hits += 1\n",
    "                return self.get_from_cache(minimax, key, board, depth, current_eval, alpha, beta)\n",
    "            result = minimax(self, board, depth, current_eval, alpha, beta)\n",
    "            self.store_in_cache(key, result, alpha, beta)\n",
    "            return result\n",
    "\n",
    "        return minimax_memoized\n",
    "    \n",
    "    @memoize_minimax\n",
    "    def minimax(self, *args) -> int:\n",
    "        \"\"\"Memoized version of the Exercise05AI minimax implementation\"\"\"\n",
    "        return super().minimax(*args)\n",
    "    \n",
    "    def store_in_cache(self, key: tuple, result: tuple, alpha: int, beta: int) -> None:\n",
    "        \"\"\"Stores the result of a minimax computation in the cache.\"\"\"\n",
    "        evaluation, move = result\n",
    "        if evaluation <= alpha:\n",
    "            self.cache[key] = (\"≤\", evaluation, move)\n",
    "        elif evaluation < beta:\n",
    "            self.cache[key] = (\"=\", evaluation, move)\n",
    "        else:\n",
    "            self.cache[key] = (\"≥\", evaluation, move)\n",
    "            \n",
    "    def get_from_cache(self, minimax: Callable, key: tuple, board: chess.Board,\n",
    "                       depth: int, current_eval: int, alpha: int, beta: int) -> tuple:\n",
    "        \"\"\"Gets a result from the cache if possible.\"\"\"\n",
    "        flag, evaluation, move = self.cache[key]\n",
    "        if flag == \"=\":\n",
    "            return evaluation, move\n",
    "        elif flag == \"≤\":\n",
    "            if evaluation <= alpha:\n",
    "                return evaluation, move\n",
    "            elif evaluation < beta:\n",
    "                result = minimax(self, board, depth, current_eval, alpha, evaluation)\n",
    "                self.store_in_cache(key, result, alpha, evaluation)\n",
    "                return result\n",
    "            else:\n",
    "                result = minimax(self, board, depth, current_eval, alpha, beta)\n",
    "                self.store_in_cache(key, result, alpha, beta)\n",
    "                return result\n",
    "        else:\n",
    "            if evaluation <= alpha:\n",
    "                result = minimax(self, board, depth, current_eval, alpha, beta)\n",
    "                self.store_in_cache(key, result, alpha, beta)\n",
    "                return result\n",
    "            elif evaluation < beta:\n",
    "                result = minimax(self, board, depth, current_eval, evaluation, beta)\n",
    "                self.store_in_cache(key, result, evaluation, beta)\n",
    "                return result\n",
    "            else:\n",
    "                return evaluation, move"
   ]
  },
  {
   "cell_type": "markdown",
   "metadata": {},
   "source": [
    "## Debugging Bereich\n",
    "\n",
    "Die folgenden Zellen enthalten Unit-Tests der oben implementierten Funktionen."
   ]
  },
  {
   "cell_type": "code",
   "execution_count": null,
   "metadata": {},
   "outputs": [],
   "source": [
    "# Create player and board\n",
    "unit_test_player = Exercise06AI(player_name=\"Ex06AI\", search_depth=2)\n",
    "board = chess.Board(\"5rk1/1b3p2/8/3p4/3p2P1/2Q4B/5P1K/R3R3 b - - 0 36\")\n",
    "next_move = chess.Move.from_uci('d4c3') # white queen capture\n",
    "board"
   ]
  },
  {
   "cell_type": "code",
   "execution_count": null,
   "metadata": {},
   "outputs": [],
   "source": [
    "# Test cache store function\n",
    "unit_test_player.cache = {}  # Clear cache\n",
    "test_result = (10, next_move)\n",
    "\n",
    "test_key_1 = (\"test\", 1)\n",
    "unit_test_player.store_in_cache(test_key_1, test_result, alpha=5, beta=15)\n",
    "assert unit_test_player.cache[test_key_1] == ('=', *test_result), \"Cache result does not match expected value!\"\n",
    "\n",
    "test_key_2 = (\"test\", 2)\n",
    "unit_test_player.store_in_cache(test_key_2, test_result, alpha=12, beta=15)\n",
    "assert unit_test_player.cache[test_key_2] == ('≤', *test_result), \"Cache result does not match expected value!\"\n",
    "\n",
    "test_key_3 = (\"test\", 3)\n",
    "unit_test_player.store_in_cache(test_key_3, test_result, alpha=5, beta=8)\n",
    "assert unit_test_player.cache[test_key_3] == ('≥', *test_result), \"Cache result does not match expected value!\"\n",
    "\n",
    "unit_test_player.cache"
   ]
  },
  {
   "cell_type": "code",
   "execution_count": null,
   "metadata": {},
   "outputs": [],
   "source": [
    "# Test minimax\n",
    "unit_test_player.cache = {}  # Clear cache\n",
    "evaluation = unit_test_player.full_evaluate(board)  # Get current evaluation\n",
    "mm_evaluation, mm_move = unit_test_player.minimax(board, 2, evaluation)\n",
    "assert mm_evaluation == 355, \"Minimax evaluation does not match expected value!\"\n",
    "assert mm_move.uci() == 'd4c3', \"Minimax move does not match expected value!\"\n",
    "assert unit_test_player.cache != {}, \"Cache is empty!\"\n",
    "mm_evaluation, mm_move, len(unit_test_player.cache)"
   ]
  },
  {
   "cell_type": "code",
   "execution_count": null,
   "metadata": {},
   "outputs": [],
   "source": [
    "# Test minimax again (now memoized)\n",
    "unit_test_player.cache_hits = 0  # Reset cache hits counter\n",
    "mm_evaluation, mm_move = unit_test_player.minimax(board, 2, evaluation)\n",
    "assert mm_evaluation == 355, \"Minimax evaluation does not match expected value!\"\n",
    "assert mm_move.uci() == 'd4c3', \"Minimax move does not match expected value!\"\n",
    "assert unit_test_player.cache_hits == 1, \"Cache was not used correctly!\"\n",
    "mm_evaluation, mm_move, unit_test_player.cache_hits"
   ]
  },
  {
   "cell_type": "code",
   "execution_count": null,
   "metadata": {},
   "outputs": [],
   "source": [
    "# Test next move function (with memoized minimax result)\n",
    "move = unit_test_player.get_next_middle_game_move(board)\n",
    "assert move.uci() == 'd4c3', \"Next move does not match expected value!\"\n",
    "move"
   ]
  },
  {
   "cell_type": "code",
   "execution_count": null,
   "metadata": {},
   "outputs": [],
   "source": [
    "# Test reset function\n",
    "unit_test_player.reset()\n",
    "assert unit_test_player.last_evaluation is None, \"Reset was not successful! (last_evaluation)\"\n",
    "assert unit_test_player.is_king_endgame is False, \"Reset was not successful! (is_king_endgame)\"\n",
    "assert unit_test_player.tables == unit_test_player.PIECE_TO_PST, \"Reset was not successful! (tables)\"\n",
    "assert unit_test_player.cache == {}, \"Reset was not successful! (cache)\"\n",
    "assert unit_test_player.cache_hits == 0, \"Reset was not successful! (cache_hits)\""
   ]
  },
  {
   "cell_type": "markdown",
   "metadata": {},
   "source": [
    "## Temporärer Bereich\n",
    "\n",
    "Der folgende Bereich dient zum temporären Debuggen und kann nicht-funktionierenden Code enthalten. Dieser Bereich wird vor der Abgabe entfernt."
   ]
  },
  {
   "cell_type": "code",
   "execution_count": null,
   "metadata": {},
   "outputs": [],
   "source": [
    "#debug\n",
    "from Exercise03AI import Exercise03AI"
   ]
  },
  {
   "cell_type": "code",
   "execution_count": null,
   "metadata": {},
   "outputs": [],
   "source": [
    "#debug\n",
    "board = chess.Board(\"5rk1/1b3p2/8/3p4/3p2P1/2Q4B/5P1K/R3R3 w - - 0 36\")\n",
    "board.push(chess.Move.from_uci(\"h2h1\"))\n",
    "board"
   ]
  },
  {
   "cell_type": "code",
   "execution_count": null,
   "metadata": {
    "scrolled": false
   },
   "outputs": [],
   "source": [
    "%%time\n",
    "DEPTH = 4\n",
    "player3 = Exercise03AI(\"Testplayer\", DEPTH)\n",
    "#print(player.minimax(board, DEPTH))\n",
    "move = player3.get_next_middle_game_move(board)\n",
    "print(move)"
   ]
  },
  {
   "cell_type": "code",
   "execution_count": null,
   "metadata": {},
   "outputs": [],
   "source": [
    "%%time\n",
    "DEPTH = 4\n",
    "player5 = Exercise05AI(\"Testplayer\", DEPTH)\n",
    "#print(player.minimax(board, DEPTH))\n",
    "move = player5.get_next_middle_game_move(board)\n",
    "print(move)"
   ]
  },
  {
   "cell_type": "code",
   "execution_count": null,
   "metadata": {},
   "outputs": [],
   "source": [
    "%%time\n",
    "DEPTH = 4\n",
    "player6 = Exercise06AI(\"Testplayer\", DEPTH)\n",
    "#print(player.minimax(board, DEPTH))\n",
    "move = player6.get_next_middle_game_move(board)\n",
    "print(move)\n",
    "print(player6.cache_hits)"
   ]
  },
  {
   "cell_type": "code",
   "execution_count": null,
   "metadata": {},
   "outputs": [],
   "source": [
    "#debug\n",
    "from IPython.display import clear_output, display\n",
    "player5 = Exercise05AI(\"Testplayer\", 3)\n",
    "player3 = Exercise03AI(\"Testplayer\", 3)\n",
    "move = player3.random.choice(list(board.legal_moves))\n",
    "board.push(move)\n",
    "for _ in range(10):\n",
    "    move_1, eval_1 = player3.get_next_middle_game_move(board)\n",
    "    player3.last_evaluation = None\n",
    "    print(move_1, eval_1, player3.last_evaluation)\n",
    "    move_2, eval_2 = player5.get_next_middle_game_move(board)\n",
    "    player5.last_evaluation = None\n",
    "    print(move_2, eval_2, player5.last_evaluation)\n",
    "    move = player3.random.choice(list(board.legal_moves))\n",
    "    board.push(move)"
   ]
  },
  {
   "cell_type": "code",
   "execution_count": null,
   "metadata": {},
   "outputs": [],
   "source": [
    "%%time\n",
    "DEPTH = 3\n",
    "board = chess.Board()\n",
    "#board.set_fen(\"4k3/8/2n5/7K/5q2/2N5/8/2B5 b - - 0 1\")\n",
    "player = Exercise04AI(\"Testplayer\", DEPTH)\n",
    "for _ in range(10):\n",
    "    board.push(sorted(board.legal_moves, key=lambda move: move.uci())[0])\n",
    "    move = player.get_next_middle_game_move(board)\n",
    "    print(move)"
   ]
  },
  {
   "cell_type": "code",
   "execution_count": null,
   "metadata": {},
   "outputs": [],
   "source": [
    "#debug\n",
    "from os.path import join\n",
    "\n",
    "with open(join(\"..\", \"games\", \"2022-01-15_20-18-57-907777.pgn\")) as pgn:\n",
    "    first_game = chess.pgn.read_game(pgn)\n",
    "\n",
    "# Iterate through all moves and play them on a board.\n",
    "board = first_game.board()\n",
    "for move in first_game.mainline_moves():\n",
    "    board.push(move)\n",
    "for i in range(220):\n",
    "    board.pop()"
   ]
  },
  {
   "cell_type": "code",
   "execution_count": null,
   "metadata": {},
   "outputs": [],
   "source": [
    "%%time\n",
    "DEPTH = 2\n",
    "#board = chess.Board()\n",
    "#board.set_fen(\"4k3/8/2n5/7K/5q2/2N5/8/2B5 b - - 0 1\")\n",
    "player = Exercise04AI(\"Testplayer\", DEPTH)\n",
    "#print(player.minimax(board, DEPTH))\n",
    "move = player.get_next_middle_game_move(board)\n",
    "print(move)\n",
    "player.cache_hits"
   ]
  },
  {
   "cell_type": "code",
   "execution_count": null,
   "metadata": {},
   "outputs": [],
   "source": [
    "#debug\n",
    "board = chess.Board(\"7B/pbpk4/1p6/2n1pp2/6p1/4P3/P1P2PNP/RNq1K1R1 w - - 0 1\")\n",
    "player = Exercise04AI(\"Testplayer\", 3)\n",
    "print(player.evaluate(board))\n",
    "board"
   ]
  }
 ],
 "metadata": {
  "kernelspec": {
   "display_name": "Python 3 (ipykernel)",
   "language": "python",
   "name": "python3"
  },
  "language_info": {
   "codemirror_mode": {
    "name": "ipython",
    "version": 3
   },
   "file_extension": ".py",
   "mimetype": "text/x-python",
   "name": "python",
   "nbconvert_exporter": "python",
   "pygments_lexer": "ipython3",
   "version": "3.10.2"
  }
 },
 "nbformat": 4,
 "nbformat_minor": 2
}
