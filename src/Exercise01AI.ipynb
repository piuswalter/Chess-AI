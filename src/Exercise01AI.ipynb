{
 "cells": [
  {
   "cell_type": "code",
   "execution_count": null,
   "metadata": {},
   "outputs": [],
   "source": [
    "%%html\n",
    "<style>\n",
    ".container {\n",
    "  width: 100%;\n",
    "}\n",
    "</style>"
   ]
  },
  {
   "cell_type": "code",
   "execution_count": null,
   "metadata": {},
   "outputs": [],
   "source": [
    "%load_ext nb_mypy"
   ]
  },
  {
   "cell_type": "code",
   "execution_count": null,
   "metadata": {},
   "outputs": [],
   "source": [
    "import nbimporter\n",
    "from AIBaseClass import ChessAI"
   ]
  },
  {
   "cell_type": "markdown",
   "metadata": {},
   "source": [
    "# Aufgabe 01: Zufälliges Mittelspiel\n",
    "\n",
    "Die Funktion `get_next_middle_game_move` nimmt das aktuelle Board als Argument und gibt einen zufällig ausgewählten Zug aus der Menge aller gültigen Züge zurück.   \n",
    "Alle restlichen Funktionen werden von der Basisklasse `ChessAI` vererbt. "
   ]
  },
  {
   "cell_type": "code",
   "execution_count": null,
   "metadata": {},
   "outputs": [],
   "source": [
    "import chess\n",
    "\n",
    "class Exercise01AI(ChessAI):\n",
    "\n",
    "    def __init__(self, player_name) -> None:\n",
    "        super().__init__(player_name)\n",
    "\n",
    "    def get_next_middle_game_move(self, board: chess.Board) -> chess.Move | None:\n",
    "        '''Picks a random move out of all legal board moves'''\n",
    "        moves = list(board.legal_moves)\n",
    "        if not moves:\n",
    "            return None\n",
    "        random_index = self.random.randint(0, len(moves) - 1)\n",
    "        return moves[random_index]"
   ]
  }
 ],
 "metadata": {
  "kernelspec": {
   "display_name": "Python 3 (ipykernel)",
   "language": "python",
   "name": "python3"
  },
  "language_info": {
   "codemirror_mode": {
    "name": "ipython",
    "version": 3
   },
   "file_extension": ".py",
   "mimetype": "text/x-python",
   "name": "python",
   "nbconvert_exporter": "python",
   "pygments_lexer": "ipython3",
   "version": "3.10.1"
  }
 },
 "nbformat": 4,
 "nbformat_minor": 2
}
