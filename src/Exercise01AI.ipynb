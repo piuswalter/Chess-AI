{
 "cells": [
  {
   "cell_type": "markdown",
   "metadata": {},
   "source": [
    "# Aufgabe 01: Zufälliges Mittelspiel\n",
    "\n",
    "Die Funktion `get_next_middle_game_move` gibt einen zufällig ausgewählten Zug aus der Menge aller gültigen Züge zurück.   \n",
    "Alle restlichen Funktionen werden von der Basisklasse `ChessAI` vererbt. "
   ]
  },
  {
   "cell_type": "code",
   "execution_count": null,
   "metadata": {},
   "outputs": [],
   "source": [
    "import random\n",
    "import chess\n",
    "\n",
    "class Exercise01AI(ChessAI):\n",
    "\n",
    "    def __init__(self, player_name) -> None:\n",
    "        super().__init__(player_name)\n",
    "\n",
    "    def get_next_middle_game_move(self, board: chess.Board) -> chess.Move:\n",
    "        '''Picks a random move out of all legal board moves'''\n",
    "        moves = list(board.legal_moves)\n",
    "        random_index = random.randint(0, len(moves) - 1)\n",
    "        return moves[random_index]"
   ]
  }
 ],
 "metadata": {
  "language_info": {
   "name": "python"
  },
  "orig_nbformat": 4
 },
 "nbformat": 4,
 "nbformat_minor": 2
}
