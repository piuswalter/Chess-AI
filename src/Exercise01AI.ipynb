{
 "cells": [
  {
   "cell_type": "code",
   "execution_count": null,
   "metadata": {},
   "outputs": [],
   "source": [
    "%%html\n",
    "<style>\n",
    ".container {\n",
    "  width: 100%;\n",
    "}\n",
    "</style>"
   ]
  },
  {
   "cell_type": "code",
   "execution_count": null,
   "metadata": {},
   "outputs": [],
   "source": [
    "%load_ext nb_mypy"
   ]
  },
  {
   "cell_type": "code",
   "execution_count": null,
   "metadata": {},
   "outputs": [],
   "source": [
    "import chess\n",
    "import nbimporter\n",
    "from AIBaseClass import ChessAI"
   ]
  },
  {
   "cell_type": "markdown",
   "metadata": {},
   "source": [
    "# Aufgabe 01: Zufälliges Mittelspiel\n",
    "\n",
    "Dieses Notebook implementiert eine AI, welche im Mittelspiel einen zufälligen Zug aus der Menge aller möglichen Züge auswählt.\n",
    "\n",
    "Die Funktion `get_next_middle_game_move` nimmt das aktuelle Board als Argument und gibt einen zufällig ausgewählten Zug aus der Menge aller gültigen Züge zurück. Alle restlichen Funktionen werden von der Basisklasse `ChessAI` geerbt."
   ]
  },
  {
   "cell_type": "code",
   "execution_count": null,
   "metadata": {},
   "outputs": [],
   "source": [
    "class Exercise01AI(ChessAI):\n",
    "    \"\"\"Chooses middle game moves randomly.\"\"\"\n",
    "\n",
    "    def __init__(self, **kwargs) -> None:\n",
    "        super().__init__(**kwargs)\n",
    "\n",
    "    def get_next_middle_game_move(self, board: chess.Board) -> chess.Move | None:\n",
    "        \"\"\"Picks a random move out of all legal board moves.\"\"\"\n",
    "        moves = list(board.legal_moves)\n",
    "        if not moves:\n",
    "            return None\n",
    "        return self.random.choice(moves)"
   ]
  },
  {
   "cell_type": "markdown",
   "metadata": {},
   "source": [
    "## Debugging Bereich\n",
    "\n",
    "Die folgenden Zellen enthalten Unit-Tests der oben implementierten Funktionen."
   ]
  },
  {
   "cell_type": "code",
   "execution_count": null,
   "metadata": {},
   "outputs": [],
   "source": [
    "unit_test_player = Exercise01AI(player_name=\"Ex01AI\")\n",
    "board = chess.Board()"
   ]
  },
  {
   "cell_type": "markdown",
   "metadata": {},
   "source": [
    "Der folgende Unittest führt die Funktion `get_next_middle_game_move` der `Exercise01AI` aus und überprüft, ob der zurückgegebene, zufällig ausgewählte Zug ein gültiger Zug ist."
   ]
  },
  {
   "cell_type": "code",
   "execution_count": null,
   "metadata": {},
   "outputs": [],
   "source": [
    "# Test Exercise01AI player\n",
    "def test_player(unit_test_player: ChessAI, board: chess.Board):\n",
    "    move = unit_test_player.get_next_middle_game_move(board)\n",
    "    assert move in board.legal_moves, \"Illegal move received!\"\n",
    "    print(f\"Move: {move}\")"
   ]
  },
  {
   "cell_type": "code",
   "execution_count": null,
   "metadata": {},
   "outputs": [],
   "source": [
    "test_player(unit_test_player, board)"
   ]
  },
  {
   "cell_type": "code",
   "execution_count": null,
   "metadata": {},
   "outputs": [],
   "source": []
  }
 ],
 "metadata": {
  "kernelspec": {
   "display_name": "Python 3 (ipykernel)",
   "language": "python",
   "name": "python3"
  },
  "language_info": {
   "codemirror_mode": {
    "name": "ipython",
    "version": 3
   },
   "file_extension": ".py",
   "mimetype": "text/x-python",
   "name": "python",
   "nbconvert_exporter": "python",
   "pygments_lexer": "ipython3",
   "version": "3.10.4"
  }
 },
 "nbformat": 4,
 "nbformat_minor": 2
}
