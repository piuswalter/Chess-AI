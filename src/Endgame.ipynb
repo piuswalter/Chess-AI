{
 "cells": [
  {
   "cell_type": "markdown",
   "id": "86c35176",
   "metadata": {},
   "source": [
    "# Endgame\n",
    "\n",
    "Das Endspiel nutzt sogenannte *Syzygy tablebases*, die zu jedem möglichen Spielstand $ \\mathcal{B} $ für bis zu 7 Figuren Informationen über die Metriken WDL (**Winn/Draw/Loss**) und DTZ (**Depth to Zero**) bereitstellen. Dabei sind `WDL` und `DTZ` Bewertungsfunktionen, die wie folgt definiert sind\n",
    "\n",
    "$$ \\texttt{WDL}: \\mathcal{B} \\rightarrow v $$\n",
    "\n",
    "mit $ v \\in \\{ -2, -1, 0, 1, 2 \\} $ und\n",
    "\n",
    "$$ \\texttt{DTZ}: \\mathcal{B} \\rightarrow w $$\n",
    "\n",
    "mit $ w \\in \\{ -100, \\dots, -1, 0, 1, \\dots, 100 \\} $.\n",
    "\n",
    "## 50-Züge-Regel\n",
    "\n",
    "Die 50-Züge-Regel beim Schach besagt, dass eine Partie dann als Remis gewertet werden kann, wenn in den letzten 50 aufeinanderfolgenden Spielzügen weder eine Figur geschlagen, noch ein Bauer gezogen wurde.\n",
    "\n",
    "## WDL\n",
    "\n",
    "In `WDL`-Dateien (Dateiendung `.rtbw`) sind Informationen zu Gewinn, Remis und Verlust unter Berücksichtigung der 50-Züge-Regel gespeichert. Auf diese Informationen kann während der Suche zugegriffen werden.\n",
    "\n",
    "Dabei wird den Elementen der Menge $ \\{ -2, -1, 0, 1, 2 \\} $ die im Folgenden definierte Eigenschaft zugeordnet\n",
    "\n",
    "* `2` die ziehende Seite gewinnt\n",
    "* `0` es liegt ein Remis vor\n",
    "* `-2` die ziehende Seite verliert\n",
    "* `1` bei einem 'cursed win'\n",
    "* `-1` bei einem 'blessed loss'\n",
    "\n",
    "## DTZ\n",
    "`DTZ`-Dateien (Dateiendung `.rtbz`) enthalten Informationen über die *Lagenzählung* für den Zugriff zu Beginn der Suche. Um Speicherplatz zu sparen gibt es in Anlehnung an die 50-Züge-Regel auch die Metrik `DTZ50`, die lediglich für eine Spielseite Informationen speichert. Für jede mögliche Position repräsentiert die DTZ die Anzahl der Züge des Gewinners bis zum Sieg. Hierfür werden folgende zwei Annahmen gemacht\n",
    "\n",
    "* Gewinner minimiert die DTZ\n",
    "* Verlierer maximiert die DTZ\n",
    "\n",
    "## Zusammenhang von WDL und DTZ\n",
    "\n",
    "Jedes Endspiel nutzt ein Paar dieser Informationen zur Evaluation des besten nächsten Zugs.\n",
    "\n",
    "Nachstehende Tabelle beschreibt zusammengefasst das Verhalten der Funktionen.\n",
    "\n",
    "| WDL | DTZ             | Beschreibung                                                                                                                                                                        |\n",
    "| --- | --------------- | ----------------------------------------------------------------------------------------------------------------------------------------------------------------------------------- |\n",
    "| -2  | -100 <= n <= -1 | Unbedingter Verlust (unter der Annahme, dass der 50-Züge-Zähler Null ist), wobei ein Nullzug in -n Zügen erzwungen werden kann.                                                     |\n",
    "| -1  | n < -100        | Verlust, aber Remis nach der 50-Züge-Regel. Ein Nullzug kann in -n Zügen oder -n - 100 Zügen erzwungen werden (wenn eine spätere Phase für den 'blessed loss' verantwortlich ist).  |\n",
    "|  0  | 0               | Remis.                                                                                                                                                                              |\n",
    "|  1  | 100 < n         | Sieg, aber Unentschieden nach der 50-Züge-Regel. Ein Nullzug kann in n Zügen oder n - 100 Zügen erzwungen werden (wenn eine spätere Phase für den 'cursed win' verantwortlich ist). |\n",
    "|  2  | 1 <= n <= 100   | Unbedingter Sieg (unter der Annahme, dass der 50-Züge-Zähler Null ist), wobei ein Nullzug in n Zügen erzwungen werden kann.                                                         |\n",
    "\n",
    "Um den bestmöglichen nächsten Zug durch die Endspielbibliothek erhalten zu können, definieren wir den $ \\texttt{Folge-Zug} $.\n",
    "\n",
    "Ein Folge-Zug $ \\mathcal{F} $ ist ein Tripel der Form\n",
    "\n",
    "$$ \\mathcal{F} = \\langle M, W, D \\rangle $$\n",
    "\n",
    "wobei\n",
    "\n",
    "- $ M $ ein Zug,\n",
    "- $ W $ der der Position nach dem Zug $ M $ über die Metrik $ \\texttt{WDL} $ zugeordnete Wert,\n",
    "- $ D $ der der Position nach dem Zug $ M $ über die Metrik $ \\texttt{DTZ} $ zugeordnete Wert ist."
   ]
  },
  {
   "cell_type": "markdown",
   "id": "53635d7b",
   "metadata": {},
   "source": [
    "Benutzerdefinierte Typ-Definition eines Folge-Zugs."
   ]
  },
  {
   "cell_type": "code",
   "execution_count": null,
   "id": "c7cd9b0f",
   "metadata": {},
   "outputs": [],
   "source": [
    "FollowingMove = Tuple[chess.Move, int, int]"
   ]
  },
  {
   "cell_type": "markdown",
   "id": "026d2f6b",
   "metadata": {},
   "source": [
    "Die Funktion `get_metrics_from_next_legal_moves` nimmt als Argument eine Liste von Zügen $ \\textit{Moves} $, berechnet für diese die Metriken WDL und DTZ und gibt eine Liste von Folge-Zügen $ \\mathcal{F} $ zurück."
   ]
  },
  {
   "cell_type": "code",
   "execution_count": null,
   "id": "d08d6f4f",
   "metadata": {},
   "outputs": [],
   "source": [
    "def get_metrics_from_next_legal_moves(moves: List[chess.Move]) -> List[FollowingMove]:\n",
    "    next_moves = []\n",
    "    for move in moves:\n",
    "        board.push(move)\n",
    "        wdl_after_next_move = end_game_reader.probe_wdl(board)\n",
    "        dtz_after_next_move = end_game_reader.probe_dtz(board)\n",
    "        board.pop()\n",
    "        next_moves.append((move, wdl_after_next_move, dtz_after_next_move))\n",
    "    return next_moves"
   ]
  },
  {
   "cell_type": "markdown",
   "id": "182d014f",
   "metadata": {},
   "source": [
    "Die Funktion `get_relevant_moves` nimmt eine Liste von Folge-Zügen $ \\mathcal{F} $ sowie eine optionale WDL und gibt alle Züge, gefiltert nach dem absoluten Wert der WDL zurück."
   ]
  },
  {
   "cell_type": "code",
   "execution_count": null,
   "id": "5605a2e8",
   "metadata": {},
   "outputs": [],
   "source": [
    "def get_relevant_moves(moves: List[FollowingMove], wdl=-2) -> List[FollowingMove]:\n",
    "    return [ (m, w, abs(d)) for m, w, d in moves if w == wdl ]"
   ]
  },
  {
   "cell_type": "markdown",
   "id": "64610b1d",
   "metadata": {},
   "source": [
    "Die Funktion `select_best_move_tuple_from_zeroing` nimmt als Argument eine Liste von Folge-Zügen $ \\mathcal{F} $ und prüft, ob einer dieser Züge die Metrik DTZ auf Null setzt, also ein Schlag- oder Bauernzug ist und gibt diesen zurück. Alternativ gibt diese Funktion den Zug mit der kleinsten DTZ zurück."
   ]
  },
  {
   "cell_type": "code",
   "execution_count": null,
   "id": "caf0ffa8",
   "metadata": {},
   "outputs": [],
   "source": [
    "def select_best_move_tuple_from_zeroing(moves_tpl: List[FollowingMove]) -> FollowingMove:\n",
    "    for move_tpl in moves_tpl:\n",
    "        if board.is_zeroing(move_tpl[0]):\n",
    "            return move_tpl\n",
    "    return min(moves_tpl, key=lambda move: move[2])"
   ]
  },
  {
   "cell_type": "markdown",
   "id": "78d3772f",
   "metadata": {},
   "source": [
    "Die Funktion `get_next_end_game_move` wird aus der `main.ipynb` aufgerufen und berechnet mithilfe der zuvor vorgestellten Hilfsfunktionen den besten Zug für die jeweils aktuelle Seite."
   ]
  },
  {
   "cell_type": "code",
   "execution_count": null,
   "id": "be117417",
   "metadata": {},
   "outputs": [],
   "source": [
    "def get_next_end_game_move() -> chess.Move:\n",
    "    # Check if the game is over due to checkmate, stalemate, insufficient material, ...\n",
    "    if board.is_game_over():\n",
    "        return None\n",
    "    \n",
    "    # Get the WDL from the currently given board\n",
    "    wdl = end_game_reader.probe_wdl(board)\n",
    "    # Get the DTZ from the currently given board\n",
    "    dtz = end_game_reader.probe_dtz(board)\n",
    "    \n",
    "    # Get list of metrics from all legal moves\n",
    "    moves = get_metrics_from_next_legal_moves(board.legal_moves)\n",
    "    \n",
    "    # Board.turn is winning\n",
    "    if wdl == 2:\n",
    "        # Get all relevant moves by filtering by WDL\n",
    "        relevant_moves = get_relevant_moves(moves)\n",
    "        \n",
    "        # Get best move as minimum from list of Folge-Züge with given DTZ as key\n",
    "        best_move = select_best_move_tuple_from_zeroing(relevant_moves)[0]\n",
    "    # Board.turn is losing:\n",
    "    elif wdl == -2:\n",
    "        # Select best move by filtering by max DTZ\n",
    "        best_move = max(moves, key=lambda move: move[2])[0]\n",
    "    # Board is a draw\n",
    "    elif wdl == 0:\n",
    "        # Select move by filtering by WDL\n",
    "        relevant_moves = get_relevant_moves(moves, 0)\n",
    "        best_move = relevant_moves[0][0]\n",
    "    else:\n",
    "        # Some error occurs\n",
    "        print(f'wdl has unknown value in get_next_end_game_move: wdl = {wdl}')\n",
    "        sys.exit(1)\n",
    "    \n",
    "    return best_move"
   ]
  },
  {
   "cell_type": "markdown",
   "id": "84e76fd5",
   "metadata": {},
   "source": [
    "## Quellen\n",
    "\n",
    "* https://www.chessprogramming.org/Syzygy_Bases\n",
    "* https://www.chessprogramming.org/Endgame_Tablebases"
   ]
  }
 ],
 "metadata": {
  "kernelspec": {
   "display_name": "Python 3 (ipykernel)",
   "language": "python",
   "name": "python3"
  },
  "language_info": {
   "codemirror_mode": {
    "name": "ipython",
    "version": 3
   },
   "file_extension": ".py",
   "mimetype": "text/x-python",
   "name": "python",
   "nbconvert_exporter": "python",
   "pygments_lexer": "ipython3",
   "version": "3.8.10"
  }
 },
 "nbformat": 4,
 "nbformat_minor": 5
}
