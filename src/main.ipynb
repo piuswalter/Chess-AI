{
 "cells": [
  {
   "cell_type": "markdown",
   "metadata": {},
   "source": [
    "# Einarbeitung in Python-Chess\n",
    "   - Eröffnungsbibliothek\n",
    "   - Endspiel-Bibliothek: Syzygy\n",
    "   - Version 0: zufällige Züge auswählen im Mittelspiel\n",
    "\n",
    "WICHTIG: Alles soll als Jupyter-Notebook implementiert werden.  \n",
    "Jede Funktion muss ausführlich dokumentiert werden (mittleres Markdown + LaTeX), d.h.\n",
    "- a) Welche Argumente erhält die Funktion.\n",
    "- b) Welches Ergebnis wird berechnet.\n",
    "- c) Welche Seiteneffekte treten auf (falls Seiteneffekte auftreten).\n",
    "- d) Bei komplizierter Logik soll auch Algorithmus beschrieben werden.\n",
    "\n",
    "Testen:\n",
    "- Abspeichern einer Partie als Datei auf Festplatte in algebraischer Notation.\n",
    "- Verschiedene Versionen Ihrer KIs sollen gegeneinander antreten können.\n",
    "- Nur Bibliotheken verwenden, die unter Windows lauffähig sind.\n",
    "\n",
    "Bei Verwendung von Random immer Seed setzen."
   ]
  },
  {
   "cell_type": "code",
   "execution_count": null,
   "metadata": {},
   "outputs": [],
   "source": [
    "#!pip install chess\n",
    "import random\n",
    "from datetime import datetime\n",
    "from typing import Tuple, Union\n",
    "\n",
    "import chess, chess.polyglot, chess.syzygy, chess.pgn\n",
    "from IPython.display import clear_output, display"
   ]
  },
  {
   "cell_type": "markdown",
   "metadata": {},
   "source": [
    "Zunächst definieren wir einen Enum, um durch den folgenden Programmcode hinweg eine bessere Lesbarkeit zu gewährleisten."
   ]
  },
  {
   "cell_type": "code",
   "execution_count": null,
   "metadata": {},
   "outputs": [],
   "source": [
    "from enum import Enum\n",
    "\n",
    "class State(Enum):\n",
    "    OPENING_GAME = 0\n",
    "    MIDDLE_GAME = 1\n",
    "    END_GAME = 2\n",
    "    FINISHED = 3"
   ]
  },
  {
   "cell_type": "markdown",
   "metadata": {},
   "source": [
    "## Eröffnungsspiel\n",
    "\n",
    "Für das Eröffnungsspiel wird das [Baron Polyglot Opening Book](https://www.chessprogramming.net/new-version-of-the-baron-v3-43-plus-the-barons-polyglot-opening-book/) von Richard Pijl verwendet. Hierbei handelt es sich um eine Sammlung von Eröffnungszügen im sog. 'polyglot book format'."
   ]
  },
  {
   "cell_type": "markdown",
   "metadata": {},
   "source": [
    "## Das Polyglot Book Format\n",
    "\n",
    "Das Polyglot Book Format wird von H.G. Muller auf seiner [Website](http://hgm.nubati.net/book_format.html) sehr gut beschrieben. Die dortigen Ausführungen werden im folgenden sehr komprimiert dargestellt.\n",
    "\n",
    "Ein Polyglot Book besteht aus einer Serie von Einträgen, wobei ein Eintrag für einen Zug in einer bestimmten Board-Situation steht und jeweils 4 Attribute aufweist:\n",
    "\n",
    "| Attribut | Beschreibung |\n",
    "|---|---|\n",
    "| key (64-bit unsigned int) | Der sog. 'Zobrist' Hash der exakten Board-Position. |\n",
    "| move (16-bit unsigned int) | Die Angabe des Zuges (Quelle und Ziel als Zeile & Spalte) und ob eine Figur-Umwandlung stattfindet. |\n",
    "| weight (16-bit unsigned int) | Die Qualität des Zuges, berechnet als $2 \\cdot (gewonnene Spiele) + (verlorene Spiele)$, skaliert auf 16-bit. |\n",
    "| learn (32-bit unsigned int) | Ein Feld, welches dafür benutzt werden kann, um Erfahrungen mit dem Zug zu speichern (bspw. wie oft und mit welchem Erfolg dieser Zug gespielt wurde) |"
   ]
  },
  {
   "cell_type": "markdown",
   "metadata": {},
   "source": [
    "Die Python `chess` Bibliothek bietet für die Arbeit mit Polyglot Opening Books die Klasse [`chess.polyglot.MemoryMappedReader`](https://python-chess.readthedocs.io/en/latest/polyglot.html) an. Eine Instanz dieser Klasse kann mithilfe der Funktion `chess.polyglot.open_reader(\"Pfad_zur_Polyglot_Bibliotheksdatei\")` erzeugt werden."
   ]
  },
  {
   "cell_type": "code",
   "execution_count": null,
   "metadata": {},
   "outputs": [],
   "source": [
    "# Definition of the opening book reader\n",
    "opening_game_reader = chess.polyglot.open_reader(\"opening/Baron/baron30.bin\")"
   ]
  },
  {
   "cell_type": "markdown",
   "metadata": {},
   "source": [
    "Diese nun erzeugte Klasse bietet die folgende Funktion an:\n",
    "- `get(board)`: Gibt für ein gegebenes Board den (ersten) Eintrag mit dem höchsten `weight` zurück.  \n",
    "  Die gekürzte Funktionssignatur lautet `get(board: Union[chess.Board, int]) → Union[chess.polyglot.Entry, None]`\n",
    "\n",
    "Diese Funktion wird in `get_next_opening_game_move()` dazu verwendet den jeweils besten Zug während des Eröffnungsspiels zu ermitteln."
   ]
  },
  {
   "cell_type": "code",
   "execution_count": null,
   "metadata": {},
   "outputs": [],
   "source": [
    "def get_next_opening_game_move() -> chess.Move:\n",
    "    '''Picks the best game entry out of all opening book entries and returns its move.'''\n",
    "    return opening_game_reader.get(board).move"
   ]
  },
  {
   "cell_type": "markdown",
   "metadata": {},
   "source": [
    "Die Funktion `get_next_middle_game_move()` wird verwendet, solange die gegebene Partie sich im Middlegame befindet und gibt einen zufällig ausgewählten Zug aus der Menge aller gültigen Züge zurück."
   ]
  },
  {
   "cell_type": "code",
   "execution_count": null,
   "metadata": {},
   "outputs": [],
   "source": [
    "def get_next_middle_game_move() -> chess.Move:\n",
    "    '''Picks a random move out of all legal board moves'''\n",
    "    moves = list(board.legal_moves)\n",
    "    move = moves[random.randint(0, len(moves) - 1)]\n",
    "    return move"
   ]
  },
  {
   "cell_type": "markdown",
   "metadata": {},
   "source": [
    "Diese Funktion `get_next_end_game_move()` wird aufgerufen, solange die gegebene Partie sich im Endgame befindet und gibt einen Zug ...  \n",
    "TBD @piuswalter"
   ]
  },
  {
   "cell_type": "code",
   "execution_count": null,
   "metadata": {},
   "outputs": [],
   "source": [
    "# Definition of the end game tablebase reader\n",
    "end_game_reader = chess.syzygy.open_tablebase(\"ending/3-4-5\")"
   ]
  },
  {
   "cell_type": "code",
   "execution_count": null,
   "metadata": {},
   "outputs": [],
   "source": [
    "def get_next_end_game_move() -> chess.Move:\n",
    "    moves = []\n",
    "    for move in board.legal_moves:\n",
    "        board.push(move)\n",
    "        wdl = end_game_reader.get_wdl(board)\n",
    "        dtz = end_game_reader.get_dtz(board)\n",
    "        board.pop()\n",
    "        moves.append((move, wdl, dtz))\n",
    "    best_wdl = max(moves, key=lambda move: move[1])[1]\n",
    "    moves = [move for move in moves if move[1] == best_wdl]\n",
    "    best_move = min(moves, key=lambda move: move[2])[0]\n",
    "    return best_move"
   ]
  },
  {
   "cell_type": "markdown",
   "metadata": {},
   "source": [
    "Diese Funktion gibt den nächsten Spielzug, sowie den neuen Spielstatus zurück.\n",
    "\n",
    "- Falls der aktuelle Spielstatus dem des Eröffnungsspiels entspricht, wird ein neuer Spielzug aus der Polyglot-Eröffnungsbibliothek zurückgegeben.\n",
    "- Wenn der Status **nicht** dem des Eröffnungsspiels entspricht, wird überprüft, ob die Endspiel-Bibliothek bereits einen Spielzug für die aktuelle Spielsituation findet.\n",
    "  - Falls ja, wird der nächste Spielzug und Status aus der dazugehörigen Hilfsfunktion zurückgegeben.\n",
    "- Sollte die Endspiel-Bibliothek **keinen** gültigen Zug finden, wird überprüft, ob auf dem Spielbrett noch gültige Spielzüge verfügbar sind.\n",
    "    - Sind gültige Züge vorhanden, so wird die Hilfsfunktion für das Mittelspiel aufgerufen.\n",
    "- Ist dies **nicht** der Fall, so wird das Spiel beendet."
   ]
  },
  {
   "cell_type": "code",
   "execution_count": null,
   "metadata": {},
   "outputs": [],
   "source": [
    "def get_next_move(state: State) -> Tuple[Union[chess.Move, None], State]:\n",
    "    '''Figure out the next possible move and switch between different game states if neccessary'''   \n",
    "    # Abort when fifty-move rule applies\n",
    "    if board.can_claim_fifty_moves():\n",
    "        return None, State.FINISHED\n",
    "    # If there is a move in the opening library find the best one\n",
    "    elif state == State.OPENING_GAME and opening_game_reader.get(board):\n",
    "        return get_next_opening_game_move(), State.OPENING_GAME\n",
    "    # If the endgame library provides a move use it\n",
    "    elif end_game_reader.get_wdl(board) != None:\n",
    "        return get_next_end_game_move(), State.END_GAME\n",
    "    # If neither the opening nor the endgame library has any moves available choose randomly\n",
    "    elif list(board.legal_moves):\n",
    "        return get_next_middle_game_move(), State.MIDDLE_GAME\n",
    "    # If there are no moves at all return none and end game\n",
    "    else:\n",
    "        return None, State.FINISHED"
   ]
  },
  {
   "cell_type": "markdown",
   "metadata": {},
   "source": [
    "Hier wird ein neues Spiel initialisiert und ein fester Seed definiert. Der statische Seed dient dazu, sämtliche Zufallsfunktionen reproduzierbar zu machen. Der Spielzustand wird initial auf `OPENING_GAME` gesetzt.\n",
    "\n",
    "Im Anschluss wird die `get_next_move()` Funktion in Dauerschleife so lange ausgeführt, bis sie keinen Spielzug mehr zurückliefert."
   ]
  },
  {
   "cell_type": "code",
   "execution_count": null,
   "metadata": {},
   "outputs": [],
   "source": [
    "# Create a new board\n",
    "board = chess.Board()\n",
    "\n",
    "# Set a seed, so randomization is reproducable\n",
    "random.seed(1)\n",
    "\n",
    "# Start with opening game\n",
    "state = State.OPENING_GAME\n",
    "\n",
    "while True:\n",
    "    # Get next move\n",
    "    next_move, next_state = get_next_move(state)\n",
    "\n",
    "    # Push next move or finish game\n",
    "    if next_move:\n",
    "        board.push(next_move)\n",
    "    else:\n",
    "        print(f\"Finished with: {state} -> {next_state}\")\n",
    "        break\n",
    "\n",
    "    # Print board\n",
    "    clear_output(wait=True)\n",
    "    display(board)\n",
    "\n",
    "    # Log state transitions\n",
    "    if next_state != state:\n",
    "        print(f\"\\n Transition from {state} to {next_state} \\n\")\n",
    "        input(\"Press enter to continue\")\n",
    "        # Close ployglot opening book to save memory if opening game has finished \n",
    "        if state == State.OPENING_GAME:\n",
    "            opening_game_reader.close()\n",
    "        state = next_state\n",
    "\n",
    "# Close endgame tablebase reader\n",
    "end_game_reader.close()"
   ]
  },
  {
   "cell_type": "markdown",
   "metadata": {},
   "source": [
    "Optional kann die Partie abschließend im PGN-Format gespeichert werden."
   ]
  },
  {
   "cell_type": "code",
   "execution_count": null,
   "metadata": {},
   "outputs": [],
   "source": [
    "# Save game to src/games/YYYY-MM-DD_HH-MM-SS.pgn (based on current time)\n",
    "\n",
    "game = chess.pgn.Game.from_board(board)\n",
    "game.headers[\"Event\"] = \"Chess-AI game\"\n",
    "game.headers[\"Date\"] = datetime.now().strftime(\"%d.%m.%Y\")\n",
    "filename = datetime.now().strftime(\"%Y-%m-%d_%H-%M-%S\")\n",
    "with open(f\"games/{filename}.pgn\", 'w') as gamefile:\n",
    "    gamefile.write(str(game))\n"
   ]
  }
 ],
 "metadata": {
  "interpreter": {
   "hash": "a707b6ce8c685eb936424fcc3009d4b4b7a52543c4db09380a3fc49186ceb509"
  },
  "kernelspec": {
   "display_name": "Python 3 (ipykernel)",
   "language": "python",
   "name": "python3"
  },
  "language_info": {
   "codemirror_mode": {
    "name": "ipython",
    "version": 3
   },
   "file_extension": ".py",
   "mimetype": "text/x-python",
   "name": "python",
   "nbconvert_exporter": "python",
   "pygments_lexer": "ipython3",
   "version": "3.8.12"
  }
 },
 "nbformat": 4,
 "nbformat_minor": 2
}
