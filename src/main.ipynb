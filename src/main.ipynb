{
 "cells": [
  {
   "cell_type": "markdown",
   "metadata": {},
   "source": [
    "# Einarbeitung in Python-Chess\n",
    "   - Eröffnungsbibliothek\n",
    "   - Endspiel-Bibliothek: Syzygy\n",
    "   - Version 0: zufällige Züge auswählen im Mittelspiel\n",
    "\n",
    "WICHTIG: Alles soll als Jupyter-Notebook implementiert werden.  \n",
    "Jede Funktion muss ausführlich dokumentiert werden (mittleres Markdown + LaTeX), d.h.\n",
    "- a) Welche Argumente erhält die Funktion.\n",
    "- b) Welches Ergebnis wird berechnet.\n",
    "- c) Welche Seiteneffekte treten auf (falls Seiteneffekte auftreten).\n",
    "- d) Bei komplizierter Logik soll auch Algorithmus beschrieben werden.\n",
    "\n",
    "Testen:\n",
    "- Abspeichern einer Partie als Datei auf Festplatte in algebraischer Notation.\n",
    "- Verschiedene Versionen Ihrer KIs sollen gegeneinander antreten können.\n",
    "- Nur Bibliotheken verwenden, die unter Windows lauffähig sind.\n",
    "\n",
    "Bei Verwendung von Random immer Seed setzen."
   ]
  },
  {
   "cell_type": "code",
   "execution_count": null,
   "metadata": {},
   "outputs": [],
   "source": [
    "#!pip install chess\n",
    "import chess\n",
    "import chess.polyglot\n",
    "import chess.syzygy\n",
    "from IPython.display import clear_output, display\n",
    "from typing import Union, Tuple\n",
    "import random\n",
    "from time import sleep"
   ]
  },
  {
   "cell_type": "markdown",
   "metadata": {},
   "source": [
    "Zunächst definieren wir einen Enum, um durch den folgenden Programmcode hinweg eine bessere Lesbarkeit zu gewährleisten."
   ]
  },
  {
   "cell_type": "code",
   "execution_count": null,
   "metadata": {},
   "outputs": [],
   "source": [
    "from enum import Enum\n",
    "\n",
    "class State(Enum):\n",
    "    OPENING_GAME = 0\n",
    "    MIDDLE_GAME = 1\n",
    "    END_GAME = 2\n",
    "    FINISHED = 3"
   ]
  },
  {
   "cell_type": "markdown",
   "metadata": {},
   "source": [
    "Diese Funktion wird aufgerufen, solange die gegebene Partie sich im Middlegame befindet und gibt einen zufällig ausgewählten Zug aus der Menge aller gültigen Züge, sowie den Middlegame Status zurück.\n",
    "\n",
    "Falls der vorherige Status dem des Eröffnungsspiels entspricht, wird der `opening_game` reader der polyglot library geschlossen, da das Eröffnungsspiel hiermit vorüber ist."
   ]
  },
  {
   "cell_type": "code",
   "execution_count": null,
   "metadata": {},
   "outputs": [],
   "source": [
    "def get_next_middle_game_move() -> chess.Move:\n",
    "    '''Picks a random middle game move out of all legal board moves'''\n",
    "    moves = list(board.legal_moves)\n",
    "    move = moves[random.randint(0, len(moves) - 1)]\n",
    "    return move"
   ]
  },
  {
   "cell_type": "markdown",
   "metadata": {},
   "source": [
    "TBD @piuswalter"
   ]
  },
  {
   "cell_type": "code",
   "execution_count": null,
   "metadata": {},
   "outputs": [],
   "source": [
    "def get_next_end_game_move() -> chess.Move:\n",
    "    moves = []\n",
    "    for move in board.legal_moves:\n",
    "        board.push(move)\n",
    "        wdl = tablebase.get_wdl(board)\n",
    "        dtz = tablebase.get_dtz(board)\n",
    "        board.pop()\n",
    "        moves.append((move, wdl, dtz))\n",
    "    best_wdl = max(moves, key=lambda move: move[1])[1]\n",
    "    moves = [move for move in moves if move[1] == best_wdl]\n",
    "    best_move = min(moves, key=lambda move: move[2])[0]\n",
    "    return best_move"
   ]
  },
  {
   "cell_type": "markdown",
   "metadata": {},
   "source": [
    "Diese Funktion gibt den nächsten Spielzug, sowie den neuen Spielstatus zurück.\n",
    "\n",
    "- Falls der aktuelle Spielstatus dem des Eröffnungsspiel entspricht, wird ein neuer Spielzug aus der polyglot Eröffnungsbibliothek zurückgegeben.\n",
    "- Falls der Status **nicht** dem des Eröffnungsspiels entspricht, wird überprüft, ob die Endspiel Bibliothek bereits einen Spielzug für die aktuelle Spielsituation findet.\n",
    "  - Falls ja, wird der nächste Spielzug und Status aus der dazugehörigen Hilfsfunktion zurückgegeben.\n",
    "  - Sollte die Endspielbibliothek **keinen** gültigen Zug finden, wird überprüft, ob auf dem Spielbrett noch gültige Spielzüge verfügbar sind.\n",
    "    - Ist dies **nicht** der Fall, so wird das Spiel beendet.\n",
    "    - Sind gültige Züge vorhanden, so wird die Hilfsfunktion für das Mittelspiel aufgerufen."
   ]
  },
  {
   "cell_type": "code",
   "execution_count": null,
   "metadata": {},
   "outputs": [],
   "source": [
    "def get_next_move(state: State) -> Tuple[Union[chess.Move, None], State]:\n",
    "    '''Figure out the next possible move and switch between different game states if necessary'''   \n",
    "    # abort when fifty-move rule applies\n",
    "    if board.can_claim_fifty_moves():\n",
    "        return None, State.FINISHED\n",
    "    # if there are moves in the opening library find and return the best move\n",
    "    elif state == State.OPENING_GAME and list(opening_game.find_all(board)):\n",
    "        return opening_game.find(board).move, State.OPENING_GAME\n",
    "    # if the endgame library provides a move use it\n",
    "    elif tablebase.get_wdl(board) != None:\n",
    "        return get_next_end_game_move(), State.END_GAME\n",
    "    # if neither the opening nor the endgame library has any moves available choose randomly\n",
    "    elif list(board.legal_moves):\n",
    "        return get_next_middle_game_move(), State.MIDDLE_GAME\n",
    "    # if there are no moves at all return none and end game\n",
    "    else:\n",
    "        return None, State.FINISHED"
   ]
  },
  {
   "cell_type": "markdown",
   "metadata": {},
   "source": [
    "Hier wird ein neues Spiel initialisiert und ein fester Seed definiert. Der statische Seed dient dazu, sämtliche Zufallsfunktionen reproduzierbar zu machen. Der Spielzustand wird initial auf `OPENING_GAME` gesetzt.\n",
    "\n",
    "Im Anschluss wird die `get_next_move()` Funktion in Dauerschleife so lange ausgeführt, bis sie keinen Spielzug mehr zurückliefert.\n",
    "\n",
    "> WARNUNG: Bei falscher Implementierung bleibt der Kernel in der Dauerschleife gefangen und muss manuell beendet werden. "
   ]
  },
  {
   "cell_type": "code",
   "execution_count": null,
   "metadata": {},
   "outputs": [],
   "source": [
    "# Create a new board\n",
    "board = chess.Board()\n",
    "\n",
    "# Set a seed, so randomization is reproducable\n",
    "random.seed(1)\n",
    "\n",
    "# Start with opening game\n",
    "state = State.OPENING_GAME\n",
    "\n",
    "opening_game = chess.polyglot.open_reader(\"opening/Human-polyglot/Human.bin\")\n",
    "\n",
    "with chess.syzygy.open_tablebase(\"ending/3-4-5\") as tablebase:\n",
    "    while True:\n",
    "        next_move, next_state = get_next_move(state)\n",
    "        if next_move:\n",
    "            board.push(next_move)\n",
    "        else:\n",
    "            print(f\"Finished with: {state} -> {next_state}\")\n",
    "            break\n",
    "        clear_output(wait=True)\n",
    "        display(board)\n",
    "        if next_state != state:\n",
    "            print(f\"\\n Transition from {state} to {next_state} \\n\")\n",
    "            input(\"Press enter to continue\")\n",
    "            if state == State.OPENING_GAME:\n",
    "                opening_game.close()\n",
    "            state = next_state"
   ]
  },
  {
   "cell_type": "code",
   "execution_count": null,
   "metadata": {},
   "outputs": [],
   "source": []
  }
 ],
 "metadata": {
  "interpreter": {
   "hash": "a707b6ce8c685eb936424fcc3009d4b4b7a52543c4db09380a3fc49186ceb509"
  },
  "kernelspec": {
   "display_name": "Python 3 (ipykernel)",
   "language": "python",
   "name": "python3"
  },
  "language_info": {
   "codemirror_mode": {
    "name": "ipython",
    "version": 3
   },
   "file_extension": ".py",
   "mimetype": "text/x-python",
   "name": "python",
   "nbconvert_exporter": "python",
   "pygments_lexer": "ipython3",
   "version": "3.10.0"
  }
 },
 "nbformat": 4,
 "nbformat_minor": 2
}
