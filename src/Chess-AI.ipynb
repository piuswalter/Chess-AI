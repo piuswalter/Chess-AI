{
 "cells": [
  {
   "cell_type": "markdown",
   "metadata": {},
   "source": [
    "# Entwicklung einer Schach KI\n",
    "\n",
    "## Studienarbeit von Pius Walter, Philipp Fruck und Anton Plagemann"
   ]
  },
  {
   "cell_type": "markdown",
   "metadata": {},
   "source": [
    "### Schach KI v0.1\n",
    "\n",
    "**Aufgaben:**\n",
    "\n",
    "- Einarbeitung in Python-Chess\n",
    "- Eröffnungsbibliothek\n",
    "- Endspiel-Bibliothek: Syzygy\n",
    "- Version 0: zufällige Züge auswählen im Mittelspiel\n",
    "\n",
    "*LaTeX-Test:*\n",
    "\n",
    "Hier eine Formel: $$y = x^2$$ mit mathematischen Symbolen $\\mathcal{O}(no)$ "
   ]
  },
  {
   "cell_type": "code",
   "execution_count": null,
   "metadata": {},
   "outputs": [],
   "source": [
    "!pip install -r requirements.txt\n",
    "import chess"
   ]
  }
 ],
 "metadata": {
  "interpreter": {
   "hash": "a707b6ce8c685eb936424fcc3009d4b4b7a52543c4db09380a3fc49186ceb509"
  },
  "kernelspec": {
   "display_name": "Python 3.8.12 64-bit ('base': conda)",
   "name": "python3"
  },
  "language_info": {
   "codemirror_mode": {
    "name": "ipython",
    "version": 3
   },
   "file_extension": ".py",
   "mimetype": "text/x-python",
   "name": "python",
   "nbconvert_exporter": "python",
   "pygments_lexer": "ipython3",
   "version": "3.8.12"
  }
 },
 "nbformat": 4,
 "nbformat_minor": 5
}
