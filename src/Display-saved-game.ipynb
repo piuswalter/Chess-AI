{
 "cells": [
  {
   "cell_type": "code",
   "execution_count": null,
   "id": "c3089b34",
   "metadata": {},
   "outputs": [],
   "source": [
    "%%html\n",
    "<style>\n",
    ".output_scroll:nth-of-type(2) {\n",
    "  height: 100%;\n",
    "}\n",
    ".container {\n",
    "  width: 100%;\n",
    "}\n",
    "</style>"
   ]
  },
  {
   "cell_type": "code",
   "execution_count": null,
   "id": "5f1056fc",
   "metadata": {},
   "outputs": [],
   "source": [
    "%load_ext nb_mypy"
   ]
  },
  {
   "cell_type": "markdown",
   "id": "2eef28c4",
   "metadata": {},
   "source": [
    "Der folgende Befehl zeigt alle bisher im PGN Format gespeicherten Dateien an."
   ]
  },
  {
   "cell_type": "code",
   "execution_count": null,
   "id": "7a31be7c",
   "metadata": {},
   "outputs": [],
   "source": [
    "# Windows & Linux / MacOS\n",
    "!dir \"..\\\\games\\\\*.pgn\" /b || basename ../games/*.pgn"
   ]
  },
  {
   "cell_type": "markdown",
   "id": "2c544672",
   "metadata": {},
   "source": [
    "Die folgende Funktion nimmt einen Dateinamen aus dem `games`-Ordner an, liest die entsprechende `.pgn`-Datei und gibt jeden Zug grafisch aus. "
   ]
  },
  {
   "cell_type": "code",
   "execution_count": null,
   "id": "937d368e",
   "metadata": {},
   "outputs": [],
   "source": [
    "import chess.pgn\n",
    "from IPython.display import display\n",
    "from os.path import join\n",
    "\n",
    "def view_game(filename: str) -> None:\n",
    "    \"\"\"Plays a given pgn file on a board\"\"\"\n",
    "    pgn = open(join(\"..\", \"games\", filename))\n",
    "    first_game = chess.pgn.read_game(pgn)\n",
    "    assert first_game, \"Could not read game file!\"\n",
    "\n",
    "    # Iterate through all moves and play them on a board.\n",
    "    board = first_game.board()\n",
    "    for move in first_game.mainline_moves():\n",
    "        board.push(move)\n",
    "        display(board)"
   ]
  },
  {
   "cell_type": "markdown",
   "id": "b5003eb3",
   "metadata": {},
   "source": [
    "Die folgende Zelle kann ausgeführt werden, um ein gewünschtes Spiel anzuzeigen."
   ]
  },
  {
   "cell_type": "code",
   "execution_count": null,
   "id": "9e594d68",
   "metadata": {},
   "outputs": [],
   "source": [
    "view_game(input(\"Select pgn file name to load: \"))"
   ]
  }
 ],
 "metadata": {
  "kernelspec": {
   "display_name": "Python 3 (ipykernel)",
   "language": "python",
   "name": "python3"
  },
  "language_info": {
   "codemirror_mode": {
    "name": "ipython",
    "version": 3
   },
   "file_extension": ".py",
   "mimetype": "text/x-python",
   "name": "python",
   "nbconvert_exporter": "python",
   "pygments_lexer": "ipython3",
   "version": "3.10.1"
  }
 },
 "nbformat": 4,
 "nbformat_minor": 5
}
