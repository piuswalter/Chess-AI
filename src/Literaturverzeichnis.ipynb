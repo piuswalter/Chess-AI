{
 "cells": [
  {
   "cell_type": "code",
   "execution_count": null,
   "id": "05dd4462",
   "metadata": {},
   "outputs": [],
   "source": [
    "%%html\n",
    "<style>\n",
    "  .container {\n",
    "      width: 100%;\n",
    "  }\n",
    "</style>"
   ]
  },
  {
   "cell_type": "markdown",
   "id": "9bfe0ee5",
   "metadata": {},
   "source": [
    "# Literaturverzeichnis"
   ]
  },
  {
   "cell_type": "markdown",
   "id": "ee24493f",
   "metadata": {},
   "source": [
    "| ID  | Literatur                                                                                                                                                                                                                       |\n",
    "|-----|---------------------------------------------------------------------------------------------------------------------------------------------------------------------------------------------------------------------------------|\n",
    "| [1] | „Simplified Evaluation Function - Chessprogramming wiki“. Zugegriffen 27. Mai 2022. https://www.chessprogramming.org/Simplified_Evaluation_Function.                                                                            |\n",
    "| [2] | Stroetmann, Karl. Lecture Notes on Artificial Intelligence. TeX, 2022. https://github.com/karlstroetmann/Artificial-Intelligence/blob/7508b31077d82f3e9f79dffb6610d25fcfcc5f81/Lecture-Notes/artificial-intelligence.pdf.       |\n",
    "| [3] | „Transposition - Chessprogramming wiki“. Zugegriffen 29. Mai 2022. https://www.chessprogramming.org/Transposition                                                                                                               |\n",
    "| [4] | „Wikipedia - Transposition table“. Zugegriffen 29. Mai 2022. https://en.wikipedia.org/wiki/Transposition_table#Functionality                                                                                                    |\n",
    "| [5] | „Stack Overflow - Chess programming: minimax, detecting repeats, transposition tables“. Zugegriffen 29. Mai 2022. https://stackoverflow.com/questions/69372792/chess-programming-minimax-detecting-repeats-transposition-tables |\n",
    "| [6] | DeWiki. „DeWiki > Minimax-Algorithmus“. Zugegriffen 31. Mai 2022. https://dewiki.de/Lexikon/Minimax-Algorithmus. |\n",
    "| [7] | „Horizon Effect - Chessprogramming wiki“. Zugegriffen 31. Mai 2022. https://www.chessprogramming.org/Horizon_Effect. |\n",
    "| [8] | „Point Value - Chessprogramming wiki“. Zugegriffen 31. Mai 2022. https://www.chessprogramming.org/Point_Value. |\n",
    "| [9] | Donald E. Knuth, Ronald W. Moore. An analysis of alpha-beta pruning. https://doi.org/10.1016/0004-3702(75)90019-3. |\n",
    "| [10] | „Iterative Deepening - Chessprogramming wiki“. Zugegriffen 31. Mai 2022. https://www.chessprogramming.org/Iterative_Deepening |"
   ]
  },
  {
   "cell_type": "markdown",
   "id": "409e1693",
   "metadata": {},
   "source": [
    "# Abbildungsverzeichnis"
   ]
  },
  {
   "cell_type": "markdown",
   "id": "83a58cc3",
   "metadata": {},
   "source": [
    "| ID  | Abbildung  |\n",
    "|-----|------------|\n",
    "| [A1] | DeWiki. „DeWiki > Minimax-Algorithmus“. Zugegriffen 31. Mai 2022. https://dewiki.de/Lexikon/Minimax-Algorithmus. Abbildung: https://upload.wikimedia.org/wikipedia/commons/thumb/6/6f/Minimax.svg/400px-Minimax.svg.png |\n",
    "| [A2] | Alpha-Beta-Suche. Zugegriffen 03. Juni 2022. https://de.wikipedia.org/wiki/Alpha-Beta-Suche. Abbildung: https://de.wikipedia.org/wiki/Alpha-Beta-Suche#/media/Datei:AB_pruning.svg |"
   ]
  },
  {
   "cell_type": "code",
   "execution_count": null,
   "id": "7adcd3f0",
   "metadata": {},
   "outputs": [],
   "source": []
  }
 ],
 "metadata": {
  "kernelspec": {
   "display_name": "Python 3 (ipykernel)",
   "language": "python",
   "name": "python3"
  },
  "language_info": {
   "codemirror_mode": {
    "name": "ipython",
    "version": 3
   },
   "file_extension": ".py",
   "mimetype": "text/x-python",
   "name": "python",
   "nbconvert_exporter": "python",
   "pygments_lexer": "ipython3",
   "version": "3.10.4"
  }
 },
 "nbformat": 4,
 "nbformat_minor": 5
}
