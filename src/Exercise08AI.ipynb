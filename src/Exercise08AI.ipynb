{
 "cells": [
  {
   "cell_type": "code",
   "execution_count": null,
   "metadata": {},
   "outputs": [],
   "source": [
    "%%html\n",
    "<style>\n",
    ".container {\n",
    "  width: 100%;\n",
    "}\n",
    "</style>"
   ]
  },
  {
   "cell_type": "code",
   "execution_count": 4,
   "metadata": {},
   "outputs": [
    {
     "name": "stdout",
     "output_type": "stream",
     "text": [
      "The nb_black extension is already loaded. To reload it, use:\n",
      "  %reload_ext nb_black\n",
      "The nb_mypy extension is already loaded. To reload it, use:\n",
      "  %reload_ext nb_mypy\n"
     ]
    },
    {
     "data": {
      "application/javascript": [
       "\n",
       "            setTimeout(function() {\n",
       "                var nbb_cell_id = 4;\n",
       "                var nbb_unformatted_code = \"%load_ext nb_black\\n%load_ext nb_mypy\";\n",
       "                var nbb_formatted_code = \"%load_ext nb_black\\n%load_ext nb_mypy\";\n",
       "                var nbb_cells = Jupyter.notebook.get_cells();\n",
       "                for (var i = 0; i < nbb_cells.length; ++i) {\n",
       "                    if (nbb_cells[i].input_prompt_number == nbb_cell_id) {\n",
       "                        if (nbb_cells[i].get_text() == nbb_unformatted_code) {\n",
       "                             nbb_cells[i].set_text(nbb_formatted_code);\n",
       "                        }\n",
       "                        break;\n",
       "                    }\n",
       "                }\n",
       "            }, 500);\n",
       "            "
      ],
      "text/plain": [
       "<IPython.core.display.Javascript object>"
      ]
     },
     "metadata": {},
     "output_type": "display_data"
    }
   ],
   "source": [
    "%load_ext nb_black\n",
    "%load_ext nb_mypy"
   ]
  },
  {
   "cell_type": "code",
   "execution_count": 5,
   "metadata": {},
   "outputs": [
    {
     "data": {
      "application/javascript": [
       "\n",
       "            setTimeout(function() {\n",
       "                var nbb_cell_id = 5;\n",
       "                var nbb_unformatted_code = \"import nbimporter\\nfrom AIBaseClass import ChessAI\\nfrom Exercise07AI import Exercise07AI\";\n",
       "                var nbb_formatted_code = \"import nbimporter\\nfrom AIBaseClass import ChessAI\\nfrom Exercise07AI import Exercise07AI\";\n",
       "                var nbb_cells = Jupyter.notebook.get_cells();\n",
       "                for (var i = 0; i < nbb_cells.length; ++i) {\n",
       "                    if (nbb_cells[i].input_prompt_number == nbb_cell_id) {\n",
       "                        if (nbb_cells[i].get_text() == nbb_unformatted_code) {\n",
       "                             nbb_cells[i].set_text(nbb_formatted_code);\n",
       "                        }\n",
       "                        break;\n",
       "                    }\n",
       "                }\n",
       "            }, 500);\n",
       "            "
      ],
      "text/plain": [
       "<IPython.core.display.Javascript object>"
      ]
     },
     "metadata": {},
     "output_type": "display_data"
    }
   ],
   "source": [
    "import nbimporter\n",
    "from AIBaseClass import ChessAI\n",
    "from Exercise07AI import Exercise07AI"
   ]
  },
  {
   "cell_type": "markdown",
   "metadata": {},
   "source": [
    "# Aufgabe 08: Minimax mit Alpha-Beta-Pruning, Memoisierung, Progressive Deepening und \n",
    "\n",
    "Dieses Notebook erweitert den Minimax-Algorithmus mit Alpha-Beta-Pruning und Memoisierung um das Progressive Deepening."
   ]
  },
  {
   "cell_type": "code",
   "execution_count": 12,
   "metadata": {},
   "outputs": [
    {
     "data": {
      "application/javascript": [
       "\n",
       "            setTimeout(function() {\n",
       "                var nbb_cell_id = 12;\n",
       "                var nbb_unformatted_code = \"import chess_custom as chess\\nfrom typing import Any\\n\\n\\nclass Exercise08AI(Exercise07AI):\\n    \\\"\\\"\\\"Chooses middle game moves using minimax algorithm, alpha-beta-pruning,\\n    memoization and progressive deepening and the quiescence search\\\"\\\"\\\"\\n\\n    def __init__(self, **kwargs) -> None:\\n        super().__init__(**kwargs)\";\n",
       "                var nbb_formatted_code = \"import chess_custom as chess\\nfrom typing import Any\\n\\n\\nclass Exercise08AI(Exercise07AI):\\n    \\\"\\\"\\\"Chooses middle game moves using minimax algorithm, alpha-beta-pruning,\\n    memoization and progressive deepening and the quiescence search\\\"\\\"\\\"\\n\\n    def __init__(self, **kwargs) -> None:\\n        super().__init__(**kwargs)\";\n",
       "                var nbb_cells = Jupyter.notebook.get_cells();\n",
       "                for (var i = 0; i < nbb_cells.length; ++i) {\n",
       "                    if (nbb_cells[i].input_prompt_number == nbb_cell_id) {\n",
       "                        if (nbb_cells[i].get_text() == nbb_unformatted_code) {\n",
       "                             nbb_cells[i].set_text(nbb_formatted_code);\n",
       "                        }\n",
       "                        break;\n",
       "                    }\n",
       "                }\n",
       "            }, 500);\n",
       "            "
      ],
      "text/plain": [
       "<IPython.core.display.Javascript object>"
      ]
     },
     "metadata": {},
     "output_type": "display_data"
    }
   ],
   "source": [
    "import chess_custom as chess\n",
    "from typing import Any\n",
    "\n",
    "\n",
    "class Exercise08AI(Exercise07AI):\n",
    "    \"\"\"Chooses middle game moves using minimax algorithm, alpha-beta-pruning,\n",
    "    memoization and progressive deepening and the quiescence search\"\"\"\n",
    "\n",
    "    def __init__(self, **kwargs) -> None:\n",
    "        super().__init__(**kwargs)"
   ]
  },
  {
   "cell_type": "markdown",
   "metadata": {},
   "source": [
    "Die Funktion `get_next_middle_game_move` wurde um eine `for`-Schleife zur iterativen Tiefensuche erweitert."
   ]
  },
  {
   "cell_type": "code",
   "execution_count": 9,
   "metadata": {},
   "outputs": [
    {
     "data": {
      "application/javascript": [
       "\n",
       "            setTimeout(function() {\n",
       "                var nbb_cell_id = 9;\n",
       "                var nbb_unformatted_code = \"class Exercise07AI(Exercise07AI): # type: ignore\\n    \\n    def get_next_middle_game_move(self, board: chess.Board) -> chess.Move:\\n        \\\"\\\"\\\"Gets the best next move\\\"\\\"\\\"\\n        self.last_evaluation: int | None # type annotation for mypy\\n        if self.is_king_endgame != self.check_king_endgame(board):\\n            self.last_evaluation += self.get_endgame_evaluation_change(board)\\n        # Calculate current evaluation\\n        if self.last_evaluation is None:  # type: ignore\\n            current_evaluation = self.full_evaluate(board)\\n        else:\\n            # Get current evaluation (after opponent move)\\n            current_evaluation = self.evaluate(board, self.last_evaluation)\\n\\n        for depth in range(1, self.DEPTH + 1):\\n            # Call minimax and get best move\\n            _, best_move = self.minimax(board, depth, current_evaluation)\\n        \\n        # Reset local cache\\n        self.local_cache: dict[tuple, int] = {}\\n        \\n        # Debugging fail save\\n        assert best_move, f\\\"\\\"\\\"\\n        Best move is None with fen '{board.fen()}' at player {type(self).__name__}! \\n        depth: {self.DEPTH}, last_eval: {self.last_evaluation}, current_evaluation: {current_evaluation},\\n        is_king_engame: {getattr(self, 'is_king_endgame', \\\"N/A\\\")}, move_stack: {board.move_stack}\\n        \\\"\\\"\\\"\\n        # Update last evaluation (after player move)\\n        self.last_evaluation = current_evaluation + self.incremental_evaluate(board, best_move)\\n        return best_move\";\n",
       "                var nbb_formatted_code = \"class Exercise07AI(Exercise07AI):  # type: ignore\\n    def get_next_middle_game_move(self, board: chess.Board) -> chess.Move:\\n        \\\"\\\"\\\"Gets the best next move\\\"\\\"\\\"\\n        self.last_evaluation: int | None  # type annotation for mypy\\n        if self.is_king_endgame != self.check_king_endgame(board):\\n            self.last_evaluation += self.get_endgame_evaluation_change(board)\\n        # Calculate current evaluation\\n        if self.last_evaluation is None:  # type: ignore\\n            current_evaluation = self.full_evaluate(board)\\n        else:\\n            # Get current evaluation (after opponent move)\\n            current_evaluation = self.evaluate(board, self.last_evaluation)\\n\\n        for depth in range(1, self.DEPTH + 1):\\n            # Call minimax and get best move\\n            _, best_move = self.minimax(board, depth, current_evaluation)\\n\\n        # Reset local cache\\n        self.local_cache: dict[tuple, int] = {}\\n\\n        # Debugging fail save\\n        assert best_move, f\\\"\\\"\\\"\\n        Best move is None with fen '{board.fen()}' at player {type(self).__name__}! \\n        depth: {self.DEPTH}, last_eval: {self.last_evaluation}, current_evaluation: {current_evaluation},\\n        is_king_engame: {getattr(self, 'is_king_endgame', \\\"N/A\\\")}, move_stack: {board.move_stack}\\n        \\\"\\\"\\\"\\n        # Update last evaluation (after player move)\\n        self.last_evaluation = current_evaluation + self.incremental_evaluate(\\n            board, best_move\\n        )\\n        return best_move\";\n",
       "                var nbb_cells = Jupyter.notebook.get_cells();\n",
       "                for (var i = 0; i < nbb_cells.length; ++i) {\n",
       "                    if (nbb_cells[i].input_prompt_number == nbb_cell_id) {\n",
       "                        if (nbb_cells[i].get_text() == nbb_unformatted_code) {\n",
       "                             nbb_cells[i].set_text(nbb_formatted_code);\n",
       "                        }\n",
       "                        break;\n",
       "                    }\n",
       "                }\n",
       "            }, 500);\n",
       "            "
      ],
      "text/plain": [
       "<IPython.core.display.Javascript object>"
      ]
     },
     "metadata": {},
     "output_type": "display_data"
    }
   ],
   "source": [
    "class Exercise08AI(Exercise08AI):  # type: ignore\n",
    "    def get_next_middle_game_move(self, board: chess.Board) -> chess.Move:\n",
    "        \"\"\"Gets the best next move\"\"\"\n",
    "        self.last_evaluation: int | None  # type annotation for mypy\n",
    "        if self.is_king_endgame != self.check_king_endgame(board):\n",
    "            self.last_evaluation += self.get_endgame_evaluation_change(board)\n",
    "        # Calculate current evaluation\n",
    "        if self.last_evaluation is None:  # type: ignore\n",
    "            current_evaluation = self.full_evaluate(board)\n",
    "        else:\n",
    "            # Get current evaluation (after opponent move)\n",
    "            current_evaluation = self.evaluate(board, self.last_evaluation)\n",
    "\n",
    "        for depth in range(1, self.DEPTH + 1):\n",
    "            # Call minimax and get best move\n",
    "            _, best_move = self.minimax(board, depth, current_evaluation)\n",
    "\n",
    "        # Reset local cache\n",
    "        self.local_cache: dict[tuple, int] = {}\n",
    "\n",
    "        # Debugging fail save\n",
    "        assert best_move, f\"\"\"\n",
    "        Best move is None with fen '{board.fen()}' at player {type(self).__name__}! \n",
    "        depth: {self.DEPTH}, last_eval: {self.last_evaluation}, current_evaluation: {current_evaluation},\n",
    "        is_king_engame: {getattr(self, 'is_king_endgame', \"N/A\")}, move_stack: {board.move_stack}\n",
    "        \"\"\"\n",
    "        # Update last evaluation (after player move)\n",
    "        self.last_evaluation = current_evaluation + self.incremental_evaluate(\n",
    "            board, best_move\n",
    "        )\n",
    "        return best_move"
   ]
  },
  {
   "cell_type": "markdown",
   "metadata": {},
   "source": [
    "## Debugging Bereich\n",
    "\n",
    "Die folgenden Zellen enthalten Unit-Tests der oben implementierten Funktionen."
   ]
  },
  {
   "cell_type": "code",
   "execution_count": null,
   "metadata": {},
   "outputs": [],
   "source": [
    "# Create player and board\n",
    "unit_test_player = Exercise08AI(player_name=\"Ex08AI\", search_depth=2)\n",
    "board = chess.Board(\"5rk1/1b3p2/8/3p4/3p2P1/2Q4B/5P1K/R3R3 b - - 0 36\")\n",
    "board"
   ]
  },
  {
   "cell_type": "code",
   "execution_count": null,
   "metadata": {},
   "outputs": [],
   "source": [
    "# Test minimax\n",
    "evaluation = unit_test_player.full_evaluate(board)  # Get current evaluation\n",
    "mm_evaluation, mm_move = unit_test_player.minimax(board, 2, evaluation)\n",
    "assert mm_evaluation == 355, \"Minimax evaluation does not match expected value!\"\n",
    "assert mm_move.uci() == 'd4c3', \"Minimax move does not match expected value!\"\n",
    "mm_evaluation, mm_move"
   ]
  },
  {
   "cell_type": "code",
   "execution_count": null,
   "metadata": {},
   "outputs": [],
   "source": [
    "# Test next move function\n",
    "move = unit_test_player.get_next_middle_game_move(board)\n",
    "assert move.uci() == 'd4c3', \"Next move does not match expected value!\"\n",
    "unit_test_player.last_evaluation = None\n",
    "move"
   ]
  },
  {
   "cell_type": "markdown",
   "metadata": {},
   "source": [
    "## Temporärer Bereich\n",
    "\n",
    "Der folgende Bereich dient zum temporären Debuggen und kann nicht-funktionierenden Code enthalten. Dieser Bereich wird vor der Abgabe entfernt."
   ]
  },
  {
   "cell_type": "code",
   "execution_count": null,
   "metadata": {},
   "outputs": [],
   "source": []
  }
 ],
 "metadata": {
  "kernelspec": {
   "display_name": "Python 3 (ipykernel)",
   "language": "python",
   "name": "python3"
  },
  "language_info": {
   "codemirror_mode": {
    "name": "ipython",
    "version": 3
   },
   "file_extension": ".py",
   "mimetype": "text/x-python",
   "name": "python",
   "nbconvert_exporter": "python",
   "pygments_lexer": "ipython3",
   "version": "3.10.2"
  }
 },
 "nbformat": 4,
 "nbformat_minor": 2
}
