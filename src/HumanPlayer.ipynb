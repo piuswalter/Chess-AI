{
 "cells": [
  {
   "cell_type": "markdown",
   "metadata": {},
   "source": [
    "# Menschlicher Spieler\n",
    "\n",
    "Diese Notebook implementiert einen menschlichen Spieler welcher für jeden Zug gefragt wird.  "
   ]
  },
  {
   "cell_type": "code",
   "execution_count": 1,
   "metadata": {},
   "outputs": [],
   "source": [
    "import random\n",
    "# Set a seed, so randomization is reproducable\n",
    "random.seed(3)"
   ]
  },
  {
   "cell_type": "code",
   "execution_count": null,
   "metadata": {},
   "outputs": [],
   "source": [
    "import chess\n",
    "\n",
    "class HumanPlayer(Exercise01AI):\n",
    "\n",
    "    def __init__(self, player_name) -> None:\n",
    "        super().__init__(player_name)\n",
    "\n",
    "    def make_turn(self: ChessAI, board: chess.Board) -> None:\n",
    "        \"\"\"Asks the human to make a turn on the given board.\"\"\"\n",
    "        next_move = None\n",
    "\n",
    "        while True:\n",
    "            next_move_str = input(\"Enter your next move as UCI string: \")\n",
    "            if not next_move_str:\n",
    "                return self.let_ai_play(board)\n",
    "            try:\n",
    "                next_move = chess.Move.from_uci(next_move_str)\n",
    "            except ValueError:\n",
    "                print(\"Illegal input!\")\n",
    "                print(\"Please use UCI format.\")\n",
    "                continue\n",
    "            if next_move not in board.legal_moves:\n",
    "                print(\"This move is not possible!\")\n",
    "                print(\"Available moves: \", [move.uci() for move in board.legal_moves])\n",
    "                continue\n",
    "            break\n",
    "\n",
    "        # Push next move\n",
    "        board.push(next_move)\n",
    "\n",
    "    def let_ai_play(self: ChessAI, board: chess.Board) -> None:\n",
    "        \"\"\"Uses Exercise01AI to make the turn.\"\"\"\n",
    "        next_move, next_state = self.get_next_move(board)\n",
    "        # Push next move or finish game\n",
    "        if next_move:\n",
    "            board.push(next_move)\n",
    "        else:\n",
    "            print(f\"Finished with: {self.state} -> {State.FINISHED}\")\n",
    "            self.state = State.FINISHED\n",
    "            # Close endgame tablebase reader\n",
    "            self.end_game_reader.close()\n",
    "            return\n",
    "\n",
    "        # Handle state transitions\n",
    "        if next_state != self.state:\n",
    "            # Close ployglot opening book to save memory if opening game has finished \n",
    "            if self.state == State.OPENING_GAME:\n",
    "                self.opening_game_reader.close()\n",
    "            self.state = next_state\n"
   ]
  }
 ],
 "metadata": {
  "kernelspec": {
   "display_name": "Python 3 (ipykernel)",
   "language": "python",
   "name": "python3"
  },
  "language_info": {
   "codemirror_mode": {
    "name": "ipython",
    "version": 3
   },
   "file_extension": ".py",
   "mimetype": "text/x-python",
   "name": "python",
   "nbconvert_exporter": "python",
   "pygments_lexer": "ipython3",
   "version": "3.8.12"
  }
 },
 "nbformat": 4,
 "nbformat_minor": 2
}
