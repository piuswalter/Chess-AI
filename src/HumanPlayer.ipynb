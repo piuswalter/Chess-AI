{
 "cells": [
  {
   "cell_type": "code",
   "execution_count": null,
   "metadata": {},
   "outputs": [],
   "source": [
    "%%html\n",
    "<style>\n",
    ".container {\n",
    "  width: 100%;\n",
    "}\n",
    "</style>"
   ]
  },
  {
   "cell_type": "code",
   "execution_count": null,
   "metadata": {},
   "outputs": [],
   "source": [
    "%load_ext nb_black\n",
    "%load_ext nb_mypy"
   ]
  },
  {
   "cell_type": "code",
   "execution_count": null,
   "metadata": {},
   "outputs": [],
   "source": [
    "import nbimporter\n",
    "from Exercise01AI import Exercise01AI\n",
    "from AIBaseClass import State"
   ]
  },
  {
   "cell_type": "markdown",
   "metadata": {},
   "source": [
    "# Menschlicher Spieler\n",
    "\n",
    "Dieses Notebook implementiert einen menschlichen Spieler, welcher für jeden Zug gefragt wird.  "
   ]
  },
  {
   "cell_type": "code",
   "execution_count": null,
   "metadata": {},
   "outputs": [],
   "source": [
    "import chess\n",
    "\n",
    "\n",
    "class HumanPlayer(Exercise01AI):\n",
    "    state: State  # Declare for mypy\n",
    "\n",
    "    def __init__(self, **kwargs) -> None:\n",
    "        super().__init__(**kwargs)\n",
    "\n",
    "    def make_turn(self, board: chess.Board) -> None:\n",
    "        \"\"\"Asks the human to make a turn on the given board.\"\"\"\n",
    "        next_move = None\n",
    "\n",
    "        while True:\n",
    "            next_move_str = input(\"Enter your next move as UCI string: \")\n",
    "            try:\n",
    "                next_move = chess.Move.from_uci(next_move_str)\n",
    "            except ValueError:\n",
    "                print(\"Illegal input!\")\n",
    "                print(\"Please use UCI format.\")\n",
    "                continue\n",
    "            if next_move not in board.legal_moves:\n",
    "                print(\"This move is not possible!\")\n",
    "                print(\"Available moves: \", [move.uci() for move in board.legal_moves])\n",
    "                continue\n",
    "            break\n",
    "\n",
    "        # Push next move\n",
    "        board.push(next_move)"
   ]
  },
  {
   "cell_type": "code",
   "execution_count": null,
   "metadata": {},
   "outputs": [],
   "source": []
  }
 ],
 "metadata": {
  "kernelspec": {
   "display_name": "Python 3 (ipykernel)",
   "language": "python",
   "name": "python3"
  },
  "language_info": {
   "codemirror_mode": {
    "name": "ipython",
    "version": 3
   },
   "file_extension": ".py",
   "mimetype": "text/x-python",
   "name": "python",
   "nbconvert_exporter": "python",
   "pygments_lexer": "ipython3",
   "version": "3.10.2"
  }
 },
 "nbformat": 4,
 "nbformat_minor": 2
}
