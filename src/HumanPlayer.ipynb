{
 "cells": [
  {
   "cell_type": "code",
   "execution_count": null,
   "metadata": {},
   "outputs": [],
   "source": [
    "%%html\n",
    "<style>\n",
    ".container {\n",
    "  width: 100%;\n",
    "}\n",
    "</style>"
   ]
  },
  {
   "cell_type": "code",
   "execution_count": null,
   "metadata": {},
   "outputs": [],
   "source": [
    "%load_ext nb_black\n",
    "%load_ext nb_mypy"
   ]
  },
  {
   "cell_type": "code",
   "execution_count": null,
   "metadata": {},
   "outputs": [],
   "source": [
    "import nbimporter\n",
    "from AIBaseClass import State, ChessAI"
   ]
  },
  {
   "cell_type": "markdown",
   "metadata": {},
   "source": [
    "# Menschlicher Spieler\n",
    "\n",
    "Dieses Notebook implementiert einen menschlichen Spieler, welcher für jeden Zug gefragt wird.  "
   ]
  },
  {
   "cell_type": "code",
   "execution_count": null,
   "metadata": {},
   "outputs": [],
   "source": [
    "import chess\n",
    "\n",
    "\n",
    "class HumanPlayer(ChessAI):\n",
    "    state: State  # Declare for mypy\n",
    "\n",
    "    def __init__(self, **kwargs) -> None:\n",
    "        super().__init__(initial_state=State.STATELESS, **kwargs)\n",
    "\n",
    "    def make_turn(self, board: chess.Board) -> None:\n",
    "        \"\"\"Asks the human to make a turn on the given board.\"\"\"\n",
    "        if board.is_fifty_moves() or board.is_game_over():\n",
    "            return\n",
    "        next_move = None\n",
    "        # Create new stats entry\n",
    "        self.stats.append({\"state\": State.STATELESS})\n",
    "\n",
    "        while True:\n",
    "            next_move_str = input(\"Enter your next move as UCI string: \")\n",
    "            try:\n",
    "                next_move = chess.Move.from_uci(next_move_str)\n",
    "            except ValueError:\n",
    "                print(\"Illegal input!\")\n",
    "                print(\"Please use UCI format.\")\n",
    "                continue\n",
    "            if next_move not in board.legal_moves:\n",
    "                print(\"This move is not possible!\")\n",
    "                print(\"Available moves: \", [move.uci() for move in board.legal_moves])\n",
    "                continue\n",
    "            break\n",
    "\n",
    "        # Push next move\n",
    "        board.push(next_move)\n",
    "        # Update stats\n",
    "        self.stats[-1][\"move\"] = next_move\n",
    "\n",
    "    def get_next_middle_game_move(self, board: chess.Board) -> chess.Move:\n",
    "        \"\"\"This method is never called but must be implemented.\"\"\"\n",
    "        pass"
   ]
  },
  {
   "cell_type": "code",
   "execution_count": null,
   "metadata": {},
   "outputs": [],
   "source": []
  }
 ],
 "metadata": {
  "kernelspec": {
   "display_name": "Python 3 (ipykernel)",
   "language": "python",
   "name": "python3"
  },
  "language_info": {
   "codemirror_mode": {
    "name": "ipython",
    "version": 3
   },
   "file_extension": ".py",
   "mimetype": "text/x-python",
   "name": "python",
   "nbconvert_exporter": "python",
   "pygments_lexer": "ipython3",
   "version": "3.10.2"
  }
 },
 "nbformat": 4,
 "nbformat_minor": 2
}
