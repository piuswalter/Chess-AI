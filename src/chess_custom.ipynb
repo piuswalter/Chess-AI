{
 "cells": [
  {
   "cell_type": "code",
   "execution_count": null,
   "metadata": {},
   "outputs": [],
   "source": [
    "%%html\n",
    "<style>\n",
    ".container {\n",
    "  width: 100%;\n",
    "}\n",
    "</style>"
   ]
  },
  {
   "cell_type": "code",
   "execution_count": null,
   "metadata": {},
   "outputs": [],
   "source": [
    "%load_ext nb_black\n",
    "%load_ext nb_mypy"
   ]
  },
  {
   "cell_type": "markdown",
   "metadata": {},
   "source": [
    "# Python Chess Erweiterung\n",
    "\n",
    "Dieses Notebook erweitert die `chess`-Bibliothek um eine inkrementelle Transpositionstabelle. In dieser Tabelle wird für jede Position die Anzahl der bisher bekannten Transpositionen gespeichert. Eine Transposition liegt genau dann vor, wenn eine gegebene Stellung auch über eine andere Zugfolge erreichbar ist.  \n",
    "Beispiel: Wenn die aktuelle Stellung `x` im Spielverlauf bereits drei Mal auftrat, ist dies die zweite Wiederholung, d. h. die zweite Transposition. Die Transpositionstabelle enthält für dieses Board dann den Wert `2`.\n",
    "\n",
    "Mithilfe der inkrementellen Transpositionstabelle ist die Prüfung auf Wiederholungen (z. B. bei der `fivefold-repetition`-Regel) deutlich effizienter möglich und es muss nicht jedes Mal der gesamte Spielverlauf untersucht werden. Die originale Implementierung in der `chess`-Bibliothek (ohne inkrementelle Transpositionstabelle) ist [hier](https://python-chess.readthedocs.io/en/latest/_modules/chess.html#Board.is_repetition) zu finden.\n",
    "\n",
    "Die folgenden Methoden der `chess`-Bibliothek werden überschrieben:\n",
    "- `__init__`: Die Transpositionstabelle wird mit der Start-Position initialisiert.\n",
    "- `set_fen`: Die Transpositionstabelle wird mit der gewählten Position neu initialisiert.\n",
    "- `push`: Aktualisierung der Transpositionstabelle nach einem neuen Zug.\n",
    "- `pop`: Aktualisierung der Transpositionstabelle nach dem Entfernen des letzten Zuges.\n",
    "- `is_repetition`: Effizientere Implementierung der Elternmethode mithilfe der inkrementellen Transpositionstabelle. In der Elternklasse wird hier der gesamte Stack durchsucht."
   ]
  },
  {
   "cell_type": "code",
   "execution_count": null,
   "metadata": {},
   "outputs": [],
   "source": [
    "from chess import *\n",
    "import chess.pgn as pgn\n",
    "\n",
    "\n",
    "class Board(Board):  # type: ignore\n",
    "    def __init__(\n",
    "        self, fen: Optional[str] = STARTING_FEN, *, chess960: bool = False\n",
    "    ) -> None:\n",
    "        super().__init__(fen, chess960=chess960)\n",
    "        self._transposition_table: Dict[Hashable, int] = {self._transposition_key(): 0}\n",
    "\n",
    "    def set_fen(self, fen: str) -> None:\n",
    "        super().set_fen(fen)\n",
    "        self._transposition_table = {self._transposition_key(): 0}\n",
    "\n",
    "    def push(self, move: Move) -> None:\n",
    "        super().push(move)\n",
    "        key = self._transposition_key()\n",
    "        occurences = self._transposition_table.get(key, -1)\n",
    "        self._transposition_table[key] = occurences + 1\n",
    "\n",
    "    def pop(self) -> Move:\n",
    "        key = self._transposition_key()\n",
    "        occurences = self._transposition_table[key]\n",
    "        if occurences == 0:\n",
    "            del self._transposition_table[key]\n",
    "        else:\n",
    "            self._transposition_table[key] = occurences - 1\n",
    "        return super().pop()\n",
    "\n",
    "    def is_repetition(self, count: int = 3) -> bool:\n",
    "        return self._transposition_table[self._transposition_key()] >= count - 1"
   ]
  },
  {
   "cell_type": "markdown",
   "metadata": {},
   "source": [
    "## Debugging Bereich\n",
    "\n",
    "Die folgenden Zellen enthalten Unit-Tests der oben implementierten Funktionen."
   ]
  },
  {
   "cell_type": "code",
   "execution_count": null,
   "metadata": {},
   "outputs": [],
   "source": [
    "# Create board loop function\n",
    "board = Board(\"5rk1/1b3p2/8/3p4/3p2P1/2Q4B/5P1K/R3R3 b - - 0 36\")\n",
    "\n",
    "\n",
    "def apply_loop(board: Board, loops: int) -> None:\n",
    "    \"\"\"Creates or removes a transposition (move loop)\"\"\"\n",
    "    if loops > 0:\n",
    "        for _ in range(loops):\n",
    "            board.push(Move.from_uci(\"b7c8\"))\n",
    "            board.push(Move.from_uci(\"a1a2\"))\n",
    "            board.push(Move.from_uci(\"c8b7\"))\n",
    "            board.push(Move.from_uci(\"a2a1\"))\n",
    "    else:\n",
    "        for _ in range(loops * 4, 0):\n",
    "            board.pop()\n",
    "\n",
    "\n",
    "board"
   ]
  },
  {
   "cell_type": "code",
   "execution_count": null,
   "metadata": {},
   "outputs": [],
   "source": [
    "# Test transposition table\n",
    "board = Board(\"5rk1/1b3p2/8/3p4/3p2P1/2Q4B/5P1K/R3R3 b - - 0 36\")\n",
    "\n",
    "assert board._transposition_table[board._transposition_key()] == 0, \"Wrong transposition table (0)\"  # type: ignore\n",
    "\n",
    "apply_loop(board, 3)\n",
    "assert board._transposition_table[board._transposition_key()] == 3, \"Wrong transposition table (3)\"  # type: ignore\n",
    "\n",
    "apply_loop(board, -1)\n",
    "assert board._transposition_table[board._transposition_key()] == 2, \"Wrong transposition table (2)\"  # type: ignore"
   ]
  },
  {
   "cell_type": "code",
   "execution_count": null,
   "metadata": {},
   "outputs": [],
   "source": []
  }
 ],
 "metadata": {
  "interpreter": {
   "hash": "a707b6ce8c685eb936424fcc3009d4b4b7a52543c4db09380a3fc49186ceb509"
  },
  "kernelspec": {
   "display_name": "Python 3 (ipykernel)",
   "language": "python",
   "name": "python3"
  },
  "language_info": {
   "codemirror_mode": {
    "name": "ipython",
    "version": 3
   },
   "file_extension": ".py",
   "mimetype": "text/x-python",
   "name": "python",
   "nbconvert_exporter": "python",
   "pygments_lexer": "ipython3",
   "version": "3.10.2"
  }
 },
 "nbformat": 4,
 "nbformat_minor": 2
}
