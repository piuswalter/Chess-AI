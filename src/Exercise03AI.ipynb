{
 "cells": [
  {
   "cell_type": "code",
   "execution_count": null,
   "metadata": {},
   "outputs": [],
   "source": [
    "%%html\n",
    "<style>\n",
    ".container {\n",
    "  width: 100%;\n",
    "}\n",
    "</style>"
   ]
  },
  {
   "cell_type": "code",
   "execution_count": null,
   "metadata": {},
   "outputs": [],
   "source": [
    "%load_ext nb_mypy"
   ]
  },
  {
   "cell_type": "code",
   "execution_count": null,
   "metadata": {},
   "outputs": [],
   "source": [
    "import nbimporter\n",
    "from Exercise02AI import Exercise02AI, display_path"
   ]
  },
  {
   "cell_type": "markdown",
   "metadata": {},
   "source": [
    "# Aufgabe 03: Minimax (Simplified Evaluation Function)\n",
    "\n",
    "Diese Klasse implementiert die Simplified Evaluation Function zur Berechnung des nächsten Zuges im Mittelspiel. Hierbei wird die `minimax`-Funktion der Super-Klasse (`Exercise02AI`) aufgerufen und durch die nun implementierte Simplified Evaluation Function verbessert.\n",
    "\n",
    "Hierzu werden zu Beginn die in der [Simplified Evaluation Function](https://www.chessprogramming.org/Simplified_Evaluation_Function#Piece-Square_Tables) beschriebenen `Piece-Square Tables` definiert. Diese weisen jeder der 64 möglichen Positionen auf dem Schachfeld für alle der Schachfiguren (Bauer, Springer, Läufer, Turm, Dame und König) eine numerische Bewertung in Form einer Ganzzahl zu. Diese kann sowohl positiv (gute Position für die Figur) oder negativ (schlechte Position für die Figur) sein und wird als Liste dargestellt. Der König verfügt über zwei verschiedene Listen, eine für das Mittelspiel, eine für das Endspiel.\n",
    "\n",
    "Anhand der Piece-Square Table der Bauern `PST_PAWN`, die im Folgenden definiert ist, wird ersichtlich, dass Bauern auf den Feldern `f2`, `g2` und `h2` (symmetrischer Weise natürlich auch auf `a2`, `b2` und `c2`) Boni (positive Bewertung) erhalten, während sie auf den Felder `f3` und `g3` Abzüge (negative Bewertungen) erhalten.\n",
    "\n",
    "Das Dictionary `PIECE_TO_PST` weist jedem Figurentyp die entsprechende umgedrehte Piece-Square Table zu, welche aufgrund der einfacheren Lesbarkeit in umgekehrter Reihenfolge initialisiert werden."
   ]
  },
  {
   "cell_type": "code",
   "execution_count": null,
   "metadata": {},
   "outputs": [],
   "source": [
    "import chess_custom as chess\n",
    "\n",
    "class Exercise03AI(Exercise02AI):\n",
    "    \"\"\"Chooses middle game moves using minimax algorithm and piece square tables\"\"\"\n",
    "    def __init__(self, player_name: str, search_depth: int = 3) -> None:\n",
    "        super().__init__(player_name, search_depth)\n",
    "        self.is_king_endgame: bool = False\n",
    "        # Create pice square table mapping (needs to revert tables) \n",
    "        self.PIECE_TO_PST = {\n",
    "            chess.PAWN:   self.PST_PAWN[::-1],\n",
    "            chess.KNIGHT: self.PST_KNIGHT[::-1],\n",
    "            chess.BISHOP: self.PST_BISHOP[::-1],\n",
    "            chess.ROOK:   self.PST_ROOK[::-1],\n",
    "            chess.QUEEN:  self.PST_QUEEN[::-1],\n",
    "            chess.KING:   self.PST_KING[::-1]\n",
    "        }\n",
    "        self.PIECE_TO_PST_KING_ENDGAME = {\n",
    "            chess.PAWN:   self.PST_PAWN[::-1],\n",
    "            chess.KNIGHT: self.PST_KNIGHT[::-1],\n",
    "            chess.BISHOP: self.PST_BISHOP[::-1],\n",
    "            chess.ROOK:   self.PST_ROOK[::-1],\n",
    "            chess.QUEEN:  self.PST_QUEEN[::-1],\n",
    "            chess.KING:   self.PST_KING_ENDGAME[::-1]\n",
    "        }\n",
    "        # Start with normal tables\n",
    "        self.tables = self.PIECE_TO_PST\n",
    "\n",
    "    def reset(self) -> None:\n",
    "        \"\"\"Resets all internal variables\"\"\"\n",
    "        super().reset()\n",
    "        self.last_evaluation = None\n",
    "        self.is_king_endgame = False\n",
    "        self.tables = self.PIECE_TO_PST\n",
    "\n",
    "    # Define field values as class constants\n",
    "    PST_PAWN = [\n",
    "        0,  0,  0,  0,  0,  0,  0,  0,\n",
    "       50, 50, 50, 50, 50, 50, 50, 50,\n",
    "       10, 10, 20, 30, 30, 20, 10, 10,\n",
    "        5,  5, 10, 25, 25, 10,  5,  5,\n",
    "        0,  0,  0, 20, 20,  0,  0,  0,\n",
    "        5, -5,-10,  0,  0,-10, -5,  5,\n",
    "        5, 10, 10,-20,-20, 10, 10,  5,\n",
    "        0,  0,  0,  0,  0,  0,  0,  0\n",
    "    ]\n",
    "\n",
    "    PST_KNIGHT = [\n",
    "        -50,-40,-30,-30,-30,-30,-40,-50,\n",
    "        -40,-20,  0,  0,  0,  0,-20,-40,\n",
    "        -30,  0, 10, 15, 15, 10,  0,-30,\n",
    "        -30,  5, 15, 20, 20, 15,  5,-30,\n",
    "        -30,  0, 15, 20, 20, 15,  0,-30,\n",
    "        -30,  5, 10, 15, 15, 10,  5,-30,\n",
    "        -40,-20,  0,  5,  5,  0,-20,-40,\n",
    "        -50,-40,-30,-30,-30,-30,-40,-50\n",
    "    ]\n",
    "\n",
    "    PST_BISHOP = [\n",
    "        -20,-10,-10,-10,-10,-10,-10,-20,\n",
    "        -10,  0,  0,  0,  0,  0,  0,-10,\n",
    "        -10,  0,  5, 10, 10,  5,  0,-10,\n",
    "        -10,  5,  5, 10, 10,  5,  5,-10,\n",
    "        -10,  0, 10, 10, 10, 10,  0,-10,\n",
    "        -10, 10, 10, 10, 10, 10, 10,-10,\n",
    "        -10,  5,  0,  0,  0,  0,  5,-10,\n",
    "        -20,-10,-10,-10,-10,-10,-10,-20\n",
    "    ]\n",
    "\n",
    "    PST_ROOK = [\n",
    "        0,  0,  0,  0,  0,  0,  0,  0,\n",
    "        5, 10, 10, 10, 10, 10, 10,  5,\n",
    "       -5,  0,  0,  0,  0,  0,  0, -5,\n",
    "       -5,  0,  0,  0,  0,  0,  0, -5,\n",
    "       -5,  0,  0,  0,  0,  0,  0, -5,\n",
    "       -5,  0,  0,  0,  0,  0,  0, -5,\n",
    "       -5,  0,  0,  0,  0,  0,  0, -5,\n",
    "        0,  0,  0,  5,  5,  0,  0,  0\n",
    "    ]\n",
    "\n",
    "    PST_QUEEN = [\n",
    "        -20,-10,-10, -5, -5,-10,-10,-20,\n",
    "        -10,  0,  0,  0,  0,  0,  0,-10,\n",
    "        -10,  0,  5,  5,  5,  5,  0,-10,\n",
    "         -5,  0,  5,  5,  5,  5,  0, -5,\n",
    "          0,  0,  5,  5,  5,  5,  0, -5,\n",
    "        -10,  5,  5,  5,  5,  5,  0,-10,\n",
    "        -10,  0,  5,  0,  0,  0,  0,-10,\n",
    "        -20,-10,-10, -5, -5,-10,-10,-20\n",
    "    ]\n",
    "\n",
    "    PST_KING = [\n",
    "        -30,-40,-40,-50,-50,-40,-40,-30,\n",
    "        -30,-40,-40,-50,-50,-40,-40,-30,\n",
    "        -30,-40,-40,-50,-50,-40,-40,-30,\n",
    "        -30,-40,-40,-50,-50,-40,-40,-30,\n",
    "        -20,-30,-30,-40,-40,-30,-30,-20,\n",
    "        -10,-20,-20,-20,-20,-20,-20,-10,\n",
    "         20, 20,  0,  0,  0,  0, 20, 20,\n",
    "         20, 30, 10,  0,  0, 10, 30, 20\n",
    "    ]\n",
    "\n",
    "    PST_KING_ENDGAME = [\n",
    "        -50,-40,-30,-20,-20,-30,-40,-50,\n",
    "        -30,-20,-10,  0,  0,-10,-20,-30,\n",
    "        -30,-10, 20, 30, 30, 20,-10,-30,\n",
    "        -30,-10, 30, 40, 40, 30,-10,-30,\n",
    "        -30,-10, 30, 40, 40, 30,-10,-30,\n",
    "        -30,-10, 20, 30, 30, 20,-10,-30,\n",
    "        -30,-30,  0,  0,  0,  0,-30,-30,\n",
    "        -50,-30,-30,-30,-30,-30,-30,-50\n",
    "    ]"
   ]
  },
  {
   "cell_type": "markdown",
   "metadata": {},
   "source": [
    "## Prüfung der Endspielkonditionen\n",
    "\n",
    "Um bei der Simplified Evaluation Function die richtige Königstabelle auszuwählen ist es notwendig zu prüfen, ob sich das aktuelle Spiel im End- oder im Mittelspiel befindet. Das Endspiel wird dabei definiert als ein Spiel bei dem entweder:\n",
    "\n",
    "1. beide Seiten keine Dame mehr besitzen oder\n",
    "2. jede Seite die eine Dame hat, keinen Turm und maximal einen Läufer oder Springer besitzt.\n",
    "\n",
    "**Hinweis**: Diese Definition der Endspielkonditionen bezieht sich nur auf die Simplified Evaluation Function. Allgemein ist das Endspiel (implementiert durch die Syzygy-Endspielbibliothek) erreicht, sobald 5 oder weniger Figuren auf dem Spielbrett vorhanden sind.\n",
    "\n",
    "Die Funktion `check_king_endgame` implementiert die oben genannten Bedingungen und prüft, ob sie für ein gegebenes Board erfüllt sind."
   ]
  },
  {
   "cell_type": "code",
   "execution_count": null,
   "metadata": {},
   "outputs": [],
   "source": [
    "class Exercise03AI(Exercise03AI): # type: ignore\n",
    "    def check_king_endgame(self, board: chess.Board) -> bool:\n",
    "        \"\"\"Checks if the king endgame tables should be used.\"\"\"\n",
    "        return all((\n",
    "            (\n",
    "                not board.pieces(chess.QUEEN, color)\n",
    "                or len(board.pieces(chess.BISHOP, color)) + len(board.pieces(chess.KNIGHT, color)) < 2 \n",
    "                and not board.pieces(chess.ROOK, color)\n",
    "            )\n",
    "            for color in chess.COLORS\n",
    "        ))"
   ]
  },
  {
   "cell_type": "markdown",
   "metadata": {},
   "source": [
    "## Evaluierungsfunktion"
   ]
  },
  {
   "cell_type": "markdown",
   "metadata": {},
   "source": [
    "Die Funktion `calculate_pst_value` nimmt als Argument einen Figurentyp, eine Farbe, die Menge der entsprechenden Positionen und die Angabe welche Tabellen zu verwenden sind. Anschließend wird für jede Position der Wert in der entsprechenden Piece-Square Table ermittelt und die Summe dieser Werte zurückgegeben.  Für schwarze Figuren wird das Board dabei gespiegelt und das Resultat negiert."
   ]
  },
  {
   "cell_type": "code",
   "execution_count": null,
   "metadata": {},
   "outputs": [],
   "source": [
    "class Exercise03AI(Exercise03AI): # type: ignore\n",
    "    def calculate_pst_value(self, piece: chess.PieceType, color: chess.Color, positions: chess.SquareSet) -> int:\n",
    "        \"\"\"Calculates the piece-square table values for a given piece, color and and optional position\"\"\"\n",
    "        if color == chess.WHITE:\n",
    "            return sum([self.tables[piece][i] for i in positions])\n",
    "        else:\n",
    "            return -sum([(self.tables[piece][chess.square_mirror(i)]) for i in positions])"
   ]
  },
  {
   "cell_type": "markdown",
   "metadata": {},
   "source": [
    "Die Funktion `evaluate` berechnet den Wert eines gesamten Boards, welches als Argument übergeben wird. Als Grundlage werden die Materialwerte der einzelnen Figuren in Centipawns benötigt, weshalb die bereits in der Elternklasse (`Exercise02AI`) gesetzten Werte wie folgt überschrieben werden:\n",
    "\n",
    "| Figurname  | Materialwert |\n",
    "|---|---|\n",
    "| Bauer (pawn) | 100  |\n",
    "| Springer (knight) | 320  |\n",
    "| Läufer (bishop) | 330  |\n",
    "| Turm (rook) | 500  |\n",
    "| Dame (queen) | 900  |\n",
    "| König (king) | 20000 |\n",
    "\n",
    "Die folgenden Funktionen der Elternklasse wurden überschrieben:\n",
    "\n",
    "- `full_evaluate`\n",
    "- `incremental_evaluate`\n",
    "\n",
    "Die Funktion `full_evaluate` berechnet den Wert eines Boards von Grund auf neu und geht dabei wie folgt vor:\n",
    "\n",
    "1. Es wird für jede Figur und für jede Farbe mithilfe der Funktion `calculate_pst_value` die Bewertung der Figur in Centipawns ermittelt.\n",
    "2. Es wird die Summe über alle Bewertungen gebildet. Je größer die Summe, desto besser ist Weiß auf dem Feld positioniert, umgekehrt ist ein negatives Ergebnis ein Indikator dafür, dass Schwarz besser auf dem Board positioniert ist.\n",
    "3. Die Summe aller Bewertungen wird auf den Rückgabewert der `full_evaluate` Funktion der Elternklasse addiert und zurückgegeben.\n",
    "\n",
    "Der Rückgabewert der Funktion beschreibt also die Kombination des reinen Materialwertes der Figuren beider Spieler und der Positionsbewertung der `Piece-Square Tables`.\n",
    "\n",
    "Die Funktion `incremental_evaluate` berechnet die Differenz der Bewertung, die durch den letzten Zug entstanden ist. Hierbei werden die folgenden Fälle beachtet:\n",
    "\n",
    "- Umwandlung eines Bauern in eine höherwertige Figur\n",
    "- Veränderung der Position der gezogenen Figur\n",
    "- Rochade\n",
    "- Schlagen einer Figur\n",
    "- Übergang in das Endspiel\n",
    "\n",
    "Wird ein Bauer in eine höherwertige Figur umgewandelt, so wird die alte Positionsbewertung des gezogenen Bauern von der Bewertung der umgewandelten Figur subtrahiert. Das Ergebnis wird in der Variable `change` gespeichert.\n",
    "War der letzte Zug keine Umwandlung, so wird die alte Bewertung der gezogenen Figur von ihrer neuen Bewertung abgezogen. Das Ergebnis wird ebenfalls in `change` gespeichert.\n",
    "\n",
    "Handelt es sich bei dem letzten Zug um eine lange Rochade, so ändert sich die Positionsbewertung des Turms. Hierzu wird der Materialwert eines Turms auf `change` addiert, falls Weiß am Zug ist, oder von `change` subtrahiert, falls Schwarz am Zug ist. Bei einer kurzen Rochade entsteht keine Veränderung der Positionsbewertung durch den bewegten Turm.\n",
    "\n",
    "Falls während des letzten Zuges eine Figur geschlagen wurde, wird die alte Bewertung der geschlagenen Figur errechnet und von `change` subtrahiert. Hierbei wird eine separate Abfrage verwendet, um zu erkennen, ob es sich bei dem letzten Zug um einen en passant Zug handelt.\n",
    "\n",
    "Zuletzt wird überprüft, ob ein Übergang in das Endspiel stattgefunden hat, da der König über eine separate `Piece-Square Table` für das Endspiel verfügt. Hat ein solcher Übergang stattgefunden, so werden die neuen und alten Positionsbewertungen beider Könige berechnet. Die neuen Bewertungen werden auf `change` addiert, während die alten Bewertungen subtrahiert werden.\n",
    "\n",
    "Zurückgegeben wird schlussendlich die Summe aus `change` und dem Rückgabewert der Funktion `incremental_evaluate` der Elternklasse."
   ]
  },
  {
   "cell_type": "code",
   "execution_count": null,
   "metadata": {},
   "outputs": [],
   "source": [
    "class Exercise03AI(Exercise03AI): # type: ignore\n",
    "    MATERIAL_VALUES = {\n",
    "        chess.PAWN: 100,\n",
    "        chess.KNIGHT: 320,\n",
    "        chess.BISHOP: 330,\n",
    "        chess.ROOK: 500,\n",
    "        chess.QUEEN: 900,\n",
    "        chess.KING: 20000\n",
    "    }\n",
    "\n",
    "\n",
    "    def full_evaluate(self, board: chess.Board) -> int:\n",
    "        \"\"\"Evaluates a given board.\"\"\"\n",
    "        # Get if pieces standing well or pieces standing badly by calculating with the Piece-Square Tables\n",
    "        rating = sum(\n",
    "            self.calculate_pst_value(piece_type, color, board.pieces(piece_type, color))\n",
    "            for piece_type in chess.PIECE_TYPES\n",
    "            for color in chess.COLORS\n",
    "        )\n",
    "        return rating + super().full_evaluate(board)\n",
    "\n",
    "\n",
    "    def incremental_evaluate(self, board: chess.Board, last_move: chess.Move) -> int:\n",
    "        \"\"\"Returns an incrementally calculated evaluation of the given board.\"\"\"\n",
    "        if promotion_piece_type := last_move.promotion:\n",
    "            # Calculate change caused by piece promotion\n",
    "            old_piece_pst = self.calculate_pst_value(chess.PAWN, board.turn, [last_move.from_square])\n",
    "            new_piece_pst = self.calculate_pst_value(promotion_piece_type, board.turn, [last_move.to_square])\n",
    "            change = new_piece_pst - old_piece_pst\n",
    "        else:\n",
    "            # Calculate change caused by piece move\n",
    "            piece_type = board.piece_type_at(last_move.from_square)\n",
    "            old_pst_value = self.calculate_pst_value(piece_type, board.turn, [last_move.from_square])\n",
    "            new_pst_value = self.calculate_pst_value(piece_type, board.turn, [last_move.to_square])\n",
    "            change = new_pst_value - old_pst_value\n",
    "\n",
    "        if captured_piece_type := board.piece_type_at(last_move.to_square):\n",
    "            # Calculate additional change caused by piece capture\n",
    "            captured_piece_pst = self.calculate_pst_value(captured_piece_type, not board.turn, [last_move.to_square])\n",
    "            change -= captured_piece_pst\n",
    "        elif board.is_en_passant(last_move):\n",
    "            # Calculate additional change caused by en passant pawn capture\n",
    "            pawn_double_move = board.peek()\n",
    "            captured_pawn_pst = self.calculate_pst_value(chess.PAWN, not board.turn, [pawn_double_move.to_square])\n",
    "            change -= captured_pawn_pst\n",
    "        elif board.is_queenside_castling(last_move):\n",
    "            # Add changed rook value caused by long castling (short castling does not change rook value and can be ignored)\n",
    "            change += 5 * (1 if board.turn else -1)\n",
    "\n",
    "        return change + super().incremental_evaluate(board, last_move)"
   ]
  },
  {
   "cell_type": "markdown",
   "metadata": {},
   "source": [
    "## Berechnung des besten Zuges\n",
    "\n",
    "Die Funktion `get_next_middle_game_move` berechnet auf einem gegebenen Board den besten nächsten Zug. Zusätzlich zu bereits vorhandenen Funktionalität der Elternklasse wird hier überprüft ob sich der Endspielstatus geändert hat. Falls zutreffend wird die letzte gespeicherte Beurteilung entsprechend angepasst. Aus Performance-Gründen wird der Endspielstatus innerhalb der Minimax Funktion nicht jedes Mal erneut überprüft."
   ]
  },
  {
   "cell_type": "markdown",
   "metadata": {},
   "source": [
    "self.last_evaluation kann theoretisch None sein, dies ist aber nur zu Beginn des Mittelspiels der Fall. Der engame Status ändert sich aber erst im späteren Spielverlauf, daher tritt der Fall in der Praxis nicht ein."
   ]
  },
  {
   "cell_type": "code",
   "execution_count": null,
   "metadata": {},
   "outputs": [],
   "source": [
    "class Exercise03AI(Exercise03AI): # type: ignore\n",
    "    def get_endgame_evaluation_change(self, board: chess.Board) -> int:\n",
    "        \"\"\"Calculates the change of the evaluation when switching endgame status\"\"\"\n",
    "        self.is_king_endgame: bool  # mypy type declaration\n",
    "        old_rating_king_white = self.calculate_pst_value(chess.KING, chess.WHITE, board.pieces(chess.KING, chess.WHITE))\n",
    "        old_rating_king_black = self.calculate_pst_value(chess.KING, chess.BLACK, board.pieces(chess.KING, chess.BLACK))\n",
    "        self.is_king_endgame = not self.is_king_endgame\n",
    "        self.tables = self.PIECE_TO_PST_KING_ENDGAME if self.is_king_endgame else self.PIECE_TO_PST\n",
    "        new_rating_king_white = self.calculate_pst_value(chess.KING, chess.WHITE, board.pieces(chess.KING, chess.WHITE))\n",
    "        new_rating_king_black = self.calculate_pst_value(chess.KING, chess.BLACK, board.pieces(chess.KING, chess.BLACK))\n",
    "        return new_rating_king_white - old_rating_king_white + new_rating_king_black - old_rating_king_black\n",
    "    \n",
    "    def get_next_middle_game_move(self, board: chess.Board) -> chess.Move | None:\n",
    "        \"\"\"Gets the best next move\"\"\"\n",
    "        if self.is_king_endgame != self.check_king_endgame(board):\n",
    "            self.last_evaluation += self.get_endgame_evaluation_change(board)\n",
    "        return super().get_next_middle_game_move(board)"
   ]
  },
  {
   "cell_type": "markdown",
   "metadata": {},
   "source": [
    "## Debugging Bereich\n",
    "\n",
    "Die folgenden Zellen enthalten Code zum Testen der oben implementierten Funktionen."
   ]
  },
  {
   "cell_type": "code",
   "execution_count": null,
   "metadata": {
    "scrolled": false
   },
   "outputs": [],
   "source": [
    "from chess_custom import Move\n",
    "from IPython.display import clear_output, display\n",
    "move_stack = [Move.from_uci('g1f3'), Move.from_uci('d7d5'), Move.from_uci('d2d4'), Move.from_uci('g8f6'), Move.from_uci('c2c4'), Move.from_uci('e7e6'), Move.from_uci('b1c3'), Move.from_uci('c7c5'), Move.from_uci('c4d5'), Move.from_uci('f6d5'), Move.from_uci('e2e4'), Move.from_uci('d5c3'), Move.from_uci('b2c3'), Move.from_uci('c5d4'), Move.from_uci('c3d4'), Move.from_uci('f8b4'), Move.from_uci('c1d2'), Move.from_uci('b4d2'), Move.from_uci('d1d2'), Move.from_uci('e8g8'), Move.from_uci('a1c1'), Move.from_uci('b8d7'), Move.from_uci('f1d3'), Move.from_uci('d8f6'), Move.from_uci('e1g1'), Move.from_uci('e6e5'), Move.from_uci('d4e5'), Move.from_uci('f6e6'), Move.from_uci('d3c4'), Move.from_uci('e6c6'), Move.from_uci('c4f7'), Move.from_uci('f8f7'), Move.from_uci('c1c6'), Move.from_uci('b7c6'), Move.from_uci('f3g5'), Move.from_uci('f7e7'), Move.from_uci('d2d6'), Move.from_uci('e7e5'), Move.from_uci('g5h7'), Move.from_uci('g8h7'), Move.from_uci('d6c6'), Move.from_uci('d7b6'), Move.from_uci('f2f4'), Move.from_uci('c8d7'), Move.from_uci('c6b7'), Move.from_uci('e5e8'), Move.from_uci('f4f5'), Move.from_uci('h7g8'), Move.from_uci('f5f6'), Move.from_uci('g7f6'), Move.from_uci('f1f6'), Move.from_uci('g8g7'), Move.from_uci('f6d6'), Move.from_uci('g7h7'), Move.from_uci('e4e5'), Move.from_uci('e8e5'), Move.from_uci('d6d1'), Move.from_uci('e5e2'), Move.from_uci('b7f3'), Move.from_uci('e2a2'), Move.from_uci('f3f7'), Move.from_uci('h7h8'), Move.from_uci('f7a2'), Move.from_uci('d7f5'), Move.from_uci('a2f2'), Move.from_uci('f5g6'), Move.from_uci('f2f6'), Move.from_uci('h8h7'), Move.from_uci('f6c6'), Move.from_uci('a8e8'), Move.from_uci('h2h3'), Move.from_uci('e8e2'), Move.from_uci('c6f6'), Move.from_uci('e2c2'), Move.from_uci('f6e6'), Move.from_uci('c2b2'), Move.from_uci('e6f6'), Move.from_uci('b6c4'), Move.from_uci('d1d7'), Move.from_uci('h7h6'), Move.from_uci('f6h8'), Move.from_uci('h6g5'), Move.from_uci('h3h4'), Move.from_uci('g5f5'), Move.from_uci('g2g4'), Move.from_uci('f5g4'), Move.from_uci('h8d4'), Move.from_uci('g4h5'), Move.from_uci('d4h8'), Move.from_uci('h5g4'), Move.from_uci('h8d4'), Move.from_uci('g4h5'), Move.from_uci('d4h8'), Move.from_uci('h5g4'), Move.from_uci('h8d4'), Move.from_uci('g4h5'), Move.from_uci('d4h8'), Move.from_uci('h5g4'), Move.from_uci('h8d4'), Move.from_uci('g4h5'), Move.from_uci('d4h8'), Move.from_uci('g6h7'), Move.from_uci('d7h7'), Move.from_uci('h5g6'), Move.from_uci('h4h5'), Move.from_uci('g6f5'), Move.from_uci('h7f7'), Move.from_uci('f5e6'), Move.from_uci('h8f6'), Move.from_uci('e6d5'), Move.from_uci('f7d7'), Move.from_uci('d5c5'), Move.from_uci('d7c7'), Move.from_uci('c5b5'), Move.from_uci('c7b7'), Move.from_uci('b5c5'), Move.from_uci('b7c7'), Move.from_uci('c5b5'), Move.from_uci('c7b7'), Move.from_uci('b5c5'), Move.from_uci('b7c7'), Move.from_uci('c5b5'), Move.from_uci('c7b7'), Move.from_uci('b5c5'), Move.from_uci('b7c7'), Move.from_uci('c5b5'), Move.from_uci('c7b7'), Move.from_uci('b5a5'), Move.from_uci('b7a7'), Move.from_uci('a5b5'), Move.from_uci('a7b7'), Move.from_uci('b5a5'), Move.from_uci('b7a7'), Move.from_uci('a5b5'), Move.from_uci('a7b7'), Move.from_uci('b5a5'), Move.from_uci('b7a7'), Move.from_uci('a5b5'), Move.from_uci('a7b7'), Move.from_uci('b5a5'), Move.from_uci('b7a7'), Move.from_uci('a5b5'), Move.from_uci('a7b7'), Move.from_uci('b5c5'), Move.from_uci('b7c7'), Move.from_uci('c5b4'), Move.from_uci('c7b7'), Move.from_uci('b4c5'), Move.from_uci('b7c7'), Move.from_uci('c5b4'), Move.from_uci('c7b7'), Move.from_uci('b4c5'), Move.from_uci('b7c7'), Move.from_uci('c5b4'), Move.from_uci('c7b7'), Move.from_uci('b4c5'), Move.from_uci('b7c7'), Move.from_uci('c5b4'), Move.from_uci('c7b7'), Move.from_uci('b4a4'), Move.from_uci('f6a6'), Move.from_uci('c4a5'), Move.from_uci('b7b2'), Move.from_uci('a4a3'), Move.from_uci('b2b5'), Move.from_uci('a3a4'), Move.from_uci('h5h6'), Move.from_uci('a4a3'), Move.from_uci('h6h7'), Move.from_uci('a3a4'), Move.from_uci('h7h8r'), Move.from_uci('a4a3'), Move.from_uci('h8h7'), Move.from_uci('a3a4'), Move.from_uci('h7h8'), Move.from_uci('a4a3'), Move.from_uci('h8h7'), Move.from_uci('a3a4'), Move.from_uci('h7h8'), Move.from_uci('a4a3'), Move.from_uci('h8h7'), Move.from_uci('a3a4'), Move.from_uci('h7h8'), Move.from_uci('a4a3'), Move.from_uci('h8h7')]\n",
    "board = chess.Board()\n",
    "for move in move_stack:\n",
    "    board.push(move)\n",
    "    if board.occupied == 36029909415559232:\n",
    "        #print(move)\n",
    "        print(\"Same:\", board.fen())\n",
    "        #print(list(board.legal_moves))\n",
    "    #print(board.fen())\n",
    "    #display(board)"
   ]
  },
  {
   "cell_type": "code",
   "execution_count": null,
   "metadata": {
    "scrolled": true
   },
   "outputs": [],
   "source": [
    "%%time\n",
    "\"Exercise04AI - White vs Exercise03AI - Black\"\n",
    "\"Seed 13\"\n",
    "\"Last FEN: 8/6R1/6Q1/4k3/6p1/8/5P2/6K1 b - - 20 56\"\n",
    "current_evaluation = 250\n",
    "DEPTH = 3\n",
    "player = Exercise03AI(\"Testplayer\", DEPTH)\n",
    "print(player.minimax(board, DEPTH, current_evaluation))\n",
    "#move = player.get_next_middle_game_move(board)\n",
    "#print(move)\n",
    "#display_path(board, move, DEPTH)\n",
    "board"
   ]
  },
  {
   "cell_type": "code",
   "execution_count": null,
   "metadata": {},
   "outputs": [],
   "source": [
    "%%time\n",
    "DEPTH = 3\n",
    "board = chess.Board()\n",
    "#board.set_fen(\"4k3/8/2n5/7K/5q2/2N5/8/2B5 b - - 0 1\")\n",
    "player = Exercise03AI(\"Testplayer\", DEPTH)\n",
    "for _ in range(10):\n",
    "    board.push(sorted(board.legal_moves, key=lambda move: move.uci())[0])\n",
    "    move = player.get_next_middle_game_move(board)\n",
    "    print(move)"
   ]
  },
  {
   "cell_type": "code",
   "execution_count": null,
   "metadata": {},
   "outputs": [],
   "source": [
    "board = chess.Board(\"5rk1/1b3p2/8/3p4/3p2P1/2Q4B/5P1K/R3R3 b - - 0 36\")\n",
    "player = Exercise03AI(\"Testplayer\", 3)"
   ]
  },
  {
   "cell_type": "code",
   "execution_count": null,
   "metadata": {},
   "outputs": [],
   "source": [
    "last_eval = player.evaluate(board)\n",
    "last_eval"
   ]
  },
  {
   "cell_type": "code",
   "execution_count": null,
   "metadata": {},
   "outputs": [],
   "source": [
    "board.push(chess.Move.from_uci(\"d4c3\"))\n",
    "board"
   ]
  },
  {
   "cell_type": "code",
   "execution_count": null,
   "metadata": {},
   "outputs": [],
   "source": [
    "print(player.evaluate(board, last_eval))\n",
    "print(player.evaluate(board))"
   ]
  },
  {
   "cell_type": "code",
   "execution_count": null,
   "metadata": {},
   "outputs": [],
   "source": [
    "from time import time\n",
    "def time_full_evals(num):\n",
    "    board = chess.Board()\n",
    "    player = Exercise03AI(\"Testplayer\", 3)\n",
    "    last_eval = player.evaluate(board)\n",
    "    start = time()\n",
    "    for _ in range(num):\n",
    "        move = list(board.legal_moves)[0]\n",
    "        board.push(move)\n",
    "        last_eval = player.evaluate(board)\n",
    "    end = time()\n",
    "    return end - start"
   ]
  },
  {
   "cell_type": "code",
   "execution_count": null,
   "metadata": {},
   "outputs": [],
   "source": [
    "def time_inc_evals(num):\n",
    "    board = chess.Board()\n",
    "    player = Exercise03AI(\"Testplayer\", 3)\n",
    "    last_eval = player.evaluate(board)\n",
    "    start = time()\n",
    "    for _ in range(num):\n",
    "        move = list(board.legal_moves)[0]\n",
    "        board.push(move)\n",
    "        last_eval = player.evaluate(board, last_eval)\n",
    "    end = time()\n",
    "    return end - start"
   ]
  },
  {
   "cell_type": "code",
   "execution_count": null,
   "metadata": {},
   "outputs": [],
   "source": [
    "time_full_evals(10000)"
   ]
  },
  {
   "cell_type": "code",
   "execution_count": null,
   "metadata": {},
   "outputs": [],
   "source": [
    "time_inc_evals(10000)"
   ]
  },
  {
   "cell_type": "code",
   "execution_count": null,
   "metadata": {},
   "outputs": [],
   "source": [
    "import chess.pgn\n",
    "from os.path import join\n",
    "\n",
    "with open(join(\"..\", \"games\", \"2022-01-15_20-18-57-907777.pgn\")) as pgn:\n",
    "    first_game = chess.pgn.read_game(pgn)\n",
    "\n",
    "# Iterate through all moves and play them on a board.\n",
    "board = first_game.board()\n",
    "for move in first_game.mainline_moves():\n",
    "    board.push(move)\n",
    "for i in range(220):\n",
    "    board.pop()"
   ]
  },
  {
   "cell_type": "code",
   "execution_count": null,
   "metadata": {},
   "outputs": [],
   "source": [
    "# Test evaluate\n",
    "board = chess.Board(\"4k3/5p2/8/6P1/8/8/8/4K3 b - - 0 1\")\n",
    "board.push(chess.Move.from_uci('f7f5')) # two square pawn move\n",
    "player = Exercise03AI(\"Testplayer\", 3)\n",
    "player.evaluate(board)\n",
    "board.push(chess.Move.from_uci('g5f6')) # en passant capture\n",
    "player.evaluate(board)"
   ]
  },
  {
   "cell_type": "code",
   "execution_count": null,
   "metadata": {},
   "outputs": [],
   "source": [
    "# Check castling move\n",
    "board = chess.Board(\"4k2r/6r1/8/8/8/8/3R4/R3K3 w Qk - 0 1\")\n",
    "queenside_castling_move = list(board.legal_moves)[-1]\n",
    "print(board.is_queenside_castling(queenside_castling_move))\n",
    "player = Exercise03AI(\"Testplayer\", 3)\n",
    "player.get_cache_evaluation(board)\n",
    "board.push(queenside_castling_move)\n",
    "player.evaluate(board)"
   ]
  },
  {
   "cell_type": "code",
   "execution_count": null,
   "metadata": {},
   "outputs": [],
   "source": [
    "board.fen()"
   ]
  },
  {
   "cell_type": "code",
   "execution_count": null,
   "metadata": {},
   "outputs": [],
   "source": []
  }
 ],
 "metadata": {
  "kernelspec": {
   "display_name": "Python 3 (ipykernel)",
   "language": "python",
   "name": "python3"
  },
  "language_info": {
   "codemirror_mode": {
    "name": "ipython",
    "version": 3
   },
   "file_extension": ".py",
   "mimetype": "text/x-python",
   "name": "python",
   "nbconvert_exporter": "python",
   "pygments_lexer": "ipython3",
   "version": "3.10.2"
  }
 },
 "nbformat": 4,
 "nbformat_minor": 2
}
