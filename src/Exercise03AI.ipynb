{
 "cells": [
  {
   "cell_type": "code",
   "execution_count": null,
   "metadata": {},
   "outputs": [],
   "source": [
    "%%html\n",
    "<style>\n",
    ".container {\n",
    "  width: 100%;\n",
    "}\n",
    "</style>"
   ]
  },
  {
   "cell_type": "code",
   "execution_count": null,
   "metadata": {},
   "outputs": [],
   "source": [
    "%load_ext nb_mypy"
   ]
  },
  {
   "cell_type": "code",
   "execution_count": null,
   "metadata": {},
   "outputs": [],
   "source": [
    "import chess\n",
    "import nbimporter\n",
    "from Exercise02AI import Exercise02AI"
   ]
  },
  {
   "cell_type": "markdown",
   "metadata": {},
   "source": [
    "# Aufgabe 03: Minimax (Simplified Evaluation Function)\n",
    "\n",
    "Dieses Notebook implementiert die Simplified Evaluation Function zur Berechnung des nächsten Zuges im Mittelspiel. Hierbei wird die `minimax`-Funktion der Super-Klasse (`Exercise02AI`) aufgerufen und durch die nun implementierte Simplified Evaluation Function verbessert.\n",
    "\n",
    "Hierzu werden nachfolgend die in [1] beschriebenen `Piece-Square Tables` definiert. Diese weisen jeder der 64 möglichen Positionen auf dem Schachfeld für alle der Schachfiguren (Bauer, Springer, Läufer, Turm, Dame und König) eine numerische Bewertung in Form einer Ganzzahl zu. Diese Zahl kann sowohl positiv (gute Position für die Figur) oder negativ (schlechte Position für die Figur) sein. Die Tabelle wird als Liste dargestellt. Der König verfügt über zwei verschiedene Listen, eine für das Mittelspiel und eine für das Endspiel.\n",
    "\n"
   ]
  },
  {
   "cell_type": "markdown",
   "metadata": {},
   "source": [
    "Die statische Hilfsfunktion `transform_pst` wird im Konstruktor der `Exercise03AI` aufgerufen und dient dazu, eine gegebene PST an der x-Achse zu spiegeln und einen übergebenen Materialwert auf jedes Feld aufzuaddieren."
   ]
  },
  {
   "cell_type": "code",
   "execution_count": null,
   "metadata": {},
   "outputs": [],
   "source": [
    "class Exercise03AI(Exercise02AI):\n",
    "    \"\"\"Chooses middle game moves using minimax algorithm and piece square tables.\"\"\"\n",
    "\n",
    "    @staticmethod\n",
    "    def transform_pst(PST: list[int], material_value: int) -> list[int]:\n",
    "        \"\"\"Mirrors a piece square table on the x-axis and adds material values.\"\"\"\n",
    "        rows = [PST[i : i + 8] for i in range(0, len(PST), 8)]\n",
    "        return [field + material_value for row in reversed(rows) for field in row]"
   ]
  },
  {
   "cell_type": "markdown",
   "metadata": {},
   "source": [
    "Das Dictionary `PIECE_TO_PST` weist jedem Figurentyp die entsprechende Piece-Square Table zu. Hierbei werden die Tabellen für die interne Verarbeitung mithilfe der Funktion `transform_pst` an der x-Achse gespiegelt. Um für die Figur des Königs zwischen Mittel- und Endpiel unterscheiden zu können, existiert zusätzlich das Dictionary `PIECE_TO_PST_KING_ENDGAME`.\n",
    "\n",
    "Für eine effiziente Evaluierung werden die Materialwerte für die Figuren bereits in die Tabelle mit einberechnet. Hierfür werden die Materialwerte der einzelnen Figuren in *Centipawns* benötigt. Folglich werden die bereits in der Elternklasse gesetzten Werte wie folgt angepasst:\n",
    "\n",
    "| Figurname  | Materialwert |\n",
    "|---|---|\n",
    "| Bauer (pawn) | 100  |\n",
    "| Springer (knight) | 320  |\n",
    "| Läufer (bishop) | 330  |\n",
    "| Turm (rook) | 500  |\n",
    "| Dame (queen) | 900  |\n",
    "| König (king) | 0 |"
   ]
  },
  {
   "cell_type": "code",
   "execution_count": null,
   "metadata": {},
   "outputs": [],
   "source": [
    "class Exercise03AI(Exercise03AI):  # type: ignore\n",
    "    def __init__(self, **kwargs) -> None:\n",
    "        super().__init__(**kwargs)\n",
    "        self.is_king_endgame: bool = False\n",
    "        # Create piece square table mapping (needs to revert tables)\n",
    "        self.PIECE_TO_PST = {\n",
    "            chess.PAWN: self.transform_pst(self.PST_PAWN, 100),\n",
    "            chess.KNIGHT: self.transform_pst(self.PST_KNIGHT, 320),\n",
    "            chess.BISHOP: self.transform_pst(self.PST_BISHOP, 330),\n",
    "            chess.ROOK: self.transform_pst(self.PST_ROOK, 500),\n",
    "            chess.QUEEN: self.transform_pst(self.PST_QUEEN, 900),\n",
    "            chess.KING: self.transform_pst(self.PST_KING, 0),\n",
    "        }\n",
    "        self.PIECE_TO_PST_KING_ENDGAME = {\n",
    "            **self.PIECE_TO_PST,\n",
    "            chess.KING: self.transform_pst(self.PST_KING_ENDGAME, 0),\n",
    "        }\n",
    "        # Start with normal tables\n",
    "        self.tables = self.PIECE_TO_PST"
   ]
  },
  {
   "cell_type": "markdown",
   "metadata": {},
   "source": [
    "\n",
    "Wie auch schon in `Exercise02AI` existiert eine Funktion `reset`, die dazu dient, die Instanz nach einem beendeten Spiel in ihren Ursprungszustand zurückzusetzen."
   ]
  },
  {
   "cell_type": "code",
   "execution_count": null,
   "metadata": {},
   "outputs": [],
   "source": [
    "class Exercise03AI(Exercise03AI):  # type: ignore\n",
    "    def reset(self) -> None:\n",
    "        \"\"\"Resets all internal variables.\"\"\"\n",
    "        super().reset()\n",
    "        self.is_king_endgame = False\n",
    "        self.tables = self.PIECE_TO_PST"
   ]
  },
  {
   "cell_type": "markdown",
   "metadata": {},
   "source": [
    "Nachgehend werden für alle Figuren die benötigten Piece-Square Tables definiert sowie kurz beschrieben.\n",
    "Anhand der Piece-Square Table der Bauern `PST_PAWN`, die im Folgenden definiert ist, wird ersichtlich, dass Bauern auf den Feldern `f2`, `g2` und `h2` (in symmetrischer Weise auch auf `a2`, `b2` und `c2`) Boni (positive Bewertung) erhalten, während sie auf den Felder `f3` und `g3` Abzüge (negative Bewertungen) erhalten. Dies führt dazu, dass die KI zentrale Bauern nicht stillstehen lässt und diese bereits zu Beginn des Spiels vorwärts bewegt."
   ]
  },
  {
   "cell_type": "code",
   "execution_count": null,
   "metadata": {},
   "outputs": [],
   "source": [
    "class Exercise03AI(Exercise03AI):  # type: ignore\n",
    "    PST_PAWN = [\n",
    "        0,  0,  0,  0,  0,  0,  0,  0,\n",
    "       50, 50, 50, 50, 50, 50, 50, 50,\n",
    "       10, 10, 20, 30, 30, 20, 10, 10,\n",
    "        5,  5, 10, 25, 25, 10,  5,  5,\n",
    "        0,  0,  0, 20, 20,  0,  0,  0,\n",
    "        5, -5,-10,  0,  0,-10, -5,  5,\n",
    "        5, 10, 10,-20,-20, 10, 10,  5,\n",
    "        0,  0,  0,  0,  0,  0,  0,  0\n",
    "    ]"
   ]
  },
  {
   "cell_type": "markdown",
   "metadata": {},
   "source": [
    "Springer sollen sich vor allem im Mittelfeld aufhalten, da nur so alle acht Zug-Felder genutzt werden können. Auf den Feldern `d4` und `d5` sowie `e4` und `e5` erhalten diese hohe Werte. Am Rand und vor allem in den vier Ecken erhalten Springer hohe Abzüge, da hier die Möglichkeiten der Bewegung sehr stark eingeschränkt sind."
   ]
  },
  {
   "cell_type": "code",
   "execution_count": null,
   "metadata": {},
   "outputs": [],
   "source": [
    "class Exercise03AI(Exercise03AI):  # type: ignore\n",
    "    PST_KNIGHT = [\n",
    "        -50,-40,-30,-30,-30,-30,-40,-50,\n",
    "        -40,-20,  0,  0,  0,  0,-20,-40,\n",
    "        -30,  0, 10, 15, 15, 10,  0,-30,\n",
    "        -30,  5, 15, 20, 20, 15,  5,-30,\n",
    "        -30,  0, 15, 20, 20, 15,  0,-30,\n",
    "        -30,  5, 10, 15, 15, 10,  5,-30,\n",
    "        -40,-20,  0,  5,  5,  0,-20,-40,\n",
    "        -50,-40,-30,-30,-30,-30,-40,-50\n",
    "    ]"
   ]
  },
  {
   "cell_type": "markdown",
   "metadata": {},
   "source": [
    "Für Läufer gelten ähnliche Regelungen wie für Springer. Auch diese sollten möglichst in der Mitte des Spielfelds stehen und weder am Rand noch in den Ecken plaziert werden."
   ]
  },
  {
   "cell_type": "code",
   "execution_count": null,
   "metadata": {},
   "outputs": [],
   "source": [
    "class Exercise03AI(Exercise03AI):  # type: ignore\n",
    "    PST_BISHOP = [\n",
    "        -20,-10,-10,-10,-10,-10,-10,-20,\n",
    "        -10,  0,  0,  0,  0,  0,  0,-10,\n",
    "        -10,  0,  5, 10, 10,  5,  0,-10,\n",
    "        -10,  5,  5, 10, 10,  5,  5,-10,\n",
    "        -10,  0, 10, 10, 10, 10,  0,-10,\n",
    "        -10, 10, 10, 10, 10, 10, 10,-10,\n",
    "        -10,  5,  0,  0,  0,  0,  5,-10,\n",
    "        -20,-10,-10,-10,-10,-10,-10,-20\n",
    "    ]"
   ]
  },
  {
   "cell_type": "markdown",
   "metadata": {},
   "source": [
    "Türme haben nur kleine Differenzen in der Bewertung. So stehen diese auf den Feldern `d1` und `e1` sowie auf den 7. Linie (`a7` bis `h7`) besonders gut. An den Vertikalen am Rand (Linie `a` und `h`) stehen diese schlechter."
   ]
  },
  {
   "cell_type": "code",
   "execution_count": null,
   "metadata": {},
   "outputs": [],
   "source": [
    "class Exercise03AI(Exercise03AI):  # type: ignore\n",
    "    PST_ROOK = [\n",
    "        0,  0,  0,  0,  0,  0,  0,  0,\n",
    "        5, 10, 10, 10, 10, 10, 10,  5,\n",
    "       -5,  0,  0,  0,  0,  0,  0, -5,\n",
    "       -5,  0,  0,  0,  0,  0,  0, -5,\n",
    "       -5,  0,  0,  0,  0,  0,  0, -5,\n",
    "       -5,  0,  0,  0,  0,  0,  0, -5,\n",
    "       -5,  0,  0,  0,  0,  0,  0, -5,\n",
    "        0,  0,  0,  5,  5,  0,  0,  0\n",
    "    ]"
   ]
  },
  {
   "cell_type": "markdown",
   "metadata": {},
   "source": [
    "Die Dame kann durch ihre hohe Anzahl an Zug- und Schlag-Richtungen in der Mitte des Spielfelds sehr viel abdecken, sollte also dort ausgerichtet sein. Auch sie sollte weder am Rand noch in den Ecken platziert werden."
   ]
  },
  {
   "cell_type": "code",
   "execution_count": null,
   "metadata": {},
   "outputs": [],
   "source": [
    "class Exercise03AI(Exercise03AI):  # type: ignore\n",
    "    PST_QUEEN = [\n",
    "        -20,-10,-10, -5, -5,-10,-10,-20,\n",
    "        -10,  0,  0,  0,  0,  0,  0,-10,\n",
    "        -10,  0,  5,  5,  5,  5,  0,-10,\n",
    "         -5,  0,  5,  5,  5,  5,  0, -5,\n",
    "          0,  0,  5,  5,  5,  5,  0, -5,\n",
    "        -10,  5,  5,  5,  5,  5,  0,-10,\n",
    "        -10,  0,  5,  0,  0,  0,  0,-10,\n",
    "        -20,-10,-10, -5, -5,-10,-10,-20\n",
    "    ]"
   ]
  },
  {
   "cell_type": "markdown",
   "metadata": {},
   "source": [
    "Einzig für den König gibt es zwei Piece-Square Tables. Die Folgende ist für das Mittelspiel, die Nächste für das Endspiel. Im Mittelspiel soll durch die Wertung verhindert werden, dass der König zu früh in die Mitte des Spielfelds zieht und von anderen Figuren angegriffen werden kann. Auf der Grundlinie ist er von seinen anderen Figuren geschützt."
   ]
  },
  {
   "cell_type": "code",
   "execution_count": null,
   "metadata": {},
   "outputs": [],
   "source": [
    "class Exercise03AI(Exercise03AI):  # type: ignore\n",
    "    PST_KING = [\n",
    "        -30,-40,-40,-50,-50,-40,-40,-30,\n",
    "        -30,-40,-40,-50,-50,-40,-40,-30,\n",
    "        -30,-40,-40,-50,-50,-40,-40,-30,\n",
    "        -30,-40,-40,-50,-50,-40,-40,-30,\n",
    "        -20,-30,-30,-40,-40,-30,-30,-20,\n",
    "        -10,-20,-20,-20,-20,-20,-20,-10,\n",
    "         20, 20,  0,  0,  0,  0, 20, 20,\n",
    "         20, 30, 10,  0,  0, 10, 30, 20\n",
    "    ]"
   ]
  },
  {
   "cell_type": "markdown",
   "metadata": {},
   "source": [
    "Im Endspiel, das im Folgenden genauer definiert ist, sollte der König die Grundlinie verlassen und ins Zentrum des Spielfelds ziehen. Dies ist aufgrund seiner geringen Beweglichkeit wichtig, da er dort mehr Möglichkeiten der Offensive hat."
   ]
  },
  {
   "cell_type": "code",
   "execution_count": null,
   "metadata": {},
   "outputs": [],
   "source": [
    "class Exercise03AI(Exercise03AI):  # type: ignore\n",
    "    PST_KING_ENDGAME = [\n",
    "        -50,-40,-30,-20,-20,-30,-40,-50,\n",
    "        -30,-20,-10,  0,  0,-10,-20,-30,\n",
    "        -30,-10, 20, 30, 30, 20,-10,-30,\n",
    "        -30,-10, 30, 40, 40, 30,-10,-30,\n",
    "        -30,-10, 30, 40, 40, 30,-10,-30,\n",
    "        -30,-10, 20, 30, 30, 20,-10,-30,\n",
    "        -30,-30,  0,  0,  0,  0,-30,-30,\n",
    "        -50,-30,-30,-30,-30,-30,-30,-50\n",
    "    ]"
   ]
  },
  {
   "cell_type": "markdown",
   "metadata": {},
   "source": [
    "## Prüfung der Endspielkonditionen\n",
    "\n",
    "Um bei der Simplified Evaluation Function die richtige Königstabelle auszuwählen ist es notwendig zu prüfen, ob sich das aktuelle Spiel im Mittel- oder Endspiel befindet. Das Endspiel wird dabei definiert als ein Spiel bei dem entweder:\n",
    "\n",
    "1. beide Seiten keine Dame mehr besitzen oder\n",
    "2. jede Seite die eine Dame hat, keinen Turm und maximal einen Läufer oder Springer besitzt.\n",
    "\n",
    "**Hinweis**: Diese Definition der Endspielkonditionen bezieht sich nur auf die Simplified Evaluation Function. Allgemein ist das Endspiel (implementiert durch die Syzygy Endgame Tablebases) erreicht, sobald 5 oder weniger Figuren auf dem Spielbrett vorhanden sind.\n",
    "\n",
    "Die Funktion `check_king_endgame` implementiert die oben genannten Bedingungen und prüft, ob sie für ein gegebenes Board erfüllt sind."
   ]
  },
  {
   "cell_type": "code",
   "execution_count": null,
   "metadata": {},
   "outputs": [],
   "source": [
    "class Exercise03AI(Exercise03AI):  # type: ignore\n",
    "    def check_king_endgame(self, board: chess.Board) -> bool:\n",
    "        \"\"\"Checks if the king endgame tables should be used.\"\"\"\n",
    "        return all(\n",
    "            (\n",
    "                (\n",
    "                    not board.pieces(chess.QUEEN, color)\n",
    "                    or (\n",
    "                        len(board.pieces(chess.BISHOP, color))\n",
    "                        + len(board.pieces(chess.KNIGHT, color))\n",
    "                        < 2\n",
    "                    )\n",
    "                    and not board.pieces(chess.ROOK, color)\n",
    "                )\n",
    "                for color in chess.COLORS\n",
    "            )\n",
    "        )"
   ]
  },
  {
   "cell_type": "markdown",
   "metadata": {},
   "source": [
    "## Evaluierungsfunktion"
   ]
  },
  {
   "cell_type": "markdown",
   "metadata": {},
   "source": [
    "Die Funktion `calculate_pst_value` nimmt als Argument einen Figurentyp (`piece`), eine Farbe (`color`) und eine Menge von Positionen (`positions`). Anschließend wird für jede Position der Wert in der entsprechenden Piece-Square Table ermittelt und die Summe dieser Werte zurückgegeben. Für schwarze Figuren wird das Board dabei gespiegelt und das Resultat negiert."
   ]
  },
  {
   "cell_type": "code",
   "execution_count": null,
   "metadata": {},
   "outputs": [],
   "source": [
    "class Exercise03AI(Exercise03AI):  # type: ignore\n",
    "    def calculate_pst_value(\n",
    "        self,\n",
    "        piece: chess.PieceType,\n",
    "        color: chess.Color,\n",
    "        positions: chess.SquareSet\n",
    "    ) -> int:\n",
    "        \"\"\"Calculates the piece-square table values for a given piece, color and and optional position.\"\"\"\n",
    "        if color == chess.WHITE:\n",
    "            return sum([self.tables[piece][i] for i in positions])\n",
    "        else:\n",
    "            return -sum(\n",
    "                [(self.tables[piece][chess.square_mirror(i)]) for i in positions]\n",
    "            )"
   ]
  },
  {
   "cell_type": "markdown",
   "metadata": {},
   "source": [
    "Die folgenden Funktionen der Elternklasse (`Exercise02AI`) wurden überschrieben:\n",
    "\n",
    "- `full_evaluate`\n",
    "- `incremental_evaluate`\n",
    "\n",
    "Die Funktion `full_evaluate` berechnet den Wert eines Boards von Grund auf neu und geht dabei wie folgt vor:\n",
    "\n",
    "1. Es wird für jede Figur und für jede Farbe mithilfe der Funktion `calculate_pst_value` die Bewertung der Figur in Centipawns ermittelt.\n",
    "2. Es wird die Summe über alle Bewertungen gebildet. Je größer die Summe, desto besser ist Weiß auf dem Feld positioniert, umgekehrt ist ein negatives Ergebnis ein Indikator dafür, dass Schwarz besser auf dem Board positioniert ist.\n",
    "3. Die Summe aller Bewertungen wird zurückgegeben.\n",
    "\n",
    "Der Rückgabewert der Funktion beschreibt also die Kombination des reinen Materialwertes der Figuren beider Spieler und der Positionsbewertung durch die `Piece-Square Tables`."
   ]
  },
  {
   "cell_type": "code",
   "execution_count": null,
   "metadata": {},
   "outputs": [],
   "source": [
    "class Exercise03AI(Exercise03AI):  # type: ignore\n",
    "    def full_evaluate(self, board: chess.Board) -> int:\n",
    "        \"\"\"Evaluates a given board.\"\"\"\n",
    "        # Get if pieces standing well or pieces standing badly by calculating with the Piece-Square Tables\n",
    "        return sum(\n",
    "            self.calculate_pst_value(piece_type, color, board.pieces(piece_type, color))\n",
    "            for piece_type in chess.PIECE_TYPES\n",
    "            for color in chess.COLORS\n",
    "        )"
   ]
  },
  {
   "cell_type": "markdown",
   "metadata": {},
   "source": [
    "Die Funktion `incremental_evaluate` berechnet die Änderungen der Bewertung, wenn der gegebene Zug (`next_move`) auf das übergebene Board (`board`) angewendet wird. Diese Änderung wird zurückgegeben. Hierbei werden die folgenden Fälle beachtet:\n",
    "\n",
    "- Umwandlung eines Bauern in eine höherwertige Figur\n",
    "- Veränderung der Position der gezogenen Figur\n",
    "- Schlagen einer Figur (auch durch einen En Passant Zug)\n",
    "- Lange (große) und kurze (kleine) Rochade\n",
    "\n",
    "Wird ein Bauer in eine höherwertige Figur umgewandelt, so wird die alte Positionsbewertung des gezogenen Bauern von der Bewertung der umgewandelten Figur subtrahiert. Das Ergebnis wird in der Variable `change` gespeichert.\n",
    "War der letzte Zug keine Umwandlung, so wird die alte Bewertung der gezogenen Figur von ihrer neuen Bewertung abgezogen. Das Ergebnis wird ebenfalls in `change` gespeichert.\n",
    "\n",
    "Handelt es sich bei dem letzten Zug um eine lange Rochade, so ändert sich die Positionsbewertung des Turms. Hierzu wird der Materialwert eines Turms auf `change` addiert, falls Weiß am Zug ist, oder von `change` subtrahiert, falls Schwarz am Zug ist. Bei einer kurzen Rochade entsteht keine Veränderung der Positionsbewertung durch den bewegten Turm.\n",
    "\n",
    "Falls während des letzten Zuges eine Figur geschlagen wurde, wird die alte Bewertung der geschlagenen Figur errechnet und von `change` subtrahiert. Hierbei wird eine separate Abfrage verwendet, um zu erkennen, ob es sich bei dem letzten Zug um einen En Passant Zug handelt.\n",
    "\n",
    "Zurückgegeben wird schlussendlich die Summe von `change`."
   ]
  },
  {
   "cell_type": "code",
   "execution_count": null,
   "metadata": {},
   "outputs": [],
   "source": [
    "class Exercise03AI(Exercise03AI):  # type: ignore\n",
    "    def incremental_evaluate(\n",
    "        self,\n",
    "        board: chess.Board,\n",
    "        last_evaluation: int,\n",
    "        next_move: chess.Move\n",
    "    ) -> int:\n",
    "        \"\"\"Returns an incrementally calculated evaluation of the given board.\"\"\"\n",
    "        if promotion_piece_type := next_move.promotion:\n",
    "            # Calculate change caused by piece promotion\n",
    "            old_piece_pst = self.calculate_pst_value(\n",
    "                chess.PAWN, board.turn, [next_move.from_square]\n",
    "            )\n",
    "            new_piece_pst = self.calculate_pst_value(\n",
    "                promotion_piece_type, board.turn, [next_move.to_square]\n",
    "            )\n",
    "            change = new_piece_pst - old_piece_pst\n",
    "        else:\n",
    "            # Calculate change caused by piece move\n",
    "            piece_type = board.piece_type_at(next_move.from_square)\n",
    "            old_pst_value = self.calculate_pst_value(\n",
    "                piece_type, board.turn, [next_move.from_square]\n",
    "            )\n",
    "            new_pst_value = self.calculate_pst_value(\n",
    "                piece_type, board.turn, [next_move.to_square]\n",
    "            )\n",
    "            change = new_pst_value - old_pst_value\n",
    "\n",
    "        if captured_piece_type := board.piece_type_at(next_move.to_square):\n",
    "            # Calculate additional change caused by piece capture\n",
    "            captured_piece_pst = self.calculate_pst_value(\n",
    "                captured_piece_type, not board.turn, [next_move.to_square]\n",
    "            )\n",
    "            change -= captured_piece_pst\n",
    "        elif board.is_en_passant(next_move):\n",
    "            # Calculate additional change caused by en passant pawn capture\n",
    "            pawn_double_move = board.peek()\n",
    "            captured_pawn_pst = self.calculate_pst_value(\n",
    "                chess.PAWN, not board.turn, [pawn_double_move.to_square]\n",
    "            )\n",
    "            change -= captured_pawn_pst\n",
    "        elif board.is_queenside_castling(next_move):\n",
    "            # Add changed rook value caused by long castling (short castling does not change rook value and can be ignored)\n",
    "            change += 5 * (1 if board.turn else -1)\n",
    "\n",
    "        return last_evaluation + change"
   ]
  },
  {
   "cell_type": "markdown",
   "metadata": {},
   "source": [
    "## Berechnung des besten Zuges\n",
    "\n",
    "Die Funktion `get_endgame_evaluation_change` berechnet die Differenz der Bewertung die beim Übergang in das Königs-Endspiel oder umgekehrt beim Übergang zurück in das Königs-Mittelspiel stattfindet."
   ]
  },
  {
   "cell_type": "code",
   "execution_count": null,
   "metadata": {},
   "outputs": [],
   "source": [
    "class Exercise03AI(Exercise03AI):  # type: ignore\n",
    "    def get_endgame_evaluation_change(self, board: chess.Board) -> int:\n",
    "        \"\"\"Calculates the change of the evaluation when switching endgame status.\"\"\"\n",
    "        self.is_king_endgame: bool  # mypy type declaration\n",
    "        old_rating_king_white = self.calculate_pst_value(\n",
    "            chess.KING, chess.WHITE, board.pieces(chess.KING, chess.WHITE)\n",
    "        )\n",
    "        old_rating_king_black = self.calculate_pst_value(\n",
    "            chess.KING, chess.BLACK, board.pieces(chess.KING, chess.BLACK)\n",
    "        )\n",
    "        self.is_king_endgame = not self.is_king_endgame\n",
    "        self.tables = (\n",
    "            self.PIECE_TO_PST_KING_ENDGAME\n",
    "            if self.is_king_endgame\n",
    "            else self.PIECE_TO_PST\n",
    "        )\n",
    "        new_rating_king_white = self.calculate_pst_value(\n",
    "            chess.KING, chess.WHITE, board.pieces(chess.KING, chess.WHITE)\n",
    "        )\n",
    "        new_rating_king_black = self.calculate_pst_value(\n",
    "            chess.KING, chess.BLACK, board.pieces(chess.KING, chess.BLACK)\n",
    "        )\n",
    "        return (\n",
    "            new_rating_king_white\n",
    "            - old_rating_king_white\n",
    "            + new_rating_king_black\n",
    "            - old_rating_king_black\n",
    "        )"
   ]
  },
  {
   "cell_type": "markdown",
   "metadata": {},
   "source": [
    "Die Funktion `get_next_middle_game_move` berechnet auf einem gegebenen Board den nächsten besten Zug. Zusätzlich zur bereits vorhandenen Funktionalität der Elternklasse wird hier überprüft, ob sich der Endspielstatus geändert hat. Falls zutreffend, wird die letzte gespeicherte Beurteilung mithilfe der Funktion `get_endgame_evaluation_change` entsprechend angepasst, da der König über eine separate `Piece-Square Table` für das Endspiel verfügt. Aus Performance-Gründen wird der Endspielstatus innerhalb der Minimax Funktion nicht jedes Mal erneut überprüft.\n",
    "\n",
    "**Hinweis**: `self.last_evaluation` kann in der Theorie den Wert `None` annehmen und hier einen Fehler auslösen. Dies ist aber nur zu Beginn des Mittelspiels der Fall. Der Status des Spiels zum Endspiel ändert sich aber erst im späteren Spielverlauf, daher tritt der Fall in der Praxis nicht ein und wird folglich nicht geprüft."
   ]
  },
  {
   "cell_type": "code",
   "execution_count": null,
   "metadata": {},
   "outputs": [],
   "source": [
    "class Exercise03AI(Exercise03AI):  # type: ignore\n",
    "    def get_next_middle_game_move(self, board: chess.Board) -> chess.Move:\n",
    "        \"\"\"Gets the best next move.\"\"\"\n",
    "        self.last_evaluation: int  # type annotation for mypy\n",
    "        if self.is_king_endgame != self.check_king_endgame(board):\n",
    "            self.last_evaluation += self.get_endgame_evaluation_change(board)\n",
    "        return super().get_next_middle_game_move(board)"
   ]
  },
  {
   "cell_type": "markdown",
   "metadata": {},
   "source": [
    "## Debugging Bereich\n",
    "\n",
    "Die folgenden Zellen enthalten Unit-Tests der oben implementierten Funktionen."
   ]
  },
  {
   "cell_type": "code",
   "execution_count": null,
   "metadata": {},
   "outputs": [],
   "source": [
    "from AIBaseClass import ChessAI\n",
    "import Exercise02AI as Exercise02AI_"
   ]
  },
  {
   "cell_type": "code",
   "execution_count": null,
   "metadata": {},
   "outputs": [],
   "source": [
    "# Create player and board\n",
    "unit_test_player = Exercise03AI(player_name=\"Ex03AI\", search_depth=3)\n",
    "board = chess.Board(\"5rk1/1b3p2/8/3p4/3p2P1/2Q4B/5P1K/R3R3 b - - 0 36\")\n",
    "board"
   ]
  },
  {
   "cell_type": "markdown",
   "metadata": {},
   "source": [
    "Um festzustellen, ob sich das Spiel im Endspiel (Definition s. o.) befindet, wurde die Funktion `check_king_endgame` entwickelt. Um deren Funktionsweise zu validieren, wird bei dem gegebenen Board überprüft, ob richtig erkannt wird, dass sich das Spiel erst nach dem Schlagen der Dame im Endspiel befindet."
   ]
  },
  {
   "cell_type": "code",
   "execution_count": null,
   "metadata": {},
   "outputs": [],
   "source": [
    "# Test endgame check\n",
    "def test_endgame_check(unit_test_player: ChessAI, board: chess.Board):\n",
    "    is_endgame_1 = unit_test_player.check_king_endgame(board)\n",
    "    board.push(chess.Move.from_uci(\"d4c3\"))  # white queen capture\n",
    "    is_endgame_2 = unit_test_player.check_king_endgame(board)\n",
    "    board.pop()\n",
    "    print(f\"Endgame 1: {is_endgame_1} - Endgame 2: {is_endgame_2}\")\n",
    "    assert is_endgame_1 is False, \"Endgame status should be False!\"\n",
    "    assert is_endgame_2 is True, \"Endgame status should be True!\""
   ]
  },
  {
   "cell_type": "code",
   "execution_count": null,
   "metadata": {},
   "outputs": [],
   "source": [
    "test_endgame_check(unit_test_player, board)"
   ]
  },
  {
   "cell_type": "markdown",
   "metadata": {},
   "source": [
    "Die Funktion `calculate_pst_value` berechnet für eine gegebene Spielfigur und eine Liste von Spielfeldern die Evaluierung. Um diese Funktion zu testen, wird für Weiß der Wert des Bauers an der Position F2 überprüft, welcher laut Piece-Square Table $10$ sein muss. Für den schwarzen Spieler wird der Läufer auf B7 überprüft, wobei dessen Position über `chess.square_mirror` gespiegelt wird. Der erwartete Wert beträgt hierbei $5$, wird allerdings negiert, da es sich um die Bewertung für den schwarzen Spieler handelt."
   ]
  },
  {
   "cell_type": "code",
   "execution_count": null,
   "metadata": {},
   "outputs": [],
   "source": [
    "# Test pst calculation\n",
    "def test_pst_calculation(unit_test_player: ChessAI, board: chess.Board):\n",
    "    pst_value_white = unit_test_player.calculate_pst_value(\n",
    "        piece=chess.PAWN, color=chess.WHITE, positions=[chess.F2]\n",
    "    )\n",
    "    pst_value_black = unit_test_player.calculate_pst_value(\n",
    "        piece=chess.BISHOP, color=chess.BLACK, positions=[chess.B7]\n",
    "    )\n",
    "    print(f\"PST Values: White {pst_value_white} - Black {pst_value_black}\")\n",
    "    assert pst_value_white == 110, \"PST calculation for white does not match expected value!\"\n",
    "    assert pst_value_black == -335, \"PST calculation for black does not match expected value!\""
   ]
  },
  {
   "cell_type": "code",
   "execution_count": null,
   "metadata": {},
   "outputs": [],
   "source": [
    "test_pst_calculation(unit_test_player, board)"
   ]
  },
  {
   "cell_type": "markdown",
   "metadata": {},
   "source": [
    "Um die Berechnung der PSTs zu validieren, wird für die insgesamt 13 Figuren auf dem aktuellen Board die Bewertung überprüft. Da die Materialwerte nun in Centipawns berechnet werden, lautet der neue Wert der `full_evaluate` aus `Exercise02AI` nicht mehr $13$, sondern $1300$. Ausgehend von dieser Basisbewertung werden nun die folgenden Positionsbewertungen mit eingerechnet:\n",
    "\n",
    "|         | Bauer | Läufer | Turm | Dame | König |\n",
    "|---------|-------|--------|------|------|-------|\n",
    "| Weiß    | 10    | -10    | 5    | 5    | 20    |\n",
    "| Schwarz | 55    | 5      | -    | -    | 30    |\n",
    "\n",
    "Die Stellung des schwarzen Spielers wird also um 60 Punkte besser bewertet, welche von der Basisbewertung subtrahiert werden. Folglich lautet der erwartete Wert $1240$."
   ]
  },
  {
   "cell_type": "code",
   "execution_count": null,
   "metadata": {},
   "outputs": [],
   "source": [
    "# Test full evaluation\n",
    "def test_full_evaluation(unit_test_player: ChessAI, board: chess.Board):\n",
    "    full_eval = unit_test_player.full_evaluate(board)\n",
    "    print(f\"Full Evaluation: {full_eval}\")\n",
    "    assert full_eval == 1240, \"Full evaluation does not match expected value!\""
   ]
  },
  {
   "cell_type": "code",
   "execution_count": null,
   "metadata": {},
   "outputs": [],
   "source": [
    "test_full_evaluation(unit_test_player, board)"
   ]
  },
  {
   "cell_type": "markdown",
   "metadata": {},
   "source": [
    "Im Folgenden wird die Funktion `incremental_evaluate` getestet, wobei der schwarze Spieler mit seinem Bauer die Dame des weißen Spielers schlägt. Der verlorene Materialwert der Dame beträgt 900 Centipawns, ihr Stellungswert von $5$ geht ebenfalls verloren. Da der Positionswert des schwarzen Bauern sich ebenfalls um fünf Punkte reduziert, entspricht der erwartete Rückgabewert der Funktion dem Materialwert der Dame."
   ]
  },
  {
   "cell_type": "code",
   "execution_count": null,
   "metadata": {},
   "outputs": [],
   "source": [
    "# Test incremental evaluation\n",
    "def test_incremental_evaluation(unit_test_player: ChessAI, board: chess.Board):\n",
    "    next_move = chess.Move.from_uci(\"d4c3\")  # white queen capture\n",
    "    inc_eval = unit_test_player.incremental_evaluate(board, 0, next_move)\n",
    "    print(f\"Incremental Evaluation: {inc_eval}\")\n",
    "    assert inc_eval == -900, \"Incremental evaluation does not match expected value!\""
   ]
  },
  {
   "cell_type": "code",
   "execution_count": null,
   "metadata": {},
   "outputs": [],
   "source": [
    "test_incremental_evaluation(unit_test_player, board)"
   ]
  },
  {
   "cell_type": "markdown",
   "metadata": {},
   "source": [
    "Nachdem die vollständige und die inkrementelle Evaluierungsfunktion getestet wurden, wird nun das Zusammenspiel beider Funktionen getestet. Hierbei wird überprüft, ob das Ergebnis der `incremental_evaluate` Funktion mit einem gebenenen `next_move` dem der Funktion `full_evaluate` entspricht, die ein Board erhält, auf welches eben dieser Zug angewendet wurde."
   ]
  },
  {
   "cell_type": "code",
   "execution_count": null,
   "metadata": {},
   "outputs": [],
   "source": [
    "# Test evaluation\n",
    "def test_evaluation(unit_test_player: ChessAI, board: chess.Board):\n",
    "    next_move = chess.Move.from_uci(\"d4c3\")  # white queen capture\n",
    "    full_eval, inc_eval = 1240, -900\n",
    "    evaluation = unit_test_player.incremental_evaluate(board, full_eval, next_move)\n",
    "    board.push(next_move)\n",
    "    new_full_eval = unit_test_player.full_evaluate(board)\n",
    "    board.pop()\n",
    "    print(f\"Full Evaluation: {full_eval}\")\n",
    "    print(f\"Incremental Evaluation: {inc_eval}\")\n",
    "    print(f\"Evaluation: {evaluation}\")\n",
    "    print(f\"New Full Evaluation: {new_full_eval}\")\n",
    "    assert evaluation == full_eval + inc_eval, \"Evaluation does not match expected sum!\"\n",
    "    assert new_full_eval == evaluation, \"Incremental and full evaluation are different!\""
   ]
  },
  {
   "cell_type": "code",
   "execution_count": null,
   "metadata": {},
   "outputs": [],
   "source": [
    "test_evaluation(unit_test_player, board)"
   ]
  },
  {
   "cell_type": "markdown",
   "metadata": {},
   "source": [
    "Der König verfügt über separate Tabellen für das Königs-Mittel- und Königs-Endspiel. Um den Übergang zu testen, wird die Funktion `get_endgame_evaluation_change` überprüft. Für das aktuelle Board beträgt die Differenz beider Bewertungen der Könige $-10$ im Mittelspiel und $0$ im Endspiel. Die zu testende Funktion wird zweimal aufgerufen, wobei zunächst der Übergang vom Königs-Mittel- in das Königs-Endspiel simuliert wird. Die erwartete Differenz beträgt hierbei $0 - (-10) = 10$. Falls ein Übergang zurück in das Königs-Mittelspiel stattfindet, wird der negierte Differenzwert erwartet, was mit dem zweiten Funktionsaufruf getestet wird."
   ]
  },
  {
   "cell_type": "code",
   "execution_count": null,
   "metadata": {},
   "outputs": [],
   "source": [
    "# Test endgame change calculation\n",
    "def test_endgame_change_calc(unit_test_player: ChessAI, board: chess.Board):\n",
    "    change_to_endgame = unit_test_player.get_endgame_evaluation_change(board)\n",
    "    change_from_endgame = unit_test_player.get_endgame_evaluation_change(board)\n",
    "    print(f\"Change to endgame: {change_to_endgame}\")\n",
    "    print(f\"Change from endgame: {change_from_endgame}\")\n",
    "    assert change_to_endgame == 10, \"Endgame change calculation does not match expected value!\"\n",
    "    assert change_from_endgame == -10, \"Endgame change calculation does not match expected value!\""
   ]
  },
  {
   "cell_type": "code",
   "execution_count": null,
   "metadata": {},
   "outputs": [],
   "source": [
    "test_endgame_change_calc(unit_test_player, board)"
   ]
  },
  {
   "cell_type": "markdown",
   "metadata": {},
   "source": [
    "Um die Minimax-Funktion zu testen, werden sowohl die Evaluierung als auch der zurückgegebene Zug und die Anzahl der berechneten Nodes überprüft. Auf das gegebene Board wird nun der Zug angewendet, welcher die weiße Dame schlägt. Dadurch beträgt die erwartete Evaluierung $325$. Die Anzahl der Nodes, die untersucht werden sollen, beträgt $14377$ und dient dazu, Änderungen in der Berechnung aufzuzeigen."
   ]
  },
  {
   "cell_type": "code",
   "execution_count": null,
   "metadata": {},
   "outputs": [],
   "source": [
    "Exercise02AI_.test_minimax(\n",
    "    unit_test_player,\n",
    "    board,\n",
    "    current_evaluation=1240,\n",
    "    expected_evaluation=325,\n",
    "    expected_move=\"d4c3\",\n",
    "    expected_nodes=14377,\n",
    ")"
   ]
  },
  {
   "cell_type": "markdown",
   "metadata": {},
   "source": [
    "Um die Funktion `get_next_middle_game_move` zu testen, wird überprüft, ob diese korrekterweise den Zug zurückgibt, in welchem die Dame durch den schwarzen Bauern geschlagen wird und die Anzahl der berechneten Knoten analog zum Minimax-Unittest $14377$ entspricht."
   ]
  },
  {
   "cell_type": "code",
   "execution_count": null,
   "metadata": {},
   "outputs": [],
   "source": [
    "Exercise02AI_.test_next_move(\n",
    "    unit_test_player,\n",
    "    board,\n",
    "    expected_move=\"d4c3\",\n",
    "    expected_nodes=14377,\n",
    ")"
   ]
  },
  {
   "cell_type": "markdown",
   "metadata": {},
   "source": [
    "Da die `reset`-Funktion der `Exercise03AI` erweitert wurde, wird im Folgenden auch der Unittest der Funktion angepasst. Überprüft wird hierbei, ob sowohl die letzte Evaluierung, als auch der Status des König-Endspiels und die Piece-Square Tables zurückgesetzt wurden."
   ]
  },
  {
   "cell_type": "code",
   "execution_count": null,
   "metadata": {},
   "outputs": [],
   "source": [
    "# Test reset function\n",
    "def test_reset(unit_test_player: ChessAI, _: chess.Board):\n",
    "    unit_test_player.reset()\n",
    "    assert unit_test_player.last_evaluation is None, \"Reset was not successful! (last_evaluation)\"\n",
    "    assert unit_test_player.is_king_endgame is False, \"Reset was not successful! (is_king_endgame)\"\n",
    "    assert unit_test_player.tables == unit_test_player.PIECE_TO_PST, \"Reset was not successful! (tables)\""
   ]
  },
  {
   "cell_type": "code",
   "execution_count": null,
   "metadata": {},
   "outputs": [],
   "source": [
    "test_reset(unit_test_player, board)"
   ]
  },
  {
   "cell_type": "markdown",
   "metadata": {},
   "source": [
    "In den folgenden Unittests wird weiterhin die Funktionsweise der Funktion `calculate_pst_value` getestet, wobei jedes Mal leicht unterschiedliche Boards eingesetzt werden, um einen definierten Wert zu berechnen."
   ]
  },
  {
   "cell_type": "code",
   "execution_count": null,
   "metadata": {},
   "outputs": [],
   "source": [
    "def test_pst(unit_test_player: ChessAI, board: chess.Board, expected_value: int):\n",
    "    rating = sum(\n",
    "        unit_test_player.calculate_pst_value(\n",
    "            piece_type, color, board.pieces(piece_type, color)\n",
    "        )\n",
    "        for piece_type in chess.PIECE_TYPES\n",
    "        for color in chess.COLORS\n",
    "    )\n",
    "    print(f\"PST evaluation: {rating}\")\n",
    "    assert rating == expected_value, f\"PST evaluation does not match expected value of {expected_value}!\""
   ]
  },
  {
   "cell_type": "markdown",
   "metadata": {},
   "source": [
    "Im ersten Testdurchlauf stehen sich beide Könige gegenüber, wobei Weiß über eine zusätzliche Dame verfügt. Alle Figuren auf dem Spielfeld haben eine Positionsbewertung von $0$, wodurch der erwartete Rückgabewert der Funktion mit $900$ dem Materialwert der Dame entspricht."
   ]
  },
  {
   "cell_type": "code",
   "execution_count": null,
   "metadata": {},
   "outputs": [],
   "source": [
    "board_pst = chess.Board(\"4k3/8/8/8/Q7/8/8/4K3 w - - 0 1\")\n",
    "# display(board_pst)\n",
    "test_pst(unit_test_player, board_pst, expected_value=900)"
   ]
  },
  {
   "cell_type": "markdown",
   "metadata": {},
   "source": [
    "Im Vergleich zum vorherigen Board ist die Dame von A4 auf H4 umgezogen, wodurch ihre Positionsbewertung um $5$ verschlechtert wurde."
   ]
  },
  {
   "cell_type": "code",
   "execution_count": null,
   "metadata": {},
   "outputs": [],
   "source": [
    "board_pst = chess.Board(\"4k3/8/8/8/7Q/8/8/4K3 w - - 0 1\")\n",
    "# display(board_pst)\n",
    "test_pst(unit_test_player, board_pst, expected_value=895)"
   ]
  },
  {
   "cell_type": "markdown",
   "metadata": {},
   "source": [
    "Der weiße Spieler zieht die Dame von H4 auf H5, wobei der schwarze König Schach gesetzt wird. Die Positionsbewertung der Figuren ändert sich hierdurch nicht."
   ]
  },
  {
   "cell_type": "code",
   "execution_count": null,
   "metadata": {},
   "outputs": [],
   "source": [
    "board_pst = chess.Board(\"4k3/8/8/7Q/8/8/8/4K3 b - - 0 1\")\n",
    "# display(board_pst)\n",
    "test_pst(unit_test_player, board_pst, expected_value=895)"
   ]
  },
  {
   "cell_type": "markdown",
   "metadata": {},
   "source": [
    "Im Folgenden werden die Rollen der Spieler getauscht. Es ist also nun Schwarz mit einer Dame im Vorteil, deren Positionsbewertung auf A5 $0$ beträgt, wodurch die erwartete Bewertung dem negativen Materialwert der Dame entspricht."
   ]
  },
  {
   "cell_type": "code",
   "execution_count": null,
   "metadata": {},
   "outputs": [],
   "source": [
    "board_pst = chess.Board(\"4k3/8/8/q7/8/8/8/4K3 w - - 0 1\")\n",
    "# display(board_pst)\n",
    "test_pst(unit_test_player, board_pst, expected_value=-900)"
   ]
  },
  {
   "cell_type": "markdown",
   "metadata": {},
   "source": [
    "Die schwarze Dame ändert nun ihre Position von A5 auf H5, wodurch ihre Positionsbewertung um $5$ Centipawns reduziert wird."
   ]
  },
  {
   "cell_type": "code",
   "execution_count": null,
   "metadata": {},
   "outputs": [],
   "source": [
    "board_pst = chess.Board(\"4k3/8/8/7q/8/8/8/4K3 w - - 0 1\")\n",
    "# display(board_pst)\n",
    "test_pst(unit_test_player, board_pst, expected_value=-895)"
   ]
  },
  {
   "cell_type": "markdown",
   "metadata": {},
   "source": [
    "Mit einer weiteren Positionsänderung von H5 auf H6 wird die Positionsbewertung der schwarzen Dame erneut um $5$ Centipawns reduziert."
   ]
  },
  {
   "cell_type": "code",
   "execution_count": null,
   "metadata": {},
   "outputs": [],
   "source": [
    "board_pst = chess.Board(\"4k3/8/7q/8/8/8/8/4K3 w - - 0 1\")\n",
    "# display(board_pst)\n",
    "test_pst(unit_test_player, board_pst, expected_value=-890)"
   ]
  },
  {
   "cell_type": "code",
   "execution_count": null,
   "metadata": {},
   "outputs": [],
   "source": []
  }
 ],
 "metadata": {
  "kernelspec": {
   "display_name": "Python 3 (ipykernel)",
   "language": "python",
   "name": "python3"
  },
  "language_info": {
   "codemirror_mode": {
    "name": "ipython",
    "version": 3
   },
   "file_extension": ".py",
   "mimetype": "text/x-python",
   "name": "python",
   "nbconvert_exporter": "python",
   "pygments_lexer": "ipython3",
   "version": "3.10.4"
  }
 },
 "nbformat": 4,
 "nbformat_minor": 2
}
