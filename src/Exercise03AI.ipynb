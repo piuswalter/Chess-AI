{
 "cells": [
  {
   "cell_type": "code",
   "execution_count": null,
   "metadata": {},
   "outputs": [],
   "source": [
    "%%html\n",
    "<style>\n",
    ".container {\n",
    "  width: 100%;\n",
    "}\n",
    "</style>"
   ]
  },
  {
   "cell_type": "code",
   "execution_count": null,
   "metadata": {},
   "outputs": [],
   "source": [
    "#%load_ext nb_black\n",
    "%load_ext nb_mypy"
   ]
  },
  {
   "cell_type": "code",
   "execution_count": null,
   "metadata": {},
   "outputs": [],
   "source": [
    "import nbimporter\n",
    "from Exercise02AI import Exercise02AI"
   ]
  },
  {
   "cell_type": "markdown",
   "metadata": {},
   "source": [
    "# Aufgabe 03: Minimax (Simplified Evaluation Function)\n",
    "\n",
    "Dieses Notebook implementiert die Simplified Evaluation Function zur Berechnung des nächsten Zuges im Mittelspiel. Hierbei wird die `minimax`-Funktion der Super-Klasse (`Exercise02AI`) aufgerufen und durch die nun implementierte Simplified Evaluation Function verbessert.\n",
    "\n",
    "Hierzu werden nachfolgend die in [1] beschriebenen `Piece-Square Tables` definiert. Diese weisen jeder der 64 möglichen Positionen auf dem Schachfeld für alle der Schachfiguren (Bauer, Springer, Läufer, Turm, Dame und König) eine numerische Bewertung in Form einer Ganzzahl zu. Diese kann sowohl positiv (gute Position für die Figur) oder negativ (schlechte Position für die Figur) sein und wird als Liste dargestellt. Der König verfügt über zwei verschiedene Listen, eine für das Mittelspiel und eine für das Endspiel.\n",
    "\n",
    "Das Dictionary `PIECE_TO_PST` weist jedem Figurentyp die entsprechende an der x-Achse gespiegelte Piece-Square Table mithilfe der Funktion `mirror_pst` zu, welche aufgrund der einfacheren Lesbarkeit in umgekehrter Reihenfolge initialisiert wird. Um für die Figur des Königs zwischen Mittel- und Endpiel unterscheiden zu können, existiert zusätzlich das Dictionary `PIECE_TO_PST_KING_ENDGAME`.\n",
    "\n",
    "Wie auch schon in `Exercise02AI` existiert eine Funktion `reset`, die dazu dient, die Instanz nach einem beendeten Spiel in ihren Ursprungszustand zurückzusetzen."
   ]
  },
  {
   "cell_type": "code",
   "execution_count": null,
   "metadata": {},
   "outputs": [],
   "source": [
    "import chess\n",
    "\n",
    "\n",
    "class Exercise03AI(Exercise02AI):\n",
    "    \"\"\"Chooses middle game moves using minimax algorithm and piece square tables.\"\"\"\n",
    "\n",
    "    def mirror_pst(self, PST: list) -> list:\n",
    "        \"\"\"Mirrors a piece square table on the x-axis\"\"\"\n",
    "        rows = [PST[i : i + 8] for i in range(0, len(PST), 8)]\n",
    "        return [field for row in reversed(rows) for field in row]\n",
    "\n",
    "    def __init__(self, **kwargs) -> None:\n",
    "        super().__init__(**kwargs)\n",
    "        self.is_king_endgame: bool = False\n",
    "        # Create piece square table mapping (needs to revert tables)\n",
    "        self.PIECE_TO_PST = {\n",
    "            chess.PAWN: self.mirror_pst(self.PST_PAWN),\n",
    "            chess.KNIGHT: self.mirror_pst(self.PST_KNIGHT),\n",
    "            chess.BISHOP: self.mirror_pst(self.PST_BISHOP),\n",
    "            chess.ROOK: self.mirror_pst(self.PST_ROOK),\n",
    "            chess.QUEEN: self.mirror_pst(self.PST_QUEEN),\n",
    "            chess.KING: self.mirror_pst(self.PST_KING),\n",
    "        }\n",
    "        self.PIECE_TO_PST_KING_ENDGAME = {\n",
    "            chess.PAWN: self.mirror_pst(self.PST_PAWN),\n",
    "            chess.KNIGHT: self.mirror_pst(self.PST_KNIGHT),\n",
    "            chess.BISHOP: self.mirror_pst(self.PST_BISHOP),\n",
    "            chess.ROOK: self.mirror_pst(self.PST_ROOK),\n",
    "            chess.QUEEN: self.mirror_pst(self.PST_QUEEN),\n",
    "            chess.KING: self.mirror_pst(self.PST_KING_ENDGAME),\n",
    "        }\n",
    "        # Start with normal tables\n",
    "        self.tables = self.PIECE_TO_PST\n",
    "\n",
    "    def reset(self) -> None:\n",
    "        \"\"\"Resets all internal variables.\"\"\"\n",
    "        super().reset()\n",
    "        self.is_king_endgame = False\n",
    "        self.tables = self.PIECE_TO_PST"
   ]
  },
  {
   "cell_type": "markdown",
   "metadata": {},
   "source": [
    "Nachgehend werden für alle Figuren die benötigten Piece-Square Tables definiert sowie kurz beschrieben.\n",
    "\n",
    "Anhand der Piece-Square Table der Bauern `PST_PAWN`, die im Folgenden definiert ist, wird ersichtlich, dass Bauern auf den Feldern `f2`, `g2` und `h2` (symmetrischer Weise natürlich auch auf `a2`, `b2` und `c2`) Boni (positive Bewertung) erhalten, während sie auf den Felder `f3` und `g3` Abzüge (negative Bewertungen) erhalten."
   ]
  },
  {
   "cell_type": "code",
   "execution_count": null,
   "metadata": {},
   "outputs": [],
   "source": [
    "class Exercise03AI(Exercise03AI):  # type: ignore\n",
    "    PST_PAWN = [\n",
    "        0,  0,  0,  0,  0,  0,  0,  0,\n",
    "       50, 50, 50, 50, 50, 50, 50, 50,\n",
    "       10, 10, 20, 30, 30, 20, 10, 10,\n",
    "        5,  5, 10, 25, 25, 10,  5,  5,\n",
    "        0,  0,  0, 20, 20,  0,  0,  0,\n",
    "        5, -5,-10,  0,  0,-10, -5,  5,\n",
    "        5, 10, 10,-20,-20, 10, 10,  5,\n",
    "        0,  0,  0,  0,  0,  0,  0,  0\n",
    "    ]"
   ]
  },
  {
   "cell_type": "markdown",
   "metadata": {},
   "source": [
    "Springer sollen sich vor allem im Mittelfeld aufhalten, da nur so alle acht Zug-Felder genutzt werden können. Auf den Feldern `d4` und `d5` sowie `e4` und `e5` erhalten diese hohe Werte. Am Rand und vor allem in den vier Ecken erhalten Springer hohe Abzüge, da hier die Möglichkeiten der Bewegung sehr stark eingeschränkt sind."
   ]
  },
  {
   "cell_type": "code",
   "execution_count": null,
   "metadata": {},
   "outputs": [],
   "source": [
    "class Exercise03AI(Exercise03AI):  # type: ignore\n",
    "    PST_KNIGHT = [\n",
    "        -50,-40,-30,-30,-30,-30,-40,-50,\n",
    "        -40,-20,  0,  0,  0,  0,-20,-40,\n",
    "        -30,  0, 10, 15, 15, 10,  0,-30,\n",
    "        -30,  5, 15, 20, 20, 15,  5,-30,\n",
    "        -30,  0, 15, 20, 20, 15,  0,-30,\n",
    "        -30,  5, 10, 15, 15, 10,  5,-30,\n",
    "        -40,-20,  0,  5,  5,  0,-20,-40,\n",
    "        -50,-40,-30,-30,-30,-30,-40,-50\n",
    "    ]"
   ]
  },
  {
   "cell_type": "markdown",
   "metadata": {},
   "source": [
    "Für Läufer gelten ähnliche Regelungen wie für Springer. Auch diese sollten möglichst in der Mitte des Spielfelds stehen und weder am Rand noch in den Ecken plaziert werden."
   ]
  },
  {
   "cell_type": "code",
   "execution_count": null,
   "metadata": {},
   "outputs": [],
   "source": [
    "class Exercise03AI(Exercise03AI):  # type: ignore\n",
    "    PST_BISHOP = [\n",
    "        -20,-10,-10,-10,-10,-10,-10,-20,\n",
    "        -10,  0,  0,  0,  0,  0,  0,-10,\n",
    "        -10,  0,  5, 10, 10,  5,  0,-10,\n",
    "        -10,  5,  5, 10, 10,  5,  5,-10,\n",
    "        -10,  0, 10, 10, 10, 10,  0,-10,\n",
    "        -10, 10, 10, 10, 10, 10, 10,-10,\n",
    "        -10,  5,  0,  0,  0,  0,  5,-10,\n",
    "        -20,-10,-10,-10,-10,-10,-10,-20\n",
    "    ]"
   ]
  },
  {
   "cell_type": "markdown",
   "metadata": {},
   "source": [
    "Türme haben nur kleine Differenzen in der Bewertung. So stehen diese auf den Felden `d1` und `e1` sowie auf den 7. Linie (`a7` bis `h7`) besonders gut. An den Vertikalen am Rand (Linie `a` und `h`) stehen diese schlechter."
   ]
  },
  {
   "cell_type": "code",
   "execution_count": null,
   "metadata": {},
   "outputs": [],
   "source": [
    "class Exercise03AI(Exercise03AI):  # type: ignore\n",
    "    PST_ROOK = [\n",
    "        0,  0,  0,  0,  0,  0,  0,  0,\n",
    "        5, 10, 10, 10, 10, 10, 10,  5,\n",
    "       -5,  0,  0,  0,  0,  0,  0, -5,\n",
    "       -5,  0,  0,  0,  0,  0,  0, -5,\n",
    "       -5,  0,  0,  0,  0,  0,  0, -5,\n",
    "       -5,  0,  0,  0,  0,  0,  0, -5,\n",
    "       -5,  0,  0,  0,  0,  0,  0, -5,\n",
    "        0,  0,  0,  5,  5,  0,  0,  0\n",
    "    ]"
   ]
  },
  {
   "cell_type": "markdown",
   "metadata": {},
   "source": [
    "Die Dame kann durch ihre hohe Anzahl an Zug- und Schlag-Richtungen in der Mitte des Spiels sehr viel abdecken, sollte also dort ausgerichtet sein. Auch sie sollte weden am Rand noch in den Ecken plaziert werden."
   ]
  },
  {
   "cell_type": "code",
   "execution_count": null,
   "metadata": {},
   "outputs": [],
   "source": [
    "class Exercise03AI(Exercise03AI):  # type: ignore\n",
    "    PST_QUEEN = [\n",
    "        -20,-10,-10, -5, -5,-10,-10,-20,\n",
    "        -10,  0,  0,  0,  0,  0,  0,-10,\n",
    "        -10,  0,  5,  5,  5,  5,  0,-10,\n",
    "         -5,  0,  5,  5,  5,  5,  0, -5,\n",
    "          0,  0,  5,  5,  5,  5,  0, -5,\n",
    "        -10,  5,  5,  5,  5,  5,  0,-10,\n",
    "        -10,  0,  5,  0,  0,  0,  0,-10,\n",
    "        -20,-10,-10, -5, -5,-10,-10,-20\n",
    "    ]"
   ]
  },
  {
   "cell_type": "markdown",
   "metadata": {},
   "source": [
    "Einzigst für den König gibt es zwei Piece-Square Tables. Die Folgende ist für das Mittelspiel, die Nächste für das Endspiel. Im Mittelspiel soll durch die Wertung verhindert werden, dass der König zu früh in die Mitte des Spielfelds zieht und von anderen Figuren angegriffen werden kann. Auf der Grundlinie ist er von seinen anderen Figuren geschützt."
   ]
  },
  {
   "cell_type": "code",
   "execution_count": null,
   "metadata": {},
   "outputs": [],
   "source": [
    "class Exercise03AI(Exercise03AI):  # type: ignore\n",
    "    PST_KING = [\n",
    "        -30,-40,-40,-50,-50,-40,-40,-30,\n",
    "        -30,-40,-40,-50,-50,-40,-40,-30,\n",
    "        -30,-40,-40,-50,-50,-40,-40,-30,\n",
    "        -30,-40,-40,-50,-50,-40,-40,-30,\n",
    "        -20,-30,-30,-40,-40,-30,-30,-20,\n",
    "        -10,-20,-20,-20,-20,-20,-20,-10,\n",
    "         20, 20,  0,  0,  0,  0, 20, 20,\n",
    "         20, 30, 10,  0,  0, 10, 30, 20\n",
    "    ]"
   ]
  },
  {
   "cell_type": "markdown",
   "metadata": {},
   "source": [
    "Im Endspiel sollte der König die Grundlinie verlassen und ins Zentrum des Spielfelds ziehen. Dies ist aufgrund seiner geringen Beweglichkeit wichtig, da er dort mehr Möglichkeiten der Offensive hat."
   ]
  },
  {
   "cell_type": "code",
   "execution_count": null,
   "metadata": {},
   "outputs": [],
   "source": [
    "class Exercise03AI(Exercise03AI):  # type: ignore\n",
    "    PST_KING_ENDGAME = [\n",
    "        -50,-40,-30,-20,-20,-30,-40,-50,\n",
    "        -30,-20,-10,  0,  0,-10,-20,-30,\n",
    "        -30,-10, 20, 30, 30, 20,-10,-30,\n",
    "        -30,-10, 30, 40, 40, 30,-10,-30,\n",
    "        -30,-10, 30, 40, 40, 30,-10,-30,\n",
    "        -30,-10, 20, 30, 30, 20,-10,-30,\n",
    "        -30,-30,  0,  0,  0,  0,-30,-30,\n",
    "        -50,-30,-30,-30,-30,-30,-30,-50\n",
    "    ]"
   ]
  },
  {
   "cell_type": "markdown",
   "metadata": {},
   "source": [
    "## Prüfung der Endspielkonditionen\n",
    "\n",
    "Um bei der Simplified Evaluation Function die richtige Königstabelle auszuwählen ist es notwendig zu prüfen, ob sich das aktuelle Spiel im Mittel- oder Endspiel befindet. Das Endspiel wird dabei definiert als ein Spiel bei dem entweder:\n",
    "\n",
    "1. beide Seiten keine Dame mehr besitzen oder\n",
    "2. jede Seite die eine Dame hat, keinen Turm und maximal einen Läufer oder Springer besitzt.\n",
    "\n",
    "**Hinweis**: Diese Definition der Endspielkonditionen bezieht sich nur auf die Simplified Evaluation Function. Allgemein ist das Endspiel (implementiert durch die Syzygy Endgame Tablebases) erreicht, sobald 5 oder weniger Figuren auf dem Spielbrett vorhanden sind.\n",
    "\n",
    "Die Funktion `check_king_endgame` implementiert die oben genannten Bedingungen und prüft, ob sie für ein gegebenes Board erfüllt sind."
   ]
  },
  {
   "cell_type": "code",
   "execution_count": null,
   "metadata": {},
   "outputs": [],
   "source": [
    "class Exercise03AI(Exercise03AI):  # type: ignore\n",
    "    def check_king_endgame(self, board: chess.Board) -> bool:\n",
    "        \"\"\"Checks if the king endgame tables should be used.\"\"\"\n",
    "        return all(\n",
    "            (\n",
    "                (\n",
    "                    not board.pieces(chess.QUEEN, color)\n",
    "                    or (\n",
    "                        len(board.pieces(chess.BISHOP, color))\n",
    "                        + len(board.pieces(chess.KNIGHT, color))\n",
    "                        < 2\n",
    "                    )\n",
    "                    and not board.pieces(chess.ROOK, color)\n",
    "                )\n",
    "                for color in chess.COLORS\n",
    "            )\n",
    "        )"
   ]
  },
  {
   "cell_type": "markdown",
   "metadata": {},
   "source": [
    "## Evaluierungsfunktion"
   ]
  },
  {
   "cell_type": "markdown",
   "metadata": {},
   "source": [
    "Die Funktion `calculate_pst_value` nimmt als Argument einen Figurentyp (`piece`), eine Farbe (`color`) und eine Menge von Positionen (`positions`). Anschließend wird für jede Position der Wert in der entsprechenden Piece-Square Table ermittelt und die Summe dieser Werte zurückgegeben. Für schwarze Figuren wird das Board dabei gespiegelt und das Resultat negiert."
   ]
  },
  {
   "cell_type": "code",
   "execution_count": null,
   "metadata": {},
   "outputs": [],
   "source": [
    "class Exercise03AI(Exercise03AI):  # type: ignore\n",
    "    def calculate_pst_value(\n",
    "        self, piece: chess.PieceType, color: chess.Color, positions: chess.SquareSet\n",
    "    ) -> int:\n",
    "        \"\"\"Calculates the piece-square table values for a given piece, color and and optional position.\"\"\"\n",
    "        if color == chess.WHITE:\n",
    "            return sum([self.tables[piece][i] for i in positions])\n",
    "        else:\n",
    "            return -sum(\n",
    "                [(self.tables[piece][chess.square_mirror(i)]) for i in positions]\n",
    "            )"
   ]
  },
  {
   "cell_type": "markdown",
   "metadata": {},
   "source": [
    "Die Funktion `evaluate` aus der Elternklasse (`Exercise02AI`) wird unverändert übernommen. Die Funktionen `full_evaluate` und `incremental_evaluate` werden erweitert. Hier werden die Materialwerte der einzelnen Figuren in *Centipawns* als Berechnungsgrundlage benötigt. Folglich werden die bereits in der Elternklasse gesetzten Werte wie folgt angepasst:\n",
    "\n",
    "| Figurname  | Materialwert |\n",
    "|---|---|\n",
    "| Bauer (pawn) | 100  |\n",
    "| Springer (knight) | 320  |\n",
    "| Läufer (bishop) | 330  |\n",
    "| Turm (rook) | 500  |\n",
    "| Dame (queen) | 900  |\n",
    "| König (king) | 20000 |\n",
    "\n",
    "Die folgenden Funktionen der Elternklasse wurden überschrieben:\n",
    "\n",
    "- `full_evaluate`\n",
    "- `incremental_evaluate`\n",
    "\n",
    "Die Funktion `full_evaluate` berechnet den Wert eines Boards von Grund auf neu und geht dabei wie folgt vor:\n",
    "\n",
    "1. Es wird für jede Figur und für jede Farbe mithilfe der Funktion `calculate_pst_value` die Bewertung der Figur in Centipawns ermittelt.\n",
    "2. Es wird die Summe über alle Bewertungen gebildet. Je größer die Summe, desto besser ist Weiß auf dem Feld positioniert, umgekehrt ist ein negatives Ergebnis ein Indikator dafür, dass Schwarz besser auf dem Board positioniert ist.\n",
    "3. Die Summe aller Bewertungen wird auf den Rückgabewert der `full_evaluate` Funktion der Elternklasse addiert und zurückgegeben.\n",
    "\n",
    "Der Rückgabewert der Funktion beschreibt also die Kombination des reinen Materialwertes der Figuren beider Spieler und der Positionsbewertung durch die `Piece-Square Tables`.\n",
    "\n",
    "Die Funktion `incremental_evaluate` berechnet die Änderungen der Bewertung, wenn der gegebene Zug (`next_move`) auf das übergebene Board (`board`) angewendet wird. Diese Änderung wird zurückgegeben. Hierbei werden die folgenden Fälle beachtet:\n",
    "\n",
    "- Umwandlung eines Bauern in eine höherwertige Figur\n",
    "- Veränderung der Position der gezogenen Figur\n",
    "- Schlagen einer Figur (auch durch einen En Passant Zug)\n",
    "- Lange (große) und kurze (kleine) Rochade\n",
    "\n",
    "Wird ein Bauer in eine höherwertige Figur umgewandelt, so wird die alte Positionsbewertung des gezogenen Bauern von der Bewertung der umgewandelten Figur subtrahiert. Das Ergebnis wird in der Variable `change` gespeichert.\n",
    "War der letzte Zug keine Umwandlung, so wird die alte Bewertung der gezogenen Figur von ihrer neuen Bewertung abgezogen. Das Ergebnis wird ebenfalls in `change` gespeichert.\n",
    "\n",
    "Handelt es sich bei dem letzten Zug um eine lange Rochade, so ändert sich die Positionsbewertung des Turms. Hierzu wird der Materialwert eines Turms auf `change` addiert, falls Weiß am Zug ist, oder von `change` subtrahiert, falls Schwarz am Zug ist. Bei einer kurzen Rochade entsteht keine Veränderung der Positionsbewertung durch den bewegten Turm.\n",
    "\n",
    "Falls während des letzten Zuges eine Figur geschlagen wurde, wird die alte Bewertung der geschlagenen Figur errechnet und von `change` subtrahiert. Hierbei wird eine separate Abfrage verwendet, um zu erkennen, ob es sich bei dem letzten Zug um einen En Passant Zug handelt.\n",
    "\n",
    "Zurückgegeben wird schlussendlich die Summe aus `change` und dem Rückgabewert der Funktion `incremental_evaluate` der Elternklasse."
   ]
  },
  {
   "cell_type": "code",
   "execution_count": null,
   "metadata": {},
   "outputs": [],
   "source": [
    "class Exercise03AI(Exercise03AI):  # type: ignore\n",
    "    MATERIAL_VALUES = {\n",
    "        chess.PAWN: 100,\n",
    "        chess.KNIGHT: 320,\n",
    "        chess.BISHOP: 330,\n",
    "        chess.ROOK: 500,\n",
    "        chess.QUEEN: 900,\n",
    "        chess.KING: 20000,\n",
    "    }\n",
    "\n",
    "    def full_evaluate(self, board: chess.Board) -> int:\n",
    "        \"\"\"Evaluates a given board.\"\"\"\n",
    "        # Get if pieces standing well or pieces standing badly by calculating with the Piece-Square Tables\n",
    "        rating = sum(\n",
    "            self.calculate_pst_value(piece_type, color, board.pieces(piece_type, color))\n",
    "            for piece_type in chess.PIECE_TYPES\n",
    "            for color in chess.COLORS\n",
    "        )\n",
    "        return rating + super().full_evaluate(board)\n",
    "\n",
    "    def incremental_evaluate(self, board: chess.Board, next_move: chess.Move) -> int:\n",
    "        \"\"\"Returns an incrementally calculated evaluation of the given board.\"\"\"\n",
    "        if promotion_piece_type := next_move.promotion:\n",
    "            # Calculate change caused by piece promotion\n",
    "            old_piece_pst = self.calculate_pst_value(\n",
    "                chess.PAWN, board.turn, [next_move.from_square]\n",
    "            )\n",
    "            new_piece_pst = self.calculate_pst_value(\n",
    "                promotion_piece_type, board.turn, [next_move.to_square]\n",
    "            )\n",
    "            change = new_piece_pst - old_piece_pst\n",
    "        else:\n",
    "            # Calculate change caused by piece move\n",
    "            piece_type = board.piece_type_at(next_move.from_square)\n",
    "            old_pst_value = self.calculate_pst_value(\n",
    "                piece_type, board.turn, [next_move.from_square]\n",
    "            )\n",
    "            new_pst_value = self.calculate_pst_value(\n",
    "                piece_type, board.turn, [next_move.to_square]\n",
    "            )\n",
    "            change = new_pst_value - old_pst_value\n",
    "\n",
    "        if captured_piece_type := board.piece_type_at(next_move.to_square):\n",
    "            # Calculate additional change caused by piece capture\n",
    "            captured_piece_pst = self.calculate_pst_value(\n",
    "                captured_piece_type, not board.turn, [next_move.to_square]\n",
    "            )\n",
    "            change -= captured_piece_pst\n",
    "        elif board.is_en_passant(next_move):\n",
    "            # Calculate additional change caused by en passant pawn capture\n",
    "            pawn_double_move = board.peek()\n",
    "            captured_pawn_pst = self.calculate_pst_value(\n",
    "                chess.PAWN, not board.turn, [pawn_double_move.to_square]\n",
    "            )\n",
    "            change -= captured_pawn_pst\n",
    "        elif board.is_queenside_castling(next_move):\n",
    "            # Add changed rook value caused by long castling (short castling does not change rook value and can be ignored)\n",
    "            change += 5 * (1 if board.turn else -1)\n",
    "\n",
    "        return change + super().incremental_evaluate(board, next_move)"
   ]
  },
  {
   "cell_type": "markdown",
   "metadata": {},
   "source": [
    "## Berechnung des besten Zuges\n",
    "\n",
    "Die Funktion `get_next_middle_game_move` berechnet auf einem gegebenen Board den nächsten besten Zug. Zusätzlich zur bereits vorhandenen Funktionalität der Elternklasse wird hier überprüft, ob sich der Endspielstatus geändert hat. Falls zutreffend, wird die letzte gespeicherte Beurteilung mithilfe der Funktion `get_endgame_evaluation_change` entsprechend angepasst, da der König über eine separate `Piece-Square Table` für das Endspiel verfügt. Aus Performance-Gründen wird der Endspielstatus innerhalb der Minimax Funktion nicht jedes Mal erneut überprüft.\n",
    "\n",
    "**Hinweis**: `self.last_evaluation` kann in der Theorie den Wert `None` annehmen und hier einen Fehler auslösen. Dies ist aber nur zu Beginn des Mittelspiels der Fall. Der Status des Spiels zum Endspiel ändert sich aber erst im späteren Spielverlauf, daher tritt der Fall in der Praxis nicht ein und wird folglich nicht geprüft."
   ]
  },
  {
   "cell_type": "code",
   "execution_count": null,
   "metadata": {},
   "outputs": [],
   "source": [
    "class Exercise03AI(Exercise03AI):  # type: ignore\n",
    "    def get_endgame_evaluation_change(self, board: chess.Board) -> int:\n",
    "        \"\"\"Calculates the change of the evaluation when switching endgame status.\"\"\"\n",
    "        self.is_king_endgame: bool  # mypy type declaration\n",
    "        old_rating_king_white = self.calculate_pst_value(\n",
    "            chess.KING, chess.WHITE, board.pieces(chess.KING, chess.WHITE)\n",
    "        )\n",
    "        old_rating_king_black = self.calculate_pst_value(\n",
    "            chess.KING, chess.BLACK, board.pieces(chess.KING, chess.BLACK)\n",
    "        )\n",
    "        self.is_king_endgame = not self.is_king_endgame\n",
    "        self.tables = (\n",
    "            self.PIECE_TO_PST_KING_ENDGAME\n",
    "            if self.is_king_endgame\n",
    "            else self.PIECE_TO_PST\n",
    "        )\n",
    "        new_rating_king_white = self.calculate_pst_value(\n",
    "            chess.KING, chess.WHITE, board.pieces(chess.KING, chess.WHITE)\n",
    "        )\n",
    "        new_rating_king_black = self.calculate_pst_value(\n",
    "            chess.KING, chess.BLACK, board.pieces(chess.KING, chess.BLACK)\n",
    "        )\n",
    "        return (\n",
    "            new_rating_king_white\n",
    "            - old_rating_king_white\n",
    "            + new_rating_king_black\n",
    "            - old_rating_king_black\n",
    "        )\n",
    "\n",
    "    def get_next_middle_game_move(self, board: chess.Board) -> chess.Move:\n",
    "        \"\"\"Gets the best next move.\"\"\"\n",
    "        self.last_evaluation: int  # type annotation for mypy\n",
    "        if self.is_king_endgame != self.check_king_endgame(board):\n",
    "            self.last_evaluation += self.get_endgame_evaluation_change(board)\n",
    "        return super().get_next_middle_game_move(board)"
   ]
  },
  {
   "cell_type": "markdown",
   "metadata": {},
   "source": [
    "## Debugging Bereich\n",
    "\n",
    "Die folgenden Zellen enthalten Unit-Tests der oben implementierten Funktionen."
   ]
  },
  {
   "cell_type": "code",
   "execution_count": null,
   "metadata": {},
   "outputs": [],
   "source": [
    "from AIBaseClass import ChessAI\n",
    "import Exercise02AI as Exercise02AI_"
   ]
  },
  {
   "cell_type": "code",
   "execution_count": null,
   "metadata": {},
   "outputs": [],
   "source": [
    "# Create player and board\n",
    "unit_test_player = Exercise03AI(player_name=\"Ex03AI\", search_depth=3)\n",
    "board = chess.Board(\"5rk1/1b3p2/8/3p4/3p2P1/2Q4B/5P1K/R3R3 b - - 0 36\")\n",
    "board"
   ]
  },
  {
   "cell_type": "code",
   "execution_count": null,
   "metadata": {},
   "outputs": [],
   "source": [
    "# Test endgame check\n",
    "def test_endgame_check(unit_test_player: ChessAI, board: chess.Board):\n",
    "    is_endgame_1 = unit_test_player.check_king_endgame(board)\n",
    "    board.push(chess.Move.from_uci(\"d4c3\"))  # white queen capture\n",
    "    is_endgame_2 = unit_test_player.check_king_endgame(board)\n",
    "    board.pop()\n",
    "    print(f\"Endgame 1: {is_endgame_1} - Endgame 2: {is_endgame_2}\")\n",
    "    assert is_endgame_1 is False, \"Endgame status should be False!\"\n",
    "    assert is_endgame_2 is True, \"Endgame status should be True!\""
   ]
  },
  {
   "cell_type": "code",
   "execution_count": null,
   "metadata": {},
   "outputs": [],
   "source": [
    "test_endgame_check(unit_test_player, board)"
   ]
  },
  {
   "cell_type": "code",
   "execution_count": null,
   "metadata": {},
   "outputs": [],
   "source": [
    "# Test pst calculation\n",
    "def test_pst_calculation(unit_test_player: ChessAI, board: chess.Board):\n",
    "    pst_value_white = unit_test_player.calculate_pst_value(\n",
    "        piece=chess.PAWN, color=chess.WHITE, positions=[chess.F2]\n",
    "    )\n",
    "    pst_value_black = unit_test_player.calculate_pst_value(\n",
    "        piece=chess.BISHOP, color=chess.BLACK, positions=[chess.B7]\n",
    "    )\n",
    "    print(f\"PST Values: White {pst_value_white} - Black {pst_value_black}\")\n",
    "    assert (\n",
    "        pst_value_white == 10\n",
    "    ), \"PST calculation for white does not match expected value!\"\n",
    "    assert (\n",
    "        pst_value_black == -5\n",
    "    ), \"PST calculation for black does not match expected value!\""
   ]
  },
  {
   "cell_type": "code",
   "execution_count": null,
   "metadata": {},
   "outputs": [],
   "source": [
    "# Test full evaluation\n",
    "def test_full_evaluation(unit_test_player: ChessAI, board: chess.Board):\n",
    "    full_eval = unit_test_player.full_evaluate(board)\n",
    "    print(f\"Full Evaluation: {full_eval}\")\n",
    "    assert full_eval == 1240, \"Full evaluation does not match expected value!\""
   ]
  },
  {
   "cell_type": "code",
   "execution_count": null,
   "metadata": {},
   "outputs": [],
   "source": [
    "test_full_evaluation(unit_test_player, board)"
   ]
  },
  {
   "cell_type": "code",
   "execution_count": null,
   "metadata": {},
   "outputs": [],
   "source": [
    "# Test incremental evaluation\n",
    "def test_incremental_evaluation(unit_test_player: ChessAI, board: chess.Board):\n",
    "    next_move = chess.Move.from_uci(\"d4c3\")  # white queen capture\n",
    "    inc_eval = unit_test_player.incremental_evaluate(board, next_move)\n",
    "    print(f\"Incremental Evaluation: {inc_eval}\")\n",
    "    assert inc_eval == -900, \"Incremental evaluation does not match expected value!\""
   ]
  },
  {
   "cell_type": "code",
   "execution_count": null,
   "metadata": {},
   "outputs": [],
   "source": [
    "test_incremental_evaluation(unit_test_player, board)"
   ]
  },
  {
   "cell_type": "code",
   "execution_count": null,
   "metadata": {},
   "outputs": [],
   "source": [
    "# Test evaluation\n",
    "def test_evaluation(unit_test_player: ChessAI, board: chess.Board):\n",
    "    next_move = chess.Move.from_uci(\"d4c3\")  # white queen capture\n",
    "    board.push(next_move)\n",
    "    full_eval, inc_eval = 1240, -900\n",
    "    evaluation = unit_test_player.evaluate(board, last_evaluation=full_eval)\n",
    "    new_full_eval = unit_test_player.full_evaluate(board)\n",
    "    board.pop()\n",
    "    print(f\"Full Evaluation: {full_eval}\")\n",
    "    print(f\"Incremental Evaluation: {inc_eval}\")\n",
    "    print(f\"Evaluation: {evaluation}\")\n",
    "    print(f\"New Full Evaluation: {new_full_eval}\")\n",
    "    assert evaluation == full_eval + inc_eval, \"Evaluation does not match expected sum!\"\n",
    "    assert new_full_eval == evaluation, \"Incremental and full evaluation are different!\""
   ]
  },
  {
   "cell_type": "code",
   "execution_count": null,
   "metadata": {},
   "outputs": [],
   "source": [
    "test_evaluation(unit_test_player, board)"
   ]
  },
  {
   "cell_type": "code",
   "execution_count": null,
   "metadata": {},
   "outputs": [],
   "source": [
    "# Test endgame change calculation\n",
    "def test_endgame_change_calc(unit_test_player: ChessAI, board: chess.Board):\n",
    "    change_to_endgame = unit_test_player.get_endgame_evaluation_change(board)\n",
    "    change_from_endgame = unit_test_player.get_endgame_evaluation_change(board)\n",
    "    print(f\"Change to endgame: {change_to_endgame}\")\n",
    "    print(f\"Change from endgame: {change_from_endgame}\")\n",
    "    assert (\n",
    "        change_to_endgame == 10\n",
    "    ), \"Endgame change calculation does not match expected value!\"\n",
    "\n",
    "    assert (\n",
    "        change_from_endgame == -10\n",
    "    ), \"Endgame change calculation does not match expected value!\""
   ]
  },
  {
   "cell_type": "code",
   "execution_count": null,
   "metadata": {},
   "outputs": [],
   "source": [
    "test_endgame_change_calc(unit_test_player, board)"
   ]
  },
  {
   "cell_type": "code",
   "execution_count": null,
   "metadata": {},
   "outputs": [],
   "source": [
    "Exercise02AI_.test_minimax(\n",
    "    unit_test_player,\n",
    "    board,\n",
    "    current_evaluation=1240,\n",
    "    expected_evaluation=325,\n",
    "    expected_move=\"d4c3\",\n",
    "    expected_nodes=14377,\n",
    ")"
   ]
  },
  {
   "cell_type": "code",
   "execution_count": null,
   "metadata": {},
   "outputs": [],
   "source": [
    "Exercise02AI_.test_next_move(\n",
    "    unit_test_player,\n",
    "    board,\n",
    "    expected_move=\"d4c3\",\n",
    "    expected_nodes=14377,\n",
    ")"
   ]
  },
  {
   "cell_type": "code",
   "execution_count": null,
   "metadata": {},
   "outputs": [],
   "source": [
    "# Test reset function\n",
    "def test_reset(unit_test_player: ChessAI, _: chess.Board):\n",
    "    unit_test_player.reset()\n",
    "    assert (\n",
    "        unit_test_player.last_evaluation is None\n",
    "    ), \"Reset was not successful! (last_evaluation)\"\n",
    "    assert (\n",
    "        unit_test_player.is_king_endgame is False\n",
    "    ), \"Reset was not successful! (is_king_endgame)\"\n",
    "    assert (\n",
    "        unit_test_player.tables == unit_test_player.PIECE_TO_PST\n",
    "    ), \"Reset was not successful! (tables)\""
   ]
  },
  {
   "cell_type": "code",
   "execution_count": null,
   "metadata": {},
   "outputs": [],
   "source": [
    "test_reset(unit_test_player, board)"
   ]
  },
  {
   "cell_type": "code",
   "execution_count": null,
   "metadata": {},
   "outputs": [],
   "source": [
    "def test_pst(unit_test_player: ChessAI, board: chess.Board, expected_value: int):\n",
    "    rating = sum(\n",
    "        unit_test_player.calculate_pst_value(\n",
    "            piece_type, color, board.pieces(piece_type, color)\n",
    "        )\n",
    "        for piece_type in chess.PIECE_TYPES\n",
    "        for color in chess.COLORS\n",
    "    )\n",
    "    print(f\"PST evaluation: {rating}\")\n",
    "    assert (\n",
    "        rating == expected_value\n",
    "    ), f\"PST evaluation does not match expected value of {expected_value}!\""
   ]
  },
  {
   "cell_type": "code",
   "execution_count": null,
   "metadata": {},
   "outputs": [],
   "source": [
    "board_pst = chess.Board(\"4k3/8/8/8/Q7/8/8/4K3 w - - 0 1\")\n",
    "# display(board_pst)\n",
    "test_pst(unit_test_player, board_pst, expected_value=0)"
   ]
  },
  {
   "cell_type": "code",
   "execution_count": null,
   "metadata": {},
   "outputs": [],
   "source": [
    "board_pst = chess.Board(\"4k3/8/8/8/7Q/8/8/4K3 w - - 0 1\")\n",
    "# display(board_pst)\n",
    "test_pst(unit_test_player, board_pst, expected_value=-5)"
   ]
  },
  {
   "cell_type": "code",
   "execution_count": null,
   "metadata": {},
   "outputs": [],
   "source": [
    "board_pst = chess.Board(\"4k3/8/8/7Q/8/8/8/4K3 b - - 0 1\")\n",
    "# display(board_pst)\n",
    "test_pst(unit_test_player, board_pst, expected_value=-5)"
   ]
  },
  {
   "cell_type": "code",
   "execution_count": null,
   "metadata": {},
   "outputs": [],
   "source": [
    "board_pst = chess.Board(\"4k3/8/8/q7/8/8/8/4K3 w - - 0 1\")\n",
    "# display(board_pst)\n",
    "test_pst(unit_test_player, board_pst, expected_value=0)"
   ]
  },
  {
   "cell_type": "code",
   "execution_count": null,
   "metadata": {},
   "outputs": [],
   "source": [
    "board_pst = chess.Board(\"4k3/8/8/7q/8/8/8/4K3 w - - 0 1\")\n",
    "# display(board_pst)\n",
    "test_pst(unit_test_player, board_pst, expected_value=5)"
   ]
  },
  {
   "cell_type": "code",
   "execution_count": null,
   "metadata": {},
   "outputs": [],
   "source": [
    "board_pst = chess.Board(\"4k3/8/7q/8/8/8/8/4K3 w - - 0 1\")\n",
    "# display(board_pst)\n",
    "test_pst(unit_test_player, board_pst, expected_value=10)"
   ]
  },
  {
   "cell_type": "markdown",
   "metadata": {},
   "source": [
    "## Temporärer Bereich\n",
    "\n",
    "Der folgende Bereich dient zum temporären Debuggen und kann nicht-funktionierenden Code enthalten. Dieser Bereich wird vor der Abgabe entfernt."
   ]
  },
  {
   "cell_type": "code",
   "execution_count": null,
   "metadata": {},
   "outputs": [],
   "source": []
  }
 ],
 "metadata": {
  "kernelspec": {
   "display_name": "Python 3 (ipykernel)",
   "language": "python",
   "name": "python3"
  },
  "language_info": {
   "codemirror_mode": {
    "name": "ipython",
    "version": 3
   },
   "file_extension": ".py",
   "mimetype": "text/x-python",
   "name": "python",
   "nbconvert_exporter": "python",
   "pygments_lexer": "ipython3",
   "version": "3.10.4"
  }
 },
 "nbformat": 4,
 "nbformat_minor": 2
}
