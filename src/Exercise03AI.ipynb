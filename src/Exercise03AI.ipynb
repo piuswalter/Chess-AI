{
 "cells": [
  {
   "cell_type": "code",
   "execution_count": null,
   "metadata": {},
   "outputs": [],
   "source": [
    "%%html\n",
    "<style>\n",
    ".container {\n",
    "  width: 100%;\n",
    "}\n",
    "</style>"
   ]
  },
  {
   "cell_type": "code",
   "execution_count": null,
   "metadata": {},
   "outputs": [],
   "source": [
    "%load_ext nb_mypy"
   ]
  },
  {
   "cell_type": "code",
   "execution_count": null,
   "metadata": {},
   "outputs": [],
   "source": [
    "import nbimporter\n",
    "from Exercise02AI import Exercise02AI, display_path"
   ]
  },
  {
   "cell_type": "markdown",
   "metadata": {},
   "source": [
    "# Aufgabe 03: Minimax (Simplified Evaluation Function)\n",
    "\n",
    "Diese Klasse implementiert die Simplified Evaluation Function zur Berechnung des nächsten Zuges im Mittelspiel. Hierbei wird die `minimax`-Funktion der Super-Klasse (`Exercise02AI`) aufgerufen und durch die nun implementierte Simplified Evaluation Function verbessert.\n",
    "\n",
    "Hierzu werden zu Beginn die in der [Simplified Evaluation Function](https://www.chessprogramming.org/Simplified_Evaluation_Function#Piece-Square_Tables) beschriebenen `Piece-Square Tables` definiert. Diese weisen jeder der 64 möglichen Positionen auf dem Schachfeld für alle der Schachfiguren (Bauer, Springer, Läufer, Turm, Dame und König) eine numerische Bewertung in Form einer Ganzzahl zu. Diese kann sowohl positiv (gute Position für die Figur) oder negativ (schlechte Position für die Figur) sein und wird als Liste dargestellt. Der König verfügt über zwei verschiedene Listen, eine für das Mittelspiel, eine für das Endspiel.\n",
    "\n",
    "Anhand der Piece-Square Table der Bauern `PST_PAWN`, die im Folgenden definiert ist, wird ersichtlich, dass Bauern auf den Feldern `f2`, `g2` und `h2` (symmetrischer Weise natürlich auch auf `a2`, `b2` und `c2`) Boni (positive Bewertung) erhalten, während sie auf den Felder `f3` und `g3` Abzüge (negative Bewertungen) erhalten.\n",
    "\n",
    "Das Dictionary `PIECE_TO_PST` weist jedem Figurentyp die entsprechende umgedrehte Piece-Square Table zu, welche aufgrund der einfacheren Lesbarkeit in umgekehrter Reihenfolge initialisiert werden."
   ]
  },
  {
   "cell_type": "code",
   "execution_count": null,
   "metadata": {},
   "outputs": [],
   "source": [
    "import chess\n",
    "\n",
    "class Exercise03AI(Exercise02AI):\n",
    "    \"\"\"Chooses middle game moves using minimax algorithm and piece square tables\"\"\"\n",
    "    def __init__(self, player_name: str, search_depth: int = 2) -> None:\n",
    "        super().__init__(player_name, search_depth)\n",
    "        # Create pice square table mapping (needs to revert tables) \n",
    "        self.PIECE_TO_PST = {\n",
    "            chess.PAWN:   self.PST_PAWN[::-1],\n",
    "            chess.KNIGHT: self.PST_KNIGHT[::-1],\n",
    "            chess.BISHOP: self.PST_BISHOP[::-1],\n",
    "            chess.ROOK:   self.PST_ROOK[::-1],\n",
    "            chess.QUEEN:  self.PST_QUEEN[::-1],\n",
    "            chess.KING:   self.PST_KING[::-1]\n",
    "        }\n",
    "        self.PIECE_TO_PST_KING_ENDGAME = {\n",
    "            chess.PAWN:   self.PST_PAWN[::-1],\n",
    "            chess.KNIGHT: self.PST_KNIGHT[::-1],\n",
    "            chess.BISHOP: self.PST_BISHOP[::-1],\n",
    "            chess.ROOK:   self.PST_ROOK[::-1],\n",
    "            chess.QUEEN:  self.PST_QUEEN[::-1],\n",
    "            chess.KING:   self.PST_KING_ENDGAME[::-1]\n",
    "        }\n",
    "\n",
    "    # Define field values as class constants\n",
    "    PST_PAWN = [\n",
    "        0,  0,  0,  0,  0,  0,  0,  0,\n",
    "       50, 50, 50, 50, 50, 50, 50, 50,\n",
    "       10, 10, 20, 30, 30, 20, 10, 10,\n",
    "        5,  5, 10, 25, 25, 10,  5,  5,\n",
    "        0,  0,  0, 20, 20,  0,  0,  0,\n",
    "        5, -5,-10,  0,  0,-10, -5,  5,\n",
    "        5, 10, 10,-20,-20, 10, 10,  5,\n",
    "        0,  0,  0,  0,  0,  0,  0,  0\n",
    "    ]\n",
    "\n",
    "    PST_KNIGHT = [\n",
    "        -50,-40,-30,-30,-30,-30,-40,-50,\n",
    "        -40,-20,  0,  0,  0,  0,-20,-40,\n",
    "        -30,  0, 10, 15, 15, 10,  0,-30,\n",
    "        -30,  5, 15, 20, 20, 15,  5,-30,\n",
    "        -30,  0, 15, 20, 20, 15,  0,-30,\n",
    "        -30,  5, 10, 15, 15, 10,  5,-30,\n",
    "        -40,-20,  0,  5,  5,  0,-20,-40,\n",
    "        -50,-40,-30,-30,-30,-30,-40,-50\n",
    "    ]\n",
    "\n",
    "    PST_BISHOP = [\n",
    "        -20,-10,-10,-10,-10,-10,-10,-20,\n",
    "        -10,  0,  0,  0,  0,  0,  0,-10,\n",
    "        -10,  0,  5, 10, 10,  5,  0,-10,\n",
    "        -10,  5,  5, 10, 10,  5,  5,-10,\n",
    "        -10,  0, 10, 10, 10, 10,  0,-10,\n",
    "        -10, 10, 10, 10, 10, 10, 10,-10,\n",
    "        -10,  5,  0,  0,  0,  0,  5,-10,\n",
    "        -20,-10,-10,-10,-10,-10,-10,-20\n",
    "    ]\n",
    "\n",
    "    PST_ROOK = [\n",
    "        0,  0,  0,  0,  0,  0,  0,  0,\n",
    "        5, 10, 10, 10, 10, 10, 10,  5,\n",
    "       -5,  0,  0,  0,  0,  0,  0, -5,\n",
    "       -5,  0,  0,  0,  0,  0,  0, -5,\n",
    "       -5,  0,  0,  0,  0,  0,  0, -5,\n",
    "       -5,  0,  0,  0,  0,  0,  0, -5,\n",
    "       -5,  0,  0,  0,  0,  0,  0, -5,\n",
    "        0,  0,  0,  5,  5,  0,  0,  0\n",
    "    ]\n",
    "\n",
    "    PST_QUEEN = [\n",
    "        -20,-10,-10, -5, -5,-10,-10,-20,\n",
    "        -10,  0,  0,  0,  0,  0,  0,-10,\n",
    "        -10,  0,  5,  5,  5,  5,  0,-10,\n",
    "         -5,  0,  5,  5,  5,  5,  0, -5,\n",
    "          0,  0,  5,  5,  5,  5,  0, -5,\n",
    "        -10,  5,  5,  5,  5,  5,  0,-10,\n",
    "        -10,  0,  5,  0,  0,  0,  0,-10,\n",
    "        -20,-10,-10, -5, -5,-10,-10,-20\n",
    "    ]\n",
    "\n",
    "    PST_KING = [\n",
    "        -30,-40,-40,-50,-50,-40,-40,-30,\n",
    "        -30,-40,-40,-50,-50,-40,-40,-30,\n",
    "        -30,-40,-40,-50,-50,-40,-40,-30,\n",
    "        -30,-40,-40,-50,-50,-40,-40,-30,\n",
    "        -20,-30,-30,-40,-40,-30,-30,-20,\n",
    "        -10,-20,-20,-20,-20,-20,-20,-10,\n",
    "         20, 20,  0,  0,  0,  0, 20, 20,\n",
    "         20, 30, 10,  0,  0, 10, 30, 20\n",
    "    ]\n",
    "\n",
    "    PST_KING_ENDGAME = [\n",
    "        -50,-40,-30,-20,-20,-30,-40,-50,\n",
    "        -30,-20,-10,  0,  0,-10,-20,-30,\n",
    "        -30,-10, 20, 30, 30, 20,-10,-30,\n",
    "        -30,-10, 30, 40, 40, 30,-10,-30,\n",
    "        -30,-10, 30, 40, 40, 30,-10,-30,\n",
    "        -30,-10, 20, 30, 30, 20,-10,-30,\n",
    "        -30,-30,  0,  0,  0,  0,-30,-30,\n",
    "        -50,-30,-30,-30,-30,-30,-30,-50\n",
    "    ]"
   ]
  },
  {
   "cell_type": "markdown",
   "metadata": {},
   "source": [
    "## Prüfung der Endspielkonditionen\n",
    "\n",
    "Um bei der Simplified Evaluation Function die richtige Königstabelle auszuwählen ist es notwendig zu prüfen, ob sich das aktuelle Spiel im End- oder im Mittelspiel befindet. Das Endspiel wird dabei definiert als ein Spiel bei dem entweder:\n",
    "\n",
    "1. beide Seiten keine Dame mehr besitzen oder\n",
    "2. jede Seite die eine Dame hat, keinen Turm und maximal einen Läufer oder Springer besitzt.\n",
    "\n",
    "**Hinweis**: Diese Definition der Endspielkonditionen bezieht sich nur auf die Simplified Evaluation Function. Allgemein ist das Endspiel (implementiert durch die Syzygy-Endspielbibliothek) erreicht, sobald 5 oder weniger Figuren auf dem Spielbrett vorhanden sind.\n",
    "\n",
    "Die Funktion `is_king_endgame` implementiert die oben genannten Bedingungen und prüft, ob sie für ein gegebenes Board erfüllt sind."
   ]
  },
  {
   "cell_type": "code",
   "execution_count": null,
   "metadata": {},
   "outputs": [],
   "source": [
    "class Exercise03AI(Exercise03AI): # type: ignore\n",
    "    def is_king_endgame(self, board: chess.Board) -> bool:\n",
    "        \"\"\"Checks if the king endgame tables should be used.\"\"\"\n",
    "        return all((\n",
    "            (\n",
    "                not board.pieces(chess.QUEEN, color)\n",
    "                or len(board.pieces(chess.BISHOP, color)) + len(board.pieces(chess.KNIGHT, color)) < 2 \n",
    "                and not board.pieces(chess.ROOK, color)\n",
    "            )\n",
    "            for color in chess.COLORS\n",
    "        ))"
   ]
  },
  {
   "cell_type": "markdown",
   "metadata": {},
   "source": [
    "## Evaluierungsfunktion"
   ]
  },
  {
   "cell_type": "markdown",
   "metadata": {},
   "source": [
    "Die Funktion `calculate_pst_value` nimmt als Argument ein Board, einen Figurentyp und eine Farbe. Anhand der gegebenen Farbe wird auf dem Board nach den Figuren des gegebenen Typs gefiltert, deren Position auf dem Board bestimmt (für schwarze Figuren wird das Board gespiegelt) und mithilfe der Piece-Square Tables eine Bewertung dieser vollzogen. Diese Bewertungen werden, falls schwarz als Farbe gegeben ist, negiert. Die Bewertungen werden im letzten Schritt aufsummiert und zurückgegeben."
   ]
  },
  {
   "cell_type": "code",
   "execution_count": null,
   "metadata": {},
   "outputs": [],
   "source": [
    "class Exercise03AI(Exercise03AI): # type: ignore\n",
    "    def calculate_pst_value(self, board: chess.Board, piece: chess.PieceType, color: chess.Color) -> int:\n",
    "        \"\"\"Calculates the piece-square table values from given color\"\"\"\n",
    "        tables = self.PIECE_TO_PST if not self.is_king_endgame(board) else self.PIECE_TO_PST_KING_ENDGAME\n",
    "        if color == chess.WHITE:\n",
    "            return sum([tables[piece][i] for i in board.pieces(piece, color)])\n",
    "        else:\n",
    "            return sum([-(tables[piece][chess.square_mirror(i)]) for i in board.pieces(piece, color)])"
   ]
  },
  {
   "cell_type": "markdown",
   "metadata": {},
   "source": [
    "Die Funktion `evaluate` berechnet den Wert eines gesamten Boards, welches als Argument übergeben wird. Als Grundlage werden die Materialwerte der einzelnen Figuren in Centipawns benötigt, weshalb die bereits in der Elternklasse (`Exercise02AI`) gesetzten Werte wie folgt überschrieben werden:\n",
    "\n",
    "| Figurname  | Materialwert |\n",
    "|---|---|\n",
    "| Bauer (pawn) | 100  |\n",
    "| Springer (knight) | 320  |\n",
    "| Läufer (bishop) | 330  |\n",
    "| Turm (rook) | 500  |\n",
    "| Dame (queen) | 900  |\n",
    "\n",
    "Die Funktion `evaluate` berechnet den Wert des Boards wie folgt:\n",
    "\n",
    "1. Berechnung der Anzahl aller weißen und schwarzen Figuren mithilfe der Funktion `calculate_pst_value`\n",
    "2. Erstellung der Liste `rating` die die Bewertung aller Figuren des Boards enthält\n",
    "3. Speicherung des Aufrufs von `evaluate` aus der Elterklasse in der Variable `material` um ein Maß für die Anzahl der Figuren im Verhältnis von weiß zu schwarz zu erhalten\n",
    "4. Rückgabe der Summe von `rating` und `material`"
   ]
  },
  {
   "cell_type": "code",
   "execution_count": null,
   "metadata": {},
   "outputs": [],
   "source": [
    "class Exercise03AI(Exercise03AI): # type: ignore\n",
    "    MATERIAL_VALUE_PAWN = 100\n",
    "    MATERIAL_VALUE_KNIGHT = 320\n",
    "    MATERIAL_VALUE_BISHOP = 330\n",
    "    MATERIAL_VALUE_ROOK = 500\n",
    "    MATERIAL_VALUE_QUEEN = 900\n",
    "\n",
    "    def evaluate(self, board: chess.Board) -> int:\n",
    "        \"\"\"Evaluates a given board. \n",
    "        Returns a positive value if white has a better material value than black.\"\"\"\n",
    "        # Get if pieces standing well or pieces standing badly by calculating with the Piece-Square Tables\n",
    "        rating_pawn_white   = self.calculate_pst_value(board, chess.PAWN,   chess.WHITE)\n",
    "        rating_pawn_black   = self.calculate_pst_value(board, chess.PAWN,   chess.BLACK)\n",
    "        rating_knight_white = self.calculate_pst_value(board, chess.KNIGHT, chess.WHITE)\n",
    "        rating_knight_black = self.calculate_pst_value(board, chess.KNIGHT, chess.BLACK)\n",
    "        rating_bishop_white = self.calculate_pst_value(board, chess.BISHOP, chess.WHITE)\n",
    "        rating_bishop_black = self.calculate_pst_value(board, chess.BISHOP, chess.BLACK)\n",
    "        rating_rook_white   = self.calculate_pst_value(board, chess.ROOK,   chess.WHITE)\n",
    "        rating_rook_black   = self.calculate_pst_value(board, chess.ROOK,   chess.BLACK)\n",
    "        rating_queen_white  = self.calculate_pst_value(board, chess.QUEEN,  chess.WHITE)\n",
    "        rating_queen_black  = self.calculate_pst_value(board, chess.QUEEN,  chess.BLACK)\n",
    "        rating_king_white   = self.calculate_pst_value(board, chess.KING,   chess.WHITE)\n",
    "        rating_king_black   = self.calculate_pst_value(board, chess.KING,   chess.BLACK)\n",
    "\n",
    "        rating = [\n",
    "            rating_pawn_white,   rating_pawn_black, \n",
    "            rating_knight_white, rating_knight_black, \n",
    "            rating_bishop_white, rating_bishop_black, \n",
    "            rating_rook_white,   rating_rook_black, \n",
    "            rating_queen_white,  rating_queen_black, \n",
    "            rating_king_white,   rating_king_black\n",
    "        ]\n",
    "        # Get material value\n",
    "        material = super().evaluate(board)\n",
    "        return sum(rating) + material"
   ]
  },
  {
   "cell_type": "markdown",
   "metadata": {},
   "source": [
    "## Debugging Bereich\n",
    "\n",
    "Die folgenden Zellen enthalten Code zum Testen der oben implementierten Funktionen."
   ]
  },
  {
   "cell_type": "code",
   "execution_count": null,
   "metadata": {},
   "outputs": [],
   "source": [
    "import chess.pgn\n",
    "from os.path import join\n",
    "\n",
    "with open(join(\"..\", \"games\", \"2022-01-15_20-18-57-907777.pgn\")) as pgn:\n",
    "    first_game = chess.pgn.read_game(pgn)\n",
    "\n",
    "# Iterate through all moves and play them on a board.\n",
    "board = first_game.board()\n",
    "for move in first_game.mainline_moves():\n",
    "    board.push(move)\n",
    "for i in range(220):\n",
    "    board.pop()"
   ]
  },
  {
   "cell_type": "code",
   "execution_count": null,
   "metadata": {
    "scrolled": false
   },
   "outputs": [],
   "source": [
    "%%time\n",
    "DEPTH = 2\n",
    "#board = chess.Board()\n",
    "#board.set_fen(\"5rk1/1b3p2/3b3r/3p4/3p2P1/5Q1N/3q1PB1/R3R1K1 b - - 8 33\")\n",
    "player = Exercise03AI(\"Testplayer\", DEPTH)\n",
    "# print(player.minimax(board, DEPTH + 1))\n",
    "move = player.get_next_middle_game_move(board)\n",
    "print(move)\n",
    "#display_path(board, move, DEPTH)"
   ]
  }
 ],
 "metadata": {
  "kernelspec": {
   "display_name": "Python 3 (ipykernel)",
   "language": "python",
   "name": "python3"
  },
  "language_info": {
   "codemirror_mode": {
    "name": "ipython",
    "version": 3
   },
   "file_extension": ".py",
   "mimetype": "text/x-python",
   "name": "python",
   "nbconvert_exporter": "python",
   "pygments_lexer": "ipython3",
   "version": "3.10.2"
  }
 },
 "nbformat": 4,
 "nbformat_minor": 2
}
