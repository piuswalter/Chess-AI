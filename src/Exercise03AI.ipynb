{
 "cells": [
  {
   "cell_type": "code",
   "execution_count": null,
   "metadata": {},
   "outputs": [],
   "source": [
    "%%html\n",
    "<style>\n",
    ".container {\n",
    "  width: 100%;\n",
    "}\n",
    "</style>"
   ]
  },
  {
   "cell_type": "code",
   "execution_count": null,
   "metadata": {},
   "outputs": [],
   "source": [
    "%load_ext nb_mypy"
   ]
  },
  {
   "cell_type": "code",
   "execution_count": null,
   "metadata": {},
   "outputs": [],
   "source": [
    "import nbimporter\n",
    "from Exercise02AI import Exercise02AI, display_path"
   ]
  },
  {
   "cell_type": "markdown",
   "metadata": {},
   "source": [
    "# Aufgabe 03: Minimax (simple evaluation function)\n",
    "\n",
    "Die Funktion `get_next_middle_game_move` nimmt das aktuelle Board als Argument und gibt einen super ausgewählten Zug aus der Menge aller gültigen Züge zurück.   \n",
    "Alle restlichen Funktionen werden von der Basisklasse `ChessAI` vererbt. "
   ]
  },
  {
   "cell_type": "code",
   "execution_count": null,
   "metadata": {},
   "outputs": [],
   "source": [
    "import chess\n",
    "\n",
    "class Exercise03AI(Exercise02AI):\n",
    "    \"\"\"Chooses middle game moves using minimax algorithm and piece square tables\"\"\"\n",
    "    def __init__(self, player_name: str, search_depth: int = 2) -> None:\n",
    "        super().__init__(player_name, search_depth)\n",
    "        # Create pice square table mapping (needs to revert tables) \n",
    "        self.PIECE_TO_PST = {\n",
    "            chess.PAWN:   self.PST_PAWN[::-1],\n",
    "            chess.KNIGHT: self.PST_KNIGHT[::-1],\n",
    "            chess.BISHOP: self.PST_BISHOP[::-1],\n",
    "            chess.ROOK:   self.PST_ROOK[::-1],\n",
    "            chess.QUEEN:  self.PST_QUEEN[::-1],\n",
    "            chess.KING:   self.PST_KING[::-1]\n",
    "        }\n",
    "\n",
    "    # Define field values as class constants\n",
    "    PST_PAWN = [\n",
    "        0,  0,  0,  0,  0,  0,  0,  0,\n",
    "       50, 50, 50, 50, 50, 50, 50, 50,\n",
    "       10, 10, 20, 30, 30, 20, 10, 10,\n",
    "        5,  5, 10, 25, 25, 10,  5,  5,\n",
    "        0,  0,  0, 20, 20,  0,  0,  0,\n",
    "        5, -5,-10,  0,  0,-10, -5,  5,\n",
    "        5, 10, 10,-20,-20, 10, 10,  5,\n",
    "        0,  0,  0,  0,  0,  0,  0,  0\n",
    "    ]\n",
    "\n",
    "    PST_KNIGHT = [\n",
    "        -50,-40,-30,-30,-30,-30,-40,-50,\n",
    "        -40,-20,  0,  0,  0,  0,-20,-40,\n",
    "        -30,  0, 10, 15, 15, 10,  0,-30,\n",
    "        -30,  5, 15, 20, 20, 15,  5,-30,\n",
    "        -30,  0, 15, 20, 20, 15,  0,-30,\n",
    "        -30,  5, 10, 15, 15, 10,  5,-30,\n",
    "        -40,-20,  0,  5,  5,  0,-20,-40,\n",
    "        -50,-40,-30,-30,-30,-30,-40,-50\n",
    "    ]\n",
    "\n",
    "    PST_BISHOP = [\n",
    "        -20,-10,-10,-10,-10,-10,-10,-20,\n",
    "        -10,  0,  0,  0,  0,  0,  0,-10,\n",
    "        -10,  0,  5, 10, 10,  5,  0,-10,\n",
    "        -10,  5,  5, 10, 10,  5,  5,-10,\n",
    "        -10,  0, 10, 10, 10, 10,  0,-10,\n",
    "        -10, 10, 10, 10, 10, 10, 10,-10,\n",
    "        -10,  5,  0,  0,  0,  0,  5,-10,\n",
    "        -20,-10,-10,-10,-10,-10,-10,-20\n",
    "    ]\n",
    "\n",
    "    PST_ROOK = [\n",
    "        0,  0,  0,  0,  0,  0,  0,  0,\n",
    "        5, 10, 10, 10, 10, 10, 10,  5,\n",
    "       -5,  0,  0,  0,  0,  0,  0, -5,\n",
    "       -5,  0,  0,  0,  0,  0,  0, -5,\n",
    "       -5,  0,  0,  0,  0,  0,  0, -5,\n",
    "       -5,  0,  0,  0,  0,  0,  0, -5,\n",
    "       -5,  0,  0,  0,  0,  0,  0, -5,\n",
    "        0,  0,  0,  5,  5,  0,  0,  0\n",
    "    ]\n",
    "\n",
    "    PST_QUEEN = [\n",
    "        -20,-10,-10, -5, -5,-10,-10,-20,\n",
    "        -10,  0,  0,  0,  0,  0,  0,-10,\n",
    "        -10,  0,  5,  5,  5,  5,  0,-10,\n",
    "         -5,  0,  5,  5,  5,  5,  0, -5,\n",
    "          0,  0,  5,  5,  5,  5,  0, -5,\n",
    "        -10,  5,  5,  5,  5,  5,  0,-10,\n",
    "        -10,  0,  5,  0,  0,  0,  0,-10,\n",
    "        -20,-10,-10, -5, -5,-10,-10,-20\n",
    "    ]\n",
    "\n",
    "    PST_KING = [\n",
    "        -30,-40,-40,-50,-50,-40,-40,-30,\n",
    "        -30,-40,-40,-50,-50,-40,-40,-30,\n",
    "        -30,-40,-40,-50,-50,-40,-40,-30,\n",
    "        -30,-40,-40,-50,-50,-40,-40,-30,\n",
    "        -20,-30,-30,-40,-40,-30,-30,-20,\n",
    "        -10,-20,-20,-20,-20,-20,-20,-10,\n",
    "         20, 20,  0,  0,  0,  0, 20, 20,\n",
    "         20, 30, 10,  0,  0, 10, 30, 20\n",
    "    ]"
   ]
  },
  {
   "cell_type": "markdown",
   "metadata": {},
   "source": [
    "## Evaluierungsfunktion"
   ]
  },
  {
   "cell_type": "code",
   "execution_count": null,
   "metadata": {},
   "outputs": [],
   "source": [
    "class Exercise03AI(Exercise03AI): # type: ignore\n",
    "    def calculate_pst_value(self, board: chess.Board, piece: chess.PieceType, color: chess.Color):\n",
    "        \"\"\"Calculates the piece-square table values from given color\"\"\"  \n",
    "        if color == chess.WHITE:\n",
    "            return sum([self.PIECE_TO_PST[piece][i] for i in board.pieces(piece, color)])\n",
    "        else:\n",
    "            return sum([-(self.PIECE_TO_PST[piece][chess.square_mirror(i)]) for i in board.pieces(piece, color)])"
   ]
  },
  {
   "cell_type": "code",
   "execution_count": null,
   "metadata": {},
   "outputs": [],
   "source": [
    "class Exercise03AI(Exercise03AI): # type: ignore\n",
    "    MATERIAL_VALUE_PAWN = 100\n",
    "    MATERIAL_VALUE_KNIGHT = 320\n",
    "    MATERIAL_VALUE_BISHOP = 330\n",
    "    MATERIAL_VALUE_ROOK = 500\n",
    "    MATERIAL_VALUE_QUEEN = 900\n",
    "\n",
    "    def evaluate(self, board: chess.Board) -> int:\n",
    "        \"\"\"Evaluates a given board. \n",
    "        Returns a positive value if white has a better material value than black.\"\"\"\n",
    "        # Get if pieces standing well or pieces standing badly by calculating with the Piece-Square Tables\n",
    "        rating_pawn_white   = self.calculate_pst_value(board, chess.PAWN,   chess.WHITE)\n",
    "        rating_pawn_black   = self.calculate_pst_value(board, chess.PAWN,   chess.BLACK)\n",
    "        rating_knight_white = self.calculate_pst_value(board, chess.KNIGHT, chess.WHITE)\n",
    "        rating_knight_black = self.calculate_pst_value(board, chess.KNIGHT, chess.BLACK)\n",
    "        rating_bishop_white = self.calculate_pst_value(board, chess.BISHOP, chess.WHITE)\n",
    "        rating_bishop_black = self.calculate_pst_value(board, chess.BISHOP, chess.BLACK)\n",
    "        rating_rook_white   = self.calculate_pst_value(board, chess.ROOK,   chess.WHITE)\n",
    "        rating_rook_black   = self.calculate_pst_value(board, chess.ROOK,   chess.BLACK)\n",
    "        rating_queen_white  = self.calculate_pst_value(board, chess.QUEEN,  chess.WHITE)\n",
    "        rating_queen_black  = self.calculate_pst_value(board, chess.QUEEN,  chess.BLACK)\n",
    "        rating_king_white   = self.calculate_pst_value(board, chess.KING,   chess.WHITE)\n",
    "        rating_king_black   = self.calculate_pst_value(board, chess.KING,   chess.BLACK)\n",
    "\n",
    "        rating = [\n",
    "            rating_pawn_white,   rating_pawn_black, \n",
    "            rating_knight_white, rating_knight_black, \n",
    "            rating_bishop_white, rating_bishop_black, \n",
    "            rating_rook_white,   rating_rook_black, \n",
    "            rating_queen_white,  rating_queen_black, \n",
    "            rating_king_white,   rating_king_black\n",
    "        ]\n",
    "        # Get material value\n",
    "        material = super().evaluate(board)\n",
    "        return sum(rating) + material"
   ]
  },
  {
   "cell_type": "code",
   "execution_count": null,
   "metadata": {},
   "outputs": [],
   "source": [
    "board = chess.Board()\n",
    "board.set_fen(\"7B/pbpk4/1p6/2n1pp2/6p1/4P3/P1P2PNP/RNq1K1R1 w - - 0 1\")\n",
    "player = Exercise03AI(\"Testplayer\", 3)\n",
    "print(player.evaluate(board))\n",
    "board"
   ]
  },
  {
   "cell_type": "code",
   "execution_count": null,
   "metadata": {
    "scrolled": false
   },
   "outputs": [],
   "source": [
    "DEPTH = 3\n",
    "board = chess.Board()\n",
    "board.set_fen(\"4k3/8/2n5/7K/5q2/2N5/8/2B5 b - - 0 1\")\n",
    "player = Exercise03AI(\"Testplayer\", DEPTH)\n",
    "#print(player.minimax(board, DEPTH))\n",
    "move = player.best_move(board)\n",
    "print(move)\n",
    "display_path(board, move, DEPTH)"
   ]
  }
 ],
 "metadata": {
  "kernelspec": {
   "display_name": "Python 3 (ipykernel)",
   "language": "python",
   "name": "python3"
  },
  "language_info": {
   "codemirror_mode": {
    "name": "ipython",
    "version": 3
   },
   "file_extension": ".py",
   "mimetype": "text/x-python",
   "name": "python",
   "nbconvert_exporter": "python",
   "pygments_lexer": "ipython3",
   "version": "3.10.1"
  }
 },
 "nbformat": 4,
 "nbformat_minor": 2
}
