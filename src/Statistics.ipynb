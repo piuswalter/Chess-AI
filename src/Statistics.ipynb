{
 "cells": [
  {
   "cell_type": "code",
   "execution_count": null,
   "metadata": {},
   "outputs": [],
   "source": [
    "%%html\n",
    "<style>\n",
    ".container {\n",
    "  width: 100%;\n",
    "}\n",
    "</style>"
   ]
  },
  {
   "cell_type": "code",
   "execution_count": null,
   "metadata": {},
   "outputs": [],
   "source": [
    "# Activate mypy type checking and black formatting\n",
    "%load_ext nb_black\n",
    "%load_ext nb_mypy"
   ]
  },
  {
   "cell_type": "code",
   "execution_count": null,
   "metadata": {},
   "outputs": [],
   "source": [
    "import nbimporter  # Activate import functionality for notebooks"
   ]
  },
  {
   "cell_type": "markdown",
   "metadata": {},
   "source": [
    "# Chess-AI Statistik\n",
    "\n",
    "Dieses Notebook lässt verschiedene AI-Versionen gegeneinander spielen und fasst die Ergebnisse in einer CSV-Datei zusammen.\n",
    "\n",
    "Alle Optionen für die Ausführung können über die Umgebungsvariablen gesetzt werden. Das Notebook kann auch unbeaufsichtigt über [GitHub Actions](https://github.com/piuswalter/Chess-AI/actions/workflows/statistics.yml) ausgeführt werden. Der Workflow kann dort auf jedem existierenden Branch manuell gestartet werden. Der gewählte Branch entscheidet über den verwendeten Code. Ein Durchlauf mit den Standardoptionen (`development`-Branch) dauert derzeit etwa 1 Stunde. Die maximal erlaubte Laufzeit mit GitHub Actions beträgt 6 Stunden.\n",
    "\n",
    "Verfügbare Versionen:\n",
    "- `AI-Base-Class.ipynb`: Die abstrakte Basisklasse für alle AI-Versionen, welche das Eröffnungs- und Endspiel implementiert.\n",
    "- `Exercise01AI`: Die erste Version der AI, welche im Mittelspiel zufällige Züge auswählt.\n",
    "- `Exercise02AI`: Die zweite Version der AI, welche im Mittelspiel Züge mithilfe des Minimax-Algorithmus und dem einfachen Materialwert auswählt.\n",
    "- `Exercise03AI`: Die dritte Version der AI, welche im Mittelspiel Züge mithilfe des Minimax-Algorithmus und der `simple evaluation function` auswählt.\n",
    "- `Exercise04AI`: Die vierte Version der AI, welche im Vergleich zur dritten Version mithilfe von Memoisierung beschleunigt wurde.\n",
    "- `Exercise05AI`: Die fünfte Version der AI, welche die dritte Version um das Alpha-Beta-Pruning erweitert.\n",
    "- `Exercise06AI`: Die sechste Version der AI, welche die fünfte Version erneut um Memoisierung erweitert.\n",
    "- `Exercise07AI`: Die siebte Version der AI, welche die sechste Version um Progressive Deepening erweitert.\n",
    "- `Exercise07LiteAI`: Eine Kopie der siebten Version, welche durch das Entfernen der Memoisierung deutlich weniger Speicher benötigt.\n",
    "- `Exercise08AI`: Die achte Version der AI, welche die siebte Version um die Singular Value Extension erweitert.\n",
    "- `StockfishPlayer`: Ein Spieler, welcher durch die Stockfish-Engine gesteuert wird."
   ]
  },
  {
   "cell_type": "markdown",
   "metadata": {},
   "source": [
    "## Optionen manuell anpassen\n",
    "\n",
    "Die folgende Zelle kann dazu genutzt werden um die Optionen manuell anzupassen."
   ]
  },
  {
   "cell_type": "code",
   "execution_count": null,
   "metadata": {},
   "outputs": [],
   "source": [
    "import json\n",
    "\n",
    "manual_config = json.loads(\n",
    "    \"\"\"\n",
    "{\n",
    "  \"players\": {\n",
    "    \"Exercise01AI\": {},\n",
    "    \"Exercise02AI\": {\n",
    "      \"search_depth\": 3\n",
    "    },\n",
    "    \"Exercise03AI\": {\n",
    "      \"search_depth\": 3\n",
    "    },\n",
    "    \"Exercise04AI\": {\n",
    "      \"search_depth\": 3\n",
    "    },\n",
    "    \"Exercise05AI\": {\n",
    "      \"search_depth\": 4\n",
    "    },\n",
    "    \"Exercise06AI\": {\n",
    "      \"search_depth\": 4\n",
    "    },\n",
    "    \"Exercise07AI\": {\n",
    "      \"search_depth\": 4\n",
    "    },\n",
    "    \"Exercise07LiteAI\": {\n",
    "      \"search_depth\": 4\n",
    "    },\n",
    "    \"Exercise08AI\": {\n",
    "      \"search_depth\": 5\n",
    "    },\n",
    "    \"StockfishPlayer\": {\n",
    "      \"elo\": 1500,\n",
    "      \"time_limit\": 0.1\n",
    "    }\n",
    "  },\n",
    "  \"opponents\": {\n",
    "    \"Exercise01AI\": {},\n",
    "    \"Exercise02AI\": {\n",
    "      \"search_depth\": 3\n",
    "    },\n",
    "    \"Exercise03AI\": {\n",
    "      \"search_depth\": 3\n",
    "    },\n",
    "    \"Exercise04AI\": {\n",
    "      \"search_depth\": 3\n",
    "    },\n",
    "    \"Exercise05AI\": {\n",
    "      \"search_depth\": 4\n",
    "    },\n",
    "    \"Exercise06AI\": {\n",
    "      \"search_depth\": 4\n",
    "    },\n",
    "    \"Exercise07AI\": {\n",
    "      \"search_depth\": 4\n",
    "    },\n",
    "    \"Exercise07LiteAI\": {\n",
    "      \"search_depth\": 4\n",
    "    },\n",
    "    \"Exercise08AI\": {\n",
    "      \"search_depth\": 5\n",
    "    },\n",
    "    \"StockfishPlayer\": {\n",
    "      \"elo\": 1500,\n",
    "      \"time_limit\": 0.1\n",
    "    }\n",
    "  },\n",
    "  \"seed\": 3,\n",
    "  \"repetitions\": 3,\n",
    "  \"concurrent_games\": 1,\n",
    "  \"exclude_reflexive_pairs\": false,\n",
    "  \"make_symmetric_pairs\": true\n",
    "}\n",
    "\"\"\"\n",
    ")"
   ]
  },
  {
   "cell_type": "code",
   "execution_count": null,
   "metadata": {},
   "outputs": [],
   "source": [
    "import os\n",
    "\n",
    "# Import all versions\n",
    "from AIBaseClass import ChessAI\n",
    "from Exercise01AI import Exercise01AI\n",
    "from Exercise02AI import Exercise02AI\n",
    "from Exercise03AI import Exercise03AI\n",
    "from Exercise04AI import Exercise04AI\n",
    "from Exercise05AI import Exercise05AI\n",
    "from Exercise06AI import Exercise06AI\n",
    "from Exercise07AI import Exercise07AI\n",
    "from Exercise07LiteAI import Exercise07LiteAI\n",
    "from Exercise08AI import Exercise08AI\n",
    "from StockfishPlayer import StockfishPlayer\n",
    "from Main import run_games\n",
    "\n",
    "available_versions = [\n",
    "    Exercise01AI,\n",
    "    Exercise02AI,\n",
    "    Exercise03AI,\n",
    "    Exercise04AI,\n",
    "    Exercise05AI,\n",
    "    Exercise06AI,\n",
    "    Exercise07AI,\n",
    "    Exercise07LiteAI,\n",
    "    Exercise08AI,\n",
    "    StockfishPlayer,\n",
    "]"
   ]
  },
  {
   "cell_type": "markdown",
   "metadata": {},
   "source": [
    "Die Methode `get_config` lädt eine gegebene Konfiguration aus den Umgebungsvariablen und gibt diese zurück."
   ]
  },
  {
   "cell_type": "code",
   "execution_count": null,
   "metadata": {},
   "outputs": [],
   "source": [
    "def get_config() -> dict:\n",
    "    env_config = os.environ.get(\"config\")\n",
    "    if env_config:\n",
    "        return json.loads(env_config)\n",
    "    return manual_config"
   ]
  },
  {
   "cell_type": "markdown",
   "metadata": {},
   "source": [
    "Die `cleanup_game_folder`-Funktion löscht alle Dateien im `games`-Ordner. Dies verhindert, dass bereits existierende Dateien ungewollt in den Ergebnissen enthalten sind."
   ]
  },
  {
   "cell_type": "code",
   "execution_count": null,
   "metadata": {},
   "outputs": [],
   "source": [
    "import os\n",
    "\n",
    "\n",
    "def cleanup_game_folder() -> None:\n",
    "    \"\"\"Deletes all files inside the games folder.\"\"\"\n",
    "    for filename in os.listdir(\"../games\"):\n",
    "        if filename.endswith(\".pgn\") or filename.endswith(\".csv\"):\n",
    "            os.remove(f\"../games/{filename}\")"
   ]
  },
  {
   "cell_type": "markdown",
   "metadata": {},
   "source": [
    "Die Funktion `create_player_config` bekommt eine Spielerklasse, einen Spielernamen sowie die Konfiguration für alle Spieler und gibt die Spielerklasse zusammen mit ihrer Konfiguration zurück. Die Konfiguration ist dabei `immutable` damit sie in ein `set` hinzugefügt werden kann."
   ]
  },
  {
   "cell_type": "code",
   "execution_count": null,
   "metadata": {},
   "outputs": [],
   "source": [
    "def create_player_config(player: type, name: str, config: dict) -> tuple[type, tuple]:\n",
    "    \"\"\"Returns a player class with the contructor arguments as immutable objects.\"\"\"\n",
    "    return player, tuple({\"player_name\": name, **config[player.__name__]}.items())"
   ]
  },
  {
   "cell_type": "markdown",
   "metadata": {},
   "source": [
    "Die Funktion `is_same_config` bekommt eine ChessAI-Klasse die sowohl Spieler, als auch Gegner ist und prüft ob die Konfiguration identisch ist. Diese Methode wird genutzt um doppelte Spielerpaare mit gleicher Konfiguration zu vermeiden."
   ]
  },
  {
   "cell_type": "code",
   "execution_count": null,
   "metadata": {},
   "outputs": [],
   "source": [
    "def is_same_config(player: type, config) -> bool:\n",
    "    return config[\"players\"][player.__name__] == config[\"opponents\"][player.__name__]"
   ]
  },
  {
   "cell_type": "markdown",
   "metadata": {},
   "source": [
    "Die Methode `build_pairs` bekommt zwei Listen von ChessAI-Klassen und eine Konfiguration als Dictionary. Sie bildet das kartesische Produkt der beiden Listen, wobei jeweils die Spieler-Konfiguration hinzugefügt wird.\n",
    "Optional können dabei reflexive Paare (Spieler = Gegner) vermieden werden und symmetrische Paare (Farbenwechsel) erzeugt werden."
   ]
  },
  {
   "cell_type": "code",
   "execution_count": null,
   "metadata": {},
   "outputs": [],
   "source": [
    "def build_pairs(\n",
    "    players: list[type], opponents: list[type], config: dict\n",
    ") -> set[tuple[tuple[type, tuple], tuple[type, tuple]]]:\n",
    "    \"\"\"Builds cartesian pairs of two iterables\"\"\"\n",
    "    make_symmetric_pairs = config[\"make_symmetric_pairs\"]\n",
    "    exclude_reflexive_pairs = config[\"exclude_reflexive_pairs\"]\n",
    "    result: set[tuple[ChessAI, ChessAI]] = set()\n",
    "    for player in players:\n",
    "        for opponent in opponents:\n",
    "            if exclude_reflexive_pairs and player == opponent:\n",
    "                continue\n",
    "            player_1 = create_player_config(player, \"White\", config[\"players\"])\n",
    "            player_2 = create_player_config(opponent, \"Black\", config[\"opponents\"])\n",
    "            result.add((player_1, player_2))\n",
    "            if make_symmetric_pairs and (\n",
    "                not player in opponents or not is_same_config(player, config)\n",
    "            ):\n",
    "                s_player_1 = create_player_config(\n",
    "                    opponent, \"White\", config[\"opponents\"]\n",
    "                )\n",
    "                s_player_2 = create_player_config(player, \"Black\", config[\"players\"])\n",
    "                result.add((s_player_1, s_player_2))\n",
    "    return result"
   ]
  },
  {
   "cell_type": "markdown",
   "metadata": {},
   "source": [
    "Die `build_player_pairs`-Funktion ermittelt die angegebenen Spieler und Gegner, bildet eine Liste von Spielerpaaren und gibt diese nach dem Klassennamen sortiert zurück.\n"
   ]
  },
  {
   "cell_type": "code",
   "execution_count": null,
   "metadata": {},
   "outputs": [],
   "source": [
    "def build_player_pairs(\n",
    "    config: dict,\n",
    ") -> list[tuple[tuple[type, tuple], tuple[type, tuple]]]:\n",
    "    \"\"\"Builds the sorted cartesian product of players x opponents and opponents x players\"\"\"\n",
    "    # Get players and opponents\n",
    "    players = [\n",
    "        player for player in available_versions if player.__name__ in config[\"players\"]\n",
    "    ]\n",
    "    opponents = [\n",
    "        player\n",
    "        for player in available_versions\n",
    "        if player.__name__ in config[\"opponents\"]\n",
    "    ]\n",
    "    # Build and return pairs\n",
    "    player_pairs = build_pairs(players, opponents, config)\n",
    "    return sorted(player_pairs, key=lambda x: (x[0][0].__name__, x[1][0].__name__))"
   ]
  },
  {
   "cell_type": "markdown",
   "metadata": {},
   "source": [
    "Die `run`-Funktion nimmt ein Spielerpaar, eine Paarnummer, die Anzahl aller Paare sowie einen Seed und führt ein Spiel mit dem gewünschten Seed durch."
   ]
  },
  {
   "cell_type": "code",
   "execution_count": null,
   "metadata": {},
   "outputs": [],
   "source": [
    "def run(\n",
    "    player_pair: tuple[tuple, tuple], pair_num: int, total_pairs: int, seed: int\n",
    ") -> None:\n",
    "    \"\"\"Runs a game with the given player pair.\"\"\"\n",
    "    prefix = f\"[{str(multiprocessing.current_process().pid)}]: \"\n",
    "    player_1, config_white = player_pair[0]\n",
    "    player_2, config_black = player_pair[1]\n",
    "    white_player = player_1(**dict(config_white))\n",
    "    black_player = player_2(**dict(config_black))\n",
    "    print(prefix + f\"Starting game for player pair {pair_num + 1} of {total_pairs}\")\n",
    "    run_games(white_player, black_player, 1, seed)"
   ]
  },
  {
   "cell_type": "markdown",
   "metadata": {},
   "source": [
    "Die `run_statistics`-Funktion nimmt eine Liste von Spielerpaaren und führt für jedes Paar die gewünschte Anzahl an Spielen mit dem gewünschten Seed durch. Falls angegeben werden die gewünschte Anzahl an Spielen parallel in mehreren Prozessen ausgeführt."
   ]
  },
  {
   "cell_type": "code",
   "execution_count": null,
   "metadata": {},
   "outputs": [],
   "source": [
    "from itertools import repeat\n",
    "import multiprocessing\n",
    "\n",
    "\n",
    "def run_statistics(player_pairs: list[tuple[ChessAI, ChessAI]], config: dict) -> None:\n",
    "    \"\"\"Runs one or more games with each player pair.\"\"\"\n",
    "    process_count = config[\"concurrent_games\"]\n",
    "    is_human_run = not bool(os.environ.get(\"CI\", False))\n",
    "    original_seed = config[\"seed\"]\n",
    "    repetitions = config[\"repetitions\"]\n",
    "    total_pairs = len(player_pairs)\n",
    "    print(f\"Total games: {total_pairs * repetitions}\")\n",
    "    for game_round in range(repetitions):\n",
    "        seed = original_seed + game_round\n",
    "        arguments = [\n",
    "            (pair, i, total_pairs, seed) for i, pair in enumerate(player_pairs)\n",
    "        ]\n",
    "        print(\n",
    "            f\"Starting game round {game_round + 1} of {repetitions} using seed {seed}\"\n",
    "        )\n",
    "        # Let all player pairs play\n",
    "        if is_human_run:\n",
    "            for args in arguments:\n",
    "                run(*args)\n",
    "        else:\n",
    "            with multiprocessing.Pool(process_count) as executor:\n",
    "                list(executor.starmap(run, arguments))"
   ]
  },
  {
   "cell_type": "markdown",
   "metadata": {},
   "source": [
    "Die `generate_stats`-Funktion lädt die, als Kommentar gespeicherten, Statistiken für jeden Zug und bereitet sie für den CSV-Export auf."
   ]
  },
  {
   "cell_type": "code",
   "execution_count": null,
   "metadata": {},
   "outputs": [],
   "source": [
    "import chess.pgn\n",
    "\n",
    "\n",
    "def generate_stats(nodes: chess.pgn.Mainline[chess.pgn.ChildNode]) -> dict:\n",
    "    \"\"\"Collects and generates stats from .pgn file comments\"\"\"\n",
    "    stats = {}\n",
    "    raw_stats: list[dict] = [json.loads(\"{\" + node.comment + \"}\") for node in nodes]\n",
    "    player_indices = lambda i: range(i, len(raw_stats), 2)\n",
    "    stats_count_white = len(tuple(player_indices(0)))\n",
    "    stats_count_black = len(tuple(player_indices(1)))\n",
    "    stats[\"last_state\"] = raw_stats[-2][\"state\"].split(\".\")[1]\n",
    "    stats[\"engine_time_white\"] = sum(raw_stats[i][\"time\"] for i in player_indices(0))\n",
    "    stats[\"engine_time_black\"] = sum(raw_stats[i][\"time\"] for i in player_indices(1))\n",
    "    stats[\"move_time_white\"] = stats[\"engine_time_white\"] / stats_count_white\n",
    "    stats[\"move_time_black\"] = stats[\"engine_time_black\"] / stats_count_black\n",
    "\n",
    "    depth_list_white = [\n",
    "        raw_stats[i][\"eval_depth\"]\n",
    "        for i in player_indices(0)\n",
    "        if \"eval_depth\" in raw_stats[i]\n",
    "    ]\n",
    "    stats[\"depth_average_white\"] = sum(depth_list_white) / (len(depth_list_white) or 1)\n",
    "    depth_list_black = [\n",
    "        raw_stats[i][\"eval_depth\"]\n",
    "        for i in player_indices(1)\n",
    "        if \"eval_depth\" in raw_stats[i]\n",
    "    ]\n",
    "    stats[\"depth_average_black\"] = sum(depth_list_black) / (len(depth_list_black) or 1)\n",
    "\n",
    "    stats[\"cache_tries_white\"] = sum(\n",
    "        raw_stats[i].get(\"cache_tries\", 0) for i in player_indices(0)\n",
    "    )\n",
    "    stats[\"cache_tries_black\"] = sum(\n",
    "        raw_stats[i].get(\"cache_tries\", 0) for i in player_indices(1)\n",
    "    )\n",
    "    stats[\"cache_hits_white\"] = sum(\n",
    "        raw_stats[i].get(\"cache_hits\", 0) for i in player_indices(0)\n",
    "    )\n",
    "    stats[\"cache_hits_black\"] = sum(\n",
    "        raw_stats[i].get(\"cache_hits\", 0) for i in player_indices(1)\n",
    "    )\n",
    "    stats[\"move_list\"] = \",\".join(entry[\"move\"] for entry in raw_stats)\n",
    "    return stats"
   ]
  },
  {
   "cell_type": "markdown",
   "metadata": {},
   "source": [
    "Die `collect_results`-Funktion importiert die Ergebnisse aus allen `.pgn`-Dateien im `games`-Ordner und bereitet sie als Dictionary auf."
   ]
  },
  {
   "cell_type": "code",
   "execution_count": null,
   "metadata": {},
   "outputs": [],
   "source": [
    "# Collect results from .pgn files\n",
    "\n",
    "\n",
    "def collect_results() -> dict[str, list]:\n",
    "    \"\"\"Scans all .pgn files inside the games folder and collects the game results as dictionary.\"\"\"\n",
    "    # All results are presented from the view of the white color\n",
    "    results_map_white = {\"1-0\": \"Won\", \"0-1\": \"Lost\", \"1/2-1/2\": \"Remis\", \"*\": \"Remis\"}\n",
    "    results_map_black = {\"0-1\": \"Won\", \"1-0\": \"Lost\", \"1/2-1/2\": \"Remis\", \"*\": \"Remis\"}\n",
    "    games_map: dict[str, list] = {}\n",
    "\n",
    "    # Iterate over all .pgn files\n",
    "    for filename in os.listdir(\"../games\"):\n",
    "        if not filename.endswith(\".pgn\"):\n",
    "            continue\n",
    "        with open(os.path.join(\"..\", \"games\", filename)) as pgn:\n",
    "            pgn_game = chess.pgn.read_game(pgn)\n",
    "        if not pgn_game:\n",
    "            continue\n",
    "\n",
    "        # Collect results\n",
    "        results = {\n",
    "            \"round\": pgn_game.headers[\"Round\"],\n",
    "            \"opponent\": pgn_game.headers[\"Black\"],\n",
    "            \"result_white\": results_map_white[pgn_game.headers[\"Result\"]],\n",
    "            \"result_black\": results_map_black[pgn_game.headers[\"Result\"]],\n",
    "            \"outcome\": pgn_game.headers[\"Outcome\"],\n",
    "            \"duration\": pgn_game.headers[\"Duration\"],\n",
    "            \"seed\": pgn_game.headers[\"Seed\"],\n",
    "            \"commit\": pgn_game.headers[\"Commit\"],\n",
    "            \"depth_white\": pgn_game.headers[\"Depth\"].split(\"-\")[0],\n",
    "            \"depth_black\": pgn_game.headers[\"Depth\"].split(\"-\")[1],\n",
    "            \"total_moves\": pgn_game.end().ply(),\n",
    "            \"filename\": filename,\n",
    "            **generate_stats(pgn_game.mainline()),\n",
    "        }\n",
    "\n",
    "        # Save results (uses white player name as key)\n",
    "        entry = games_map.get(pgn_game.headers[\"White\"], [])\n",
    "        entry.append(results)\n",
    "        games_map[pgn_game.headers[\"White\"]] = entry\n",
    "    return games_map"
   ]
  },
  {
   "cell_type": "markdown",
   "metadata": {},
   "source": [
    "Die `export_to_csv`-Funktion exportiert eine gegebene Sammlung (Dictionary) von Spielergebnissen als CSV-Datei."
   ]
  },
  {
   "cell_type": "code",
   "execution_count": null,
   "metadata": {},
   "outputs": [],
   "source": [
    "import csv\n",
    "from datetime import datetime\n",
    "\n",
    "\n",
    "def export_to_csv(games_map: dict[str, list]) -> None:\n",
    "    \"\"\"Exports the given results dictionary to csv.\"\"\"\n",
    "    filename = f'statistics_{datetime.now().strftime(\"%Y-%m-%d_%H-%M-%S-%f\")}.csv'\n",
    "    with open(os.path.join(\"..\", \"games\", filename), \"w\", newline=\"\") as csv_file:\n",
    "        csv_writer = csv.writer(\n",
    "            csv_file, delimiter=\";\", quotechar='\"', quoting=csv.QUOTE_MINIMAL\n",
    "        )\n",
    "        # Write headlines\n",
    "        csv_writer.writerow(\n",
    "            [\n",
    "                \"Player\",\n",
    "                \"Result white\",\n",
    "                \"Depth white\",\n",
    "                \"Depth average white\",\n",
    "                \"Total engine time white\",\n",
    "                \"Average move time white\",\n",
    "                \"Cache tries white\",\n",
    "                \"Cache hits white\",\n",
    "                \"Opponent\",\n",
    "                \"Result black\",\n",
    "                \"Depth black\",\n",
    "                \"Depth average black\",\n",
    "                \"Total engine time black\",\n",
    "                \"Average move time black\",\n",
    "                \"Cache tries black\",\n",
    "                \"Cache hits black\",\n",
    "                \"Outcome\",\n",
    "                \"Moves\",\n",
    "                \"Duration\",\n",
    "                \"Last state\",\n",
    "                \"Round\",\n",
    "                \"Seed\",\n",
    "                \"Commit Hash\",\n",
    "                \"File\",\n",
    "                \"Move list\",\n",
    "            ]\n",
    "        )\n",
    "        # Write results\n",
    "        for player in sorted(games_map):\n",
    "            games = sorted(games_map[player], key=lambda game: game[\"filename\"])\n",
    "            for game in games:\n",
    "                csv_writer.writerow(\n",
    "                    [\n",
    "                        player,\n",
    "                        game[\"result_white\"],\n",
    "                        game[\"depth_white\"],\n",
    "                        str(game[\"depth_average_white\"]).replace(\".\", \",\"),\n",
    "                        str(game[\"engine_time_white\"]).replace(\".\", \",\"),\n",
    "                        str(game[\"move_time_white\"]).replace(\".\", \",\"),\n",
    "                        game[\"cache_tries_white\"],\n",
    "                        game[\"cache_hits_white\"],\n",
    "                        game[\"opponent\"],\n",
    "                        game[\"result_black\"],\n",
    "                        game[\"depth_black\"],\n",
    "                        str(game[\"depth_average_black\"]).replace(\".\", \",\"),\n",
    "                        str(game[\"engine_time_black\"]).replace(\".\", \",\"),\n",
    "                        str(game[\"move_time_black\"]).replace(\".\", \",\"),\n",
    "                        game[\"cache_tries_black\"],\n",
    "                        game[\"cache_hits_black\"],\n",
    "                        game[\"outcome\"].split(\".\")[1],\n",
    "                        game[\"total_moves\"],\n",
    "                        str(game[\"duration\"]).replace(\".\", \",\"),\n",
    "                        game[\"last_state\"],\n",
    "                        game[\"round\"].replace(\"/\", \" of \"),\n",
    "                        game[\"seed\"],\n",
    "                        game[\"commit\"],\n",
    "                        game[\"filename\"],\n",
    "                        game[\"move_list\"],\n",
    "                    ]\n",
    "                )"
   ]
  },
  {
   "cell_type": "markdown",
   "metadata": {},
   "source": [
    "Die folgende Zelle bereinigt den `games`-Ordner, erstellt die Spielerpaare, startet die Spiele, sammelt die Ergebnisse und exportiert sie als CSV-Datei."
   ]
  },
  {
   "cell_type": "code",
   "execution_count": null,
   "metadata": {},
   "outputs": [],
   "source": [
    "# Run and export games\n",
    "if __name__ == \"__main__\":\n",
    "    # cleanup_game_folder()\n",
    "    config = get_config()\n",
    "    player_pairs = build_player_pairs(config)\n",
    "    run_statistics(player_pairs, config)\n",
    "    results = collect_results()\n",
    "    export_to_csv(results)"
   ]
  },
  {
   "cell_type": "code",
   "execution_count": null,
   "metadata": {},
   "outputs": [],
   "source": []
  }
 ],
 "metadata": {
  "interpreter": {
   "hash": "a707b6ce8c685eb936424fcc3009d4b4b7a52543c4db09380a3fc49186ceb509"
  },
  "kernelspec": {
   "display_name": "Python 3 (ipykernel)",
   "language": "python",
   "name": "python3"
  },
  "language_info": {
   "codemirror_mode": {
    "name": "ipython",
    "version": 3
   },
   "file_extension": ".py",
   "mimetype": "text/x-python",
   "name": "python",
   "nbconvert_exporter": "python",
   "pygments_lexer": "ipython3",
   "version": "3.10.4"
  }
 },
 "nbformat": 4,
 "nbformat_minor": 2
}
