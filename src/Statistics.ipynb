{
 "cells": [
  {
   "cell_type": "code",
   "execution_count": null,
   "metadata": {},
   "outputs": [],
   "source": [
    "%%html\n",
    "<style>\n",
    ".container {\n",
    "  width: 100%;\n",
    "}\n",
    "</style>"
   ]
  },
  {
   "cell_type": "code",
   "execution_count": null,
   "metadata": {},
   "outputs": [],
   "source": [
    "# Activate mypy type checking\n",
    "%load_ext nb_mypy"
   ]
  },
  {
   "cell_type": "code",
   "execution_count": null,
   "metadata": {},
   "outputs": [],
   "source": [
    "import nbimporter # Activate import functionality for notebooks"
   ]
  },
  {
   "cell_type": "markdown",
   "metadata": {},
   "source": [
    "# Chess-AI Statistik\n",
    "\n",
    "Dieses Notebook lässt verschiedene AI-Versionen gegeneinander spielen und fasst die Ergebnisse in einer CSV-Datei zusammen.\n",
    "\n",
    "Alle Optionen für die Ausführung können über die Umgebungsvariablen gesetzt werden. Das Notebook kann auch unbeaufsichtigt über [GitHub Actions](https://github.com/piuswalter/Chess-AI/actions/workflows/statistics.yml) ausgeführt werden. Der Workflow kann dort auf jedem existierenden Branch manuell gestartet werden. Der gewählte Branch entscheidet über den verwendeten Code. Ein Durchlauf mit den Standardoptionen (`development`-Branch) dauert derzeit etwa 1 Stunde. Die maximal erlaubte Laufzeit mit GitHub Actions beträgt 6 Stunden.\n",
    "\n",
    "Verfügbare Versionen:\n",
    "- `AI-Base-Class.ipynb`: Die abstrakte Basisklasse für alle AI-Versionen, welche das Eröffnungs- und Endspiel implementiert.\n",
    "- `Exercise01AI`: Die erste Version der AI, welche im Mittelspiel zufällige Züge auswählt.\n",
    "- `Exercise02AI`: Die zweite Version der AI, welche im Mittelspiel Züge mithilfe des Minimax-Algorithmus und dem einfachen Materialwert auswählt.\n",
    "- `Exercise03AI`: Die dritte Version der AI, welche im Mittelspiel Züge mithilfe des Minimax-Algorithmus und der `simple evaluation function` auswählt.\n",
    "- `Exercise04AI`: Die vierte Version der AI, welche im Vergleich zur dritten Version mithilfe von Memoisierung beschleunigt wurde.\n",
    "- `Exercise05AI`: HIER FEHLT EINE BESCHREIBUNG\n",
    "- `Exercise06AI`: HIER FEHLT EINE BESCHREIBUNG\n",
    "- `Exercise07AI`: HIER FEHLT EINE BESCHREIBUNG\n",
    "- `StockfishPlayer`: Ein Spieler, welcher durch die Stockfish-Engine gesteuert wird."
   ]
  },
  {
   "cell_type": "markdown",
   "metadata": {},
   "source": [
    "## Optionen manuell anpassen\n",
    "\n",
    "Die folgende Zelle kann dazu genutzt werden um die Optionen manuell anzupassen."
   ]
  },
  {
   "cell_type": "code",
   "execution_count": null,
   "metadata": {},
   "outputs": [],
   "source": [
    "import json\n",
    "manual_config = json.loads(\n",
    "'''\n",
    "{\n",
    "  \"players\": {\n",
    "    \"Exercise01AI\": {},\n",
    "    \"Exercise02AI\": {\n",
    "      \"search_depth\": 3\n",
    "    },\n",
    "    \"Exercise03AI\": {\n",
    "      \"search_depth\": 3\n",
    "    },\n",
    "    \"Exercise04AI\": {\n",
    "      \"search_depth\": 3\n",
    "    },\n",
    "    \"Exercise05AI\": {\n",
    "      \"search_depth\": 4\n",
    "    },\n",
    "    \"Exercise06AI\": {\n",
    "      \"search_depth\": 4\n",
    "    },\n",
    "    \"Exercise07AI\": {\n",
    "      \"search_depth\": 5\n",
    "    },\n",
    "    \"StockfishPlayer\": {}\n",
    "  },\n",
    "  \"opponents\": {\n",
    "    \"Exercise01AI\": {},\n",
    "    \"Exercise02AI\": {\n",
    "      \"search_depth\": 3\n",
    "    },\n",
    "    \"Exercise03AI\": {\n",
    "      \"search_depth\": 3\n",
    "    },\n",
    "    \"Exercise04AI\": {\n",
    "      \"search_depth\": 3\n",
    "    },\n",
    "    \"Exercise05AI\": {\n",
    "      \"search_depth\": 4\n",
    "    },\n",
    "    \"Exercise06AI\": {\n",
    "      \"search_depth\": 4\n",
    "    },\n",
    "    \"Exercise07AI\": {\n",
    "      \"search_depth\": 5\n",
    "    },\n",
    "    \"StockfishPlayer\": {}\n",
    "  },\n",
    "  \"seed\": 1,\n",
    "  \"repetitions\": 1,\n",
    "  \"exclude_reflexive_pairs\": false,\n",
    "  \"make_symmetric_pairs\": true\n",
    "}\n",
    "''')"
   ]
  },
  {
   "cell_type": "code",
   "execution_count": null,
   "metadata": {},
   "outputs": [],
   "source": [
    "import os\n",
    "# Import all versions\n",
    "from AIBaseClass import ChessAI\n",
    "from Exercise01AI import Exercise01AI\n",
    "from Exercise02AI import Exercise02AI\n",
    "from Exercise03AI import Exercise03AI\n",
    "from Exercise04AI import Exercise04AI\n",
    "from Exercise05AI import Exercise05AI\n",
    "from Exercise06AI import Exercise06AI\n",
    "from Exercise07AI import Exercise07AI\n",
    "from StockfishPlayer import StockfishPlayer\n",
    "from Main import run_games\n",
    "\n",
    "available_versions = [\n",
    "    Exercise01AI,\n",
    "    Exercise02AI,\n",
    "    Exercise03AI,\n",
    "    Exercise04AI,\n",
    "    Exercise05AI,\n",
    "    Exercise06AI,\n",
    "    Exercise07AI,\n",
    "    StockfishPlayer\n",
    "]"
   ]
  },
  {
   "cell_type": "markdown",
   "metadata": {},
   "source": [
    "Die Methode `get_config` lädt eine gegebene Konfiguration aus den Umgebungsvariablen und gibt diese zurück."
   ]
  },
  {
   "cell_type": "code",
   "execution_count": null,
   "metadata": {},
   "outputs": [],
   "source": [
    "def get_config() -> dict:\n",
    "    env_config = os.environ.get(\"config\")\n",
    "    if env_config:\n",
    "        return json.loads(env_config)\n",
    "    return manual_config"
   ]
  },
  {
   "cell_type": "markdown",
   "metadata": {},
   "source": [
    "Die `cleanup_game_folder`-Funktion löscht alle Dateien im `games`-Ordner. Dies verhindert, dass bereits existierende Dateien ungewollt in den Ergebnissen enthalten sind."
   ]
  },
  {
   "cell_type": "code",
   "execution_count": null,
   "metadata": {},
   "outputs": [],
   "source": [
    "import os\n",
    "\n",
    "def cleanup_game_folder() -> None:\n",
    "    \"\"\"Deletes all files inside the games folder.\"\"\"\n",
    "    for filename in os.listdir(\"../games\"):\n",
    "        if filename.endswith(\".pgn\") or filename.endswith(\".csv\"):\n",
    "            os.remove(f\"../games/{filename}\")"
   ]
  },
  {
   "cell_type": "markdown",
   "metadata": {},
   "source": [
    "Die Funktion `create_player` bekommt eine Spielerklasse, einen Spielernamen sowie die Konfiguration für alle Spieler und gibt eine Instanz der Spielerklasse zurück."
   ]
  },
  {
   "cell_type": "code",
   "execution_count": null,
   "metadata": {},
   "outputs": [],
   "source": [
    "def create_player(player: type, name: str, config: dict) -> ChessAI:\n",
    "    \"\"\"Instantiates a player with the given config\"\"\"\n",
    "    return player(player_name=name, **config[player.__name__])"
   ]
  },
  {
   "cell_type": "markdown",
   "metadata": {},
   "source": [
    "Die Funktion `is_same_config` bekommt eine ChessAI-Klasse die sowohl Spieler, als auch Gegner ist und prüft ob die Konfiguration der beiden Positionen identisch ist. Diese Methode wird genutzt um doppelte Spielerpaare mit gleicher Konfiguration zu vermeiden."
   ]
  },
  {
   "cell_type": "code",
   "execution_count": null,
   "metadata": {},
   "outputs": [],
   "source": [
    "def is_same_config(player: type, config) -> bool:\n",
    "    return config[\"players\"][player.__name__] == config[\"opponents\"][player.__name__]"
   ]
  },
  {
   "cell_type": "markdown",
   "metadata": {},
   "source": [
    "Die Methode `build_pairs` bekommt zwei Listen von ChessAI-Klassen, eine Konfiguration als Dictionary. Sie bildet das kartesische Produkt der beiden Listen, wobei die jeweiligen Klassen dabei instanziiert werden mit der gegebenen Konfiguration.\n",
    "Optional können dabei reflexive Paare (Spieler = Gegner) vermieden werden und symmetrische Paare (Farbenwechsel) erzeugt werden."
   ]
  },
  {
   "cell_type": "code",
   "execution_count": null,
   "metadata": {},
   "outputs": [],
   "source": [
    "def build_pairs(players: list[type], opponents: list[type], config: dict) -> set[tuple[ChessAI, ChessAI]]:\n",
    "    \"\"\"Builds cartesian pairs of two iterables\"\"\"\n",
    "    make_symmetric_pairs = config[\"make_symmetric_pairs\"]\n",
    "    exclude_reflexive_pairs = config[\"exclude_reflexive_pairs\"]\n",
    "    result: set[tuple[ChessAI, ChessAI]] = set()\n",
    "    for player in players:\n",
    "        for opponent in opponents:\n",
    "            if exclude_reflexive_pairs and player == opponent:\n",
    "                continue\n",
    "            player_1 = create_player(player, \"White\", config[\"players\"])\n",
    "            player_2 = create_player(opponent, \"Black\", config[\"opponents\"])\n",
    "            result.add((player_1, player_2))\n",
    "            if make_symmetric_pairs and (not player in opponents or not is_same_config(player, config)):\n",
    "                s_player_1 = create_player(opponent, \"White\", config[\"opponents\"])\n",
    "                s_player_2 = create_player(player, \"Black\", config[\"players\"])\n",
    "                result.add((s_player_1, s_player_2))\n",
    "    return result"
   ]
  },
  {
   "cell_type": "markdown",
   "metadata": {},
   "source": [
    "Die `build_player_pairs`-Funktion ermittelt die angegebenen Spieler und Gegner und bildet eine Liste von Spielerpaaren und gibt diese nach dem Klassennamen sortiert zurück.\n"
   ]
  },
  {
   "cell_type": "code",
   "execution_count": null,
   "metadata": {},
   "outputs": [],
   "source": [
    "def build_player_pairs(config: dict) -> list[ChessAI]:\n",
    "    \"\"\"Builds the sorted cartesian product of players x opponents and opponents x players\"\"\"\n",
    "    # Get players and opponents\n",
    "    players   = [player for player in available_versions \n",
    "                    if player.__name__ in config[\"players\"]]\n",
    "    opponents = [player for player in available_versions \n",
    "                    if player.__name__ in config[\"opponents\"]]\n",
    "    # Build and return pairs\n",
    "    player_pairs = build_pairs(players, opponents, config)\n",
    "    return sorted(player_pairs, key=lambda x: (type(x[0]).__name__, type(x[1]).__name__))"
   ]
  },
  {
   "cell_type": "markdown",
   "metadata": {},
   "source": [
    "Die `run`-Funktion nimmt eine Liste von Spielerpaaren und führt für jedes Paar die gewünschte Anzahl an Spielen mit dem gewünschten Seed durch."
   ]
  },
  {
   "cell_type": "code",
   "execution_count": null,
   "metadata": {},
   "outputs": [],
   "source": [
    "def run(player_pairs: list[tuple[ChessAI, ChessAI]], config: dict) -> None:\n",
    "    \"\"\"Runs one or more games with each player pair.\"\"\"\n",
    "    seed = config[\"seed\"]\n",
    "    repetitions = config[\"repetitions\"]\n",
    "    # Let all player pairs play\n",
    "    for i, players in enumerate(player_pairs):\n",
    "        white_player, black_player = players\n",
    "        print(f\"Playing game {i+1} of {len(player_pairs)}\")\n",
    "        run_games(white_player, black_player, repetitions, seed)"
   ]
  },
  {
   "cell_type": "markdown",
   "metadata": {},
   "source": [
    "Die `collect_results`-Funktion importiert die Ergebnisse aus allen `.pgn`-Dateien im `games`-Ordner und bereitet sie als Dictionary auf."
   ]
  },
  {
   "cell_type": "code",
   "execution_count": null,
   "metadata": {},
   "outputs": [],
   "source": [
    "# Collect results from .pgn files\n",
    "import chess.pgn\n",
    "\n",
    "def collect_results() -> dict[str, list]:\n",
    "    \"\"\"Scans all .pgn files inside the games folder and collects the game results as dictionary.\"\"\"\n",
    "    # All results are presented from the view of the white color\n",
    "    results_map_white = {\"1-0\": \"Won\", \"0-1\": \"Lost\", \"1/2-1/2\": \"Remis\", \"*\": \"Remis\"}\n",
    "    results_map_black = {\"0-1\": \"Won\", \"1-0\": \"Lost\", \"1/2-1/2\": \"Remis\", \"*\": \"Remis\"}\n",
    "    games_map: dict[str, list] = {}\n",
    "\n",
    "    # Iterate over all .pgn files\n",
    "    for filename in os.listdir(\"../games\"):\n",
    "        if not filename.endswith(\".pgn\"):\n",
    "            continue\n",
    "        with open(os.path.join(\"..\", \"games\", filename)) as pgn:\n",
    "            pgn_game = chess.pgn.read_game(pgn)\n",
    "        if not pgn_game:\n",
    "            continue\n",
    "\n",
    "        # Collect results\n",
    "        results = {\n",
    "            \"round\": pgn_game.headers[\"Round\"],\n",
    "            \"opponent\": pgn_game.headers[\"Black\"],\n",
    "            \"result_white\": results_map_white[pgn_game.headers[\"Result\"]],\n",
    "            \"result_black\": results_map_black[pgn_game.headers[\"Result\"]],\n",
    "            \"outcome\": pgn_game.headers[\"Outcome\"],\n",
    "            \"duration\": pgn_game.headers[\"Duration\"],\n",
    "            \"seed\": pgn_game.headers[\"Seed\"],\n",
    "            \"depth_white\": pgn_game.headers[\"Depth\"].split(\"-\")[0],\n",
    "            \"depth_black\": pgn_game.headers[\"Depth\"].split(\"-\")[1],\n",
    "            \"total_cache_hits_white\": pgn_game.headers[\"CacheHits\"].split(\"-\")[0],\n",
    "            \"total_cache_hits_black\": pgn_game.headers[\"CacheHits\"].split(\"-\")[1],\n",
    "            \"state_changes\": {node.comment: node.ply() for node in pgn_game.mainline() if node.comment},\n",
    "            \"total_moves\": pgn_game.end().ply(),\n",
    "            \"filename\": filename,\n",
    "        }\n",
    "\n",
    "        # Save results (uses white player name as key)\n",
    "        entry = games_map.get(pgn_game.headers[\"White\"], [])\n",
    "        entry.append(results)\n",
    "        games_map[pgn_game.headers[\"White\"]] = entry\n",
    "    return games_map"
   ]
  },
  {
   "cell_type": "markdown",
   "metadata": {},
   "source": [
    "Die `export_to_csv`-Funktion exportiert eine gegebene Sammlung (Dictionary) von Spielergebnissen als CSV-Datei."
   ]
  },
  {
   "cell_type": "code",
   "execution_count": null,
   "metadata": {},
   "outputs": [],
   "source": [
    "import csv\n",
    "from datetime import datetime\n",
    "\n",
    "def export_to_csv(games_map: dict[str, list]) -> None:\n",
    "    \"\"\"Exports the given results dictionary to csv.\"\"\"\n",
    "    filename = f'statistics_{datetime.now().strftime(\"%Y-%m-%d_%H-%M-%S-%f\")}.csv'\n",
    "    with open(os.path.join(\"..\", \"games\", filename), 'w', newline='') as csv_file:\n",
    "        csv_writer = csv.writer(csv_file, delimiter=';', quotechar='\"', quoting=csv.QUOTE_MINIMAL)\n",
    "        # Write headlines\n",
    "        csv_writer.writerow([\n",
    "            \"Player\", \n",
    "            \"Result white\",\n",
    "            \"Depth white\",\n",
    "            \"Cache hits white\",\n",
    "            \"Opponent\", \n",
    "            \"Result black\",\n",
    "            \"Depth black\",\n",
    "            \"Cache hits black\",\n",
    "            \"Outcome\",\n",
    "            \"Moves\", \n",
    "            \"Duration\", \n",
    "            \"Moves to middle game\", \n",
    "            \"Moves to end game\", \n",
    "            \"Round\", \n",
    "            \"Seed\",\n",
    "            \"File\",\n",
    "        ])\n",
    "        # Write results\n",
    "        for player in sorted(games_map):\n",
    "            games = sorted(games_map[player], key=lambda game: game[\"filename\"])\n",
    "            for game in games:\n",
    "                csv_writer.writerow([\n",
    "                    player, \n",
    "                    game[\"result_white\"],\n",
    "                    game[\"depth_white\"],\n",
    "                    game[\"total_cache_hits_white\"],\n",
    "                    game[\"opponent\"], \n",
    "                    game[\"result_black\"],\n",
    "                    game[\"depth_black\"],\n",
    "                    game[\"total_cache_hits_black\"],\n",
    "                    game[\"outcome\"].split(\".\")[1],\n",
    "                    game[\"total_moves\"], \n",
    "                    game[\"duration\"].split(\".\")[0], \n",
    "                    game[\"state_changes\"].get(\"State.MIDDLE_GAME\", \"-\"), \n",
    "                    game[\"state_changes\"].get(\"State.END_GAME\", \"-\"), \n",
    "                    game[\"round\"].replace(\"/\", \" of \"),\n",
    "                    game[\"seed\"],\n",
    "                    game[\"filename\"],\n",
    "                ])"
   ]
  },
  {
   "cell_type": "markdown",
   "metadata": {},
   "source": [
    "Die folgende Zelle bereinigt den `games`-Ordner, erstellt die Spielerpaare, startet die Spiele, sammelt die Ergebnisse und exportiert sie als CSV-Datei."
   ]
  },
  {
   "cell_type": "code",
   "execution_count": null,
   "metadata": {},
   "outputs": [],
   "source": [
    "%%time\n",
    "# Run and export games\n",
    "#cleanup_game_folder()\n",
    "config = get_config()\n",
    "player_pairs = build_player_pairs(config)\n",
    "#run(player_pairs, config)\n",
    "#results = collect_results()\n",
    "#export_to_csv(results)\n",
    "player_pairs"
   ]
  }
 ],
 "metadata": {
  "interpreter": {
   "hash": "a707b6ce8c685eb936424fcc3009d4b4b7a52543c4db09380a3fc49186ceb509"
  },
  "kernelspec": {
   "display_name": "Python 3 (ipykernel)",
   "language": "python",
   "name": "python3"
  },
  "language_info": {
   "codemirror_mode": {
    "name": "ipython",
    "version": 3
   },
   "file_extension": ".py",
   "mimetype": "text/x-python",
   "name": "python",
   "nbconvert_exporter": "python",
   "pygments_lexer": "ipython3",
   "version": "3.10.2"
  }
 },
 "nbformat": 4,
 "nbformat_minor": 2
}
