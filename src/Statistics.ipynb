{
 "cells": [
  {
   "cell_type": "code",
   "execution_count": null,
   "metadata": {},
   "outputs": [],
   "source": [
    "%%html\n",
    "<style>\n",
    ".container {\n",
    "  width: 100%;\n",
    "}\n",
    "</style>"
   ]
  },
  {
   "cell_type": "code",
   "execution_count": null,
   "metadata": {},
   "outputs": [],
   "source": [
    "# Activate mypy type checking\n",
    "%load_ext nb_mypy"
   ]
  },
  {
   "cell_type": "code",
   "execution_count": null,
   "metadata": {},
   "outputs": [],
   "source": [
    "import nbimporter # Activate import functionality for notebooks"
   ]
  },
  {
   "cell_type": "markdown",
   "metadata": {},
   "source": [
    "# Chess-AI Statistiken\n",
    "\n",
    "Dieses Notebook lässt jede AI Version gegeneinander spielen und exportiert die Ergebnisse als CSV-Datei.\n",
    "\n",
    "Importierte Versionen:\n",
    "- `AI-Base-Class.ipynb`: Die abstrakte Basisklasse für alle AI-Versionen, welche das Eröffnungs- und Endspiel implementiert.\n",
    "- `Exercise01AI`: Die erste Version der AI, welche im Mittelspiel zufällige Züge auswählt.\n",
    "- `Exercise02AI`: Die zweite Version der AI, welche im Mittelspiel Züge mithilfe des Minimax-Algorithmus und dem einfachen Materialwert auswählt.\n",
    "- `Exercise03AI`: Die dritte Version der AI, welche im Mittelspiel Züge mithilfe des Minimax-Algorithmus und der `simple evaluation function` auswählt.\n",
    "- `Exercise04AI`: Die vierte Version der AI, welche im Vergleich zur dritten Version mithilfe von Memoisierung beschleunigt wurde.\n",
    "- `StockfishPlayer`: Ein Spieler, welcher durch die Stockfish Engine gesteuert wird."
   ]
  },
  {
   "cell_type": "code",
   "execution_count": null,
   "metadata": {},
   "outputs": [],
   "source": [
    "import os\n",
    "\n",
    "# Cleanup game folder (delete all files)\n",
    "for filename in os.listdir(\"../games\"):\n",
    "    os.remove(f\"../games/{filename}\")"
   ]
  },
  {
   "cell_type": "code",
   "execution_count": null,
   "metadata": {},
   "outputs": [],
   "source": [
    "from Exercise01AI import Exercise01AI\n",
    "from Exercise02AI import Exercise02AI\n",
    "from Exercise03AI import Exercise03AI\n",
    "from Exercise04AI import Exercise04AI\n",
    "from StockfishPlayer import StockfishPlayer\n",
    "from Main import run_games "
   ]
  },
  {
   "cell_type": "code",
   "execution_count": null,
   "metadata": {},
   "outputs": [],
   "source": [
    "# Build relation set of all players\n",
    "players = [Exercise01AI, Exercise02AI, Exercise03AI, Exercise04AI, StockfishPlayer]\n",
    "player_pairs = {(white, black) for white in players for black in players}\n",
    "player_pairs"
   ]
  },
  {
   "cell_type": "code",
   "execution_count": null,
   "metadata": {},
   "outputs": [],
   "source": [
    "%%time\n",
    "# Let all player pairs play\n",
    "for i, players in enumerate(player_pairs):\n",
    "    print(f\"Playing game {i+1} of {len(player_pairs)}\")\n",
    "    run_games(players[0](\"White\"), players[1](\"Black\"), repetitions=1, seed=3)"
   ]
  },
  {
   "cell_type": "code",
   "execution_count": null,
   "metadata": {},
   "outputs": [],
   "source": [
    "# Collect results from .pgn files\n",
    "import chess.pgn\n",
    "\n",
    "results_map_white = {\"1-0\": \"Won\", \"0-1\": \"Lost\", \"1/2-1/2\": \"Remis\"}\n",
    "games_map: dict[str, list] = {}\n",
    "\n",
    "for filename in os.listdir(\"../games\"):\n",
    "    if not filename.endswith(\".pgn\"):\n",
    "        continue\n",
    "    with open(os.path.join(\"..\", \"games\", filename)) as pgn:\n",
    "        pgn_game = chess.pgn.read_game(pgn)\n",
    "    if not pgn_game:\n",
    "        continue\n",
    "\n",
    "    white_view = {\n",
    "        \"date\": pgn_game.headers[\"Date\"],\n",
    "        \"round\": pgn_game.headers[\"Round\"],\n",
    "        \"opponent\": pgn_game.headers[\"Black\"],\n",
    "        \"result\": results_map_white[pgn_game.headers[\"Result\"]],\n",
    "        \"duration\": pgn_game.headers[\"Duration\"],\n",
    "        \"seed\": pgn_game.headers[\"Seed\"],\n",
    "        \"state_changes\": {node.comment: node.ply() for node in pgn_game.mainline() if node.comment},\n",
    "        \"total_moves\": pgn_game.end().ply(),\n",
    "        \"filename\": filename\n",
    "    }\n",
    "    entry = games_map.get(pgn_game.headers[\"White\"], [])\n",
    "    entry.append(white_view)\n",
    "    games_map[pgn_game.headers[\"White\"]] = entry"
   ]
  },
  {
   "cell_type": "code",
   "execution_count": null,
   "metadata": {},
   "outputs": [],
   "source": [
    "import csv\n",
    "\n",
    "# Export to csv\n",
    "with open(os.path.join(\"..\", \"games\", \"statistics.csv\"), 'w', newline='') as csv_file:\n",
    "    csv_writer = csv.writer(csv_file, delimiter=';', quotechar='\"', quoting=csv.QUOTE_MINIMAL)\n",
    "    csv_writer.writerow([\n",
    "        \"Player\", \n",
    "        \"Opponent\", \n",
    "        \"Result\", \n",
    "        \"Moves\", \n",
    "        \"Duration\", \n",
    "        \"Moves to middle game\", \n",
    "        \"Moves to end game\", \n",
    "        \"Date\", \n",
    "        \"Round\", \n",
    "        \"Seed\",\n",
    "        \"File\"\n",
    "    ])\n",
    "    keys = sorted(games_map)\n",
    "    for player in sorted(games_map):\n",
    "        games = sorted(games_map[player], key=lambda g: g[\"opponent\"])\n",
    "        for game in games:\n",
    "            csv_writer.writerow([\n",
    "                player, \n",
    "                game[\"opponent\"], \n",
    "                game[\"result\"], \n",
    "                game[\"total_moves\"], \n",
    "                game[\"duration\"].replace(\".\", \",\"), \n",
    "                game[\"state_changes\"].get(\"State.MIDDLE_GAME\", \"-\"), \n",
    "                game[\"state_changes\"].get(\"State.END_GAME\", \"-\"), \n",
    "                game[\"date\"],\n",
    "                game[\"round\"].replace(\"/\", \" of \"),\n",
    "                game[\"seed\"],\n",
    "                game[\"filename\"],\n",
    "            ])\n",
    "        csv_writer.writerow([])"
   ]
  }
 ],
 "metadata": {
  "interpreter": {
   "hash": "a707b6ce8c685eb936424fcc3009d4b4b7a52543c4db09380a3fc49186ceb509"
  },
  "kernelspec": {
   "display_name": "Python 3 (ipykernel)",
   "language": "python",
   "name": "python3"
  },
  "language_info": {
   "codemirror_mode": {
    "name": "ipython",
    "version": 3
   },
   "file_extension": ".py",
   "mimetype": "text/x-python",
   "name": "python",
   "nbconvert_exporter": "python",
   "pygments_lexer": "ipython3",
   "version": "3.10.1"
  }
 },
 "nbformat": 4,
 "nbformat_minor": 2
}
