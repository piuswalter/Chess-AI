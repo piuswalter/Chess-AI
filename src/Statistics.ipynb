{
 "cells": [
  {
   "cell_type": "code",
   "execution_count": null,
   "metadata": {},
   "outputs": [],
   "source": [
    "%%html\n",
    "<style>\n",
    ".container {\n",
    "  width: 100%;\n",
    "}\n",
    "</style>"
   ]
  },
  {
   "cell_type": "code",
   "execution_count": null,
   "metadata": {},
   "outputs": [],
   "source": [
    "# Activate mypy type checking\n",
    "%load_ext nb_mypy"
   ]
  },
  {
   "cell_type": "code",
   "execution_count": null,
   "metadata": {},
   "outputs": [],
   "source": [
    "import nbimporter # Activate import functionality for notebooks"
   ]
  },
  {
   "cell_type": "markdown",
   "metadata": {},
   "source": [
    "# Chess-AI Statistik\n",
    "\n",
    "Dieses Notebook lässt verschiedene AI-Versionen gegeneinander spielen und fasst die Ergebnisse in einer CSV-Datei zusammen.\n",
    "\n",
    "Alle Optionen für die Ausführung können über die Umgebungsvariablen gesetzt werden. Das Notebook kann auch unbeaufsichtigt über [GitHub Actions](https://github.com/piuswalter/Chess-AI/actions/workflows/statistics.yml) ausgeführt werden. Der Workflow kann dort auf jedem existierenden Branch manuell ausgeführt werden. Der gewählte Branch entscheidet über den verwendeten Code. Ein Durchlauf mit den Standardoptionen (`development`-Branch) dauert derzeit etwa 1 Stunde. Die maximal erlaubte Laufzeit mit GitHub Actions beträgt 6 Stunden.\n",
    "\n",
    "Verfügbare Versionen:\n",
    "- `AI-Base-Class.ipynb`: Die abstrakte Basisklasse für alle AI-Versionen, welche das Eröffnungs- und Endspiel implementiert.\n",
    "- `Exercise01AI`: Die erste Version der AI, welche im Mittelspiel zufällige Züge auswählt.\n",
    "- `Exercise02AI`: Die zweite Version der AI, welche im Mittelspiel Züge mithilfe des Minimax-Algorithmus und dem einfachen Materialwert auswählt.\n",
    "- `Exercise03AI`: Die dritte Version der AI, welche im Mittelspiel Züge mithilfe des Minimax-Algorithmus und der `simple evaluation function` auswählt.\n",
    "- `Exercise04AI`: Die vierte Version der AI, welche im Vergleich zur dritten Version mithilfe von Memoisierung beschleunigt wurde.\n",
    "- `StockfishPlayer`: Ein Spieler, welcher durch die Stockfish Engine gesteuert wird."
   ]
  },
  {
   "cell_type": "markdown",
   "metadata": {},
   "source": [
    "## Optionen manuell anpassen\n",
    "\n",
    "Die folgende Zelle kann dazu genutzt werden um die Optionen manuell anzupassen."
   ]
  },
  {
   "cell_type": "code",
   "execution_count": null,
   "metadata": {},
   "outputs": [],
   "source": [
    "# Use the following lines to customize a manual run\n",
    "import os\n",
    "#os.environ[\"players\"] = 'Exercise01AI, Exercise02AI, Exercise03AI, Exercise04AI, StockfishPlayer'\n",
    "#os.environ[\"opponents\"] = 'Exercise01AI, Exercise02AI, Exercise03AI, Exercise04AI, StockfishPlayer'\n",
    "#os.environ[\"seed\"] = \"42\"\n",
    "#os.environ[\"repetitions\"] = \"2\"\n",
    "#os.environ[\"depth\"] = \"2\"\n",
    "# Use 'del os.environ[\"seed\"]' to unset env vars in python"
   ]
  },
  {
   "cell_type": "code",
   "execution_count": null,
   "metadata": {},
   "outputs": [],
   "source": [
    "# Import all versions\n",
    "from AIBaseClass import ChessAI\n",
    "from Exercise01AI import Exercise01AI\n",
    "from Exercise02AI import Exercise02AI\n",
    "from Exercise03AI import Exercise03AI\n",
    "from Exercise04AI import Exercise04AI\n",
    "from StockfishPlayer import StockfishPlayer\n",
    "from Main import run_games\n",
    "\n",
    "available_versions = [Exercise01AI, Exercise02AI, Exercise03AI, Exercise04AI, StockfishPlayer]"
   ]
  },
  {
   "cell_type": "markdown",
   "metadata": {},
   "source": [
    "Die `cleanup_game_folder`-Funktion löscht alle Dateien im `games`-Ordner. Dies verhindert, dass bereits existierende Dateien ungewollt in den Ergebnissen enthalten sind."
   ]
  },
  {
   "cell_type": "code",
   "execution_count": null,
   "metadata": {},
   "outputs": [],
   "source": [
    "import os\n",
    "\n",
    "def cleanup_game_folder() -> None:\n",
    "    \"\"\"Deletes all files inside the games folder.\"\"\"\n",
    "    for filename in os.listdir(\"../games\"):\n",
    "        os.remove(f\"../games/{filename}\")"
   ]
  },
  {
   "cell_type": "markdown",
   "metadata": {},
   "source": [
    "Die `get_players`-Funktion nimmt als Argument einen String mit Klassennamen (durch Komma getrennt)\n",
    "und gibt eine Liste mit den identifizierten Chess-AI-Versionen zurück."
   ]
  },
  {
   "cell_type": "code",
   "execution_count": null,
   "metadata": {},
   "outputs": [],
   "source": [
    "def get_players(players_string: str) -> list[ChessAI]:\n",
    "    \"\"\"Creates a player list from a (comma separated) players string.\"\"\"\n",
    "    players_str_list = [player.strip() for player in players_string.split(\",\")]\n",
    "    return [player for player in available_versions if player.__name__ in players_str_list]"
   ]
  },
  {
   "cell_type": "markdown",
   "metadata": {},
   "source": [
    "Die `build_player_pairs`-Funktion ermittelt die angegebenen Spieler und Gegner und bildet eine Liste von Spielerpaaren (kartesisches Produkt)."
   ]
  },
  {
   "cell_type": "code",
   "execution_count": null,
   "metadata": {},
   "outputs": [],
   "source": [
    "def build_player_pairs() -> list[ChessAI]:\n",
    "    \"\"\"Builds the sorted cartesian product of players and opponents.\"\"\"\n",
    "    # Default (all ai versions)\n",
    "    all_players_str = \", \".join([player.__name__ for player in available_versions])\n",
    "    # Get versions from environment\n",
    "    players = get_players(os.environ.get(\"players\", all_players_str))\n",
    "    opponents = get_players(os.environ.get(\"opponents\", all_players_str))\n",
    "    # Build and return pairs\n",
    "    player_pairs = {(white, black) for white in players for black in opponents}\n",
    "    return sorted(player_pairs, key=lambda x: (x[0].__name__, x[1].__name__))"
   ]
  },
  {
   "cell_type": "markdown",
   "metadata": {},
   "source": [
    "Die `run`-Funktion nimmt eine Liste von Spielerpaaren und führt für jedes Paar die gewünschte Anzahl an Spielen mit dem gewünschten Seed durch."
   ]
  },
  {
   "cell_type": "code",
   "execution_count": null,
   "metadata": {},
   "outputs": [],
   "source": [
    "def run(player_pairs: list[ChessAI]):\n",
    "    \"\"\"Runs one or more games with each player pair.\"\"\"\n",
    "    seed = int(os.environ.get(\"seed\", \"3\"))\n",
    "    repetitions = int(os.environ.get(\"repetitions\", \"1\"))\n",
    "    # Let all player pairs play\n",
    "    for i, players in enumerate(player_pairs):\n",
    "        print(f\"Playing game {i+1} of {len(player_pairs)}\")\n",
    "        run_games(players[0](\"White\"), players[1](\"Black\"), repetitions, seed)"
   ]
  },
  {
   "cell_type": "markdown",
   "metadata": {},
   "source": [
    "Die `collect_results`-Funktion importiert die Ergebnisse aus allen `.pgn`-Dateien im `games`-Ordner und bereitet sie als Dictionary auf."
   ]
  },
  {
   "cell_type": "code",
   "execution_count": null,
   "metadata": {},
   "outputs": [],
   "source": [
    "# Collect results from .pgn files\n",
    "import chess.pgn\n",
    "\n",
    "def collect_results() -> dict[str, list]:\n",
    "    \"\"\"Scans all .pgn files inside the games folder and collects the game results as dictionary.\"\"\"\n",
    "    # All results are presented from the view of the white color\n",
    "    results_map_white = {\"1-0\": \"Won\", \"0-1\": \"Lost\", \"1/2-1/2\": \"Remis\", \"*\": \"Remis/Unknown\"}\n",
    "    games_map: dict[str, list] = {}\n",
    "\n",
    "    # Iterate over all .pgn files\n",
    "    for filename in os.listdir(\"../games\"):\n",
    "        if not filename.endswith(\".pgn\"):\n",
    "            continue\n",
    "        with open(os.path.join(\"..\", \"games\", filename)) as pgn:\n",
    "            pgn_game = chess.pgn.read_game(pgn)\n",
    "        if not pgn_game:\n",
    "            continue\n",
    "\n",
    "        # Collect results from white perspective\n",
    "        white_view = {\n",
    "            \"round\": pgn_game.headers[\"Round\"],\n",
    "            \"opponent\": pgn_game.headers[\"Black\"],\n",
    "            \"result\": results_map_white[pgn_game.headers[\"Result\"]],\n",
    "            \"outcome\": pgn_game.headers[\"Outcome\"],\n",
    "            \"duration\": pgn_game.headers[\"Duration\"],\n",
    "            \"seed\": pgn_game.headers[\"Seed\"],\n",
    "            \"total cache hits\": sum([int(num) for num in pgn_game.headers[\"Cache hits\"].split(\" - \")]),\n",
    "            \"state_changes\": {node.comment: node.ply() for node in pgn_game.mainline() if node.comment},\n",
    "            \"total_moves\": pgn_game.end().ply(),\n",
    "            \"filename\": filename,\n",
    "        }\n",
    "\n",
    "        # Save results (uses player name as key)\n",
    "        entry = games_map.get(pgn_game.headers[\"White\"], [])\n",
    "        entry.append(white_view)\n",
    "        games_map[pgn_game.headers[\"White\"]] = entry\n",
    "    return games_map"
   ]
  },
  {
   "cell_type": "markdown",
   "metadata": {},
   "source": [
    "Die `export_to_csv`-Funktion exportiert eine gegebene Sammlung (Dictionary) von Spielergebnissen als CSV-Datei."
   ]
  },
  {
   "cell_type": "code",
   "execution_count": null,
   "metadata": {},
   "outputs": [],
   "source": [
    "import csv\n",
    "from datetime import datetime\n",
    "\n",
    "def export_to_csv(games_map: dict[str, list]) -> None:\n",
    "    \"\"\"Exports the given results dictionary to csv.\"\"\"\n",
    "    filename = f'statistics_{datetime.now().strftime(\"%Y-%m-%d_%H-%M-%S-%f\")}.csv'\n",
    "    with open(os.path.join(\"..\", \"games\", filename), 'w', newline='') as csv_file:\n",
    "        csv_writer = csv.writer(csv_file, delimiter=';', quotechar='\"', quoting=csv.QUOTE_MINIMAL)\n",
    "        # Write headlines\n",
    "        csv_writer.writerow([\n",
    "            \"Player\", \n",
    "            \"Opponent\", \n",
    "            \"Result\",\n",
    "            \"Outcome\",\n",
    "            \"Moves\", \n",
    "            \"Duration\", \n",
    "            \"Cache hits\",\n",
    "            \"Moves to middle game\", \n",
    "            \"Moves to end game\", \n",
    "            \"Round\", \n",
    "            \"Seed\",\n",
    "            \"File\",\n",
    "        ])\n",
    "        # Write results\n",
    "        for player in sorted(games_map):\n",
    "            games = sorted(games_map[player], key=lambda game: game[\"filename\"])\n",
    "            for game in games:\n",
    "                csv_writer.writerow([\n",
    "                    player, \n",
    "                    game[\"opponent\"], \n",
    "                    game[\"result\"], \n",
    "                    game[\"outcome\"].split(\".\")[1],\n",
    "                    game[\"total_moves\"], \n",
    "                    game[\"duration\"].split(\".\")[0], \n",
    "                    game[\"total cache hits\"],\n",
    "                    game[\"state_changes\"].get(\"State.MIDDLE_GAME\", \"-\"), \n",
    "                    game[\"state_changes\"].get(\"State.END_GAME\", \"-\"), \n",
    "                    game[\"round\"].replace(\"/\", \" of \"),\n",
    "                    game[\"seed\"],\n",
    "                    game[\"filename\"],\n",
    "                ])\n",
    "            # Newline between different players (white)\n",
    "            csv_writer.writerow([])"
   ]
  },
  {
   "cell_type": "markdown",
   "metadata": {},
   "source": [
    "Die folgende Zelle bereinigt den `games`-Ordner, erstellt die Spielerpaare, startet die Spiele, sammelt die Ergebnisse und exportiert sie als CSV-Datei."
   ]
  },
  {
   "cell_type": "code",
   "execution_count": null,
   "metadata": {},
   "outputs": [],
   "source": [
    "%%time\n",
    "# Run and export games\n",
    "cleanup_game_folder()\n",
    "player_pairs = build_player_pairs()\n",
    "run(player_pairs)\n",
    "results = collect_results()\n",
    "export_to_csv(results)"
   ]
  }
 ],
 "metadata": {
  "interpreter": {
   "hash": "a707b6ce8c685eb936424fcc3009d4b4b7a52543c4db09380a3fc49186ceb509"
  },
  "kernelspec": {
   "display_name": "Python 3 (ipykernel)",
   "language": "python",
   "name": "python3"
  },
  "language_info": {
   "codemirror_mode": {
    "name": "ipython",
    "version": 3
   },
   "file_extension": ".py",
   "mimetype": "text/x-python",
   "name": "python",
   "nbconvert_exporter": "python",
   "pygments_lexer": "ipython3",
   "version": "3.10.1"
  }
 },
 "nbformat": 4,
 "nbformat_minor": 2
}
