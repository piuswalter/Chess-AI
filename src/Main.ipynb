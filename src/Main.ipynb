{
 "cells": [
  {
   "cell_type": "code",
   "execution_count": null,
   "metadata": {},
   "outputs": [],
   "source": [
    "%%html\n",
    "<style>\n",
    ".container {\n",
    "  width: 100%;\n",
    "}\n",
    "</style>"
   ]
  },
  {
   "cell_type": "code",
   "execution_count": null,
   "metadata": {},
   "outputs": [],
   "source": [
    "%load_ext nb_mypy"
   ]
  },
  {
   "cell_type": "code",
   "execution_count": null,
   "metadata": {},
   "outputs": [],
   "source": [
    "import nbimporter"
   ]
  },
  {
   "cell_type": "markdown",
   "metadata": {},
   "source": [
    "# Vorbereitung\n",
    "Alle Notebooks wurden unter Python mit der Version `3.10.1` erstellt. Im Folgenden können die Version und die Pakete überprüft und ggf. installiert werden.\n"
   ]
  },
  {
   "cell_type": "code",
   "execution_count": null,
   "metadata": {},
   "outputs": [],
   "source": [
    "from platform import python_version\n",
    "print(\"Required Python version:\", \"3.10.1\")\n",
    "print(\"Your Python version:\\t\", python_version())\n",
    "\n",
    "# Setup commands\n",
    "# conda create -n chess python=3.10.1 -c conda-forge\n",
    "# conda activate chess\n",
    "# pip install -r src/requirements.txt\n",
    "# conda install jupyter -c conda-forge\n",
    "# jupyter notebook"
   ]
  },
  {
   "cell_type": "markdown",
   "metadata": {},
   "source": [
    "# Chess-AI\n",
    "\n",
    "Dieses Notebook führt alle einzelnen Dateien und Klassen zusammen und implementiert den Spielablauf einer Partie.\n",
    "Folgende Dateien werden in dieser Reihenfolge importiert:\n",
    "- `AI-Base-Class.ipynb`: Die abstrakte Basisklasse für alle AI-Versionen, welche das Eröffnungs- und Endspiel implementiert.\n",
    "- `Exercise01AI`: Die erste Version der AI, welche im Mittelspiel zufällige Züge auswählt.\n",
    "\n",
    "Anschließend wird das Spiel durchgeführt, mit der Möglichkeit die Partie danach auf der Festplatte zu speichern."
   ]
  },
  {
   "cell_type": "code",
   "execution_count": null,
   "metadata": {},
   "outputs": [],
   "source": [
    "from AIBaseClass import ChessAI, State\n",
    "from Exercise01AI import Exercise01AI\n",
    "from HumanPlayer import HumanPlayer"
   ]
  },
  {
   "cell_type": "code",
   "execution_count": null,
   "metadata": {},
   "outputs": [],
   "source": [
    "# Set a seed, so randomization is reproducable\n",
    "ChessAI.random.seed(3)"
   ]
  },
  {
   "cell_type": "markdown",
   "metadata": {},
   "source": [
    "## Spielablauf\n",
    "Hier wird ein neues Spiel initialisiert und ein fester Seed definiert. Der statische Seed dient dazu, sämtliche Zufallsfunktionen reproduzierbar zu machen.\n",
    "\n"
   ]
  },
  {
   "cell_type": "code",
   "execution_count": null,
   "metadata": {
    "scrolled": false
   },
   "outputs": [],
   "source": [
    "import chess\n",
    "from IPython.display import clear_output, display\n",
    "from time import sleep\n",
    "\n",
    "# Create a new board\n",
    "board = chess.Board()\n",
    "\n",
    "# Create Players\n",
    "player1 = Exercise01AI(\"Player 1\") # White\n",
    "player2 = Exercise01AI(\"Player 2\") # Black\n",
    "players = [player1, player2]\n",
    "\n",
    "# All players start with opening game\n",
    "previous_state = State.OPENING_GAME\n",
    "\n",
    "# Show board before first move (for human player)\n",
    "display(board)\n",
    "\n",
    "# Play game\n",
    "while True:\n",
    "    for player in players:\n",
    "        # Make next move\n",
    "        player.make_turn(board)\n",
    "\n",
    "        # Print board\n",
    "        clear_output(wait=True)\n",
    "        display(board)\n",
    "        print(f'Actual state: {player.state}')\n",
    "        \n",
    "        # Watch game progress slowly\n",
    "        # sleep(0.1)\n",
    "\n",
    "        # Exit if game has finished\n",
    "        if player.state == State.FINISHED:\n",
    "            break\n",
    "    \n",
    "    # Log state transitions\n",
    "    if previous_state != player.state:\n",
    "        print(f\"\\n {player.name}: Transition from {previous_state} to {player.state} \\n\")\n",
    "\n",
    "        # Exit if game has finished\n",
    "        if player.state == State.FINISHED:\n",
    "            print(f\"{player.name} lost the match!\")\n",
    "            break\n",
    "\n",
    "        # Update state\n",
    "        previous_state = player.state\n",
    "\n",
    "        # Pause at transition\n",
    "        # input(\"Press enter to continue\")\n"
   ]
  },
  {
   "cell_type": "markdown",
   "metadata": {},
   "source": [
    "## Speichern der Partie\n",
    "Optional kann die Partie hier im PGN-Format gespeichert werden."
   ]
  },
  {
   "cell_type": "code",
   "execution_count": null,
   "metadata": {},
   "outputs": [],
   "source": [
    "from datetime import datetime\n",
    "import chess.pgn\n",
    "\n",
    "# Saves last game to 'games/YYYY-mm-dd_HH-MM-SS.pgn' (based on current time)\n",
    "\n",
    "game = chess.pgn.Game.from_board(board)\n",
    "game.headers[\"Event\"] = \"Chess-AI game\"\n",
    "game.headers[\"Date\"] = datetime.now().strftime(\"%d.%m.%Y\")\n",
    "filename = datetime.now().strftime(\"%Y-%m-%d_%H-%M-%S\")\n",
    "with open(f\"../games/{filename}.pgn\", 'w') as gamefile:\n",
    "    gamefile.write(str(game))\n"
   ]
  }
 ],
 "metadata": {
  "interpreter": {
   "hash": "a707b6ce8c685eb936424fcc3009d4b4b7a52543c4db09380a3fc49186ceb509"
  },
  "kernelspec": {
   "display_name": "Python 3 (ipykernel)",
   "language": "python",
   "name": "python3"
  },
  "language_info": {
   "codemirror_mode": {
    "name": "ipython",
    "version": 3
   },
   "file_extension": ".py",
   "mimetype": "text/x-python",
   "name": "python",
   "nbconvert_exporter": "python",
   "pygments_lexer": "ipython3",
   "version": "3.10.1"
  }
 },
 "nbformat": 4,
 "nbformat_minor": 2
}
