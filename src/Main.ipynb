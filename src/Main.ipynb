{
 "cells": [
  {
   "cell_type": "code",
   "execution_count": null,
   "metadata": {},
   "outputs": [],
   "source": [
    "%%html\n",
    "<style>\n",
    ".container {\n",
    "  width: 100%;\n",
    "}\n",
    "</style>"
   ]
  },
  {
   "cell_type": "code",
   "execution_count": null,
   "metadata": {},
   "outputs": [],
   "source": [
    "# Activate mypy type checking and set exception reporting mode\n",
    "%load_ext nb_mypy\n",
    "%xmode Minimal"
   ]
  },
  {
   "cell_type": "code",
   "execution_count": null,
   "metadata": {},
   "outputs": [],
   "source": [
    "import nbimporter # Activate import functionality for notebooks"
   ]
  },
  {
   "cell_type": "markdown",
   "metadata": {},
   "source": [
    "# Implementierung eines Spieles\n",
    "Dieses Notebook führt alle einzelnen Dateien und Klassen zusammen und implementiert den Spielablauf einer Partie. Die verwendeten AI-Versionen können dabei frei gewählt werden. Ein menschlicher Spieler ist ebenfalls möglich."
   ]
  },
  {
   "cell_type": "markdown",
   "metadata": {},
   "source": [
    "## Vorbereitung\n",
    "Alle Notebooks wurden unter Python mit der Version `3.10.2` erstellt. Im Folgenden kann die Version überprüft werden\n"
   ]
  },
  {
   "cell_type": "code",
   "execution_count": null,
   "metadata": {},
   "outputs": [],
   "source": [
    "from platform import python_version\n",
    "print(\"Required Python version:\", \"3.10.2\")\n",
    "print(\"Your Python version:\\t\", python_version())\n",
    "\n",
    "# Setup commands\n",
    "# conda create -n chess python=3.10.2 -c conda-forge\n",
    "# conda activate chess\n",
    "# pip install -r src/requirements.txt\n",
    "# conda install jupyter -c conda-forge\n",
    "# jupyter notebook"
   ]
  },
  {
   "cell_type": "markdown",
   "metadata": {},
   "source": [
    "# Import\n",
    "\n",
    "Folgende Dateien werden in dieser Reihenfolge importiert:\n",
    "- `AI-Base-Class.ipynb`: Die abstrakte Basisklasse für alle AI-Versionen, welche das Eröffnungs- und Endspiel implementiert.\n",
    "- `Exercise01AI`: Die erste Version der AI, welche im Mittelspiel zufällige Züge auswählt.\n",
    "- `Exercise02AI`: Die zweite Version der AI, welche im Mittelspiel Züge mithilfe des Minimax-Algorithmus und dem einfachen Materialwert auswählt.\n",
    "- `Exercise03AI`: Die dritte Version der AI, welche im Mittelspiel Züge mithilfe des Minimax-Algorithmus und der `Simplified Evaluation Function` auswählt.\n",
    "- `Exercise04AI`: Die vierte Version der AI, welche im Vergleich zur dritten Version mithilfe von Memoisierung beschleunigt wurde.\n",
    "- `Exercise05AI`: HIER FEHLT EINE BESCHREIBUNG\n",
    "- `Exercise06AI`: HIER FEHLT EINE BESCHREIBUNG\n",
    "- `Exercise07AI`: HIER FEHLT EINE BESCHREIBUNG\n",
    "- `HumanPlayer`: Ein Spieler welcher durch einen Menschen gesteuert werden kann.\n",
    "- `StockfishPlayer`: Ein Spieler, welcher durch die Stockfish Engine gesteuert wird.\n",
    "\n",
    "Anschließend wird das Spiel durchgeführt und auf der Festplatte als `.pgn`-Datei gespeichert."
   ]
  },
  {
   "cell_type": "code",
   "execution_count": null,
   "metadata": {},
   "outputs": [],
   "source": [
    "from AIBaseClass import ChessAI, State\n",
    "from Exercise01AI import Exercise01AI\n",
    "from Exercise02AI import Exercise02AI\n",
    "from Exercise03AI import Exercise03AI\n",
    "from Exercise04AI import Exercise04AI\n",
    "from Exercise05AI import Exercise05AI\n",
    "from Exercise06AI import Exercise06AI\n",
    "from Exercise07AI import Exercise07AI\n",
    "from Exercise07LiteAI import Exercise07LiteAI\n",
    "from HumanPlayer import HumanPlayer\n",
    "from StockfishPlayer import StockfishPlayer"
   ]
  },
  {
   "cell_type": "markdown",
   "metadata": {},
   "source": [
    "## Speichern der Partie\n",
    "Diese Funktion speichert eine gegebene Partie (repräsentiert durch ein gespieltes Board) auf der Festplatte ab. Hierbei werden sämtliche Züge, die Spielernamen und einige weitere Metriken gespeichert."
   ]
  },
  {
   "cell_type": "code",
   "execution_count": null,
   "metadata": {},
   "outputs": [],
   "source": [
    "def parse_player_name(player: ChessAI):\n",
    "    \"\"\"Parse the type of the current player and its name into a single string\"\"\"\n",
    "    return f\"{type(player).__name__} - {player.name}\" "
   ]
  },
  {
   "cell_type": "code",
   "execution_count": null,
   "metadata": {},
   "outputs": [],
   "source": [
    "from datetime import datetime\n",
    "import chess_custom as chess\n",
    "import re\n",
    "import os\n",
    "from typing import Dict\n",
    "\n",
    "def save_game(board: chess.Board, transitions: Dict[int, State], player1: ChessAI, player2: ChessAI, rep: str, duration: float, seed: int) -> None:\n",
    "    \"\"\"Saves last game to 'games/YYYY-mm-dd_HH-MM-SS.pgn' (based on current time)\"\"\"\n",
    "    game = chess.pgn.Game.from_board(board)\n",
    "    outcome = board.outcome(claim_draw=True)\n",
    "\n",
    "    try:\n",
    "        username = os.getlogin()\n",
    "    except:\n",
    "        username = \"undefined\"\n",
    "    \n",
    "    # set pgn headers\n",
    "    game.headers[\"Event\"] = \"Chess-AI game\"\n",
    "    game.headers[\"Site\"] = username\n",
    "    game.headers[\"Date\"] = datetime.now().strftime(\"%d.%m.%Y\")\n",
    "    game.headers[\"Round\"] = rep\n",
    "    game.headers[\"White\"] = parse_player_name(player1)\n",
    "    game.headers[\"Black\"] = parse_player_name(player2)\n",
    "    game.headers[\"Duration\"] = str(duration)\n",
    "    game.headers[\"Seed\"] = str(seed)\n",
    "    game.headers[\"Outcome\"] = str(outcome.termination) if outcome else \"Unknown\"\n",
    "    game.headers[\"CacheHits\"] = str(getattr(player1, 'cache_hits', 0)) + \"-\" + str(getattr(player2, 'cache_hits', 0))\n",
    "    game.headers[\"Depth\"] = str(getattr(player1, 'DEPTH', \"x\")) + \"-\" + str(getattr(player2, 'DEPTH', \"x\"))\n",
    "       \n",
    "    # add transitions as comments to pgn file\n",
    "    move_count = 0\n",
    "    for node in game.mainline():\n",
    "        move_count += 1\n",
    "        state = transitions.get(move_count)\n",
    "        if state:\n",
    "            node.comment = str(state)\n",
    "    \n",
    "    # write game to pgn file\n",
    "    filename = datetime.now().strftime(\"%Y-%m-%d_%H-%M-%S-%f\")\n",
    "    with open(f\"../games/{filename}.pgn\", 'w') as gamefile:\n",
    "        # add a linebreak after each turn\n",
    "        gamefile.write(re.sub(r\" ([1-9][0-9]*)\\.\", r\"\\n\\1.\", str(game)))\n",
    "        # add a newline to the end of the file\n",
    "        gamefile.write(\"\\n\")"
   ]
  },
  {
   "cell_type": "markdown",
   "metadata": {},
   "source": [
    "## Spielablauf (einzelnes Spiel)\n",
    "Hier wird ein einzelnes neues Spiel initialisiert und anschließend gestartet. Die Funktion führt dabei nacheinander die Züge für die einzelnen Spieler aus und überwacht den aktuellen Spielzustand (State). Sobald ein Spieler den Endzustand erreicht hat wird das Spiel beendet. Zusätzlich werden aktuelle Statistiken ausgegeben.\n"
   ]
  },
  {
   "cell_type": "code",
   "execution_count": null,
   "metadata": {
    "scrolled": false
   },
   "outputs": [],
   "source": [
    "from IPython.display import clear_output, display\n",
    "import time\n",
    "from typing import Tuple\n",
    "\n",
    "def run_single_game(player1: ChessAI, player2: ChessAI, start_time: float) -> Tuple[chess.Board, Dict[int, State]]:\n",
    "    \"\"\"Start a new chess game\"\"\"\n",
    "    is_human_run = not bool(os.environ.get(\"CI\", False))\n",
    "    # Create a new board\n",
    "    board = chess.Board()\n",
    "    players = [player1, player2]\n",
    "\n",
    "    # All players start with opening game\n",
    "    previous_state = {player.name: State.OPENING_GAME for player in players}\n",
    "    transitions = { 1: State.OPENING_GAME, 2: State.OPENING_GAME }\n",
    "    move_count = 0\n",
    "\n",
    "    # Show board before first move (for human player)\n",
    "    if is_human_run:\n",
    "        display(board)\n",
    "    \n",
    "    # Statistics variable\n",
    "    statistics = \"\"\n",
    "\n",
    "    # Play game\n",
    "    while True:\n",
    "        for player in players:\n",
    "            # Make next move\n",
    "            player.make_turn(board)\n",
    "            move_count += 1\n",
    "            \n",
    "            # Print board\n",
    "            if is_human_run:\n",
    "                clear_output(wait=True)\n",
    "                display(board)\n",
    "                print(f'Current state ({player.name}): {player.state}\\n')\n",
    "                print(statistics, end='')\n",
    "            else:\n",
    "                print(f\"{type(player).__name__} ({player.state}) ==> '{board.fen()}'\")\n",
    "\n",
    "            # Watch game progress slowly\n",
    "            # time.sleep(0.1)\n",
    "\n",
    "            # Log state transitions\n",
    "            if previous_state[player.name] != player.state:\n",
    "                # Update state\n",
    "                previous_state[player.name] = player.state\n",
    "                \n",
    "                # Pause at transition\n",
    "                # input(\"Press enter to continue\")\n",
    "\n",
    "                # Exit if game has finished\n",
    "                if player.state == State.FINISHED:\n",
    "                    outcome = board.outcome(claim_draw=True)\n",
    "                    assert outcome, f'Outcome is None in State.FINISHED and FEN {board.fen()}!'\n",
    "                    if outcome.winner == chess.WHITE:\n",
    "                        print(f\"\\nWhite won the match due to {str(outcome.termination)} with result {outcome.result()}!\")\n",
    "                    elif outcome.winner == chess.BLACK:\n",
    "                        print(f\"\\nBlack won the match due to {str(outcome.termination)} with result {outcome.result()}!\")\n",
    "                    else:\n",
    "                        print(f\"\\nThe game is a remis due to {str(outcome.termination)} with result {outcome.result()}!\")\n",
    "                    # State.FINISHED is only detected AFTER the finishing move\n",
    "                    transitions[move_count - 1] = player.state\n",
    "                    return board, transitions\n",
    "                else:\n",
    "                    transitions[move_count] = player.state"
   ]
  },
  {
   "cell_type": "markdown",
   "metadata": {},
   "source": [
    "## Spielstart (mehrere Spiele)\n",
    "Hier wird initial der Seed gesetzt und anschließend die gewünschte Anzahl an Spielen ausgeführt. Pro Spiel wird die Zeit gemessen. Alle Spiele werden anschließend abgespeichert."
   ]
  },
  {
   "cell_type": "code",
   "execution_count": null,
   "metadata": {},
   "outputs": [],
   "source": [
    "def run_games(player1: ChessAI, player2: ChessAI, repetitions: int, seed: int):\n",
    "    seed = int(os.environ.get(\"CHESS_AI_SEED\", seed))\n",
    "    ChessAI.random.seed(seed)\n",
    "    repetitions = int(os.environ.get(\"CHESS_AI_REPETITIONS\", repetitions))\n",
    "\n",
    "    for rep in range(repetitions):\n",
    "        print(f\"Running game {rep+1} of {repetitions} with seed {seed}\")\n",
    "        print(f\"Player {type(player1).__name__} (white) vs {type(player2).__name__} (black)\")\n",
    "        t_start = time.time()\n",
    "        board, transitions = run_single_game(player1, player2, t_start)\n",
    "        t_end = time.time()\n",
    "        rep_str = f\"{rep + 1}/{repetitions}\"\n",
    "        save_game(board, transitions, player1, player2, rep_str, t_end - t_start, seed)\n",
    "        player1.reset()\n",
    "        player2.reset()\n",
    "\n",
    "    print(f\"Used seed {seed} with {repetitions} repetitions\")"
   ]
  },
  {
   "cell_type": "markdown",
   "metadata": {},
   "source": [
    "## Spielstart\n",
    "Hier werden die Spieler definiert und die gewünschte Anzahl an Spielen gestartet."
   ]
  },
  {
   "cell_type": "code",
   "execution_count": null,
   "metadata": {},
   "outputs": [],
   "source": [
    "%%time\n",
    "# Create Players\n",
    "player1 = Exercise07LiteAI(player_name=\"White\")\n",
    "player2 = Exercise07AI(player_name=\"Black\")\n",
    "\n",
    "run_games(player1, player2, repetitions=1, seed=13)"
   ]
  }
 ],
 "metadata": {
  "interpreter": {
   "hash": "a707b6ce8c685eb936424fcc3009d4b4b7a52543c4db09380a3fc49186ceb509"
  },
  "kernelspec": {
   "display_name": "Python 3 (ipykernel)",
   "language": "python",
   "name": "python3"
  },
  "language_info": {
   "codemirror_mode": {
    "name": "ipython",
    "version": 3
   },
   "file_extension": ".py",
   "mimetype": "text/x-python",
   "name": "python",
   "nbconvert_exporter": "python",
   "pygments_lexer": "ipython3",
   "version": "3.10.2"
  }
 },
 "nbformat": 4,
 "nbformat_minor": 2
}
