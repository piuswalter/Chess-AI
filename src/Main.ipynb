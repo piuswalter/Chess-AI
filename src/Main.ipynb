{
 "cells": [
  {
   "cell_type": "code",
   "execution_count": null,
   "metadata": {},
   "outputs": [],
   "source": [
    "%%html\n",
    "<style>\n",
    ".container {\n",
    "  width: 100%;\n",
    "}\n",
    "</style>"
   ]
  },
  {
   "cell_type": "code",
   "execution_count": null,
   "metadata": {},
   "outputs": [],
   "source": [
    "%load_ext nb_mypy"
   ]
  },
  {
   "cell_type": "code",
   "execution_count": null,
   "metadata": {},
   "outputs": [],
   "source": [
    "import nbimporter"
   ]
  },
  {
   "cell_type": "markdown",
   "metadata": {},
   "source": [
    "# Vorbereitung\n",
    "Alle Notebooks wurden unter Python mit der Version `3.10.1` erstellt. Im Folgenden können die Version und die Pakete überprüft und ggf. installiert werden.\n"
   ]
  },
  {
   "cell_type": "code",
   "execution_count": null,
   "metadata": {},
   "outputs": [],
   "source": [
    "from platform import python_version\n",
    "print(\"Required Python version:\", \"3.10.1\")\n",
    "print(\"Your Python version:\\t\", python_version())\n",
    "\n",
    "# Setup commands\n",
    "# conda create -n chess python=3.10.1 -c conda-forge\n",
    "# conda activate chess\n",
    "# pip install -r src/requirements.txt\n",
    "# conda install jupyter -c conda-forge\n",
    "# jupyter notebook"
   ]
  },
  {
   "cell_type": "markdown",
   "metadata": {},
   "source": [
    "# Chess-AI\n",
    "\n",
    "Dieses Notebook führt alle einzelnen Dateien und Klassen zusammen und implementiert den Spielablauf einer Partie.\n",
    "Folgende Dateien werden in dieser Reihenfolge importiert:\n",
    "- `AI-Base-Class.ipynb`: Die abstrakte Basisklasse für alle AI-Versionen, welche das Eröffnungs- und Endspiel implementiert.\n",
    "- `Exercise01AI`: Die erste Version der AI, welche im Mittelspiel zufällige Züge auswählt.\n",
    "\n",
    "Anschließend wird das Spiel durchgeführt, mit der Möglichkeit die Partie danach auf der Festplatte zu speichern."
   ]
  },
  {
   "cell_type": "code",
   "execution_count": null,
   "metadata": {},
   "outputs": [],
   "source": [
    "from AIBaseClass import ChessAI, State\n",
    "from Exercise01AI import Exercise01AI\n",
    "from HumanPlayer import HumanPlayer\n",
    "from StockfishPlayer import StockfishPlayer"
   ]
  },
  {
   "cell_type": "code",
   "execution_count": null,
   "metadata": {},
   "outputs": [],
   "source": [
    "from typing import Dict\n",
    "TransitionMap = Dict[int, State]"
   ]
  },
  {
   "cell_type": "markdown",
   "metadata": {},
   "source": [
    "## Speichern der Partie\n",
    "Optional kann die Partie hier im PGN-Format gespeichert werden."
   ]
  },
  {
   "cell_type": "code",
   "execution_count": null,
   "metadata": {},
   "outputs": [],
   "source": [
    "def parse_player_name(player: ChessAI):\n",
    "    \"\"\"Parse the type of the current player and its name into a single string\"\"\"\n",
    "    return f\"{type(player).__name__} - {player.name}\" "
   ]
  },
  {
   "cell_type": "code",
   "execution_count": null,
   "metadata": {},
   "outputs": [],
   "source": [
    "from datetime import datetime\n",
    "import chess.pgn\n",
    "import re\n",
    "import os\n",
    "\n",
    "def save_game(board: chess.Board, transitions: TransitionMap, player1: ChessAI, player2: ChessAI, rep: str, duration: float, seed: int) -> None:\n",
    "    \"\"\"Saves last game to 'games/YYYY-mm-dd_HH-MM-SS.pgn' (based on current time)\"\"\"\n",
    "    game = chess.pgn.Game.from_board(board)\n",
    "\n",
    "    # set pgn headers\n",
    "    game.headers[\"Event\"] = \"Chess-AI game\"\n",
    "    game.headers[\"Site\"] = os.getlogin() # log the current user\n",
    "    game.headers[\"Date\"] = datetime.now().strftime(\"%d.%m.%Y\")\n",
    "    game.headers[\"Round\"] = rep\n",
    "    game.headers[\"White\"] = parse_player_name(player1)\n",
    "    game.headers[\"Black\"] = parse_player_name(player2)\n",
    "    game.headers[\"Duration\"] = str(duration)\n",
    "    game.headers[\"Seed\"] = str(seed)\n",
    "       \n",
    "    # add transitions as comments to pgn file\n",
    "    move_count = 0\n",
    "    for node in game.mainline():\n",
    "        move_count += 1\n",
    "        state = transitions.get(move_count)\n",
    "        if state:\n",
    "            node.comment = str(state)\n",
    "    \n",
    "    # write game to pgn file\n",
    "    filename = datetime.now().strftime(\"%Y-%m-%d_%H-%M-%S-%f\")\n",
    "    with open(f\"../games/{filename}.pgn\", 'w') as gamefile:\n",
    "        # add a linebreak after each turn\n",
    "        gamefile.write(re.sub(r\" ([1-9][0-9]*)\\.\", r\"\\n\\1.\", str(game)))\n",
    "        # add a newline to the end of the file\n",
    "        gamefile.write(\"\\n\")"
   ]
  },
  {
   "cell_type": "markdown",
   "metadata": {},
   "source": [
    "## Spielablauf\n",
    "Hier wird ein neues Spiel initialisiert und ein fester Seed definiert. Der statische Seed dient dazu, sämtliche Zufallsfunktionen reproduzierbar zu machen.\n",
    "\n"
   ]
  },
  {
   "cell_type": "code",
   "execution_count": null,
   "metadata": {
    "scrolled": false
   },
   "outputs": [],
   "source": [
    "import chess\n",
    "from IPython.display import clear_output, display\n",
    "from time import sleep\n",
    "from typing import Tuple\n",
    "\n",
    "def run_single_game(player1: ChessAI, player2: ChessAI) -> Tuple[chess.Board, TransitionMap]:\n",
    "    \"\"\"Start a new chess game\"\"\"\n",
    "    # Create a new board\n",
    "    board = chess.Board()\n",
    "    players = [player1, player2]\n",
    "\n",
    "    # All players start with opening game\n",
    "    previous_state = {player.name: State.OPENING_GAME for player in players}\n",
    "    transitions = { 1: State.OPENING_GAME, 2: State.OPENING_GAME }\n",
    "    move_count = 0\n",
    "\n",
    "    # Show board before first move (for human player)\n",
    "    display(board)\n",
    "    \n",
    "    # Statistics variable\n",
    "    statistics = \"\"\n",
    "\n",
    "    # Play game\n",
    "    while True:\n",
    "        for player in players:\n",
    "            # Make next move\n",
    "            player.make_turn(board)\n",
    "            move_count += 1\n",
    "            \n",
    "            # Print board\n",
    "            clear_output(wait=True)\n",
    "            display(board)\n",
    "            print(f'Current state ({player.name}): {player.state}\\n')\n",
    "            print(statistics, end='')\n",
    "\n",
    "            # Watch game progress slowly\n",
    "            # sleep(0.1)\n",
    "\n",
    "            # Log state transitions\n",
    "            if previous_state[player.name] != player.state:\n",
    "                line = f\"{player.name}: Transitioned from {previous_state[player.name]} to {player.state} after {1337} seconds\\n\"\n",
    "                statistics += line\n",
    "                print(line, end='')\n",
    "\n",
    "                # Update state\n",
    "                previous_state[player.name] = player.state\n",
    "                \n",
    "                # Pause at transition\n",
    "                # input(\"Press enter to continue\")\n",
    "\n",
    "            # Exit if game has finished\n",
    "            if player.state == State.FINISHED:\n",
    "                outcome = board.outcome()\n",
    "                assert outcome, 'Outcome is None in State.FINISHED!'\n",
    "                if outcome.winner == chess.WHITE:\n",
    "                    print(f\"\\nWhite won the match due to {str(outcome.termination)} with result {outcome.result()}!\")\n",
    "                elif outcome.winner == chess.BLACK:\n",
    "                    print(f\"\\nBlack won the match due to {str(outcome.termination)} with result {outcome.result()}!\")\n",
    "                else:\n",
    "                    print(f\"\\nThe game is a remis due to {str(outcome.termination)} with result {outcome.result()}!\")\n",
    "                # State.FINISHED is only detected AFTER the finishing move\n",
    "                transitions[move_count - 1] = player.state\n",
    "                return board, transitions\n",
    "            else:\n",
    "                transitions[move_count] = player.state"
   ]
  },
  {
   "cell_type": "code",
   "execution_count": null,
   "metadata": {},
   "outputs": [],
   "source": [
    "import time\n",
    "\n",
    "def run_games(player1: ChessAI, player2: ChessAI):\n",
    "    seed = int(os.environ.get(\"CHESS_AI_SEED\", 3))\n",
    "    ChessAI.random.seed(seed)\n",
    "    repetitions = int(os.environ.get(\"CHESS_AI_REPETITIONS\", 1))\n",
    "\n",
    "    for rep in range(repetitions):\n",
    "        t_start = time.time()\n",
    "        board, transitions = run_single_game(player1, player2)\n",
    "        t_end = time.time()\n",
    "        rep_str = f\"{rep + 1}/{repetitions}\"\n",
    "        save_game(board, transitions, player1, player2, rep_str, t_end - t_start, seed)\n",
    "\n",
    "    print(f\"Used seed {seed} with {repetitions} repetitions\")"
   ]
  },
  {
   "cell_type": "code",
   "execution_count": null,
   "metadata": {},
   "outputs": [],
   "source": [
    "# Create Players\n",
    "player1 = Exercise01AI(\"Player 1\") # White\n",
    "player2 = StockfishPlayer(\"Stockfish\") # Black\n",
    "run_games(player1, player2)"
   ]
  }
 ],
 "metadata": {
  "interpreter": {
   "hash": "a707b6ce8c685eb936424fcc3009d4b4b7a52543c4db09380a3fc49186ceb509"
  },
  "kernelspec": {
   "display_name": "Python 3 (ipykernel)",
   "language": "python",
   "name": "python3"
  },
  "language_info": {
   "codemirror_mode": {
    "name": "ipython",
    "version": 3
   },
   "file_extension": ".py",
   "mimetype": "text/x-python",
   "name": "python",
   "nbconvert_exporter": "python",
   "pygments_lexer": "ipython3",
   "version": "3.10.1"
  }
 },
 "nbformat": 4,
 "nbformat_minor": 2
}
