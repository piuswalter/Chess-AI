{
 "cells": [
  {
   "cell_type": "code",
   "execution_count": null,
   "metadata": {},
   "outputs": [],
   "source": [
    "%%html\n",
    "<style>\n",
    ".container {\n",
    "  width: 100%;\n",
    "}\n",
    "</style>"
   ]
  },
  {
   "cell_type": "code",
   "execution_count": null,
   "metadata": {},
   "outputs": [],
   "source": [
    "%load_ext nb_mypy"
   ]
  },
  {
   "cell_type": "code",
   "execution_count": null,
   "metadata": {},
   "outputs": [],
   "source": [
    "import nbimporter"
   ]
  },
  {
   "cell_type": "markdown",
   "metadata": {},
   "source": [
    "# Vorbereitung\n",
    "Alle Notebooks wurden unter Python mit der Version `3.10.1` erstellt. Im Folgenden können die Version und die Pakete überprüft und ggf. installiert werden.\n"
   ]
  },
  {
   "cell_type": "code",
   "execution_count": null,
   "metadata": {},
   "outputs": [],
   "source": [
    "from platform import python_version\n",
    "print(\"Required Python version:\", \"3.10.1\")\n",
    "print(\"Your Python version:\\t\", python_version())\n",
    "\n",
    "# Setup commands\n",
    "# conda create -n chess python=3.10.1 -c conda-forge\n",
    "# conda activate chess\n",
    "# pip install -r src/requirements.txt\n",
    "# conda install jupyter -c conda-forge\n",
    "# jupyter notebook"
   ]
  },
  {
   "cell_type": "markdown",
   "metadata": {},
   "source": [
    "# Chess-AI\n",
    "\n",
    "Dieses Notebook führt alle einzelnen Dateien und Klassen zusammen und implementiert den Spielablauf einer Partie.\n",
    "Folgende Dateien werden in dieser Reihenfolge importiert:\n",
    "- `AI-Base-Class.ipynb`: Die abstrakte Basisklasse für alle AI-Versionen, welche das Eröffnungs- und Endspiel implementiert.\n",
    "- `Exercise01AI`: Die erste Version der AI, welche im Mittelspiel zufällige Züge auswählt.\n",
    "\n",
    "Anschließend wird das Spiel durchgeführt, mit der Möglichkeit die Partie danach auf der Festplatte zu speichern."
   ]
  },
  {
   "cell_type": "code",
   "execution_count": null,
   "metadata": {},
   "outputs": [],
   "source": [
    "from AIBaseClass import ChessAI, State\n",
    "from Exercise01AI import Exercise01AI\n",
    "from HumanPlayer import HumanPlayer\n",
    "from StockfishPlayer import StockfishPlayer"
   ]
  },
  {
   "cell_type": "code",
   "execution_count": null,
   "metadata": {},
   "outputs": [],
   "source": [
    "import os\n",
    "\n",
    "def read_int_from_env(default: int, name: str) -> int:\n",
    "    \"\"\"Simple helper function to read an integer from the environment or provide a default value if no number can be parsed\"\"\"\n",
    "    value = os.environ.get(name)\n",
    "    if value and value.isnumeric():\n",
    "        return int(value)\n",
    "    else:\n",
    "        return default"
   ]
  },
  {
   "cell_type": "code",
   "execution_count": null,
   "metadata": {},
   "outputs": [],
   "source": [
    "def set_seed(seed: int = None) -> int:\n",
    "    \"\"\"Set a seed, so randomization is reproducable\"\"\"\n",
    "    if not seed:\n",
    "        seed = read_int_from_env(3, \"CHESS_AI_SEED\")\n",
    "        \n",
    "    ChessAI.random.seed(seed)\n",
    "    return seed"
   ]
  },
  {
   "cell_type": "markdown",
   "metadata": {},
   "source": [
    "## Speichern der Partie\n",
    "Optional kann die Partie hier im PGN-Format gespeichert werden."
   ]
  },
  {
   "cell_type": "code",
   "execution_count": null,
   "metadata": {},
   "outputs": [],
   "source": [
    "from datetime import datetime\n",
    "import chess.pgn\n",
    "import re\n",
    "\n",
    "def save_game(board: chess.Board) -> None:\n",
    "    \"\"\"Saves last game to 'games/YYYY-mm-dd_HH-MM-SS.pgn' (based on current time)\"\"\"\n",
    "    game = chess.pgn.Game.from_board(board)\n",
    "    game.headers[\"Event\"] = \"Chess-AI game\"\n",
    "    game.headers[\"Date\"] = datetime.now().strftime(\"%d.%m.%Y\")\n",
    "    filename = datetime.now().strftime(\"%Y-%m-%d_%H-%M-%S-%f\")\n",
    "    with open(f\"../games/{filename}.pgn\", 'w') as gamefile:\n",
    "        gamefile.write(re.sub(r\" ([1-9][0-9]*)\\.\", r\"\\n\\1.\", str(game)))"
   ]
  },
  {
   "cell_type": "markdown",
   "metadata": {},
   "source": [
    "## Spielablauf\n",
    "Hier wird ein neues Spiel initialisiert und ein fester Seed definiert. Der statische Seed dient dazu, sämtliche Zufallsfunktionen reproduzierbar zu machen.\n",
    "\n"
   ]
  },
  {
   "cell_type": "code",
   "execution_count": null,
   "metadata": {
    "scrolled": false
   },
   "outputs": [],
   "source": [
    "import chess\n",
    "from IPython.display import clear_output, display\n",
    "from time import sleep\n",
    "\n",
    "def run_game(player1: ChessAI, player2: ChessAI) -> None:\n",
    "    \"\"\"Start a new chess game\"\"\"\n",
    "    # Create a new board\n",
    "    board = chess.Board()\n",
    "    players = [player1, player2]\n",
    "\n",
    "    # All players start with opening game\n",
    "    previous_state = State.OPENING_GAME\n",
    "\n",
    "    # Play game\n",
    "    while True:\n",
    "        for player in players:\n",
    "            # Make next move\n",
    "            player.make_turn(board)\n",
    "\n",
    "            # Print board\n",
    "            clear_output(wait=True)\n",
    "            display(board)\n",
    "\n",
    "            # Watch game progress slowly\n",
    "            # sleep(0.1)\n",
    "\n",
    "            # Exit if game has finished\n",
    "            if player.state == State.FINISHED:\n",
    "                break\n",
    "\n",
    "        # Log state transitions\n",
    "        if previous_state != player.state:\n",
    "            print(f\"\\n {player.name}: Transition from {previous_state} to {player.state} \\n\")\n",
    "\n",
    "            # Exit if game has finished\n",
    "            if player.state == State.FINISHED:\n",
    "                print(f\"{player.name} lost the match!\")\n",
    "                save_game(board)\n",
    "                break\n",
    "\n",
    "            # Update state\n",
    "            previous_state = player.state\n",
    "\n",
    "            # Pause at transition\n",
    "            # input(\"Press enter to continue\")"
   ]
  },
  {
   "cell_type": "code",
   "execution_count": null,
   "metadata": {},
   "outputs": [],
   "source": [
    "seed = set_seed(3)\n",
    "\n",
    "repetitions = read_int_from_env(1, \"CHESS_AI_REPETITIONS\")\n",
    "# Create Players\n",
    "player1 = Exercise01AI(\"Player 1\") # White\n",
    "player2 = StockfishPlayer(\"Stockfish\") # Black\n",
    "for rep in range(repetitions):\n",
    "    run_game(player1, player2)\n",
    "\n",
    "print(f\"Used seed {seed} with {repetitions} repetitions\")"
   ]
  },
  {
   "cell_type": "code",
   "execution_count": null,
   "metadata": {},
   "outputs": [],
   "source": []
  }
 ],
 "metadata": {
  "interpreter": {
   "hash": "a707b6ce8c685eb936424fcc3009d4b4b7a52543c4db09380a3fc49186ceb509"
  },
  "kernelspec": {
   "display_name": "Python 3 (ipykernel)",
   "language": "python",
   "name": "python3"
  },
  "language_info": {
   "codemirror_mode": {
    "name": "ipython",
    "version": 3
   },
   "file_extension": ".py",
   "mimetype": "text/x-python",
   "name": "python",
   "nbconvert_exporter": "python",
   "pygments_lexer": "ipython3",
   "version": "3.10.1"
  }
 },
 "nbformat": 4,
 "nbformat_minor": 2
}
