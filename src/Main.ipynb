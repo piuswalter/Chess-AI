{
 "cells": [
  {
   "cell_type": "markdown",
   "metadata": {},
   "source": [
    "# Einarbeitung in Python-Chess\n",
    "   - Eröffnungsbibliothek\n",
    "   - Endspiel-Bibliothek: Syzygy\n",
    "   - Version 0: zufällige Züge auswählen im Mittelspiel\n",
    "\n",
    "WICHTIG: Alles soll als Jupyter-Notebook implementiert werden.  \n",
    "Jede Funktion muss ausführlich dokumentiert werden (mittleres Markdown + LaTeX), d.h.\n",
    "- a) Welche Argumente erhält die Funktion.\n",
    "- b) Welches Ergebnis wird berechnet.\n",
    "- c) Welche Seiteneffekte treten auf (falls Seiteneffekte auftreten).\n",
    "- d) Bei komplizierter Logik soll auch Algorithmus beschrieben werden.\n",
    "\n",
    "Testen:\n",
    "- Abspeichern einer Partie als Datei auf Festplatte in algebraischer Notation.\n",
    "- Verschiedene Versionen Ihrer KIs sollen gegeneinander antreten können.\n",
    "- Nur Bibliotheken verwenden, die unter Windows lauffähig sind.\n",
    "\n",
    "Bei Verwendung von Random immer Seed setzen."
   ]
  },
  {
   "cell_type": "code",
   "execution_count": null,
   "metadata": {},
   "outputs": [],
   "source": [
    "%run AI-Base-Class.ipynb"
   ]
  },
  {
   "cell_type": "code",
   "execution_count": null,
   "metadata": {},
   "outputs": [],
   "source": [
    "%run Exercise01AI.ipynb"
   ]
  },
  {
   "cell_type": "markdown",
   "metadata": {},
   "source": [
    "Hier wird ein neues Spiel initialisiert und ein fester Seed definiert. Der statische Seed dient dazu, sämtliche Zufallsfunktionen reproduzierbar zu machen. Der Spielzustand wird initial auf `OPENING_GAME` gesetzt.\n",
    "\n",
    "Im Anschluss wird die `get_next_move()` Funktion in Dauerschleife so lange ausgeführt, bis sie keinen Spielzug mehr zurückliefert."
   ]
  },
  {
   "cell_type": "code",
   "execution_count": null,
   "metadata": {
    "scrolled": false
   },
   "outputs": [],
   "source": [
    "import random\n",
    "import chess\n",
    "from IPython.display import clear_output, display\n",
    "from time import sleep\n",
    "\n",
    "# Create a new board\n",
    "board = chess.Board()\n",
    "\n",
    "# Set a seed, so randomization is reproducable\n",
    "random.seed(1)\n",
    "\n",
    "# Create Players\n",
    "player1 = Exercise01AI(\"Player 1\") # White\n",
    "player2 = Exercise01AI(\"Player 2\") # Black\n",
    "players = [player1, player2]\n",
    "\n",
    "previous_state = State.OPENING_GAME\n",
    "\n",
    "while True:\n",
    "    for player in players:\n",
    "        # Make next move\n",
    "        player.make_turn(board)\n",
    "\n",
    "        # Print board\n",
    "        clear_output(wait=True)\n",
    "        display(board)\n",
    "        # Watch game progress\n",
    "        # sleep(0.1)\n",
    "\n",
    "        # Exit if game has finished\n",
    "        if player.state == State.FINISHED:\n",
    "            break\n",
    "    \n",
    "    # Log state transitions\n",
    "    if previous_state != player.state:\n",
    "        print(f\"\\n {player.name}: Transition from {previous_state} to {player.state} \\n\")\n",
    "        if player.state == State.FINISHED:\n",
    "            print(f\"{player.name} lost this match!\")\n",
    "            break\n",
    "        previous_state = player.state\n",
    "        # Pause at transition\n",
    "        #input(\"Press enter to continue\")\n"
   ]
  },
  {
   "cell_type": "markdown",
   "metadata": {},
   "source": [
    "Optional kann die Partie abschließend im PGN-Format gespeichert werden."
   ]
  },
  {
   "cell_type": "code",
   "execution_count": null,
   "metadata": {},
   "outputs": [],
   "source": [
    "from datetime import datetime\n",
    "import chess.pgn\n",
    "\n",
    "# Save game to src/games/YYYY-MM-DD_HH-MM-SS.pgn (based on current time)\n",
    "\n",
    "game = chess.pgn.Game.from_board(board)\n",
    "game.headers[\"Event\"] = \"Chess-AI game\"\n",
    "game.headers[\"Date\"] = datetime.now().strftime(\"%d.%m.%Y\")\n",
    "filename = datetime.now().strftime(\"%Y-%m-%d_%H-%M-%S\")\n",
    "with open(f\"../games/{filename}.pgn\", 'w') as gamefile:\n",
    "    gamefile.write(str(game))\n"
   ]
  },
  {
   "cell_type": "code",
   "execution_count": null,
   "metadata": {},
   "outputs": [],
   "source": []
  }
 ],
 "metadata": {
  "interpreter": {
   "hash": "a707b6ce8c685eb936424fcc3009d4b4b7a52543c4db09380a3fc49186ceb509"
  },
  "kernelspec": {
   "display_name": "Python 3 (ipykernel)",
   "language": "python",
   "name": "python3"
  },
  "language_info": {
   "codemirror_mode": {
    "name": "ipython",
    "version": 3
   },
   "file_extension": ".py",
   "mimetype": "text/x-python",
   "name": "python",
   "nbconvert_exporter": "python",
   "pygments_lexer": "ipython3",
   "version": "3.8.12"
  }
 },
 "nbformat": 4,
 "nbformat_minor": 2
}
