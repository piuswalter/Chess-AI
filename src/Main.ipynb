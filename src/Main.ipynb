{
 "cells": [
  {
   "cell_type": "code",
   "execution_count": null,
   "metadata": {},
   "outputs": [],
   "source": [
    "%%html\n",
    "<style>\n",
    ".container {\n",
    "  width: 100%;\n",
    "}\n",
    "</style>"
   ]
  },
  {
   "cell_type": "code",
   "execution_count": null,
   "metadata": {},
   "outputs": [],
   "source": [
    "# Activate mypy type checking black formatting and set exception reporting mode\n",
    "%load_ext nb_mypy\n",
    "%xmode Minimal"
   ]
  },
  {
   "cell_type": "code",
   "execution_count": null,
   "metadata": {},
   "outputs": [],
   "source": [
    "import chess\n",
    "import chess.pgn\n",
    "import json\n",
    "import multiprocessing\n",
    "import nbimporter  # Activate import functionality for notebooks\n",
    "import os\n",
    "import re\n",
    "import subprocess\n",
    "import time\n",
    "from datetime import datetime\n",
    "from IPython.display import clear_output, display"
   ]
  },
  {
   "cell_type": "markdown",
   "metadata": {},
   "source": [
    "# Implementierung eines Spieles\n",
    "Dieses Notebook führt alle einzelnen Dateien und Klassen zusammen und implementiert den Spielablauf einer Partie. Die verwendeten AI-Versionen können dabei frei gewählt werden. Ein menschlicher Spieler ist ebenfalls möglich."
   ]
  },
  {
   "cell_type": "markdown",
   "metadata": {},
   "source": [
    "## Vorbereitung\n",
    "Alle Notebooks wurden unter Python mit der Version `3.10.4` erstellt. Im Folgenden kann die Version überprüft werden\n"
   ]
  },
  {
   "cell_type": "code",
   "execution_count": null,
   "metadata": {},
   "outputs": [],
   "source": [
    "# debug\n",
    "from platform import python_version\n",
    "\n",
    "print(\"Required Python version:\", \"3.10.4\")\n",
    "print(\"Your Python version:\\t\", python_version())\n",
    "\n",
    "# Setup commands\n",
    "# conda create -n chess python=3.10.4 -c conda-forge\n",
    "# conda activate chess\n",
    "# pip install -r src/requirements.txt\n",
    "# conda install jupyter -c conda-forge\n",
    "# jupyter notebook"
   ]
  },
  {
   "cell_type": "markdown",
   "metadata": {},
   "source": [
    "# Import\n",
    "\n",
    "Folgende Dateien werden in dieser Reihenfolge importiert:\n",
    "- `AI-Base-Class.ipynb`: Die abstrakte Basisklasse für alle AI-Versionen, welche das Eröffnungs- und Endspiel implementiert.\n",
    "- `Exercise01AI`: Die erste Version der AI, welche im Mittelspiel zufällige Züge auswählt.\n",
    "- `Exercise02AI`: Die zweite Version der AI, welche im Mittelspiel Züge mithilfe des Minimax-Algorithmus und dem einfachen Materialwert auswählt.\n",
    "- `Exercise03AI`: Die dritte Version der AI, welche im Mittelspiel Züge mithilfe des Minimax-Algorithmus und der `Simplified Evaluation Function` auswählt.\n",
    "- `Exercise04AI`: Die vierte Version der AI, welche im Vergleich zur dritten Version mithilfe von Memoisierung beschleunigt wurde.\n",
    "- `Exercise05AI`: Die fünfte Version der AI, welche die dritte Version um das Alpha-Beta-Pruning erweitert.\n",
    "- `Exercise06AI`: Die sechste Version der AI, welche die fünfte Version erneut um Memoisierung erweitert.\n",
    "- `Exercise07AI`: Die siebte Version der AI, welche die sechste Version um Progressive Deepening erweitert.\n",
    "- `Exercise08AI`: Die achte Version der AI, welche die siebte Version um die Singular Value Extension erweitert.\n",
    "- `Exercise09AI`: HIER FEHLT EINE BESCHREIBUNG\n",
    "- `HumanPlayer`: Ein Spieler welcher durch einen Menschen gesteuert werden kann.\n",
    "- `StockfishPlayer`: Ein Spieler, welcher durch die Stockfish Engine gesteuert wird.\n",
    "\n",
    "Anschließend wird das Spiel durchgeführt und auf der Festplatte als `.pgn`-Datei gespeichert."
   ]
  },
  {
   "cell_type": "code",
   "execution_count": null,
   "metadata": {},
   "outputs": [],
   "source": [
    "from AIBaseClass import ChessAI, State\n",
    "from Exercise01AI import Exercise01AI\n",
    "from Exercise02AI import Exercise02AI\n",
    "from Exercise03AI import Exercise03AI\n",
    "from Exercise04AI import Exercise04AI\n",
    "from Exercise05AI import Exercise05AI\n",
    "from Exercise06AI import Exercise06AI\n",
    "from Exercise07AI import Exercise07AI\n",
    "from Exercise08AI import Exercise08AI\n",
    "from Exercise09AI import Exercise09AI\n",
    "from HumanPlayer import HumanPlayer\n",
    "from StockfishPlayer import StockfishPlayer"
   ]
  },
  {
   "cell_type": "markdown",
   "metadata": {},
   "source": [
    "## Speichern der Partie\n",
    "\n",
    "Die folgende Funktion speichert eine gegebene Partie (repräsentiert durch ein gespieltes Board) auf der Festplatte ab. Hierbei werden sämtliche Züge, die Spielernamen und einige weitere Metriken gespeichert.\n",
    "\n",
    "Bei der Funktion $\\textrm{parse_player_name}$ handelt es sich um eine Hilfsfunktion, die aus dem Klassennamen und dem beim Spielstart angegebenen Spielernamen einen String erstellt und diesen zurückgibt."
   ]
  },
  {
   "cell_type": "code",
   "execution_count": null,
   "metadata": {},
   "outputs": [],
   "source": [
    "def parse_player_name(player: ChessAI):\n",
    "    \"\"\"Parse the type of the current player and its name into a single string.\"\"\"\n",
    "    return f\"{type(player).__name__} - {player.name}\""
   ]
  },
  {
   "cell_type": "markdown",
   "metadata": {},
   "source": [
    "Die Funktion $\\textrm{save_game}$ ist für die eigentliche Erstellung der `.pgn`-Datei zuständig. Hierfür nimmt diese die folgenden Parameter an:\n",
    "\n",
    "1. `board`: ein abgeschlossenes Spiel in Form eines Boards,\n",
    "2. `stats`: eine Liste von Dictionaries mit Statistiken für jeden Halbzug des Spiels,\n",
    "3. `player1`: der weiße Spieler in Form einer Schach-KI-Version sowie\n",
    "4. `player2`: der schwarze Spieler in Form einer Schach-KI-Version,\n",
    "5. `rep`: Kurzform für $\\textrm{repetitions}$ in Form eines Strings, der die Nummer des aktuellen Spiels sowie die Gesamtanzahl an Wiederholungen beinhaltet,\n",
    "6. `duration`: eine Fließkommazahl, die die Gesamtzeit des Spiels beschreibt und\n",
    "7. `seed`: eine Ganzzahl, die den für den Zufallsgenerator genutzten Seed speichert."
   ]
  },
  {
   "cell_type": "code",
   "execution_count": null,
   "metadata": {},
   "outputs": [],
   "source": [
    "def save_game(\n",
    "    board: chess.Board,\n",
    "    stats: list[dict],\n",
    "    player1: ChessAI,\n",
    "    player2: ChessAI,\n",
    "    rep: str,\n",
    "    duration: float,\n",
    "    seed: int,\n",
    ") -> None:\n",
    "    \"\"\"Saves last game to 'games/YYYY-mm-dd_HH-MM-SS.pgn' (based on current time).\"\"\"\n",
    "    game = chess.pgn.Game.from_board(board)\n",
    "    outcome = board.outcome(claim_draw=True)\n",
    "\n",
    "    try:\n",
    "        username = os.getlogin()\n",
    "    except:\n",
    "        username = \"undefined\"\n",
    "\n",
    "    # set pgn headers\n",
    "    game.headers[\"Event\"] = \"Chess-AI game\"\n",
    "    game.headers[\"Site\"] = username\n",
    "    game.headers[\"Date\"] = datetime.now().strftime(\"%d.%m.%Y\")\n",
    "    game.headers[\"Commit\"] = subprocess.check_output([\"git\", \"rev-parse\", \"HEAD\"]).decode(\"ascii\").strip()\n",
    "    game.headers[\"Round\"] = rep\n",
    "    game.headers[\"White\"] = parse_player_name(player1)\n",
    "    game.headers[\"Black\"] = parse_player_name(player2)\n",
    "    game.headers[\"Duration\"] = str(duration)\n",
    "    game.headers[\"Seed\"] = str(seed)\n",
    "    game.headers[\"Outcome\"] = str(outcome.termination) if outcome else \"Unknown\"\n",
    "    game.headers[\"Depth\"] = str(getattr(player1, \"DEPTH\", \"x\")) + \"-\" + str(getattr(player2, \"DEPTH\", \"x\"))\n",
    "\n",
    "    # add transitions as comments to pgn file\n",
    "    assert len(list(game.mainline())) <= len(stats), \"Missing statistics!\"\n",
    "    for node, statistics in zip(game.mainline(), stats):\n",
    "        node.comment = json.dumps(statistics, default=lambda x: str(x))[1:-1]\n",
    "\n",
    "    # write game to pgn file\n",
    "    filename = datetime.now().strftime(\"%Y-%m-%d_%H-%M-%S-%f\")\n",
    "    with open(f\"../games/{filename}.pgn\", \"w\") as gamefile:\n",
    "        # add a linebreak after each turn\n",
    "        gamefile.write(re.sub(r\" ([1-9][0-9]*)\\.[^0-9]\", r\"\\n\\1.\", str(game)))\n",
    "        # add a newline to the end of the file\n",
    "        gamefile.write(\"\\n\")"
   ]
  },
  {
   "cell_type": "markdown",
   "metadata": {},
   "source": [
    "## Spielablauf (einzelnes Spiel)\n",
    "Hier wird ein einzelnes neues Spiel initialisiert und anschließend gestartet. Die Funktion führt dabei nacheinander die Züge für die einzelnen Spieler aus und überwacht den aktuellen Spielzustand (State). Sobald ein Spieler den Endzustand erreicht hat, wird das Spiel beendet. Zusätzlich werden aktuelle Statistiken ausgegeben.\n"
   ]
  },
  {
   "cell_type": "code",
   "execution_count": null,
   "metadata": {
    "scrolled": false
   },
   "outputs": [],
   "source": [
    "def run_single_game(\n",
    "    player1: ChessAI, player2: ChessAI, start_time: float\n",
    ") -> tuple[chess.Board, list[dict]]:\n",
    "    \"\"\"Start a new chess game.\"\"\"\n",
    "    is_human_run = not bool(os.environ.get(\"CI\", False))\n",
    "    prefix = f\"[{str(multiprocessing.current_process().pid)}]: \" if not is_human_run else \"\"\n",
    "\n",
    "    # Create a new board\n",
    "    board = chess.Board()\n",
    "    players = [player1, player2]\n",
    "\n",
    "    # Show board before first move (for human player)\n",
    "    if is_human_run:\n",
    "        display(board)\n",
    "\n",
    "    # Play game\n",
    "    while True:\n",
    "        for player in players:\n",
    "            # Make next move\n",
    "            t_start = time.time()\n",
    "            player.make_turn(board)\n",
    "            t_end = time.time()\n",
    "            player.stats[-1][\"time\"] = t_end - t_start\n",
    "\n",
    "            # Print board\n",
    "            if is_human_run:\n",
    "                clear_output(wait=True)\n",
    "                display(board)\n",
    "\n",
    "                # Calculate cache success statistics\n",
    "                cache_tries = player.stats[-1].get(\"cache_tries\", \"N/A\")\n",
    "                if cache_tries == \"N/A\":\n",
    "                    cache_hits = \"N/A\"\n",
    "                    cache_percentage = \"N/A\"\n",
    "                else:\n",
    "                    cache_hits = player.stats[-1][\"cache_hits\"]\n",
    "                    cache_percentage = \"{:.2f}\".format((100 / cache_tries) * cache_hits)\n",
    "\n",
    "                print(f\"Statistics {type(player).__name__} ({player.name}):\")\n",
    "                print(f\"\\tFen: {board.fen()}\")\n",
    "                print(f\"\\tState: {player.state}\")\n",
    "                print(f\"\\tCalculation time for last move: {'{:.2f}'.format(player.stats[-1]['time'])} s\")\n",
    "                if hasattr(player, \"DEPTH\"):\n",
    "                    print(f\"\\tMax depth of last evaluation: {player.stats[-1].get('max_depth', 'N/A')}\")\n",
    "                    print(f\"\\tAverage depth of last evaluation: {player.stats[-1].get('avg_depth', 'N/A')}\")\n",
    "                print(f\"\\tCurrent board evaluation: {player.stats[-1].get('board_eval_after_move', 'N/A')}\")\n",
    "                print(f\"\\tMinimax board evaluation: {player.stats[-1].get('minimax_eval', 'N/A')}\")\n",
    "                print(f\"\\tSearched nodes: {player.stats[-1].get('nodes', 'N/A')}\")\n",
    "                print(f\"\\tCache tries: {cache_tries}\")\n",
    "                print(f\"\\tCache hits: {cache_hits} ({cache_percentage} %)\")\n",
    "            else:\n",
    "                print(\n",
    "                    f\"{prefix}{type(player).__name__} ({player.state}) ==> '{board.fen()}'\"\n",
    "                    f\"; cache_size_mb: {player.stats[-1].get('cache_size_mb', '-')}\"\n",
    "                )\n",
    "\n",
    "            # Log state transitions\n",
    "            if player.stats[-1][\"state\"] != player.stats[-2][\"state\"]:\n",
    "                # Exit if game has finished\n",
    "                if player.state == State.FINISHED:\n",
    "                    print(f\"{prefix}Finished with: {player.stats[-2]['state']} -> {State.FINISHED}\")\n",
    "                    outcome = board.outcome(claim_draw=True)\n",
    "                    assert outcome, f\"{prefix}Outcome is None in State.FINISHED and FEN {board.fen()}!\"\n",
    "                    if outcome.winner == chess.WHITE:\n",
    "                        print(\n",
    "                            f\"{prefix}White won the match due to {str(outcome.termination)} with result {outcome.result()}!\"\n",
    "                        )\n",
    "                    elif outcome.winner == chess.BLACK:\n",
    "                        print(\n",
    "                            f\"{prefix}Black won the match due to {str(outcome.termination)} with result {outcome.result()}!\"\n",
    "                        )\n",
    "                    else:\n",
    "                        print(\n",
    "                            f\"{prefix}The game is a remis due to {str(outcome.termination)} with result {outcome.result()}!\"\n",
    "                        )\n",
    "                    stats = [\n",
    "                        item\n",
    "                        for tpl in [tpl for tpl in zip(player1.stats, player2.stats)]\n",
    "                        for item in tpl\n",
    "                    ]\n",
    "                    return board, stats[2:]"
   ]
  },
  {
   "cell_type": "markdown",
   "metadata": {},
   "source": [
    "## Spielstart (mehrere Spiele)\n",
    "Hier wird initial der Seed gesetzt und anschließend die gewünschte Anzahl an Spielen ausgeführt. Pro Spiel wird die Zeit gemessen. Alle Spiele werden anschließend abgespeichert."
   ]
  },
  {
   "cell_type": "code",
   "execution_count": null,
   "metadata": {},
   "outputs": [],
   "source": [
    "def run_games(player1: ChessAI, player2: ChessAI, repetitions: int, seed: int):\n",
    "    is_human_run = not bool(os.environ.get(\"CI\", False))\n",
    "    prefix = f\"[{str(multiprocessing.current_process().pid)}]: \" if not is_human_run else \"\"\n",
    "    seed = int(os.environ.get(\"CHESS_AI_SEED\", seed))\n",
    "    ChessAI.random.seed(seed)\n",
    "    repetitions = int(os.environ.get(\"CHESS_AI_REPETITIONS\", repetitions))\n",
    "\n",
    "    for rep in range(repetitions):\n",
    "        print(f\"{prefix}Running game {rep+1} of {repetitions} with seed {seed}\")\n",
    "        print(f\"{prefix}Player {type(player1).__name__} (white) vs {type(player2).__name__} (black)\")\n",
    "        t_start = time.time()\n",
    "        board, transitions = run_single_game(player1, player2, t_start)\n",
    "        t_end = time.time()\n",
    "        rep_str = f\"{rep + 1}/{repetitions}\"\n",
    "        save_game(board, transitions, player1, player2, rep_str, t_end - t_start, seed)\n",
    "        player1.reset()\n",
    "        player2.reset()\n",
    "\n",
    "    print(prefix + f\"Used seed {seed} with {repetitions} repetitions\")"
   ]
  },
  {
   "cell_type": "markdown",
   "metadata": {},
   "source": [
    "## Spielstart\n",
    "Hier werden die Spieler definiert und die gewünschte Anzahl an Spielen gestartet.\n",
    "\n",
    "**Hinweis**: Auch wenn nur ein Spiel gewünscht wird sollte die Funktion `run_games` verwendet werden. Nur in diesem Fall wird das resultierende Spiel automatisch gespeichert und der Seed ist definiert.\n",
    "\n",
    "Beispielaufruf für ein einzelnes Spiel: `run_games(player1, player2, repetitions=1, seed=42)`  \n",
    "\n",
    "Je nach Spieler sind verschiedene Zusatzargumente möglich die das Verhalten der Spieler anpassen.  \n",
    "Beispiele:  \n",
    "- `player1 = Exercise07AI(player_name=\"White\", search_depth=5)`\n",
    "- `player2 = StockfishPlayer(player_name=\"Black\", elo=1500, time_limit=0.1)`"
   ]
  },
  {
   "cell_type": "code",
   "execution_count": null,
   "metadata": {},
   "outputs": [],
   "source": [
    "%%time\n",
    "# Create Players\n",
    "player1 = StockfishPlayer(player_name=\"White\")\n",
    "player2 = Exercise09AI(player_name=\"Black\", search_depth=2)\n",
    "\n",
    "# Run game(s)\n",
    "run_games(player1, player2, repetitions=1, seed=13)"
   ]
  },
  {
   "cell_type": "code",
   "execution_count": null,
   "metadata": {},
   "outputs": [],
   "source": []
  }
 ],
 "metadata": {
  "comment": "Meow, I'm a gyros cat!",
  "interpreter": {
   "hash": "a707b6ce8c685eb936424fcc3009d4b4b7a52543c4db09380a3fc49186ceb509"
  },
  "kernelspec": {
   "display_name": "Python 3 (ipykernel)",
   "language": "python",
   "name": "python3"
  },
  "language_info": {
   "codemirror_mode": {
    "name": "ipython",
    "version": 3
   },
   "file_extension": ".py",
   "mimetype": "text/x-python",
   "name": "python",
   "nbconvert_exporter": "python",
   "pygments_lexer": "ipython3",
   "version": "3.10.4"
  }
 },
 "nbformat": 4,
 "nbformat_minor": 2
}
