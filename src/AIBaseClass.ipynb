{
 "cells": [
  {
   "cell_type": "code",
   "execution_count": null,
   "metadata": {},
   "outputs": [],
   "source": [
    "%%html\n",
    "<style>\n",
    ".container {\n",
    "  width: 100%;\n",
    "}\n",
    "</style>"
   ]
  },
  {
   "cell_type": "code",
   "execution_count": null,
   "metadata": {},
   "outputs": [],
   "source": [
    "%load_ext nb_black\n",
    "%load_ext nb_mypy"
   ]
  },
  {
   "cell_type": "markdown",
   "metadata": {},
   "source": [
    "# AI Basisklasse\n",
    "\n",
    "Dieses Notebook implementiert die abstrakte Klasse `ChessAI` als Basisklasse für alle AI-Versionen.\n",
    "Sie enthält alle benötigten Methoden für das Eröffnungs- und Endspiel.\n",
    "Die Methode für das Mittelspiel ist abstrakt und wird von der jeweiligen AI-Version implementiert."
   ]
  },
  {
   "cell_type": "markdown",
   "metadata": {},
   "source": [
    "Zunächst definieren wir einen Enum, um durch den folgenden Programmcode hinweg eine bessere Lesbarkeit zu gewährleisten."
   ]
  },
  {
   "cell_type": "code",
   "execution_count": null,
   "metadata": {},
   "outputs": [],
   "source": [
    "from enum import Enum\n",
    "\n",
    "\n",
    "class State(Enum):\n",
    "    OPENING_GAME = 0\n",
    "    MIDDLE_GAME = 1\n",
    "    END_GAME = 2\n",
    "    FINISHED = 3\n",
    "    STATELESS = 4"
   ]
  },
  {
   "cell_type": "markdown",
   "metadata": {},
   "source": [
    "Nun wird die abstrakte Basisklasse erzeugt.\n",
    "Die Klassenvariable `self.stats` ist hierbei eine Liste, welche später Spielmetriken für jeden Halbzug (Index) als Dictionary speichert."
   ]
  },
  {
   "cell_type": "code",
   "execution_count": null,
   "metadata": {},
   "outputs": [],
   "source": [
    "import nbimporter\n",
    "from abc import ABC, abstractmethod\n",
    "import chess\n",
    "import random as random_module\n",
    "from typing import Any\n",
    "\n",
    "\n",
    "class ChessAI(ABC):\n",
    "    \"\"\"Abstract base class for all AI versions.\"\"\"\n",
    "\n",
    "    random = random_module\n",
    "\n",
    "    def __init__(\n",
    "        self, player_name: str, initial_state: State = State.OPENING_GAME\n",
    "    ) -> None:\n",
    "        super().__init__()\n",
    "        self.initial_state = self.state = initial_state\n",
    "        self.name: str = player_name\n",
    "        self.stats: list[dict[str, Any]] = [{\"state\": self.initial_state}]\n",
    "\n",
    "    @abstractmethod\n",
    "    def get_next_middle_game_move(self, board: chess.Board) -> chess.Move:\n",
    "        \"\"\"Calculates the next move in the middle game.\"\"\"\n",
    "        pass"
   ]
  },
  {
   "cell_type": "markdown",
   "metadata": {},
   "source": [
    "## Zurücksetzen der internen Variablen\n",
    "Diese Funktion setzt alle genutzen Variablen auf ihren Zustand nach der Instanziierung zurück."
   ]
  },
  {
   "cell_type": "code",
   "execution_count": null,
   "metadata": {},
   "outputs": [],
   "source": [
    "class ChessAI(ChessAI):  # type: ignore\n",
    "    def reset(self: ChessAI) -> None:\n",
    "        \"\"\"Resets all internal variables.\"\"\"\n",
    "        self.state: State = self.initial_state\n",
    "        self.stats: list[dict[str, Any]] = [{\"state\": self.initial_state}]\n",
    "        try:\n",
    "            del self.opening_game_reader\n",
    "        except AttributeError:\n",
    "            pass\n",
    "        try:\n",
    "            del self.end_game_reader\n",
    "        except AttributeError:\n",
    "            pass"
   ]
  },
  {
   "cell_type": "markdown",
   "metadata": {},
   "source": [
    "## Eröffnungsspiel\n",
    "\n",
    "Für das Eröffnungsspiel wird das [Baron Polyglot Opening Book](https://www.chessprogramming.net/new-version-of-the-baron-v3-43-plus-the-barons-polyglot-opening-book/) von Richard Pijl verwendet. Hierbei handelt es sich um eine Sammlung von Eröffnungszügen im sogenannten Polyglot Book Format."
   ]
  },
  {
   "cell_type": "markdown",
   "metadata": {},
   "source": [
    "### Das Polyglot Book Format\n",
    "\n",
    "Das Polyglot Book Format wird von H. G. Muller auf seiner [Website](http://hgm.nubati.net/book_format.html) sehr gut beschrieben. Die dortigen Ausführungen werden im Folgenden sehr komprimiert dargestellt.\n",
    "\n",
    "Ein Polyglot Book besteht aus einer Serie von Einträgen, wobei ein Eintrag für einen Zug in einer bestimmten Board-Situation steht und jeweils 4 Attribute aufweist:\n",
    "\n",
    "| Attribut | Beschreibung |\n",
    "|---|---|\n",
    "| key (64-bit unsigned int) | Der sogenannte Zobrist-Hash der exakten Board-Position. |\n",
    "| move (16-bit unsigned int) | Die Angabe des Zuges (Quelle und Ziel als Zeile & Spalte) und ob eine Figur-Umwandlung stattfindet. |\n",
    "| weight (16-bit unsigned int) | Die Qualität des Zuges, berechnet als $2 \\cdot (gewonnene Spiele) + (verlorene Spiele)$, skaliert auf 16-bit. |\n",
    "| learn (32-bit unsigned int) | Ein Feld, welches dafür benutzt werden kann, um Erfahrungen mit dem Zug zu speichern (bspw. wie oft und mit welchem Erfolg dieser Zug gespielt wurde). |\n",
    "\n",
    "Die Python `chess` Bibliothek bietet für die Arbeit mit Polyglot Opening Books die Klasse [`chess.polyglot.MemoryMappedReader`](https://python-chess.readthedocs.io/en/latest/polyglot.html) an. Eine Instanz dieser Klasse kann mithilfe der Funktion `chess.polyglot.open_reader(\"Pfad_zur_Polyglot_Bibliotheksdatei\")` erzeugt werden.\n",
    "\n",
    "Die folgende Funktion gibt eine Instanz der eben genannten Klasse zurück. Falls notwendig wird die Instanz erstmalig erstellt."
   ]
  },
  {
   "cell_type": "code",
   "execution_count": null,
   "metadata": {},
   "outputs": [],
   "source": [
    "import chess.polyglot\n",
    "\n",
    "# Definition of the opening book reader\n",
    "class ChessAI(ChessAI):  # type: ignore\n",
    "    def get_opening_game_reader(self: ChessAI) -> chess.polyglot.MemoryMappedReader:\n",
    "        \"\"\"Returns the opening game reader.\"\"\"\n",
    "        try:\n",
    "            return self.opening_game_reader\n",
    "        except AttributeError:\n",
    "            self.opening_game_reader: chess.polyglot.MemoryMappedReader = (\n",
    "                chess.polyglot.open_reader(\"../lib/opening/Baron/baron30.bin\")\n",
    "            )\n",
    "            return self.opening_game_reader"
   ]
  },
  {
   "cell_type": "markdown",
   "metadata": {},
   "source": [
    "Eine Instanz dieser Klasse bietet nun die folgende Funktion an:\n",
    "- `find_all(board)`: Gibt für ein gegebenes Board alle Einträge zurück.  \n",
    "  Die gekürzte Funktionssignatur lautet `find_all(board: Union[chess.Board, int]) → Iterator[chess.polyglot.Entry]`\n",
    "\n",
    "Die folgende Funktion nimmt als Parameter das aktuelle Board und verwendet `find_all(board)` um alle möglichen nächsten Züge während des Eröffnungsspiels zu ermitteln. Aus den Zügen mit dem höchsten `weight` wird anschließend ein zufälliger Zug ausgewählt. Durch diese zufällige Auswahl sind insgesamt 83 verschiedene Eröffnungsspiele möglich, welche alle die gleiche Wertung (`weight`) besitzen."
   ]
  },
  {
   "cell_type": "code",
   "execution_count": null,
   "metadata": {},
   "outputs": [],
   "source": [
    "class ChessAI(ChessAI):  # type: ignore\n",
    "    def get_next_opening_game_move(self: ChessAI, board: chess.Board) -> chess.Move:\n",
    "        \"\"\"Picks the best game entry out of all opening book entries and returns its move.\"\"\"\n",
    "        moves = list(self.get_opening_game_reader().find_all(board))\n",
    "        best_move_weight = max([entry.weight for entry in moves])\n",
    "        best_moves = [entry.move for entry in moves if entry.weight == best_move_weight]\n",
    "        return self.random.choice(best_moves)"
   ]
  },
  {
   "cell_type": "markdown",
   "metadata": {},
   "source": [
    "## Endspiel\n",
    "\n",
    "Das Endspiel nutzt sogenannte *Syzygy tablebases*, die zu jedem möglichen Spielstand $\\mathcal{B}$ (Board) für bis zu 7 Figuren Informationen über die Metriken WDL (**Winn/Draw/Loss**) und DTZ (**Depth to Zero**) bereitstellen. Dabei sind `WDL` und `DTZ` Bewertungsfunktionen, die wie folgt definiert sind\n",
    "\n",
    "$$ \\texttt{WDL}: \\mathcal{B} \\rightarrow v $$\n",
    "\n",
    "mit $v \\in \\{ -2, -1, 0, 1, 2 \\}$ und\n",
    "\n",
    "$$ \\texttt{DTZ}: \\mathcal{B} \\rightarrow w $$\n",
    "\n",
    "mit $w \\in \\{ -100, \\dots, -1, 0, 1, \\dots, 100 \\}$."
   ]
  },
  {
   "cell_type": "markdown",
   "metadata": {},
   "source": [
    "### 50-Züge-Regel\n",
    "\n",
    "Die 50-Züge-Regel beim Schach besagt, dass eine Partie dann als Remis gewertet werden kann, wenn in den letzten 50 aufeinanderfolgenden Spielzügen weder eine Figur geschlagen, noch ein Bauer gezogen wurde."
   ]
  },
  {
   "cell_type": "markdown",
   "metadata": {},
   "source": [
    "### WDL\n",
    "\n",
    "In `WDL`-Dateien (Dateiendung `.rtbw`) sind Informationen zu Sieg, Remis und Niederlage unter Berücksichtigung der 50-Züge-Regel gespeichert. Auf diese Informationen kann während der Suche zugegriffen werden.\n",
    "\n",
    "Dabei wird den Elementen der Menge $ \\{ -2, -1, 0, 1, 2 \\} $ die im Folgenden definierte Eigenschaft zugeordnet\n",
    "\n",
    "* `2` die ziehende Seite gewinnt\n",
    "* `0` es liegt ein Remis vor\n",
    "* `-2` die ziehende Seite verliert\n",
    "* `1` bei einem 'cursed win'\n",
    "* `-1` bei einem 'blessed loss'"
   ]
  },
  {
   "cell_type": "markdown",
   "metadata": {},
   "source": [
    "### DTZ\n",
    "`DTZ`-Dateien (Dateiendung `.rtbz`) enthalten Informationen über die *Lagenzählung* für den Zugriff zu Beginn der Suche. Um Speicherplatz zu sparen gibt es in Anlehnung an die 50-Züge-Regel auch die Metrik `DTZ50`, die lediglich für eine Spielseite Informationen speichert. Für jede mögliche Position repräsentiert die DTZ die Anzahl der Züge des Gewinners bis zum Sieg. Hierfür werden folgende zwei Annahmen gemacht\n",
    "\n",
    "* Der Gewinner minimiert die DTZ\n",
    "* Der Verlierer maximiert die DTZ"
   ]
  },
  {
   "cell_type": "markdown",
   "metadata": {},
   "source": [
    "### Zusammenhang von WDL und DTZ\n",
    "\n",
    "Jedes Endspiel nutzt ein Paar dieser Informationen zur Evaluation des nächsten besten Zuges.\n",
    "\n",
    "Nachstehende Tabelle beschreibt zusammengefasst das Verhalten der Funktionen.\n",
    "\n",
    "| WDL | DTZ             | Beschreibung                                                                                                                                                                        |\n",
    "| --- | --------------- | ----------------------------------------------------------------------------------------------------------------------------------------------------------------------------------- |\n",
    "| -2  | -100 <= $n$ <= -1 | Unbedingter Verlust (unter der Annahme, dass der 50-Züge-Zähler Null ist), wobei ein Nullzug in $-n$ Zügen erzwungen werden kann.                                                     |\n",
    "| -1  | $n$ < -100        | Verlust, aber Remis nach der 50-Züge-Regel. Ein Nullzug kann in $-n$ Zügen oder $-n - 100$ Zügen erzwungen werden (wenn eine spätere Phase für den 'blessed loss' verantwortlich ist).  |\n",
    "|  0  | 0               | Remis.                                                                                                                                                                              |\n",
    "|  1  | 100 < $n$         | Sieg, aber Unentschieden nach der 50-Züge-Regel. Ein Nullzug kann in $n$ Zügen oder $n - 100$ Zügen erzwungen werden (wenn eine spätere Phase für den 'cursed win' verantwortlich ist). |\n",
    "|  2  | 1 <= $n$ <= 100   | Unbedingter Sieg (unter der Annahme, dass der 50-Züge-Zähler Null ist), wobei ein Nullzug in $n$ Zügen erzwungen werden kann.                                                         |\n",
    "\n",
    "Um den nächsten bestmöglichen Zug durch die Endspielbibliothek erhalten zu können, definieren wir den $ \\texttt{Folge-Zug} $.\n",
    "\n",
    "Ein Folge-Zug $ \\mathcal{F} $ ist ein Tripel der Form\n",
    "\n",
    "$$ \\mathcal{F} = \\langle M, W, D \\rangle $$\n",
    "\n",
    "wobei\n",
    "\n",
    "- $M$ ein Zug,\n",
    "- $W$ der der Position nach dem Zug $M$ über die Metrik $ \\texttt{WDL} $ zugeordnete Wert,\n",
    "- $D$ der der Position nach dem Zug $M$ über die Metrik $ \\texttt{DTZ} $ zugeordnete Wert ist.\n",
    "\n",
    "Typ-Definition des Folge-Zuges:"
   ]
  },
  {
   "cell_type": "code",
   "execution_count": null,
   "metadata": {},
   "outputs": [],
   "source": [
    "from typing import Tuple\n",
    "\n",
    "\n",
    "class ChessAITypes:\n",
    "    FollowingMove = Tuple[chess.Move, int, int]"
   ]
  },
  {
   "cell_type": "markdown",
   "metadata": {},
   "source": [
    "Die Python `chess` Bibliothek bietet für die Arbeit mit Syzygy Endgame Tablebases die Klasse [`chess.syzygy.Tablebase`](https://python-chess.readthedocs.io/en/latest/syzygy.html) an. Eine Instanz dieser Klasse kann mithilfe der Funktion `chess.syzygy.open_tablebase(\"Pfad_zum_Syzygy_Tablebase_Ordner\")` erzeugt werden.\n",
    "\n",
    "Die folgende Funktion gibt eine Instanz der eben genannten Klasse zurück. Falls notwendig wird die Instanz erstmalig erstellt."
   ]
  },
  {
   "cell_type": "code",
   "execution_count": null,
   "metadata": {},
   "outputs": [],
   "source": [
    "import chess.syzygy\n",
    "\n",
    "# Definition of the end game tablebase reader\n",
    "class ChessAI(ChessAI):  # type: ignore\n",
    "    def get_end_game_reader(self: ChessAI):\n",
    "        \"\"\"Returns the end game tablebase reader.\"\"\"\n",
    "        try:\n",
    "            return self.end_game_reader\n",
    "        except AttributeError:\n",
    "            self.end_game_reader: chess.syzygy.Tablebase = chess.syzygy.open_tablebase(\n",
    "                \"../lib/ending/3-4-5\"\n",
    "            )\n",
    "            return self.end_game_reader"
   ]
  },
  {
   "cell_type": "markdown",
   "metadata": {},
   "source": [
    "Die Funktion `get_end_game_following_moves` nimmt als Argument eine Liste von Zügen $ \\textit{Moves} $, berechnet für diese iterativ die Metriken WDL und DTZ und gibt eine Liste von Folge-Zügen $ \\mathcal{F} $ zurück.\n",
    "\n",
    "Die Liste $ \\mathcal{F} $ von Folge-Zügen wird benötigt, um anschließend den besten Zug (anhand von WDL und DTZ) auszuwählen."
   ]
  },
  {
   "cell_type": "code",
   "execution_count": null,
   "metadata": {},
   "outputs": [],
   "source": [
    "from typing import List\n",
    "\n",
    "\n",
    "class ChessAI(ChessAI):  # type: ignore\n",
    "    def get_end_game_following_moves(\n",
    "        self: ChessAI, moves: List[chess.Move], board: chess.Board\n",
    "    ) -> List[ChessAITypes.FollowingMove]:\n",
    "        \"\"\"Gets WDL and DTZ from all given moves.\"\"\"\n",
    "        next_moves = []\n",
    "        for move in moves:\n",
    "            board.push(move)\n",
    "            wdl_after_next_move = self.get_end_game_reader().probe_wdl(board)\n",
    "            dtz_after_next_move = self.get_end_game_reader().probe_dtz(board)\n",
    "            board.pop()\n",
    "            next_moves.append((move, wdl_after_next_move, dtz_after_next_move))\n",
    "        return next_moves"
   ]
  },
  {
   "cell_type": "markdown",
   "metadata": {},
   "source": [
    "Die Funktion `get_end_game_relevant_moves` nimmt eine Liste von Folge-Zügen $ \\mathcal{F} $ sowie eine WDL und gibt alle Züge, gefiltert nach dem Wert der WDL zurück.\n",
    "\n",
    "Die Idee dabei ist, dass nur Züge relevant sind, bei denen die jeweilige WDL des aktuellen Boards beibehalten wird, denn eine bessere WDL ist nicht möglich und eine schlechtere nicht erwünscht."
   ]
  },
  {
   "cell_type": "code",
   "execution_count": null,
   "metadata": {},
   "outputs": [],
   "source": [
    "class ChessAI(ChessAI):  # type: ignore\n",
    "    def get_end_game_relevant_moves(\n",
    "        self: ChessAI, moves: List[ChessAITypes.FollowingMove], wdl: int\n",
    "    ) -> List[ChessAITypes.FollowingMove]:\n",
    "        \"\"\"Filter for moves with given WDL and returns them.\"\"\"\n",
    "        return [move for move in moves if move[1] == wdl]"
   ]
  },
  {
   "cell_type": "markdown",
   "metadata": {},
   "source": [
    "Die Funktion `get_end_game_best_zeroing_move` nimmt als Argument eine Liste von Folge-Zügen $ \\mathcal{F} $ und prüft, ob einer dieser Züge die Metrik DTZ auf Null setzt, also ein Schlag- oder Bauernzug ist und gibt diesen zurück. Alternativ gibt diese Funktion den Zug mit der größten DTZ zurück.\n",
    "\n",
    "Diese Methode wird aufgerufen, falls der aktuelle Spieler am gewinnen ist, also `WDL == 2` gilt. Folglich möchte der Spieler die DTZ auf Null setzen, um ein Remis durch die 50-Züge-Regel zu verhindern. Da in diesem Fall die DTZ negativ ist, wird das Maximum gebildet."
   ]
  },
  {
   "cell_type": "code",
   "execution_count": null,
   "metadata": {},
   "outputs": [],
   "source": [
    "class ChessAI(ChessAI):  # type: ignore\n",
    "    def get_end_game_best_zeroing_move(\n",
    "        self: ChessAI, board: chess.Board, moves_tpl: List[ChessAITypes.FollowingMove]\n",
    "    ) -> ChessAITypes.FollowingMove:\n",
    "        \"\"\"Gets zeroing move if available or move with maximum DTZ.\"\"\"\n",
    "        for move_tpl in moves_tpl:\n",
    "            if board.is_zeroing(move_tpl[0]):\n",
    "                return move_tpl\n",
    "        return max(moves_tpl, key=lambda move: move[2])"
   ]
  },
  {
   "cell_type": "markdown",
   "metadata": {},
   "source": [
    "Die Funktion `get_next_end_game_move` berechnet mithilfe des aktuellen Boards und den zuvor vorgestellten Hilfsfunktionen den besten Zug für den aktuellen Spieler und gibt diesen zurück. \n",
    "\n",
    "Hierbei werden folgende vier Fälle unterschieden:\n",
    "\n",
    "1. Das Spiel ist beendet. In diesem Fall wird `None` zurückgegeben. \n",
    "2. Der Spieler gewinnt aktuell (`WDL == 2`), das heißt das Ziel ist es nun, die DTZ auf Null zu setzen um ein Remis mithilfe der 50-Züge-Regel zu verhindern. Der diesbezüglich beste Zug wird gesucht und zurückgegeben.\n",
    "3. Der Spieler verliert aktuell (`WDL == -2`), das heißt das Ziel ist es nun, die DTZ zu maximieren um ein Remis mithilfe der 50-Züge-Regel zu erreichen. Der diesbezüglich beste Zug wird gesucht und zurückgegeben.\n",
    "4. Das Spiel endet unentschieden (`WDL == 0`), die aktuelle DTZ ist 0. Hier wird ein zufälliger Zug mit derselben WDL (Remis) ausgewählt."
   ]
  },
  {
   "cell_type": "code",
   "execution_count": null,
   "metadata": {},
   "outputs": [],
   "source": [
    "class ChessAI(ChessAI):  # type: ignore\n",
    "    def get_next_end_game_move(self: ChessAI, board: chess.Board) -> chess.Move | None:\n",
    "        \"\"\"Gets next endgame move based on WDL.\"\"\"\n",
    "        # Check if the game is over due to checkmate, stalemate, insufficient material, ...\n",
    "        if board.is_game_over():\n",
    "            return None\n",
    "\n",
    "        # Get the WDL from the currently given board\n",
    "        wdl = self.get_end_game_reader().probe_wdl(board)\n",
    "\n",
    "        # Get list of metrics from all legal moves\n",
    "        moves = self.get_end_game_following_moves(board.legal_moves, board)\n",
    "\n",
    "        # Board.turn is winning\n",
    "        if wdl == 2:\n",
    "            # Get all relevant moves with the same WDL\n",
    "            relevant_moves = self.get_end_game_relevant_moves(moves, -2)\n",
    "\n",
    "            # Get best move as minimum from list of FollowingMove's with given DTZ as key\n",
    "            best_move = self.get_end_game_best_zeroing_move(board, relevant_moves)[0]\n",
    "        # Board.turn is losing:\n",
    "        elif wdl == -2:\n",
    "            # Select best move by filtering for max DTZ\n",
    "            best_move = max(moves, key=lambda move: move[2])[0]\n",
    "        # Board is a draw\n",
    "        elif wdl == 0:\n",
    "            # Select move by filtering for WDL\n",
    "            relevant_moves = self.get_end_game_relevant_moves(moves, 0)\n",
    "            best_move = relevant_moves[0][0]\n",
    "        else:\n",
    "            # Some error occurs\n",
    "            assert (\n",
    "                False\n",
    "            ), f\"wdl has unknown value in get_next_end_game_move: wdl = {wdl}, fen = {board.fen()}\"\n",
    "\n",
    "        return best_move"
   ]
  },
  {
   "cell_type": "markdown",
   "metadata": {},
   "source": [
    "## Berechnung des nächsten Zuges\n",
    "\n",
    "Diese Funktion nimmt als Argument das aktuelle Board und gibt den nächsten Spielzug, sowie den neuen Spielstatus (State) zurück.\n",
    "\n",
    "Folgende Fallunterscheidung wird in dieser Reihenfolge durchgeführt:\n",
    "\n",
    "1. Falls die 50-Züge-Regel greift oder eine andere Endbedingung (siehe Hinweis) zutrifft, ist das Spiel beendet. Somit wird kein Zug (`None`) und der Status `FINISHED` zurückgegeben.\n",
    "2. Falls sich das Board aktuell im Eröffnungsspiel befindet, und ein Zug aus der Polyglot-Eröffnungsbibliothek vorhanden ist, wird dieser zusammen mit dem Status `OPENING_GAME` zurückgegeben.\n",
    "3. Falls weniger als 6 Figuren vorhanden sind, wird der nächste Spielzug mithilfe der Endspiel-Bibliothek ermittelt und zusammen mit dem Spielstatus `END_GAME` zurückgegeben.\n",
    "    - Sollte die Endspiel-Bibliothek **keinen** gültigen Zug finden, ist das Spiel beendet und es wird `None` mit dem Status `FINISHED` zurückgegeben.\n",
    "4. Sind die vorherigen Fälle nicht anwendbar, so befindet sich das Board im Mittelspiel und der nächste Zug wird mit der entsprechenden Hilfsfunktion berechnet und zusammen mit dem Status `MIDDLE_GAME` zurückgegeben.\n",
    "\n",
    "**Hinweis**: Der Funktionsaufruf `board.is_game_over()` prüft, ob `checkmate`, `stalemate`, `insufficient material`, `seventyfive-move rule` oder `fivefold repetition` erfüllt sind und gibt in diesem Fall `True` zurück."
   ]
  },
  {
   "cell_type": "code",
   "execution_count": null,
   "metadata": {},
   "outputs": [],
   "source": [
    "from typing import Tuple, Union\n",
    "\n",
    "\n",
    "class ChessAI(ChessAI):  # type: ignore\n",
    "    def get_next_move(\n",
    "        self: ChessAI, board: chess.Board\n",
    "    ) -> Tuple[Union[chess.Move, None], State]:\n",
    "        \"\"\"Figures out the next possible move and switches between game states if necessary.\"\"\"\n",
    "        # Abort when fifty-move rule applies or game over\n",
    "        if board.is_fifty_moves() or board.is_game_over():\n",
    "            return None, State.FINISHED\n",
    "        # If there is a move in the opening library find the best one\n",
    "        elif self.state == State.OPENING_GAME and self.get_opening_game_reader().get(\n",
    "            board\n",
    "        ):\n",
    "            return self.get_next_opening_game_move(board), State.OPENING_GAME\n",
    "        # If the endgame library provides a move use it\n",
    "        elif len(board.piece_map()) < 6:\n",
    "            next_move = self.get_next_end_game_move(board)\n",
    "            if next_move != None:\n",
    "                return next_move, State.END_GAME\n",
    "            return None, State.FINISHED\n",
    "        # If neither the opening nor the endgame library has any moves available choose middle game move\n",
    "        else:\n",
    "            return self.get_next_middle_game_move(board), State.MIDDLE_GAME"
   ]
  },
  {
   "cell_type": "markdown",
   "metadata": {},
   "source": [
    "## Ausführen des nächsten Zuges\n",
    "Diese Funktion nimmt als Argument das aktuelle Board, führt einen Halbzug aus und protokolliert alle Statistiken in der Klassenvariable `self.stats`."
   ]
  },
  {
   "cell_type": "code",
   "execution_count": null,
   "metadata": {},
   "outputs": [],
   "source": [
    "class ChessAI(ChessAI):  # type: ignore\n",
    "    state: State  # Declare for mypy\n",
    "\n",
    "    def make_turn(self: ChessAI, board: chess.Board) -> None:\n",
    "        \"\"\"Makes a turn on the given board.\"\"\"\n",
    "        # Create new stats entry\n",
    "        self.stats.append({})\n",
    "        # Get next move\n",
    "        next_move, next_state = self.get_next_move(board)\n",
    "        # Update stats\n",
    "        self.stats[-1][\"state\"] = next_state\n",
    "        self.stats[-1][\"move\"] = next_move\n",
    "\n",
    "        # Push next move or finish game\n",
    "        if next_move:\n",
    "            board.push(next_move)\n",
    "        else:\n",
    "            self.state = State.FINISHED\n",
    "            # Close endgame tablebase reader\n",
    "            self.get_end_game_reader().close()\n",
    "            return\n",
    "\n",
    "        # Handle state transitions\n",
    "        if next_state != self.state:\n",
    "            # Close ployglot opening book to save memory if opening game has finished\n",
    "            if self.state == State.OPENING_GAME:\n",
    "                self.get_opening_game_reader().close()\n",
    "            self.state = next_state"
   ]
  },
  {
   "cell_type": "code",
   "execution_count": null,
   "metadata": {},
   "outputs": [],
   "source": []
  }
 ],
 "metadata": {
  "interpreter": {
   "hash": "a707b6ce8c685eb936424fcc3009d4b4b7a52543c4db09380a3fc49186ceb509"
  },
  "kernelspec": {
   "display_name": "Python 3 (ipykernel)",
   "language": "python",
   "name": "python3"
  },
  "language_info": {
   "codemirror_mode": {
    "name": "ipython",
    "version": 3
   },
   "file_extension": ".py",
   "mimetype": "text/x-python",
   "name": "python",
   "nbconvert_exporter": "python",
   "pygments_lexer": "ipython3",
   "version": "3.10.4"
  }
 },
 "nbformat": 4,
 "nbformat_minor": 2
}
