{
 "cells": [
  {
   "cell_type": "code",
   "execution_count": null,
   "id": "c3089b34",
   "metadata": {},
   "outputs": [],
   "source": [
    "%%html\n",
    "<style>\n",
    ".output_scroll:nth-of-type(2) {\n",
    "  height: 100%;\n",
    "}\n",
    "</style>"
   ]
  },
  {
   "cell_type": "markdown",
   "id": "2eef28c4",
   "metadata": {},
   "source": [
    "Der folgende Befehl zeigt alle bisher im PGN Format gespeicherten Dateien an."
   ]
  },
  {
   "cell_type": "code",
   "execution_count": null,
   "id": "7a31be7c",
   "metadata": {},
   "outputs": [],
   "source": [
    "!find games/*.pgn"
   ]
  },
  {
   "cell_type": "markdown",
   "id": "2c544672",
   "metadata": {},
   "source": [
    "Die gelisteten Dateien können nun in das Notebook importiert werden. Als Ergebnis werden alle geführten Züge angezeigt."
   ]
  },
  {
   "cell_type": "code",
   "execution_count": null,
   "id": "937d368e",
   "metadata": {},
   "outputs": [],
   "source": [
    "import chess.pgn\n",
    "from IPython.display import display\n",
    "\n",
    "filename = input(\"Select pgn file to load: \")\n",
    "pgn = open(filename)\n",
    "first_game = chess.pgn.read_game(pgn)\n",
    "\n",
    "# Iterate through all moves and play them on a board.\n",
    "board = first_game.board()\n",
    "for move in first_game.mainline_moves():\n",
    "    board.push(move)\n",
    "    display(board)"
   ]
  }
 ],
 "metadata": {
  "kernelspec": {
   "display_name": "Python 3 (ipykernel)",
   "language": "python",
   "name": "python3"
  },
  "language_info": {
   "codemirror_mode": {
    "name": "ipython",
    "version": 3
   },
   "file_extension": ".py",
   "mimetype": "text/x-python",
   "name": "python",
   "nbconvert_exporter": "python",
   "pygments_lexer": "ipython3",
   "version": "3.8.12"
  }
 },
 "nbformat": 4,
 "nbformat_minor": 5
}
